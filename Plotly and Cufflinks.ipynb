{
 "cells": [
  {
   "cell_type": "markdown",
   "metadata": {},
   "source": [
    "# Plotly and Cufflinks\n",
    "\n",
    "\n",
    "\n",
    "[Full Documentation Reference](https://plotly.com/python/cufflinks/)"
   ]
  },
  {
   "cell_type": "markdown",
   "metadata": {},
   "source": [
    "Plotly is a library that allows you to create interactive plots that you can use in dashboards or websites (you can save them as html files or static images).\n",
    "\n",
    "## Installation\n",
    "\n",
    "In order for this all to work, you'll need to install plotly and cufflinks to call plots directly off of a pandas dataframe. These libraries are not currently available through **conda** but are available through **pip**. Install the libraries at your command line/terminal using:\n",
    "\n",
    "    pip install plotly\n",
    "    pip install cufflinks\n",
    "\n",
    "** NOTE: Make sure you only have one installation of Python on your computer when you do this, otherwise the installation may not work. **\n",
    "\n",
    "## Imports and Set-up"
   ]
  },
  {
   "cell_type": "code",
   "execution_count": 1,
   "metadata": {},
   "outputs": [],
   "source": [
    "import pandas as pd\n",
    "import numpy as np\n",
    "%matplotlib inline"
   ]
  },
  {
   "cell_type": "code",
   "execution_count": 2,
   "metadata": {},
   "outputs": [
    {
     "name": "stdout",
     "output_type": "stream",
     "text": [
      "4.5.2\n"
     ]
    }
   ],
   "source": [
    "from plotly import __version__\n",
    "from plotly.offline import download_plotlyjs, init_notebook_mode, plot, iplot\n",
    "\n",
    "print(__version__) # requires version >= 1.9.0"
   ]
  },
  {
   "cell_type": "code",
   "execution_count": 3,
   "metadata": {},
   "outputs": [],
   "source": [
    "import cufflinks as cf"
   ]
  },
  {
   "cell_type": "code",
   "execution_count": 4,
   "metadata": {},
   "outputs": [
    {
     "data": {
      "text/html": [
       "        <script type=\"text/javascript\">\n",
       "        window.PlotlyConfig = {MathJaxConfig: 'local'};\n",
       "        if (window.MathJax) {MathJax.Hub.Config({SVG: {font: \"STIX-Web\"}});}\n",
       "        if (typeof require !== 'undefined') {\n",
       "        require.undef(\"plotly\");\n",
       "        requirejs.config({\n",
       "            paths: {\n",
       "                'plotly': ['https://cdn.plot.ly/plotly-latest.min']\n",
       "            }\n",
       "        });\n",
       "        require(['plotly'], function(Plotly) {\n",
       "            window._Plotly = Plotly;\n",
       "        });\n",
       "        }\n",
       "        </script>\n",
       "        "
      ]
     },
     "metadata": {},
     "output_type": "display_data"
    }
   ],
   "source": [
    "# For Notebooks\n",
    "init_notebook_mode(connected=True)"
   ]
  },
  {
   "cell_type": "code",
   "execution_count": 5,
   "metadata": {},
   "outputs": [
    {
     "data": {
      "text/html": [
       "        <script type=\"text/javascript\">\n",
       "        window.PlotlyConfig = {MathJaxConfig: 'local'};\n",
       "        if (window.MathJax) {MathJax.Hub.Config({SVG: {font: \"STIX-Web\"}});}\n",
       "        if (typeof require !== 'undefined') {\n",
       "        require.undef(\"plotly\");\n",
       "        requirejs.config({\n",
       "            paths: {\n",
       "                'plotly': ['https://cdn.plot.ly/plotly-latest.min']\n",
       "            }\n",
       "        });\n",
       "        require(['plotly'], function(Plotly) {\n",
       "            window._Plotly = Plotly;\n",
       "        });\n",
       "        }\n",
       "        </script>\n",
       "        "
      ]
     },
     "metadata": {},
     "output_type": "display_data"
    }
   ],
   "source": [
    "# For offline use\n",
    "cf.go_offline()"
   ]
  },
  {
   "cell_type": "markdown",
   "metadata": {},
   "source": [
    "** Here I am just creating some fake data. The purpose of this is just to focus on the visualization part. **"
   ]
  },
  {
   "cell_type": "code",
   "execution_count": 6,
   "metadata": {},
   "outputs": [],
   "source": [
    "df = pd.DataFrame(np.random.randn(100,4),columns='A B C D'.split())"
   ]
  },
  {
   "cell_type": "code",
   "execution_count": 7,
   "metadata": {},
   "outputs": [
    {
     "data": {
      "text/html": [
       "<div>\n",
       "<style scoped>\n",
       "    .dataframe tbody tr th:only-of-type {\n",
       "        vertical-align: middle;\n",
       "    }\n",
       "\n",
       "    .dataframe tbody tr th {\n",
       "        vertical-align: top;\n",
       "    }\n",
       "\n",
       "    .dataframe thead th {\n",
       "        text-align: right;\n",
       "    }\n",
       "</style>\n",
       "<table border=\"1\" class=\"dataframe\">\n",
       "  <thead>\n",
       "    <tr style=\"text-align: right;\">\n",
       "      <th></th>\n",
       "      <th>A</th>\n",
       "      <th>B</th>\n",
       "      <th>C</th>\n",
       "      <th>D</th>\n",
       "    </tr>\n",
       "  </thead>\n",
       "  <tbody>\n",
       "    <tr>\n",
       "      <th>0</th>\n",
       "      <td>-1.358340</td>\n",
       "      <td>0.706216</td>\n",
       "      <td>-1.739419</td>\n",
       "      <td>-0.918022</td>\n",
       "    </tr>\n",
       "    <tr>\n",
       "      <th>1</th>\n",
       "      <td>0.092167</td>\n",
       "      <td>0.721925</td>\n",
       "      <td>2.019951</td>\n",
       "      <td>0.369270</td>\n",
       "    </tr>\n",
       "    <tr>\n",
       "      <th>2</th>\n",
       "      <td>0.449259</td>\n",
       "      <td>0.546313</td>\n",
       "      <td>-2.125045</td>\n",
       "      <td>1.188573</td>\n",
       "    </tr>\n",
       "    <tr>\n",
       "      <th>3</th>\n",
       "      <td>0.699603</td>\n",
       "      <td>-0.693153</td>\n",
       "      <td>0.987209</td>\n",
       "      <td>0.229789</td>\n",
       "    </tr>\n",
       "    <tr>\n",
       "      <th>4</th>\n",
       "      <td>2.149525</td>\n",
       "      <td>-1.682542</td>\n",
       "      <td>1.281473</td>\n",
       "      <td>0.344016</td>\n",
       "    </tr>\n",
       "  </tbody>\n",
       "</table>\n",
       "</div>"
      ],
      "text/plain": [
       "          A         B         C         D\n",
       "0 -1.358340  0.706216 -1.739419 -0.918022\n",
       "1  0.092167  0.721925  2.019951  0.369270\n",
       "2  0.449259  0.546313 -2.125045  1.188573\n",
       "3  0.699603 -0.693153  0.987209  0.229789\n",
       "4  2.149525 -1.682542  1.281473  0.344016"
      ]
     },
     "execution_count": 7,
     "metadata": {},
     "output_type": "execute_result"
    }
   ],
   "source": [
    "df.head()"
   ]
  },
  {
   "cell_type": "code",
   "execution_count": 8,
   "metadata": {},
   "outputs": [],
   "source": [
    "df2 = pd.DataFrame({'Category':['A','B','C'],'Values':[32,43,50]})"
   ]
  },
  {
   "cell_type": "code",
   "execution_count": 9,
   "metadata": {},
   "outputs": [
    {
     "data": {
      "text/html": [
       "<div>\n",
       "<style scoped>\n",
       "    .dataframe tbody tr th:only-of-type {\n",
       "        vertical-align: middle;\n",
       "    }\n",
       "\n",
       "    .dataframe tbody tr th {\n",
       "        vertical-align: top;\n",
       "    }\n",
       "\n",
       "    .dataframe thead th {\n",
       "        text-align: right;\n",
       "    }\n",
       "</style>\n",
       "<table border=\"1\" class=\"dataframe\">\n",
       "  <thead>\n",
       "    <tr style=\"text-align: right;\">\n",
       "      <th></th>\n",
       "      <th>Category</th>\n",
       "      <th>Values</th>\n",
       "    </tr>\n",
       "  </thead>\n",
       "  <tbody>\n",
       "    <tr>\n",
       "      <th>0</th>\n",
       "      <td>A</td>\n",
       "      <td>32</td>\n",
       "    </tr>\n",
       "    <tr>\n",
       "      <th>1</th>\n",
       "      <td>B</td>\n",
       "      <td>43</td>\n",
       "    </tr>\n",
       "    <tr>\n",
       "      <th>2</th>\n",
       "      <td>C</td>\n",
       "      <td>50</td>\n",
       "    </tr>\n",
       "  </tbody>\n",
       "</table>\n",
       "</div>"
      ],
      "text/plain": [
       "  Category  Values\n",
       "0        A      32\n",
       "1        B      43\n",
       "2        C      50"
      ]
     },
     "execution_count": 9,
     "metadata": {},
     "output_type": "execute_result"
    }
   ],
   "source": [
    "df2.head()"
   ]
  },
  {
   "cell_type": "markdown",
   "metadata": {},
   "source": [
    "## Using Cufflinks and iplot()\n",
    "\n",
    "* scatter\n",
    "* bar\n",
    "* box\n",
    "* spread\n",
    "* ratio\n",
    "* heatmap\n",
    "* surface\n",
    "* histogram\n",
    "* bubble"
   ]
  },
  {
   "cell_type": "markdown",
   "metadata": {},
   "source": [
    "## Scatter"
   ]
  },
  {
   "cell_type": "code",
   "execution_count": 10,
   "metadata": {},
   "outputs": [
    {
     "data": {
      "application/vnd.plotly.v1+json": {
       "config": {
        "linkText": "Export to plot.ly",
        "plotlyServerURL": "https://plot.ly",
        "showLink": true
       },
       "data": [
        {
         "line": {
          "color": "rgba(255, 153, 51, 1.0)",
          "dash": "solid",
          "shape": "linear",
          "width": 1.3
         },
         "marker": {
          "size": 10,
          "symbol": "circle"
         },
         "mode": "markers",
         "name": "B",
         "text": "",
         "type": "scatter",
         "x": [
          -1.3583402229536823,
          0.0921673543459956,
          0.4492594820576442,
          0.6996025908357328,
          2.1495250286838616,
          0.24183106597206416,
          -0.8776832110040302,
          1.0541732492278562,
          0.08523758205433592,
          0.4987407976187166,
          -0.42692187830303097,
          0.3314238788412063,
          0.8110203721335073,
          -1.892486336094162,
          -0.1986687733189751,
          -0.3859351717543113,
          0.7622079403895549,
          1.1342981825914735,
          -0.616705435419684,
          -0.12151918045946218,
          -1.1011316897029537,
          0.3328629568633669,
          -1.0208981270296031,
          0.053983225088959017,
          0.3725114124839771,
          0.10267108207518853,
          -1.1665665557543183,
          0.054504419339731255,
          0.07843971579163007,
          -0.5986900927551946,
          -1.1908876386329161,
          -0.9428019176036524,
          -0.20836288106335712,
          2.0638412236218913,
          -0.08800663468845793,
          2.3489296854756243,
          -0.328825492717537,
          0.13679328526719142,
          1.6362966816412452,
          -0.9865169458002857,
          0.5322172281903023,
          1.8126956542853345,
          2.0187951705084726,
          0.34262285700030415,
          -0.4049678282336819,
          -2.1252404889520555,
          0.3577431068537883,
          0.6213330482766051,
          1.1533821829453454,
          1.536912657916139,
          2.008920554498628,
          -1.585227803158716,
          -0.8722662480875408,
          -0.15051809032390423,
          -1.0062867067219174,
          1.8397911379130851,
          -0.06621953199647992,
          -1.2920370371673158,
          0.5436718522445453,
          0.5423224416184557,
          1.5511194828341233,
          0.13070055937739156,
          -0.44912176704902335,
          -0.2616470902800413,
          0.345449072564648,
          -0.21847852159286552,
          -1.547915716754144,
          -0.24297968869274658,
          0.10713560266622875,
          -0.03071741252082736,
          0.6189888818452682,
          0.949788377696495,
          -0.31913257258760963,
          1.029866696113866,
          0.2163440437977718,
          -1.9076255260432537,
          0.9911538059288,
          -1.2938190969419967,
          -1.556975158647537,
          -0.8567798093066372,
          1.1061307231493411,
          0.8210251094170343,
          -0.8752867994424044,
          -1.3312503684676744,
          -0.15270325556453376,
          -1.6312580962345506,
          1.8820767353613506,
          0.2876026635475839,
          -0.8927184511718702,
          0.8929654454438709,
          0.6600185178648303,
          -1.2544677962637543,
          1.0241195756808887,
          1.7451061541136383,
          1.6784492852125634,
          -0.209804057404903,
          2.7179971818449857,
          0.15330230160949973,
          0.8962390746892906,
          0.21855533520777062
         ],
         "y": [
          0.7062159335042797,
          0.7219254733761484,
          0.5463129397908424,
          -0.6931529077523799,
          -1.6825415343319072,
          -0.163715476768212,
          1.2542694738069151,
          0.2874131009769991,
          -1.263462719563245,
          -0.7238140467351619,
          2.184714958062746,
          -2.8697379154159677,
          -0.7409720185625667,
          0.699470418188912,
          -1.2082057874168277,
          1.172505684652955,
          0.6764855553881596,
          0.6145175314457706,
          0.3998685213240509,
          0.6011537674657929,
          -0.17760909229636285,
          -0.27164619891261593,
          0.016783537950853814,
          -0.3152415327654973,
          1.040155078188417,
          -1.6181904077672757,
          -0.6267969219734727,
          0.3150579764877128,
          1.1278776716162962,
          1.8773340948873105,
          -0.1514056836070442,
          0.3375374850890802,
          -1.4616285328336531,
          -0.8198419318788835,
          0.8243541156979151,
          -0.40253086793801673,
          0.11161375634635512,
          0.8110433849900274,
          -0.7372647622097733,
          0.5951094858811783,
          1.788231465632863,
          1.6096544305491811,
          -1.6724569437258132,
          -0.5343499938543699,
          -0.42080029902949184,
          0.7017532920558198,
          -1.8095562597566381,
          0.08967981171876918,
          1.3014844394723237,
          -0.008188048042794197,
          0.5120041176666327,
          0.6307009822539876,
          0.20535907665217643,
          0.40208846119323083,
          -0.6250359423978179,
          -1.3173115747022526,
          0.7934196396570694,
          0.021772115789257137,
          0.089532532038497,
          -0.3461312566174257,
          -1.3515693099417592,
          -0.8125304190004683,
          0.6460317056406156,
          2.5682487716392797,
          -1.3928851372548272,
          0.49240556188681406,
          -1.3404633687098704,
          0.4092479859742962,
          -0.055251692720409536,
          -0.40605510886442653,
          -1.7490729669018399,
          0.9484082473493582,
          -0.25030755921934555,
          1.1063585220126273,
          -1.285180609868798,
          -0.27944973884190905,
          1.5788577983747496,
          1.0687556988535705,
          0.8847765838108002,
          0.13394864375601528,
          0.75925337178594,
          -0.1634560803366644,
          0.07831300439827604,
          -0.8908680973465573,
          -1.3336711135597754,
          0.5742058122235427,
          0.8020214805889448,
          2.9226570311911457,
          -1.3427501538316637,
          0.6004478098801661,
          0.0005468704148372964,
          0.4825037294818465,
          -1.0839290848485301,
          -1.7338844652392993,
          0.30343207245100284,
          -0.13956794322089353,
          0.24250586024809148,
          -0.2763816144379349,
          -1.3194412611454425,
          0.02032522014388897
         ]
        }
       ],
       "layout": {
        "legend": {
         "bgcolor": "#F5F6F9",
         "font": {
          "color": "#4D5663"
         }
        },
        "paper_bgcolor": "#F5F6F9",
        "plot_bgcolor": "#F5F6F9",
        "template": {
         "data": {
          "bar": [
           {
            "error_x": {
             "color": "#2a3f5f"
            },
            "error_y": {
             "color": "#2a3f5f"
            },
            "marker": {
             "line": {
              "color": "#E5ECF6",
              "width": 0.5
             }
            },
            "type": "bar"
           }
          ],
          "barpolar": [
           {
            "marker": {
             "line": {
              "color": "#E5ECF6",
              "width": 0.5
             }
            },
            "type": "barpolar"
           }
          ],
          "carpet": [
           {
            "aaxis": {
             "endlinecolor": "#2a3f5f",
             "gridcolor": "white",
             "linecolor": "white",
             "minorgridcolor": "white",
             "startlinecolor": "#2a3f5f"
            },
            "baxis": {
             "endlinecolor": "#2a3f5f",
             "gridcolor": "white",
             "linecolor": "white",
             "minorgridcolor": "white",
             "startlinecolor": "#2a3f5f"
            },
            "type": "carpet"
           }
          ],
          "choropleth": [
           {
            "colorbar": {
             "outlinewidth": 0,
             "ticks": ""
            },
            "type": "choropleth"
           }
          ],
          "contour": [
           {
            "colorbar": {
             "outlinewidth": 0,
             "ticks": ""
            },
            "colorscale": [
             [
              0,
              "#0d0887"
             ],
             [
              0.1111111111111111,
              "#46039f"
             ],
             [
              0.2222222222222222,
              "#7201a8"
             ],
             [
              0.3333333333333333,
              "#9c179e"
             ],
             [
              0.4444444444444444,
              "#bd3786"
             ],
             [
              0.5555555555555556,
              "#d8576b"
             ],
             [
              0.6666666666666666,
              "#ed7953"
             ],
             [
              0.7777777777777778,
              "#fb9f3a"
             ],
             [
              0.8888888888888888,
              "#fdca26"
             ],
             [
              1,
              "#f0f921"
             ]
            ],
            "type": "contour"
           }
          ],
          "contourcarpet": [
           {
            "colorbar": {
             "outlinewidth": 0,
             "ticks": ""
            },
            "type": "contourcarpet"
           }
          ],
          "heatmap": [
           {
            "colorbar": {
             "outlinewidth": 0,
             "ticks": ""
            },
            "colorscale": [
             [
              0,
              "#0d0887"
             ],
             [
              0.1111111111111111,
              "#46039f"
             ],
             [
              0.2222222222222222,
              "#7201a8"
             ],
             [
              0.3333333333333333,
              "#9c179e"
             ],
             [
              0.4444444444444444,
              "#bd3786"
             ],
             [
              0.5555555555555556,
              "#d8576b"
             ],
             [
              0.6666666666666666,
              "#ed7953"
             ],
             [
              0.7777777777777778,
              "#fb9f3a"
             ],
             [
              0.8888888888888888,
              "#fdca26"
             ],
             [
              1,
              "#f0f921"
             ]
            ],
            "type": "heatmap"
           }
          ],
          "heatmapgl": [
           {
            "colorbar": {
             "outlinewidth": 0,
             "ticks": ""
            },
            "colorscale": [
             [
              0,
              "#0d0887"
             ],
             [
              0.1111111111111111,
              "#46039f"
             ],
             [
              0.2222222222222222,
              "#7201a8"
             ],
             [
              0.3333333333333333,
              "#9c179e"
             ],
             [
              0.4444444444444444,
              "#bd3786"
             ],
             [
              0.5555555555555556,
              "#d8576b"
             ],
             [
              0.6666666666666666,
              "#ed7953"
             ],
             [
              0.7777777777777778,
              "#fb9f3a"
             ],
             [
              0.8888888888888888,
              "#fdca26"
             ],
             [
              1,
              "#f0f921"
             ]
            ],
            "type": "heatmapgl"
           }
          ],
          "histogram": [
           {
            "marker": {
             "colorbar": {
              "outlinewidth": 0,
              "ticks": ""
             }
            },
            "type": "histogram"
           }
          ],
          "histogram2d": [
           {
            "colorbar": {
             "outlinewidth": 0,
             "ticks": ""
            },
            "colorscale": [
             [
              0,
              "#0d0887"
             ],
             [
              0.1111111111111111,
              "#46039f"
             ],
             [
              0.2222222222222222,
              "#7201a8"
             ],
             [
              0.3333333333333333,
              "#9c179e"
             ],
             [
              0.4444444444444444,
              "#bd3786"
             ],
             [
              0.5555555555555556,
              "#d8576b"
             ],
             [
              0.6666666666666666,
              "#ed7953"
             ],
             [
              0.7777777777777778,
              "#fb9f3a"
             ],
             [
              0.8888888888888888,
              "#fdca26"
             ],
             [
              1,
              "#f0f921"
             ]
            ],
            "type": "histogram2d"
           }
          ],
          "histogram2dcontour": [
           {
            "colorbar": {
             "outlinewidth": 0,
             "ticks": ""
            },
            "colorscale": [
             [
              0,
              "#0d0887"
             ],
             [
              0.1111111111111111,
              "#46039f"
             ],
             [
              0.2222222222222222,
              "#7201a8"
             ],
             [
              0.3333333333333333,
              "#9c179e"
             ],
             [
              0.4444444444444444,
              "#bd3786"
             ],
             [
              0.5555555555555556,
              "#d8576b"
             ],
             [
              0.6666666666666666,
              "#ed7953"
             ],
             [
              0.7777777777777778,
              "#fb9f3a"
             ],
             [
              0.8888888888888888,
              "#fdca26"
             ],
             [
              1,
              "#f0f921"
             ]
            ],
            "type": "histogram2dcontour"
           }
          ],
          "mesh3d": [
           {
            "colorbar": {
             "outlinewidth": 0,
             "ticks": ""
            },
            "type": "mesh3d"
           }
          ],
          "parcoords": [
           {
            "line": {
             "colorbar": {
              "outlinewidth": 0,
              "ticks": ""
             }
            },
            "type": "parcoords"
           }
          ],
          "pie": [
           {
            "automargin": true,
            "type": "pie"
           }
          ],
          "scatter": [
           {
            "marker": {
             "colorbar": {
              "outlinewidth": 0,
              "ticks": ""
             }
            },
            "type": "scatter"
           }
          ],
          "scatter3d": [
           {
            "line": {
             "colorbar": {
              "outlinewidth": 0,
              "ticks": ""
             }
            },
            "marker": {
             "colorbar": {
              "outlinewidth": 0,
              "ticks": ""
             }
            },
            "type": "scatter3d"
           }
          ],
          "scattercarpet": [
           {
            "marker": {
             "colorbar": {
              "outlinewidth": 0,
              "ticks": ""
             }
            },
            "type": "scattercarpet"
           }
          ],
          "scattergeo": [
           {
            "marker": {
             "colorbar": {
              "outlinewidth": 0,
              "ticks": ""
             }
            },
            "type": "scattergeo"
           }
          ],
          "scattergl": [
           {
            "marker": {
             "colorbar": {
              "outlinewidth": 0,
              "ticks": ""
             }
            },
            "type": "scattergl"
           }
          ],
          "scattermapbox": [
           {
            "marker": {
             "colorbar": {
              "outlinewidth": 0,
              "ticks": ""
             }
            },
            "type": "scattermapbox"
           }
          ],
          "scatterpolar": [
           {
            "marker": {
             "colorbar": {
              "outlinewidth": 0,
              "ticks": ""
             }
            },
            "type": "scatterpolar"
           }
          ],
          "scatterpolargl": [
           {
            "marker": {
             "colorbar": {
              "outlinewidth": 0,
              "ticks": ""
             }
            },
            "type": "scatterpolargl"
           }
          ],
          "scatterternary": [
           {
            "marker": {
             "colorbar": {
              "outlinewidth": 0,
              "ticks": ""
             }
            },
            "type": "scatterternary"
           }
          ],
          "surface": [
           {
            "colorbar": {
             "outlinewidth": 0,
             "ticks": ""
            },
            "colorscale": [
             [
              0,
              "#0d0887"
             ],
             [
              0.1111111111111111,
              "#46039f"
             ],
             [
              0.2222222222222222,
              "#7201a8"
             ],
             [
              0.3333333333333333,
              "#9c179e"
             ],
             [
              0.4444444444444444,
              "#bd3786"
             ],
             [
              0.5555555555555556,
              "#d8576b"
             ],
             [
              0.6666666666666666,
              "#ed7953"
             ],
             [
              0.7777777777777778,
              "#fb9f3a"
             ],
             [
              0.8888888888888888,
              "#fdca26"
             ],
             [
              1,
              "#f0f921"
             ]
            ],
            "type": "surface"
           }
          ],
          "table": [
           {
            "cells": {
             "fill": {
              "color": "#EBF0F8"
             },
             "line": {
              "color": "white"
             }
            },
            "header": {
             "fill": {
              "color": "#C8D4E3"
             },
             "line": {
              "color": "white"
             }
            },
            "type": "table"
           }
          ]
         },
         "layout": {
          "annotationdefaults": {
           "arrowcolor": "#2a3f5f",
           "arrowhead": 0,
           "arrowwidth": 1
          },
          "coloraxis": {
           "colorbar": {
            "outlinewidth": 0,
            "ticks": ""
           }
          },
          "colorscale": {
           "diverging": [
            [
             0,
             "#8e0152"
            ],
            [
             0.1,
             "#c51b7d"
            ],
            [
             0.2,
             "#de77ae"
            ],
            [
             0.3,
             "#f1b6da"
            ],
            [
             0.4,
             "#fde0ef"
            ],
            [
             0.5,
             "#f7f7f7"
            ],
            [
             0.6,
             "#e6f5d0"
            ],
            [
             0.7,
             "#b8e186"
            ],
            [
             0.8,
             "#7fbc41"
            ],
            [
             0.9,
             "#4d9221"
            ],
            [
             1,
             "#276419"
            ]
           ],
           "sequential": [
            [
             0,
             "#0d0887"
            ],
            [
             0.1111111111111111,
             "#46039f"
            ],
            [
             0.2222222222222222,
             "#7201a8"
            ],
            [
             0.3333333333333333,
             "#9c179e"
            ],
            [
             0.4444444444444444,
             "#bd3786"
            ],
            [
             0.5555555555555556,
             "#d8576b"
            ],
            [
             0.6666666666666666,
             "#ed7953"
            ],
            [
             0.7777777777777778,
             "#fb9f3a"
            ],
            [
             0.8888888888888888,
             "#fdca26"
            ],
            [
             1,
             "#f0f921"
            ]
           ],
           "sequentialminus": [
            [
             0,
             "#0d0887"
            ],
            [
             0.1111111111111111,
             "#46039f"
            ],
            [
             0.2222222222222222,
             "#7201a8"
            ],
            [
             0.3333333333333333,
             "#9c179e"
            ],
            [
             0.4444444444444444,
             "#bd3786"
            ],
            [
             0.5555555555555556,
             "#d8576b"
            ],
            [
             0.6666666666666666,
             "#ed7953"
            ],
            [
             0.7777777777777778,
             "#fb9f3a"
            ],
            [
             0.8888888888888888,
             "#fdca26"
            ],
            [
             1,
             "#f0f921"
            ]
           ]
          },
          "colorway": [
           "#636efa",
           "#EF553B",
           "#00cc96",
           "#ab63fa",
           "#FFA15A",
           "#19d3f3",
           "#FF6692",
           "#B6E880",
           "#FF97FF",
           "#FECB52"
          ],
          "font": {
           "color": "#2a3f5f"
          },
          "geo": {
           "bgcolor": "white",
           "lakecolor": "white",
           "landcolor": "#E5ECF6",
           "showlakes": true,
           "showland": true,
           "subunitcolor": "white"
          },
          "hoverlabel": {
           "align": "left"
          },
          "hovermode": "closest",
          "mapbox": {
           "style": "light"
          },
          "paper_bgcolor": "white",
          "plot_bgcolor": "#E5ECF6",
          "polar": {
           "angularaxis": {
            "gridcolor": "white",
            "linecolor": "white",
            "ticks": ""
           },
           "bgcolor": "#E5ECF6",
           "radialaxis": {
            "gridcolor": "white",
            "linecolor": "white",
            "ticks": ""
           }
          },
          "scene": {
           "xaxis": {
            "backgroundcolor": "#E5ECF6",
            "gridcolor": "white",
            "gridwidth": 2,
            "linecolor": "white",
            "showbackground": true,
            "ticks": "",
            "zerolinecolor": "white"
           },
           "yaxis": {
            "backgroundcolor": "#E5ECF6",
            "gridcolor": "white",
            "gridwidth": 2,
            "linecolor": "white",
            "showbackground": true,
            "ticks": "",
            "zerolinecolor": "white"
           },
           "zaxis": {
            "backgroundcolor": "#E5ECF6",
            "gridcolor": "white",
            "gridwidth": 2,
            "linecolor": "white",
            "showbackground": true,
            "ticks": "",
            "zerolinecolor": "white"
           }
          },
          "shapedefaults": {
           "line": {
            "color": "#2a3f5f"
           }
          },
          "ternary": {
           "aaxis": {
            "gridcolor": "white",
            "linecolor": "white",
            "ticks": ""
           },
           "baxis": {
            "gridcolor": "white",
            "linecolor": "white",
            "ticks": ""
           },
           "bgcolor": "#E5ECF6",
           "caxis": {
            "gridcolor": "white",
            "linecolor": "white",
            "ticks": ""
           }
          },
          "title": {
           "x": 0.05
          },
          "xaxis": {
           "automargin": true,
           "gridcolor": "white",
           "linecolor": "white",
           "ticks": "",
           "title": {
            "standoff": 15
           },
           "zerolinecolor": "white",
           "zerolinewidth": 2
          },
          "yaxis": {
           "automargin": true,
           "gridcolor": "white",
           "linecolor": "white",
           "ticks": "",
           "title": {
            "standoff": 15
           },
           "zerolinecolor": "white",
           "zerolinewidth": 2
          }
         }
        },
        "title": {
         "font": {
          "color": "#4D5663"
         }
        },
        "xaxis": {
         "gridcolor": "#E1E5ED",
         "showgrid": true,
         "tickfont": {
          "color": "#4D5663"
         },
         "title": {
          "font": {
           "color": "#4D5663"
          },
          "text": ""
         },
         "zerolinecolor": "#E1E5ED"
        },
        "yaxis": {
         "gridcolor": "#E1E5ED",
         "showgrid": true,
         "tickfont": {
          "color": "#4D5663"
         },
         "title": {
          "font": {
           "color": "#4D5663"
          },
          "text": ""
         },
         "zerolinecolor": "#E1E5ED"
        }
       }
      },
      "text/html": [
       "<div>\n",
       "        \n",
       "        \n",
       "            <div id=\"76d80199-4189-47e9-8a3a-b2d6c820ec57\" class=\"plotly-graph-div\" style=\"height:525px; width:100%;\"></div>\n",
       "            <script type=\"text/javascript\">\n",
       "                require([\"plotly\"], function(Plotly) {\n",
       "                    window.PLOTLYENV=window.PLOTLYENV || {};\n",
       "                    window.PLOTLYENV.BASE_URL='https://plot.ly';\n",
       "                    \n",
       "                if (document.getElementById(\"76d80199-4189-47e9-8a3a-b2d6c820ec57\")) {\n",
       "                    Plotly.newPlot(\n",
       "                        '76d80199-4189-47e9-8a3a-b2d6c820ec57',\n",
       "                        [{\"line\": {\"color\": \"rgba(255, 153, 51, 1.0)\", \"dash\": \"solid\", \"shape\": \"linear\", \"width\": 1.3}, \"marker\": {\"size\": 10, \"symbol\": \"circle\"}, \"mode\": \"markers\", \"name\": \"B\", \"text\": \"\", \"type\": \"scatter\", \"x\": [-1.3583402229536823, 0.0921673543459956, 0.4492594820576442, 0.6996025908357328, 2.1495250286838616, 0.24183106597206416, -0.8776832110040302, 1.0541732492278562, 0.08523758205433592, 0.4987407976187166, -0.42692187830303097, 0.3314238788412063, 0.8110203721335073, -1.892486336094162, -0.1986687733189751, -0.3859351717543113, 0.7622079403895549, 1.1342981825914735, -0.616705435419684, -0.12151918045946218, -1.1011316897029537, 0.3328629568633669, -1.0208981270296031, 0.053983225088959017, 0.3725114124839771, 0.10267108207518853, -1.1665665557543183, 0.054504419339731255, 0.07843971579163007, -0.5986900927551946, -1.1908876386329161, -0.9428019176036524, -0.20836288106335712, 2.0638412236218913, -0.08800663468845793, 2.3489296854756243, -0.328825492717537, 0.13679328526719142, 1.6362966816412452, -0.9865169458002857, 0.5322172281903023, 1.8126956542853345, 2.0187951705084726, 0.34262285700030415, -0.4049678282336819, -2.1252404889520555, 0.3577431068537883, 0.6213330482766051, 1.1533821829453454, 1.536912657916139, 2.008920554498628, -1.585227803158716, -0.8722662480875408, -0.15051809032390423, -1.0062867067219174, 1.8397911379130851, -0.06621953199647992, -1.2920370371673158, 0.5436718522445453, 0.5423224416184557, 1.5511194828341233, 0.13070055937739156, -0.44912176704902335, -0.2616470902800413, 0.345449072564648, -0.21847852159286552, -1.547915716754144, -0.24297968869274658, 0.10713560266622875, -0.03071741252082736, 0.6189888818452682, 0.949788377696495, -0.31913257258760963, 1.029866696113866, 0.2163440437977718, -1.9076255260432537, 0.9911538059288, -1.2938190969419967, -1.556975158647537, -0.8567798093066372, 1.1061307231493411, 0.8210251094170343, -0.8752867994424044, -1.3312503684676744, -0.15270325556453376, -1.6312580962345506, 1.8820767353613506, 0.2876026635475839, -0.8927184511718702, 0.8929654454438709, 0.6600185178648303, -1.2544677962637543, 1.0241195756808887, 1.7451061541136383, 1.6784492852125634, -0.209804057404903, 2.7179971818449857, 0.15330230160949973, 0.8962390746892906, 0.21855533520777062], \"y\": [0.7062159335042797, 0.7219254733761484, 0.5463129397908424, -0.6931529077523799, -1.6825415343319072, -0.163715476768212, 1.2542694738069151, 0.2874131009769991, -1.263462719563245, -0.7238140467351619, 2.184714958062746, -2.8697379154159677, -0.7409720185625667, 0.699470418188912, -1.2082057874168277, 1.172505684652955, 0.6764855553881596, 0.6145175314457706, 0.3998685213240509, 0.6011537674657929, -0.17760909229636285, -0.27164619891261593, 0.016783537950853814, -0.3152415327654973, 1.040155078188417, -1.6181904077672757, -0.6267969219734727, 0.3150579764877128, 1.1278776716162962, 1.8773340948873105, -0.1514056836070442, 0.3375374850890802, -1.4616285328336531, -0.8198419318788835, 0.8243541156979151, -0.40253086793801673, 0.11161375634635512, 0.8110433849900274, -0.7372647622097733, 0.5951094858811783, 1.788231465632863, 1.6096544305491811, -1.6724569437258132, -0.5343499938543699, -0.42080029902949184, 0.7017532920558198, -1.8095562597566381, 0.08967981171876918, 1.3014844394723237, -0.008188048042794197, 0.5120041176666327, 0.6307009822539876, 0.20535907665217643, 0.40208846119323083, -0.6250359423978179, -1.3173115747022526, 0.7934196396570694, 0.021772115789257137, 0.089532532038497, -0.3461312566174257, -1.3515693099417592, -0.8125304190004683, 0.6460317056406156, 2.5682487716392797, -1.3928851372548272, 0.49240556188681406, -1.3404633687098704, 0.4092479859742962, -0.055251692720409536, -0.40605510886442653, -1.7490729669018399, 0.9484082473493582, -0.25030755921934555, 1.1063585220126273, -1.285180609868798, -0.27944973884190905, 1.5788577983747496, 1.0687556988535705, 0.8847765838108002, 0.13394864375601528, 0.75925337178594, -0.1634560803366644, 0.07831300439827604, -0.8908680973465573, -1.3336711135597754, 0.5742058122235427, 0.8020214805889448, 2.9226570311911457, -1.3427501538316637, 0.6004478098801661, 0.0005468704148372964, 0.4825037294818465, -1.0839290848485301, -1.7338844652392993, 0.30343207245100284, -0.13956794322089353, 0.24250586024809148, -0.2763816144379349, -1.3194412611454425, 0.02032522014388897]}],\n",
       "                        {\"legend\": {\"bgcolor\": \"#F5F6F9\", \"font\": {\"color\": \"#4D5663\"}}, \"paper_bgcolor\": \"#F5F6F9\", \"plot_bgcolor\": \"#F5F6F9\", \"template\": {\"data\": {\"bar\": [{\"error_x\": {\"color\": \"#2a3f5f\"}, \"error_y\": {\"color\": \"#2a3f5f\"}, \"marker\": {\"line\": {\"color\": \"#E5ECF6\", \"width\": 0.5}}, \"type\": \"bar\"}], \"barpolar\": [{\"marker\": {\"line\": {\"color\": \"#E5ECF6\", \"width\": 0.5}}, \"type\": \"barpolar\"}], \"carpet\": [{\"aaxis\": {\"endlinecolor\": \"#2a3f5f\", \"gridcolor\": \"white\", \"linecolor\": \"white\", \"minorgridcolor\": \"white\", \"startlinecolor\": \"#2a3f5f\"}, \"baxis\": {\"endlinecolor\": \"#2a3f5f\", \"gridcolor\": \"white\", \"linecolor\": \"white\", \"minorgridcolor\": \"white\", \"startlinecolor\": \"#2a3f5f\"}, \"type\": \"carpet\"}], \"choropleth\": [{\"colorbar\": {\"outlinewidth\": 0, \"ticks\": \"\"}, \"type\": \"choropleth\"}], \"contour\": [{\"colorbar\": {\"outlinewidth\": 0, \"ticks\": \"\"}, \"colorscale\": [[0.0, \"#0d0887\"], [0.1111111111111111, \"#46039f\"], [0.2222222222222222, \"#7201a8\"], [0.3333333333333333, \"#9c179e\"], [0.4444444444444444, \"#bd3786\"], [0.5555555555555556, \"#d8576b\"], [0.6666666666666666, \"#ed7953\"], [0.7777777777777778, \"#fb9f3a\"], [0.8888888888888888, \"#fdca26\"], [1.0, \"#f0f921\"]], \"type\": \"contour\"}], \"contourcarpet\": [{\"colorbar\": {\"outlinewidth\": 0, \"ticks\": \"\"}, \"type\": \"contourcarpet\"}], \"heatmap\": [{\"colorbar\": {\"outlinewidth\": 0, \"ticks\": \"\"}, \"colorscale\": [[0.0, \"#0d0887\"], [0.1111111111111111, \"#46039f\"], [0.2222222222222222, \"#7201a8\"], [0.3333333333333333, \"#9c179e\"], [0.4444444444444444, \"#bd3786\"], [0.5555555555555556, \"#d8576b\"], [0.6666666666666666, \"#ed7953\"], [0.7777777777777778, \"#fb9f3a\"], [0.8888888888888888, \"#fdca26\"], [1.0, \"#f0f921\"]], \"type\": \"heatmap\"}], \"heatmapgl\": [{\"colorbar\": {\"outlinewidth\": 0, \"ticks\": \"\"}, \"colorscale\": [[0.0, \"#0d0887\"], [0.1111111111111111, \"#46039f\"], [0.2222222222222222, \"#7201a8\"], [0.3333333333333333, \"#9c179e\"], [0.4444444444444444, \"#bd3786\"], [0.5555555555555556, \"#d8576b\"], [0.6666666666666666, \"#ed7953\"], [0.7777777777777778, \"#fb9f3a\"], [0.8888888888888888, \"#fdca26\"], [1.0, \"#f0f921\"]], \"type\": \"heatmapgl\"}], \"histogram\": [{\"marker\": {\"colorbar\": {\"outlinewidth\": 0, \"ticks\": \"\"}}, \"type\": \"histogram\"}], \"histogram2d\": [{\"colorbar\": {\"outlinewidth\": 0, \"ticks\": \"\"}, \"colorscale\": [[0.0, \"#0d0887\"], [0.1111111111111111, \"#46039f\"], [0.2222222222222222, \"#7201a8\"], [0.3333333333333333, \"#9c179e\"], [0.4444444444444444, \"#bd3786\"], [0.5555555555555556, \"#d8576b\"], [0.6666666666666666, \"#ed7953\"], [0.7777777777777778, \"#fb9f3a\"], [0.8888888888888888, \"#fdca26\"], [1.0, \"#f0f921\"]], \"type\": \"histogram2d\"}], \"histogram2dcontour\": [{\"colorbar\": {\"outlinewidth\": 0, \"ticks\": \"\"}, \"colorscale\": [[0.0, \"#0d0887\"], [0.1111111111111111, \"#46039f\"], [0.2222222222222222, \"#7201a8\"], [0.3333333333333333, \"#9c179e\"], [0.4444444444444444, \"#bd3786\"], [0.5555555555555556, \"#d8576b\"], [0.6666666666666666, \"#ed7953\"], [0.7777777777777778, \"#fb9f3a\"], [0.8888888888888888, \"#fdca26\"], [1.0, \"#f0f921\"]], \"type\": \"histogram2dcontour\"}], \"mesh3d\": [{\"colorbar\": {\"outlinewidth\": 0, \"ticks\": \"\"}, \"type\": \"mesh3d\"}], \"parcoords\": [{\"line\": {\"colorbar\": {\"outlinewidth\": 0, \"ticks\": \"\"}}, \"type\": \"parcoords\"}], \"pie\": [{\"automargin\": true, \"type\": \"pie\"}], \"scatter\": [{\"marker\": {\"colorbar\": {\"outlinewidth\": 0, \"ticks\": \"\"}}, \"type\": \"scatter\"}], \"scatter3d\": [{\"line\": {\"colorbar\": {\"outlinewidth\": 0, \"ticks\": \"\"}}, \"marker\": {\"colorbar\": {\"outlinewidth\": 0, \"ticks\": \"\"}}, \"type\": \"scatter3d\"}], \"scattercarpet\": [{\"marker\": {\"colorbar\": {\"outlinewidth\": 0, \"ticks\": \"\"}}, \"type\": \"scattercarpet\"}], \"scattergeo\": [{\"marker\": {\"colorbar\": {\"outlinewidth\": 0, \"ticks\": \"\"}}, \"type\": \"scattergeo\"}], \"scattergl\": [{\"marker\": {\"colorbar\": {\"outlinewidth\": 0, \"ticks\": \"\"}}, \"type\": \"scattergl\"}], \"scattermapbox\": [{\"marker\": {\"colorbar\": {\"outlinewidth\": 0, \"ticks\": \"\"}}, \"type\": \"scattermapbox\"}], \"scatterpolar\": [{\"marker\": {\"colorbar\": {\"outlinewidth\": 0, \"ticks\": \"\"}}, \"type\": \"scatterpolar\"}], \"scatterpolargl\": [{\"marker\": {\"colorbar\": {\"outlinewidth\": 0, \"ticks\": \"\"}}, \"type\": \"scatterpolargl\"}], \"scatterternary\": [{\"marker\": {\"colorbar\": {\"outlinewidth\": 0, \"ticks\": \"\"}}, \"type\": \"scatterternary\"}], \"surface\": [{\"colorbar\": {\"outlinewidth\": 0, \"ticks\": \"\"}, \"colorscale\": [[0.0, \"#0d0887\"], [0.1111111111111111, \"#46039f\"], [0.2222222222222222, \"#7201a8\"], [0.3333333333333333, \"#9c179e\"], [0.4444444444444444, \"#bd3786\"], [0.5555555555555556, \"#d8576b\"], [0.6666666666666666, \"#ed7953\"], [0.7777777777777778, \"#fb9f3a\"], [0.8888888888888888, \"#fdca26\"], [1.0, \"#f0f921\"]], \"type\": \"surface\"}], \"table\": [{\"cells\": {\"fill\": {\"color\": \"#EBF0F8\"}, \"line\": {\"color\": \"white\"}}, \"header\": {\"fill\": {\"color\": \"#C8D4E3\"}, \"line\": {\"color\": \"white\"}}, \"type\": \"table\"}]}, \"layout\": {\"annotationdefaults\": {\"arrowcolor\": \"#2a3f5f\", \"arrowhead\": 0, \"arrowwidth\": 1}, \"coloraxis\": {\"colorbar\": {\"outlinewidth\": 0, \"ticks\": \"\"}}, \"colorscale\": {\"diverging\": [[0, \"#8e0152\"], [0.1, \"#c51b7d\"], [0.2, \"#de77ae\"], [0.3, \"#f1b6da\"], [0.4, \"#fde0ef\"], [0.5, \"#f7f7f7\"], [0.6, \"#e6f5d0\"], [0.7, \"#b8e186\"], [0.8, \"#7fbc41\"], [0.9, \"#4d9221\"], [1, \"#276419\"]], \"sequential\": [[0.0, \"#0d0887\"], [0.1111111111111111, \"#46039f\"], [0.2222222222222222, \"#7201a8\"], [0.3333333333333333, \"#9c179e\"], [0.4444444444444444, \"#bd3786\"], [0.5555555555555556, \"#d8576b\"], [0.6666666666666666, \"#ed7953\"], [0.7777777777777778, \"#fb9f3a\"], [0.8888888888888888, \"#fdca26\"], [1.0, \"#f0f921\"]], \"sequentialminus\": [[0.0, \"#0d0887\"], [0.1111111111111111, \"#46039f\"], [0.2222222222222222, \"#7201a8\"], [0.3333333333333333, \"#9c179e\"], [0.4444444444444444, \"#bd3786\"], [0.5555555555555556, \"#d8576b\"], [0.6666666666666666, \"#ed7953\"], [0.7777777777777778, \"#fb9f3a\"], [0.8888888888888888, \"#fdca26\"], [1.0, \"#f0f921\"]]}, \"colorway\": [\"#636efa\", \"#EF553B\", \"#00cc96\", \"#ab63fa\", \"#FFA15A\", \"#19d3f3\", \"#FF6692\", \"#B6E880\", \"#FF97FF\", \"#FECB52\"], \"font\": {\"color\": \"#2a3f5f\"}, \"geo\": {\"bgcolor\": \"white\", \"lakecolor\": \"white\", \"landcolor\": \"#E5ECF6\", \"showlakes\": true, \"showland\": true, \"subunitcolor\": \"white\"}, \"hoverlabel\": {\"align\": \"left\"}, \"hovermode\": \"closest\", \"mapbox\": {\"style\": \"light\"}, \"paper_bgcolor\": \"white\", \"plot_bgcolor\": \"#E5ECF6\", \"polar\": {\"angularaxis\": {\"gridcolor\": \"white\", \"linecolor\": \"white\", \"ticks\": \"\"}, \"bgcolor\": \"#E5ECF6\", \"radialaxis\": {\"gridcolor\": \"white\", \"linecolor\": \"white\", \"ticks\": \"\"}}, \"scene\": {\"xaxis\": {\"backgroundcolor\": \"#E5ECF6\", \"gridcolor\": \"white\", \"gridwidth\": 2, \"linecolor\": \"white\", \"showbackground\": true, \"ticks\": \"\", \"zerolinecolor\": \"white\"}, \"yaxis\": {\"backgroundcolor\": \"#E5ECF6\", \"gridcolor\": \"white\", \"gridwidth\": 2, \"linecolor\": \"white\", \"showbackground\": true, \"ticks\": \"\", \"zerolinecolor\": \"white\"}, \"zaxis\": {\"backgroundcolor\": \"#E5ECF6\", \"gridcolor\": \"white\", \"gridwidth\": 2, \"linecolor\": \"white\", \"showbackground\": true, \"ticks\": \"\", \"zerolinecolor\": \"white\"}}, \"shapedefaults\": {\"line\": {\"color\": \"#2a3f5f\"}}, \"ternary\": {\"aaxis\": {\"gridcolor\": \"white\", \"linecolor\": \"white\", \"ticks\": \"\"}, \"baxis\": {\"gridcolor\": \"white\", \"linecolor\": \"white\", \"ticks\": \"\"}, \"bgcolor\": \"#E5ECF6\", \"caxis\": {\"gridcolor\": \"white\", \"linecolor\": \"white\", \"ticks\": \"\"}}, \"title\": {\"x\": 0.05}, \"xaxis\": {\"automargin\": true, \"gridcolor\": \"white\", \"linecolor\": \"white\", \"ticks\": \"\", \"title\": {\"standoff\": 15}, \"zerolinecolor\": \"white\", \"zerolinewidth\": 2}, \"yaxis\": {\"automargin\": true, \"gridcolor\": \"white\", \"linecolor\": \"white\", \"ticks\": \"\", \"title\": {\"standoff\": 15}, \"zerolinecolor\": \"white\", \"zerolinewidth\": 2}}}, \"title\": {\"font\": {\"color\": \"#4D5663\"}}, \"xaxis\": {\"gridcolor\": \"#E1E5ED\", \"showgrid\": true, \"tickfont\": {\"color\": \"#4D5663\"}, \"title\": {\"font\": {\"color\": \"#4D5663\"}, \"text\": \"\"}, \"zerolinecolor\": \"#E1E5ED\"}, \"yaxis\": {\"gridcolor\": \"#E1E5ED\", \"showgrid\": true, \"tickfont\": {\"color\": \"#4D5663\"}, \"title\": {\"font\": {\"color\": \"#4D5663\"}, \"text\": \"\"}, \"zerolinecolor\": \"#E1E5ED\"}},\n",
       "                        {\"showLink\": true, \"linkText\": \"Export to plot.ly\", \"plotlyServerURL\": \"https://plot.ly\", \"responsive\": true}\n",
       "                    ).then(function(){\n",
       "                            \n",
       "var gd = document.getElementById('76d80199-4189-47e9-8a3a-b2d6c820ec57');\n",
       "var x = new MutationObserver(function (mutations, observer) {{\n",
       "        var display = window.getComputedStyle(gd).display;\n",
       "        if (!display || display === 'none') {{\n",
       "            console.log([gd, 'removed!']);\n",
       "            Plotly.purge(gd);\n",
       "            observer.disconnect();\n",
       "        }}\n",
       "}});\n",
       "\n",
       "// Listen for the removal of the full notebook cells\n",
       "var notebookContainer = gd.closest('#notebook-container');\n",
       "if (notebookContainer) {{\n",
       "    x.observe(notebookContainer, {childList: true});\n",
       "}}\n",
       "\n",
       "// Listen for the clearing of the current output cell\n",
       "var outputEl = gd.closest('.output');\n",
       "if (outputEl) {{\n",
       "    x.observe(outputEl, {childList: true});\n",
       "}}\n",
       "\n",
       "                        })\n",
       "                };\n",
       "                });\n",
       "            </script>\n",
       "        </div>"
      ]
     },
     "metadata": {},
     "output_type": "display_data"
    }
   ],
   "source": [
    "df.iplot(kind='scatter',x='A',y='B',mode='markers',size=10)"
   ]
  },
  {
   "cell_type": "markdown",
   "metadata": {},
   "source": [
    "## Bar Plots"
   ]
  },
  {
   "cell_type": "code",
   "execution_count": 13,
   "metadata": {},
   "outputs": [
    {
     "data": {
      "application/vnd.plotly.v1+json": {
       "config": {
        "linkText": "Export to plot.ly",
        "plotlyServerURL": "https://plot.ly",
        "showLink": true
       },
       "data": [
        {
         "marker": {
          "color": "rgba(255, 153, 51, 0.6)",
          "line": {
           "color": "rgba(255, 153, 51, 1.0)",
           "width": 1
          }
         },
         "name": "Values",
         "orientation": "v",
         "text": "",
         "type": "bar",
         "x": [
          "A",
          "B",
          "C"
         ],
         "y": [
          32,
          43,
          50
         ]
        }
       ],
       "layout": {
        "legend": {
         "bgcolor": "#F5F6F9",
         "font": {
          "color": "#4D5663"
         }
        },
        "paper_bgcolor": "#F5F6F9",
        "plot_bgcolor": "#F5F6F9",
        "template": {
         "data": {
          "bar": [
           {
            "error_x": {
             "color": "#2a3f5f"
            },
            "error_y": {
             "color": "#2a3f5f"
            },
            "marker": {
             "line": {
              "color": "#E5ECF6",
              "width": 0.5
             }
            },
            "type": "bar"
           }
          ],
          "barpolar": [
           {
            "marker": {
             "line": {
              "color": "#E5ECF6",
              "width": 0.5
             }
            },
            "type": "barpolar"
           }
          ],
          "carpet": [
           {
            "aaxis": {
             "endlinecolor": "#2a3f5f",
             "gridcolor": "white",
             "linecolor": "white",
             "minorgridcolor": "white",
             "startlinecolor": "#2a3f5f"
            },
            "baxis": {
             "endlinecolor": "#2a3f5f",
             "gridcolor": "white",
             "linecolor": "white",
             "minorgridcolor": "white",
             "startlinecolor": "#2a3f5f"
            },
            "type": "carpet"
           }
          ],
          "choropleth": [
           {
            "colorbar": {
             "outlinewidth": 0,
             "ticks": ""
            },
            "type": "choropleth"
           }
          ],
          "contour": [
           {
            "colorbar": {
             "outlinewidth": 0,
             "ticks": ""
            },
            "colorscale": [
             [
              0,
              "#0d0887"
             ],
             [
              0.1111111111111111,
              "#46039f"
             ],
             [
              0.2222222222222222,
              "#7201a8"
             ],
             [
              0.3333333333333333,
              "#9c179e"
             ],
             [
              0.4444444444444444,
              "#bd3786"
             ],
             [
              0.5555555555555556,
              "#d8576b"
             ],
             [
              0.6666666666666666,
              "#ed7953"
             ],
             [
              0.7777777777777778,
              "#fb9f3a"
             ],
             [
              0.8888888888888888,
              "#fdca26"
             ],
             [
              1,
              "#f0f921"
             ]
            ],
            "type": "contour"
           }
          ],
          "contourcarpet": [
           {
            "colorbar": {
             "outlinewidth": 0,
             "ticks": ""
            },
            "type": "contourcarpet"
           }
          ],
          "heatmap": [
           {
            "colorbar": {
             "outlinewidth": 0,
             "ticks": ""
            },
            "colorscale": [
             [
              0,
              "#0d0887"
             ],
             [
              0.1111111111111111,
              "#46039f"
             ],
             [
              0.2222222222222222,
              "#7201a8"
             ],
             [
              0.3333333333333333,
              "#9c179e"
             ],
             [
              0.4444444444444444,
              "#bd3786"
             ],
             [
              0.5555555555555556,
              "#d8576b"
             ],
             [
              0.6666666666666666,
              "#ed7953"
             ],
             [
              0.7777777777777778,
              "#fb9f3a"
             ],
             [
              0.8888888888888888,
              "#fdca26"
             ],
             [
              1,
              "#f0f921"
             ]
            ],
            "type": "heatmap"
           }
          ],
          "heatmapgl": [
           {
            "colorbar": {
             "outlinewidth": 0,
             "ticks": ""
            },
            "colorscale": [
             [
              0,
              "#0d0887"
             ],
             [
              0.1111111111111111,
              "#46039f"
             ],
             [
              0.2222222222222222,
              "#7201a8"
             ],
             [
              0.3333333333333333,
              "#9c179e"
             ],
             [
              0.4444444444444444,
              "#bd3786"
             ],
             [
              0.5555555555555556,
              "#d8576b"
             ],
             [
              0.6666666666666666,
              "#ed7953"
             ],
             [
              0.7777777777777778,
              "#fb9f3a"
             ],
             [
              0.8888888888888888,
              "#fdca26"
             ],
             [
              1,
              "#f0f921"
             ]
            ],
            "type": "heatmapgl"
           }
          ],
          "histogram": [
           {
            "marker": {
             "colorbar": {
              "outlinewidth": 0,
              "ticks": ""
             }
            },
            "type": "histogram"
           }
          ],
          "histogram2d": [
           {
            "colorbar": {
             "outlinewidth": 0,
             "ticks": ""
            },
            "colorscale": [
             [
              0,
              "#0d0887"
             ],
             [
              0.1111111111111111,
              "#46039f"
             ],
             [
              0.2222222222222222,
              "#7201a8"
             ],
             [
              0.3333333333333333,
              "#9c179e"
             ],
             [
              0.4444444444444444,
              "#bd3786"
             ],
             [
              0.5555555555555556,
              "#d8576b"
             ],
             [
              0.6666666666666666,
              "#ed7953"
             ],
             [
              0.7777777777777778,
              "#fb9f3a"
             ],
             [
              0.8888888888888888,
              "#fdca26"
             ],
             [
              1,
              "#f0f921"
             ]
            ],
            "type": "histogram2d"
           }
          ],
          "histogram2dcontour": [
           {
            "colorbar": {
             "outlinewidth": 0,
             "ticks": ""
            },
            "colorscale": [
             [
              0,
              "#0d0887"
             ],
             [
              0.1111111111111111,
              "#46039f"
             ],
             [
              0.2222222222222222,
              "#7201a8"
             ],
             [
              0.3333333333333333,
              "#9c179e"
             ],
             [
              0.4444444444444444,
              "#bd3786"
             ],
             [
              0.5555555555555556,
              "#d8576b"
             ],
             [
              0.6666666666666666,
              "#ed7953"
             ],
             [
              0.7777777777777778,
              "#fb9f3a"
             ],
             [
              0.8888888888888888,
              "#fdca26"
             ],
             [
              1,
              "#f0f921"
             ]
            ],
            "type": "histogram2dcontour"
           }
          ],
          "mesh3d": [
           {
            "colorbar": {
             "outlinewidth": 0,
             "ticks": ""
            },
            "type": "mesh3d"
           }
          ],
          "parcoords": [
           {
            "line": {
             "colorbar": {
              "outlinewidth": 0,
              "ticks": ""
             }
            },
            "type": "parcoords"
           }
          ],
          "pie": [
           {
            "automargin": true,
            "type": "pie"
           }
          ],
          "scatter": [
           {
            "marker": {
             "colorbar": {
              "outlinewidth": 0,
              "ticks": ""
             }
            },
            "type": "scatter"
           }
          ],
          "scatter3d": [
           {
            "line": {
             "colorbar": {
              "outlinewidth": 0,
              "ticks": ""
             }
            },
            "marker": {
             "colorbar": {
              "outlinewidth": 0,
              "ticks": ""
             }
            },
            "type": "scatter3d"
           }
          ],
          "scattercarpet": [
           {
            "marker": {
             "colorbar": {
              "outlinewidth": 0,
              "ticks": ""
             }
            },
            "type": "scattercarpet"
           }
          ],
          "scattergeo": [
           {
            "marker": {
             "colorbar": {
              "outlinewidth": 0,
              "ticks": ""
             }
            },
            "type": "scattergeo"
           }
          ],
          "scattergl": [
           {
            "marker": {
             "colorbar": {
              "outlinewidth": 0,
              "ticks": ""
             }
            },
            "type": "scattergl"
           }
          ],
          "scattermapbox": [
           {
            "marker": {
             "colorbar": {
              "outlinewidth": 0,
              "ticks": ""
             }
            },
            "type": "scattermapbox"
           }
          ],
          "scatterpolar": [
           {
            "marker": {
             "colorbar": {
              "outlinewidth": 0,
              "ticks": ""
             }
            },
            "type": "scatterpolar"
           }
          ],
          "scatterpolargl": [
           {
            "marker": {
             "colorbar": {
              "outlinewidth": 0,
              "ticks": ""
             }
            },
            "type": "scatterpolargl"
           }
          ],
          "scatterternary": [
           {
            "marker": {
             "colorbar": {
              "outlinewidth": 0,
              "ticks": ""
             }
            },
            "type": "scatterternary"
           }
          ],
          "surface": [
           {
            "colorbar": {
             "outlinewidth": 0,
             "ticks": ""
            },
            "colorscale": [
             [
              0,
              "#0d0887"
             ],
             [
              0.1111111111111111,
              "#46039f"
             ],
             [
              0.2222222222222222,
              "#7201a8"
             ],
             [
              0.3333333333333333,
              "#9c179e"
             ],
             [
              0.4444444444444444,
              "#bd3786"
             ],
             [
              0.5555555555555556,
              "#d8576b"
             ],
             [
              0.6666666666666666,
              "#ed7953"
             ],
             [
              0.7777777777777778,
              "#fb9f3a"
             ],
             [
              0.8888888888888888,
              "#fdca26"
             ],
             [
              1,
              "#f0f921"
             ]
            ],
            "type": "surface"
           }
          ],
          "table": [
           {
            "cells": {
             "fill": {
              "color": "#EBF0F8"
             },
             "line": {
              "color": "white"
             }
            },
            "header": {
             "fill": {
              "color": "#C8D4E3"
             },
             "line": {
              "color": "white"
             }
            },
            "type": "table"
           }
          ]
         },
         "layout": {
          "annotationdefaults": {
           "arrowcolor": "#2a3f5f",
           "arrowhead": 0,
           "arrowwidth": 1
          },
          "coloraxis": {
           "colorbar": {
            "outlinewidth": 0,
            "ticks": ""
           }
          },
          "colorscale": {
           "diverging": [
            [
             0,
             "#8e0152"
            ],
            [
             0.1,
             "#c51b7d"
            ],
            [
             0.2,
             "#de77ae"
            ],
            [
             0.3,
             "#f1b6da"
            ],
            [
             0.4,
             "#fde0ef"
            ],
            [
             0.5,
             "#f7f7f7"
            ],
            [
             0.6,
             "#e6f5d0"
            ],
            [
             0.7,
             "#b8e186"
            ],
            [
             0.8,
             "#7fbc41"
            ],
            [
             0.9,
             "#4d9221"
            ],
            [
             1,
             "#276419"
            ]
           ],
           "sequential": [
            [
             0,
             "#0d0887"
            ],
            [
             0.1111111111111111,
             "#46039f"
            ],
            [
             0.2222222222222222,
             "#7201a8"
            ],
            [
             0.3333333333333333,
             "#9c179e"
            ],
            [
             0.4444444444444444,
             "#bd3786"
            ],
            [
             0.5555555555555556,
             "#d8576b"
            ],
            [
             0.6666666666666666,
             "#ed7953"
            ],
            [
             0.7777777777777778,
             "#fb9f3a"
            ],
            [
             0.8888888888888888,
             "#fdca26"
            ],
            [
             1,
             "#f0f921"
            ]
           ],
           "sequentialminus": [
            [
             0,
             "#0d0887"
            ],
            [
             0.1111111111111111,
             "#46039f"
            ],
            [
             0.2222222222222222,
             "#7201a8"
            ],
            [
             0.3333333333333333,
             "#9c179e"
            ],
            [
             0.4444444444444444,
             "#bd3786"
            ],
            [
             0.5555555555555556,
             "#d8576b"
            ],
            [
             0.6666666666666666,
             "#ed7953"
            ],
            [
             0.7777777777777778,
             "#fb9f3a"
            ],
            [
             0.8888888888888888,
             "#fdca26"
            ],
            [
             1,
             "#f0f921"
            ]
           ]
          },
          "colorway": [
           "#636efa",
           "#EF553B",
           "#00cc96",
           "#ab63fa",
           "#FFA15A",
           "#19d3f3",
           "#FF6692",
           "#B6E880",
           "#FF97FF",
           "#FECB52"
          ],
          "font": {
           "color": "#2a3f5f"
          },
          "geo": {
           "bgcolor": "white",
           "lakecolor": "white",
           "landcolor": "#E5ECF6",
           "showlakes": true,
           "showland": true,
           "subunitcolor": "white"
          },
          "hoverlabel": {
           "align": "left"
          },
          "hovermode": "closest",
          "mapbox": {
           "style": "light"
          },
          "paper_bgcolor": "white",
          "plot_bgcolor": "#E5ECF6",
          "polar": {
           "angularaxis": {
            "gridcolor": "white",
            "linecolor": "white",
            "ticks": ""
           },
           "bgcolor": "#E5ECF6",
           "radialaxis": {
            "gridcolor": "white",
            "linecolor": "white",
            "ticks": ""
           }
          },
          "scene": {
           "xaxis": {
            "backgroundcolor": "#E5ECF6",
            "gridcolor": "white",
            "gridwidth": 2,
            "linecolor": "white",
            "showbackground": true,
            "ticks": "",
            "zerolinecolor": "white"
           },
           "yaxis": {
            "backgroundcolor": "#E5ECF6",
            "gridcolor": "white",
            "gridwidth": 2,
            "linecolor": "white",
            "showbackground": true,
            "ticks": "",
            "zerolinecolor": "white"
           },
           "zaxis": {
            "backgroundcolor": "#E5ECF6",
            "gridcolor": "white",
            "gridwidth": 2,
            "linecolor": "white",
            "showbackground": true,
            "ticks": "",
            "zerolinecolor": "white"
           }
          },
          "shapedefaults": {
           "line": {
            "color": "#2a3f5f"
           }
          },
          "ternary": {
           "aaxis": {
            "gridcolor": "white",
            "linecolor": "white",
            "ticks": ""
           },
           "baxis": {
            "gridcolor": "white",
            "linecolor": "white",
            "ticks": ""
           },
           "bgcolor": "#E5ECF6",
           "caxis": {
            "gridcolor": "white",
            "linecolor": "white",
            "ticks": ""
           }
          },
          "title": {
           "x": 0.05
          },
          "xaxis": {
           "automargin": true,
           "gridcolor": "white",
           "linecolor": "white",
           "ticks": "",
           "title": {
            "standoff": 15
           },
           "zerolinecolor": "white",
           "zerolinewidth": 2
          },
          "yaxis": {
           "automargin": true,
           "gridcolor": "white",
           "linecolor": "white",
           "ticks": "",
           "title": {
            "standoff": 15
           },
           "zerolinecolor": "white",
           "zerolinewidth": 2
          }
         }
        },
        "title": {
         "font": {
          "color": "#4D5663"
         }
        },
        "xaxis": {
         "gridcolor": "#E1E5ED",
         "showgrid": true,
         "tickfont": {
          "color": "#4D5663"
         },
         "title": {
          "font": {
           "color": "#4D5663"
          },
          "text": ""
         },
         "zerolinecolor": "#E1E5ED"
        },
        "yaxis": {
         "gridcolor": "#E1E5ED",
         "showgrid": true,
         "tickfont": {
          "color": "#4D5663"
         },
         "title": {
          "font": {
           "color": "#4D5663"
          },
          "text": ""
         },
         "zerolinecolor": "#E1E5ED"
        }
       }
      },
      "text/html": [
       "<div>\n",
       "        \n",
       "        \n",
       "            <div id=\"2ae59f99-f1d9-4b1c-a8f2-0d0c667131c8\" class=\"plotly-graph-div\" style=\"height:525px; width:100%;\"></div>\n",
       "            <script type=\"text/javascript\">\n",
       "                require([\"plotly\"], function(Plotly) {\n",
       "                    window.PLOTLYENV=window.PLOTLYENV || {};\n",
       "                    window.PLOTLYENV.BASE_URL='https://plot.ly';\n",
       "                    \n",
       "                if (document.getElementById(\"2ae59f99-f1d9-4b1c-a8f2-0d0c667131c8\")) {\n",
       "                    Plotly.newPlot(\n",
       "                        '2ae59f99-f1d9-4b1c-a8f2-0d0c667131c8',\n",
       "                        [{\"marker\": {\"color\": \"rgba(255, 153, 51, 0.6)\", \"line\": {\"color\": \"rgba(255, 153, 51, 1.0)\", \"width\": 1}}, \"name\": \"Values\", \"orientation\": \"v\", \"text\": \"\", \"type\": \"bar\", \"x\": [\"A\", \"B\", \"C\"], \"y\": [32, 43, 50]}],\n",
       "                        {\"legend\": {\"bgcolor\": \"#F5F6F9\", \"font\": {\"color\": \"#4D5663\"}}, \"paper_bgcolor\": \"#F5F6F9\", \"plot_bgcolor\": \"#F5F6F9\", \"template\": {\"data\": {\"bar\": [{\"error_x\": {\"color\": \"#2a3f5f\"}, \"error_y\": {\"color\": \"#2a3f5f\"}, \"marker\": {\"line\": {\"color\": \"#E5ECF6\", \"width\": 0.5}}, \"type\": \"bar\"}], \"barpolar\": [{\"marker\": {\"line\": {\"color\": \"#E5ECF6\", \"width\": 0.5}}, \"type\": \"barpolar\"}], \"carpet\": [{\"aaxis\": {\"endlinecolor\": \"#2a3f5f\", \"gridcolor\": \"white\", \"linecolor\": \"white\", \"minorgridcolor\": \"white\", \"startlinecolor\": \"#2a3f5f\"}, \"baxis\": {\"endlinecolor\": \"#2a3f5f\", \"gridcolor\": \"white\", \"linecolor\": \"white\", \"minorgridcolor\": \"white\", \"startlinecolor\": \"#2a3f5f\"}, \"type\": \"carpet\"}], \"choropleth\": [{\"colorbar\": {\"outlinewidth\": 0, \"ticks\": \"\"}, \"type\": \"choropleth\"}], \"contour\": [{\"colorbar\": {\"outlinewidth\": 0, \"ticks\": \"\"}, \"colorscale\": [[0.0, \"#0d0887\"], [0.1111111111111111, \"#46039f\"], [0.2222222222222222, \"#7201a8\"], [0.3333333333333333, \"#9c179e\"], [0.4444444444444444, \"#bd3786\"], [0.5555555555555556, \"#d8576b\"], [0.6666666666666666, \"#ed7953\"], [0.7777777777777778, \"#fb9f3a\"], [0.8888888888888888, \"#fdca26\"], [1.0, \"#f0f921\"]], \"type\": \"contour\"}], \"contourcarpet\": [{\"colorbar\": {\"outlinewidth\": 0, \"ticks\": \"\"}, \"type\": \"contourcarpet\"}], \"heatmap\": [{\"colorbar\": {\"outlinewidth\": 0, \"ticks\": \"\"}, \"colorscale\": [[0.0, \"#0d0887\"], [0.1111111111111111, \"#46039f\"], [0.2222222222222222, \"#7201a8\"], [0.3333333333333333, \"#9c179e\"], [0.4444444444444444, \"#bd3786\"], [0.5555555555555556, \"#d8576b\"], [0.6666666666666666, \"#ed7953\"], [0.7777777777777778, \"#fb9f3a\"], [0.8888888888888888, \"#fdca26\"], [1.0, \"#f0f921\"]], \"type\": \"heatmap\"}], \"heatmapgl\": [{\"colorbar\": {\"outlinewidth\": 0, \"ticks\": \"\"}, \"colorscale\": [[0.0, \"#0d0887\"], [0.1111111111111111, \"#46039f\"], [0.2222222222222222, \"#7201a8\"], [0.3333333333333333, \"#9c179e\"], [0.4444444444444444, \"#bd3786\"], [0.5555555555555556, \"#d8576b\"], [0.6666666666666666, \"#ed7953\"], [0.7777777777777778, \"#fb9f3a\"], [0.8888888888888888, \"#fdca26\"], [1.0, \"#f0f921\"]], \"type\": \"heatmapgl\"}], \"histogram\": [{\"marker\": {\"colorbar\": {\"outlinewidth\": 0, \"ticks\": \"\"}}, \"type\": \"histogram\"}], \"histogram2d\": [{\"colorbar\": {\"outlinewidth\": 0, \"ticks\": \"\"}, \"colorscale\": [[0.0, \"#0d0887\"], [0.1111111111111111, \"#46039f\"], [0.2222222222222222, \"#7201a8\"], [0.3333333333333333, \"#9c179e\"], [0.4444444444444444, \"#bd3786\"], [0.5555555555555556, \"#d8576b\"], [0.6666666666666666, \"#ed7953\"], [0.7777777777777778, \"#fb9f3a\"], [0.8888888888888888, \"#fdca26\"], [1.0, \"#f0f921\"]], \"type\": \"histogram2d\"}], \"histogram2dcontour\": [{\"colorbar\": {\"outlinewidth\": 0, \"ticks\": \"\"}, \"colorscale\": [[0.0, \"#0d0887\"], [0.1111111111111111, \"#46039f\"], [0.2222222222222222, \"#7201a8\"], [0.3333333333333333, \"#9c179e\"], [0.4444444444444444, \"#bd3786\"], [0.5555555555555556, \"#d8576b\"], [0.6666666666666666, \"#ed7953\"], [0.7777777777777778, \"#fb9f3a\"], [0.8888888888888888, \"#fdca26\"], [1.0, \"#f0f921\"]], \"type\": \"histogram2dcontour\"}], \"mesh3d\": [{\"colorbar\": {\"outlinewidth\": 0, \"ticks\": \"\"}, \"type\": \"mesh3d\"}], \"parcoords\": [{\"line\": {\"colorbar\": {\"outlinewidth\": 0, \"ticks\": \"\"}}, \"type\": \"parcoords\"}], \"pie\": [{\"automargin\": true, \"type\": \"pie\"}], \"scatter\": [{\"marker\": {\"colorbar\": {\"outlinewidth\": 0, \"ticks\": \"\"}}, \"type\": \"scatter\"}], \"scatter3d\": [{\"line\": {\"colorbar\": {\"outlinewidth\": 0, \"ticks\": \"\"}}, \"marker\": {\"colorbar\": {\"outlinewidth\": 0, \"ticks\": \"\"}}, \"type\": \"scatter3d\"}], \"scattercarpet\": [{\"marker\": {\"colorbar\": {\"outlinewidth\": 0, \"ticks\": \"\"}}, \"type\": \"scattercarpet\"}], \"scattergeo\": [{\"marker\": {\"colorbar\": {\"outlinewidth\": 0, \"ticks\": \"\"}}, \"type\": \"scattergeo\"}], \"scattergl\": [{\"marker\": {\"colorbar\": {\"outlinewidth\": 0, \"ticks\": \"\"}}, \"type\": \"scattergl\"}], \"scattermapbox\": [{\"marker\": {\"colorbar\": {\"outlinewidth\": 0, \"ticks\": \"\"}}, \"type\": \"scattermapbox\"}], \"scatterpolar\": [{\"marker\": {\"colorbar\": {\"outlinewidth\": 0, \"ticks\": \"\"}}, \"type\": \"scatterpolar\"}], \"scatterpolargl\": [{\"marker\": {\"colorbar\": {\"outlinewidth\": 0, \"ticks\": \"\"}}, \"type\": \"scatterpolargl\"}], \"scatterternary\": [{\"marker\": {\"colorbar\": {\"outlinewidth\": 0, \"ticks\": \"\"}}, \"type\": \"scatterternary\"}], \"surface\": [{\"colorbar\": {\"outlinewidth\": 0, \"ticks\": \"\"}, \"colorscale\": [[0.0, \"#0d0887\"], [0.1111111111111111, \"#46039f\"], [0.2222222222222222, \"#7201a8\"], [0.3333333333333333, \"#9c179e\"], [0.4444444444444444, \"#bd3786\"], [0.5555555555555556, \"#d8576b\"], [0.6666666666666666, \"#ed7953\"], [0.7777777777777778, \"#fb9f3a\"], [0.8888888888888888, \"#fdca26\"], [1.0, \"#f0f921\"]], \"type\": \"surface\"}], \"table\": [{\"cells\": {\"fill\": {\"color\": \"#EBF0F8\"}, \"line\": {\"color\": \"white\"}}, \"header\": {\"fill\": {\"color\": \"#C8D4E3\"}, \"line\": {\"color\": \"white\"}}, \"type\": \"table\"}]}, \"layout\": {\"annotationdefaults\": {\"arrowcolor\": \"#2a3f5f\", \"arrowhead\": 0, \"arrowwidth\": 1}, \"coloraxis\": {\"colorbar\": {\"outlinewidth\": 0, \"ticks\": \"\"}}, \"colorscale\": {\"diverging\": [[0, \"#8e0152\"], [0.1, \"#c51b7d\"], [0.2, \"#de77ae\"], [0.3, \"#f1b6da\"], [0.4, \"#fde0ef\"], [0.5, \"#f7f7f7\"], [0.6, \"#e6f5d0\"], [0.7, \"#b8e186\"], [0.8, \"#7fbc41\"], [0.9, \"#4d9221\"], [1, \"#276419\"]], \"sequential\": [[0.0, \"#0d0887\"], [0.1111111111111111, \"#46039f\"], [0.2222222222222222, \"#7201a8\"], [0.3333333333333333, \"#9c179e\"], [0.4444444444444444, \"#bd3786\"], [0.5555555555555556, \"#d8576b\"], [0.6666666666666666, \"#ed7953\"], [0.7777777777777778, \"#fb9f3a\"], [0.8888888888888888, \"#fdca26\"], [1.0, \"#f0f921\"]], \"sequentialminus\": [[0.0, \"#0d0887\"], [0.1111111111111111, \"#46039f\"], [0.2222222222222222, \"#7201a8\"], [0.3333333333333333, \"#9c179e\"], [0.4444444444444444, \"#bd3786\"], [0.5555555555555556, \"#d8576b\"], [0.6666666666666666, \"#ed7953\"], [0.7777777777777778, \"#fb9f3a\"], [0.8888888888888888, \"#fdca26\"], [1.0, \"#f0f921\"]]}, \"colorway\": [\"#636efa\", \"#EF553B\", \"#00cc96\", \"#ab63fa\", \"#FFA15A\", \"#19d3f3\", \"#FF6692\", \"#B6E880\", \"#FF97FF\", \"#FECB52\"], \"font\": {\"color\": \"#2a3f5f\"}, \"geo\": {\"bgcolor\": \"white\", \"lakecolor\": \"white\", \"landcolor\": \"#E5ECF6\", \"showlakes\": true, \"showland\": true, \"subunitcolor\": \"white\"}, \"hoverlabel\": {\"align\": \"left\"}, \"hovermode\": \"closest\", \"mapbox\": {\"style\": \"light\"}, \"paper_bgcolor\": \"white\", \"plot_bgcolor\": \"#E5ECF6\", \"polar\": {\"angularaxis\": {\"gridcolor\": \"white\", \"linecolor\": \"white\", \"ticks\": \"\"}, \"bgcolor\": \"#E5ECF6\", \"radialaxis\": {\"gridcolor\": \"white\", \"linecolor\": \"white\", \"ticks\": \"\"}}, \"scene\": {\"xaxis\": {\"backgroundcolor\": \"#E5ECF6\", \"gridcolor\": \"white\", \"gridwidth\": 2, \"linecolor\": \"white\", \"showbackground\": true, \"ticks\": \"\", \"zerolinecolor\": \"white\"}, \"yaxis\": {\"backgroundcolor\": \"#E5ECF6\", \"gridcolor\": \"white\", \"gridwidth\": 2, \"linecolor\": \"white\", \"showbackground\": true, \"ticks\": \"\", \"zerolinecolor\": \"white\"}, \"zaxis\": {\"backgroundcolor\": \"#E5ECF6\", \"gridcolor\": \"white\", \"gridwidth\": 2, \"linecolor\": \"white\", \"showbackground\": true, \"ticks\": \"\", \"zerolinecolor\": \"white\"}}, \"shapedefaults\": {\"line\": {\"color\": \"#2a3f5f\"}}, \"ternary\": {\"aaxis\": {\"gridcolor\": \"white\", \"linecolor\": \"white\", \"ticks\": \"\"}, \"baxis\": {\"gridcolor\": \"white\", \"linecolor\": \"white\", \"ticks\": \"\"}, \"bgcolor\": \"#E5ECF6\", \"caxis\": {\"gridcolor\": \"white\", \"linecolor\": \"white\", \"ticks\": \"\"}}, \"title\": {\"x\": 0.05}, \"xaxis\": {\"automargin\": true, \"gridcolor\": \"white\", \"linecolor\": \"white\", \"ticks\": \"\", \"title\": {\"standoff\": 15}, \"zerolinecolor\": \"white\", \"zerolinewidth\": 2}, \"yaxis\": {\"automargin\": true, \"gridcolor\": \"white\", \"linecolor\": \"white\", \"ticks\": \"\", \"title\": {\"standoff\": 15}, \"zerolinecolor\": \"white\", \"zerolinewidth\": 2}}}, \"title\": {\"font\": {\"color\": \"#4D5663\"}}, \"xaxis\": {\"gridcolor\": \"#E1E5ED\", \"showgrid\": true, \"tickfont\": {\"color\": \"#4D5663\"}, \"title\": {\"font\": {\"color\": \"#4D5663\"}, \"text\": \"\"}, \"zerolinecolor\": \"#E1E5ED\"}, \"yaxis\": {\"gridcolor\": \"#E1E5ED\", \"showgrid\": true, \"tickfont\": {\"color\": \"#4D5663\"}, \"title\": {\"font\": {\"color\": \"#4D5663\"}, \"text\": \"\"}, \"zerolinecolor\": \"#E1E5ED\"}},\n",
       "                        {\"showLink\": true, \"linkText\": \"Export to plot.ly\", \"plotlyServerURL\": \"https://plot.ly\", \"responsive\": true}\n",
       "                    ).then(function(){\n",
       "                            \n",
       "var gd = document.getElementById('2ae59f99-f1d9-4b1c-a8f2-0d0c667131c8');\n",
       "var x = new MutationObserver(function (mutations, observer) {{\n",
       "        var display = window.getComputedStyle(gd).display;\n",
       "        if (!display || display === 'none') {{\n",
       "            console.log([gd, 'removed!']);\n",
       "            Plotly.purge(gd);\n",
       "            observer.disconnect();\n",
       "        }}\n",
       "}});\n",
       "\n",
       "// Listen for the removal of the full notebook cells\n",
       "var notebookContainer = gd.closest('#notebook-container');\n",
       "if (notebookContainer) {{\n",
       "    x.observe(notebookContainer, {childList: true});\n",
       "}}\n",
       "\n",
       "// Listen for the clearing of the current output cell\n",
       "var outputEl = gd.closest('.output');\n",
       "if (outputEl) {{\n",
       "    x.observe(outputEl, {childList: true});\n",
       "}}\n",
       "\n",
       "                        })\n",
       "                };\n",
       "                });\n",
       "            </script>\n",
       "        </div>"
      ]
     },
     "metadata": {},
     "output_type": "display_data"
    }
   ],
   "source": [
    "df2.iplot(kind='bar',x='Category',y='Values')"
   ]
  },
  {
   "cell_type": "markdown",
   "metadata": {},
   "source": [
    "## Boxplots"
   ]
  },
  {
   "cell_type": "code",
   "execution_count": 15,
   "metadata": {},
   "outputs": [
    {
     "data": {
      "application/vnd.plotly.v1+json": {
       "config": {
        "linkText": "Export to plot.ly",
        "plotlyServerURL": "https://plot.ly",
        "showLink": true
       },
       "data": [
        {
         "boxpoints": false,
         "line": {
          "width": 1.3
         },
         "marker": {
          "color": "rgba(255, 153, 51, 1.0)"
         },
         "name": "A",
         "orientation": "v",
         "type": "box",
         "y": [
          -1.3583402229536823,
          0.0921673543459956,
          0.4492594820576442,
          0.6996025908357328,
          2.1495250286838616,
          0.24183106597206416,
          -0.8776832110040302,
          1.0541732492278562,
          0.08523758205433592,
          0.4987407976187166,
          -0.42692187830303097,
          0.3314238788412063,
          0.8110203721335073,
          -1.892486336094162,
          -0.1986687733189751,
          -0.3859351717543113,
          0.7622079403895549,
          1.1342981825914735,
          -0.616705435419684,
          -0.12151918045946218,
          -1.1011316897029537,
          0.3328629568633669,
          -1.0208981270296031,
          0.053983225088959017,
          0.3725114124839771,
          0.10267108207518853,
          -1.1665665557543183,
          0.054504419339731255,
          0.07843971579163007,
          -0.5986900927551946,
          -1.1908876386329161,
          -0.9428019176036524,
          -0.20836288106335712,
          2.0638412236218913,
          -0.08800663468845793,
          2.3489296854756243,
          -0.328825492717537,
          0.13679328526719142,
          1.6362966816412452,
          -0.9865169458002857,
          0.5322172281903023,
          1.8126956542853345,
          2.0187951705084726,
          0.34262285700030415,
          -0.4049678282336819,
          -2.1252404889520555,
          0.3577431068537883,
          0.6213330482766051,
          1.1533821829453454,
          1.536912657916139,
          2.008920554498628,
          -1.585227803158716,
          -0.8722662480875408,
          -0.15051809032390423,
          -1.0062867067219174,
          1.8397911379130851,
          -0.06621953199647992,
          -1.2920370371673158,
          0.5436718522445453,
          0.5423224416184557,
          1.5511194828341233,
          0.13070055937739156,
          -0.44912176704902335,
          -0.2616470902800413,
          0.345449072564648,
          -0.21847852159286552,
          -1.547915716754144,
          -0.24297968869274658,
          0.10713560266622875,
          -0.03071741252082736,
          0.6189888818452682,
          0.949788377696495,
          -0.31913257258760963,
          1.029866696113866,
          0.2163440437977718,
          -1.9076255260432537,
          0.9911538059288,
          -1.2938190969419967,
          -1.556975158647537,
          -0.8567798093066372,
          1.1061307231493411,
          0.8210251094170343,
          -0.8752867994424044,
          -1.3312503684676744,
          -0.15270325556453376,
          -1.6312580962345506,
          1.8820767353613506,
          0.2876026635475839,
          -0.8927184511718702,
          0.8929654454438709,
          0.6600185178648303,
          -1.2544677962637543,
          1.0241195756808887,
          1.7451061541136383,
          1.6784492852125634,
          -0.209804057404903,
          2.7179971818449857,
          0.15330230160949973,
          0.8962390746892906,
          0.21855533520777062
         ]
        },
        {
         "boxpoints": false,
         "line": {
          "width": 1.3
         },
         "marker": {
          "color": "rgba(55, 128, 191, 1.0)"
         },
         "name": "B",
         "orientation": "v",
         "type": "box",
         "y": [
          0.7062159335042797,
          0.7219254733761484,
          0.5463129397908424,
          -0.6931529077523799,
          -1.6825415343319072,
          -0.163715476768212,
          1.2542694738069151,
          0.2874131009769991,
          -1.263462719563245,
          -0.7238140467351619,
          2.184714958062746,
          -2.8697379154159677,
          -0.7409720185625667,
          0.699470418188912,
          -1.2082057874168277,
          1.172505684652955,
          0.6764855553881596,
          0.6145175314457706,
          0.3998685213240509,
          0.6011537674657929,
          -0.17760909229636285,
          -0.27164619891261593,
          0.016783537950853814,
          -0.3152415327654973,
          1.040155078188417,
          -1.6181904077672757,
          -0.6267969219734727,
          0.3150579764877128,
          1.1278776716162962,
          1.8773340948873105,
          -0.1514056836070442,
          0.3375374850890802,
          -1.4616285328336531,
          -0.8198419318788835,
          0.8243541156979151,
          -0.40253086793801673,
          0.11161375634635512,
          0.8110433849900274,
          -0.7372647622097733,
          0.5951094858811783,
          1.788231465632863,
          1.6096544305491811,
          -1.6724569437258132,
          -0.5343499938543699,
          -0.42080029902949184,
          0.7017532920558198,
          -1.8095562597566381,
          0.08967981171876918,
          1.3014844394723237,
          -0.008188048042794197,
          0.5120041176666327,
          0.6307009822539876,
          0.20535907665217643,
          0.40208846119323083,
          -0.6250359423978179,
          -1.3173115747022526,
          0.7934196396570694,
          0.021772115789257137,
          0.089532532038497,
          -0.3461312566174257,
          -1.3515693099417592,
          -0.8125304190004683,
          0.6460317056406156,
          2.5682487716392797,
          -1.3928851372548272,
          0.49240556188681406,
          -1.3404633687098704,
          0.4092479859742962,
          -0.055251692720409536,
          -0.40605510886442653,
          -1.7490729669018399,
          0.9484082473493582,
          -0.25030755921934555,
          1.1063585220126273,
          -1.285180609868798,
          -0.27944973884190905,
          1.5788577983747496,
          1.0687556988535705,
          0.8847765838108002,
          0.13394864375601528,
          0.75925337178594,
          -0.1634560803366644,
          0.07831300439827604,
          -0.8908680973465573,
          -1.3336711135597754,
          0.5742058122235427,
          0.8020214805889448,
          2.9226570311911457,
          -1.3427501538316637,
          0.6004478098801661,
          0.0005468704148372964,
          0.4825037294818465,
          -1.0839290848485301,
          -1.7338844652392993,
          0.30343207245100284,
          -0.13956794322089353,
          0.24250586024809148,
          -0.2763816144379349,
          -1.3194412611454425,
          0.02032522014388897
         ]
        },
        {
         "boxpoints": false,
         "line": {
          "width": 1.3
         },
         "marker": {
          "color": "rgba(50, 171, 96, 1.0)"
         },
         "name": "C",
         "orientation": "v",
         "type": "box",
         "y": [
          -1.7394193082285367,
          2.0199509590283324,
          -2.125045260659694,
          0.9872091937611682,
          1.2814726584521647,
          1.9112407917021952,
          0.8682065323813343,
          0.9953456319658606,
          -0.47724553658137586,
          0.2907453293892247,
          0.2922072941281063,
          -1.0031202575300096,
          0.6191438532439717,
          -0.20730239105666726,
          -0.3061246959355385,
          1.6157414622829638,
          -1.0126178567292161,
          0.9245663049594548,
          -1.4215312439541787,
          -0.7641846673842541,
          -0.24282777387711735,
          0.1221896350021282,
          -0.45013297851147577,
          0.12262189159104932,
          -0.22146285558706982,
          -0.42293498087215603,
          0.42912714654322803,
          0.1373949302686126,
          -0.07528551417909446,
          -0.8345047263438276,
          0.242013070563943,
          0.8841956172726568,
          1.8015949174910602,
          0.9276896530283995,
          0.0445268358058785,
          -1.2167497680105366,
          -1.0609666266602078,
          -0.8229676300534009,
          -0.4659296912688198,
          -2.450017026055469,
          2.007865763260578,
          -0.5714253071723848,
          0.3104900370555491,
          -0.6265490779005343,
          0.8292315795528291,
          -1.7856561980824746,
          1.040462972074903,
          -0.6717794077056105,
          -3.016418333287492,
          -0.2982601216242055,
          0.23682116985574989,
          0.06774564588221275,
          0.7317414515020575,
          1.1708150818193395,
          1.7179509061567175,
          -0.09531060061377467,
          -2.446695283742527,
          1.2345616048347057,
          -0.42536208974328804,
          -0.8317642691126296,
          -1.395540850752444,
          -0.318993517146573,
          0.5967297862283434,
          0.872950971037923,
          0.9078328797395858,
          -1.1179242321679763,
          -0.13551094533786015,
          2.9940741991773367,
          0.05979375987894932,
          -1.0441911901315293,
          2.2382973166725435,
          0.19095928512930777,
          0.9635986997098613,
          -1.1089799201512651,
          -1.0611222801332265,
          -0.530030116387802,
          0.8420748064206437,
          1.451378193611522,
          0.15630203815220325,
          0.44432724012472413,
          0.21319102371955295,
          -0.6808442207139247,
          0.8499587129601391,
          -1.9262182617537706,
          -0.1405587991994687,
          -0.7748484503006927,
          0.39678325647576956,
          -0.8813410163876415,
          0.8820173866408353,
          -0.3491862544376239,
          -0.2410129619428547,
          -0.9057173317234595,
          -1.3875868082596643,
          -0.056640982831819314,
          -1.1773818281757318,
          -0.8829637711699871,
          -0.05024918980899207,
          1.2910254435644628,
          0.08975330868495415,
          0.2019190020155585
         ]
        },
        {
         "boxpoints": false,
         "line": {
          "width": 1.3
         },
         "marker": {
          "color": "rgba(128, 0, 128, 1.0)"
         },
         "name": "D",
         "orientation": "v",
         "type": "box",
         "y": [
          -0.918021841382379,
          0.3692701603907164,
          1.188573271342609,
          0.22978856469901443,
          0.34401552918206985,
          1.4434644093153666,
          -1.4144399047224352,
          -0.9262573803086471,
          -1.0096143309966708,
          -0.24797947664388517,
          0.06193314664735327,
          -1.9847490598564868,
          0.28930719147418593,
          0.9729800141188311,
          -0.752826723320766,
          -0.1964051585219301,
          -0.9599060330733563,
          0.23175729877103896,
          0.6352713171037078,
          -1.4652585705909942,
          -0.5618443784834063,
          1.3002625407503783,
          0.2920556383677886,
          0.6624188615292138,
          0.6348322297238859,
          -1.4366734272605315,
          -0.9916924034914343,
          0.9246214815924768,
          1.1274590822784436,
          -0.054862832358006285,
          -1.1115686499842772,
          -2.1810572779048116,
          -0.6303969622757892,
          -1.805785039501949,
          -0.7244043601054821,
          -1.0735129121877474,
          1.1308346797517523,
          -0.46909703068663483,
          -1.2112551878570506,
          0.712082837871189,
          -0.8569204918044192,
          -0.01849398969657977,
          -0.7537431286052918,
          0.23052330629156206,
          1.106907800473795,
          0.5201106000323045,
          0.9883999655545883,
          1.8169499319902562,
          0.8720060646770937,
          0.15524937064089045,
          -1.3623990893383962,
          1.0221213704141545,
          0.45476036661258196,
          -0.9398110554502317,
          -0.5509476422934868,
          0.15478870709990045,
          -1.7618483025106282,
          0.6942889786702552,
          0.5283082335725829,
          -1.5534195938951703,
          0.9783396485141392,
          -0.7291058861888242,
          -0.7649422077157795,
          0.8460909820593372,
          -2.0382131719821963,
          -0.3348840078515811,
          0.3272919918215468,
          0.5865591818077541,
          1.5398463883664955,
          -0.49854702667623696,
          -0.4225083608524863,
          -0.10802948547715434,
          2.2346822788271687,
          -2.1303528397758815,
          0.2418013944113245,
          0.879429222427897,
          1.9008821707299182,
          -0.3449374812457629,
          -0.7705988326805959,
          1.3882406106252168,
          -0.45742519952022254,
          -0.4041779181983526,
          -0.37788039061515666,
          -0.2727046005123951,
          0.13466798604546537,
          -0.9848270237121459,
          -0.2783457860638169,
          0.12937596854579084,
          0.4675249496342816,
          -0.4581541999742207,
          1.1556611938675025,
          -0.08898255602530283,
          0.7639547917194405,
          1.6322889236802958,
          -0.3517880833180977,
          -0.24303123108308203,
          0.3818600133402033,
          -0.5074320431098871,
          -1.3213786580557674,
          -0.458695491424776
         ]
        }
       ],
       "layout": {
        "legend": {
         "bgcolor": "#F5F6F9",
         "font": {
          "color": "#4D5663"
         }
        },
        "paper_bgcolor": "#F5F6F9",
        "plot_bgcolor": "#F5F6F9",
        "template": {
         "data": {
          "bar": [
           {
            "error_x": {
             "color": "#2a3f5f"
            },
            "error_y": {
             "color": "#2a3f5f"
            },
            "marker": {
             "line": {
              "color": "#E5ECF6",
              "width": 0.5
             }
            },
            "type": "bar"
           }
          ],
          "barpolar": [
           {
            "marker": {
             "line": {
              "color": "#E5ECF6",
              "width": 0.5
             }
            },
            "type": "barpolar"
           }
          ],
          "carpet": [
           {
            "aaxis": {
             "endlinecolor": "#2a3f5f",
             "gridcolor": "white",
             "linecolor": "white",
             "minorgridcolor": "white",
             "startlinecolor": "#2a3f5f"
            },
            "baxis": {
             "endlinecolor": "#2a3f5f",
             "gridcolor": "white",
             "linecolor": "white",
             "minorgridcolor": "white",
             "startlinecolor": "#2a3f5f"
            },
            "type": "carpet"
           }
          ],
          "choropleth": [
           {
            "colorbar": {
             "outlinewidth": 0,
             "ticks": ""
            },
            "type": "choropleth"
           }
          ],
          "contour": [
           {
            "colorbar": {
             "outlinewidth": 0,
             "ticks": ""
            },
            "colorscale": [
             [
              0,
              "#0d0887"
             ],
             [
              0.1111111111111111,
              "#46039f"
             ],
             [
              0.2222222222222222,
              "#7201a8"
             ],
             [
              0.3333333333333333,
              "#9c179e"
             ],
             [
              0.4444444444444444,
              "#bd3786"
             ],
             [
              0.5555555555555556,
              "#d8576b"
             ],
             [
              0.6666666666666666,
              "#ed7953"
             ],
             [
              0.7777777777777778,
              "#fb9f3a"
             ],
             [
              0.8888888888888888,
              "#fdca26"
             ],
             [
              1,
              "#f0f921"
             ]
            ],
            "type": "contour"
           }
          ],
          "contourcarpet": [
           {
            "colorbar": {
             "outlinewidth": 0,
             "ticks": ""
            },
            "type": "contourcarpet"
           }
          ],
          "heatmap": [
           {
            "colorbar": {
             "outlinewidth": 0,
             "ticks": ""
            },
            "colorscale": [
             [
              0,
              "#0d0887"
             ],
             [
              0.1111111111111111,
              "#46039f"
             ],
             [
              0.2222222222222222,
              "#7201a8"
             ],
             [
              0.3333333333333333,
              "#9c179e"
             ],
             [
              0.4444444444444444,
              "#bd3786"
             ],
             [
              0.5555555555555556,
              "#d8576b"
             ],
             [
              0.6666666666666666,
              "#ed7953"
             ],
             [
              0.7777777777777778,
              "#fb9f3a"
             ],
             [
              0.8888888888888888,
              "#fdca26"
             ],
             [
              1,
              "#f0f921"
             ]
            ],
            "type": "heatmap"
           }
          ],
          "heatmapgl": [
           {
            "colorbar": {
             "outlinewidth": 0,
             "ticks": ""
            },
            "colorscale": [
             [
              0,
              "#0d0887"
             ],
             [
              0.1111111111111111,
              "#46039f"
             ],
             [
              0.2222222222222222,
              "#7201a8"
             ],
             [
              0.3333333333333333,
              "#9c179e"
             ],
             [
              0.4444444444444444,
              "#bd3786"
             ],
             [
              0.5555555555555556,
              "#d8576b"
             ],
             [
              0.6666666666666666,
              "#ed7953"
             ],
             [
              0.7777777777777778,
              "#fb9f3a"
             ],
             [
              0.8888888888888888,
              "#fdca26"
             ],
             [
              1,
              "#f0f921"
             ]
            ],
            "type": "heatmapgl"
           }
          ],
          "histogram": [
           {
            "marker": {
             "colorbar": {
              "outlinewidth": 0,
              "ticks": ""
             }
            },
            "type": "histogram"
           }
          ],
          "histogram2d": [
           {
            "colorbar": {
             "outlinewidth": 0,
             "ticks": ""
            },
            "colorscale": [
             [
              0,
              "#0d0887"
             ],
             [
              0.1111111111111111,
              "#46039f"
             ],
             [
              0.2222222222222222,
              "#7201a8"
             ],
             [
              0.3333333333333333,
              "#9c179e"
             ],
             [
              0.4444444444444444,
              "#bd3786"
             ],
             [
              0.5555555555555556,
              "#d8576b"
             ],
             [
              0.6666666666666666,
              "#ed7953"
             ],
             [
              0.7777777777777778,
              "#fb9f3a"
             ],
             [
              0.8888888888888888,
              "#fdca26"
             ],
             [
              1,
              "#f0f921"
             ]
            ],
            "type": "histogram2d"
           }
          ],
          "histogram2dcontour": [
           {
            "colorbar": {
             "outlinewidth": 0,
             "ticks": ""
            },
            "colorscale": [
             [
              0,
              "#0d0887"
             ],
             [
              0.1111111111111111,
              "#46039f"
             ],
             [
              0.2222222222222222,
              "#7201a8"
             ],
             [
              0.3333333333333333,
              "#9c179e"
             ],
             [
              0.4444444444444444,
              "#bd3786"
             ],
             [
              0.5555555555555556,
              "#d8576b"
             ],
             [
              0.6666666666666666,
              "#ed7953"
             ],
             [
              0.7777777777777778,
              "#fb9f3a"
             ],
             [
              0.8888888888888888,
              "#fdca26"
             ],
             [
              1,
              "#f0f921"
             ]
            ],
            "type": "histogram2dcontour"
           }
          ],
          "mesh3d": [
           {
            "colorbar": {
             "outlinewidth": 0,
             "ticks": ""
            },
            "type": "mesh3d"
           }
          ],
          "parcoords": [
           {
            "line": {
             "colorbar": {
              "outlinewidth": 0,
              "ticks": ""
             }
            },
            "type": "parcoords"
           }
          ],
          "pie": [
           {
            "automargin": true,
            "type": "pie"
           }
          ],
          "scatter": [
           {
            "marker": {
             "colorbar": {
              "outlinewidth": 0,
              "ticks": ""
             }
            },
            "type": "scatter"
           }
          ],
          "scatter3d": [
           {
            "line": {
             "colorbar": {
              "outlinewidth": 0,
              "ticks": ""
             }
            },
            "marker": {
             "colorbar": {
              "outlinewidth": 0,
              "ticks": ""
             }
            },
            "type": "scatter3d"
           }
          ],
          "scattercarpet": [
           {
            "marker": {
             "colorbar": {
              "outlinewidth": 0,
              "ticks": ""
             }
            },
            "type": "scattercarpet"
           }
          ],
          "scattergeo": [
           {
            "marker": {
             "colorbar": {
              "outlinewidth": 0,
              "ticks": ""
             }
            },
            "type": "scattergeo"
           }
          ],
          "scattergl": [
           {
            "marker": {
             "colorbar": {
              "outlinewidth": 0,
              "ticks": ""
             }
            },
            "type": "scattergl"
           }
          ],
          "scattermapbox": [
           {
            "marker": {
             "colorbar": {
              "outlinewidth": 0,
              "ticks": ""
             }
            },
            "type": "scattermapbox"
           }
          ],
          "scatterpolar": [
           {
            "marker": {
             "colorbar": {
              "outlinewidth": 0,
              "ticks": ""
             }
            },
            "type": "scatterpolar"
           }
          ],
          "scatterpolargl": [
           {
            "marker": {
             "colorbar": {
              "outlinewidth": 0,
              "ticks": ""
             }
            },
            "type": "scatterpolargl"
           }
          ],
          "scatterternary": [
           {
            "marker": {
             "colorbar": {
              "outlinewidth": 0,
              "ticks": ""
             }
            },
            "type": "scatterternary"
           }
          ],
          "surface": [
           {
            "colorbar": {
             "outlinewidth": 0,
             "ticks": ""
            },
            "colorscale": [
             [
              0,
              "#0d0887"
             ],
             [
              0.1111111111111111,
              "#46039f"
             ],
             [
              0.2222222222222222,
              "#7201a8"
             ],
             [
              0.3333333333333333,
              "#9c179e"
             ],
             [
              0.4444444444444444,
              "#bd3786"
             ],
             [
              0.5555555555555556,
              "#d8576b"
             ],
             [
              0.6666666666666666,
              "#ed7953"
             ],
             [
              0.7777777777777778,
              "#fb9f3a"
             ],
             [
              0.8888888888888888,
              "#fdca26"
             ],
             [
              1,
              "#f0f921"
             ]
            ],
            "type": "surface"
           }
          ],
          "table": [
           {
            "cells": {
             "fill": {
              "color": "#EBF0F8"
             },
             "line": {
              "color": "white"
             }
            },
            "header": {
             "fill": {
              "color": "#C8D4E3"
             },
             "line": {
              "color": "white"
             }
            },
            "type": "table"
           }
          ]
         },
         "layout": {
          "annotationdefaults": {
           "arrowcolor": "#2a3f5f",
           "arrowhead": 0,
           "arrowwidth": 1
          },
          "coloraxis": {
           "colorbar": {
            "outlinewidth": 0,
            "ticks": ""
           }
          },
          "colorscale": {
           "diverging": [
            [
             0,
             "#8e0152"
            ],
            [
             0.1,
             "#c51b7d"
            ],
            [
             0.2,
             "#de77ae"
            ],
            [
             0.3,
             "#f1b6da"
            ],
            [
             0.4,
             "#fde0ef"
            ],
            [
             0.5,
             "#f7f7f7"
            ],
            [
             0.6,
             "#e6f5d0"
            ],
            [
             0.7,
             "#b8e186"
            ],
            [
             0.8,
             "#7fbc41"
            ],
            [
             0.9,
             "#4d9221"
            ],
            [
             1,
             "#276419"
            ]
           ],
           "sequential": [
            [
             0,
             "#0d0887"
            ],
            [
             0.1111111111111111,
             "#46039f"
            ],
            [
             0.2222222222222222,
             "#7201a8"
            ],
            [
             0.3333333333333333,
             "#9c179e"
            ],
            [
             0.4444444444444444,
             "#bd3786"
            ],
            [
             0.5555555555555556,
             "#d8576b"
            ],
            [
             0.6666666666666666,
             "#ed7953"
            ],
            [
             0.7777777777777778,
             "#fb9f3a"
            ],
            [
             0.8888888888888888,
             "#fdca26"
            ],
            [
             1,
             "#f0f921"
            ]
           ],
           "sequentialminus": [
            [
             0,
             "#0d0887"
            ],
            [
             0.1111111111111111,
             "#46039f"
            ],
            [
             0.2222222222222222,
             "#7201a8"
            ],
            [
             0.3333333333333333,
             "#9c179e"
            ],
            [
             0.4444444444444444,
             "#bd3786"
            ],
            [
             0.5555555555555556,
             "#d8576b"
            ],
            [
             0.6666666666666666,
             "#ed7953"
            ],
            [
             0.7777777777777778,
             "#fb9f3a"
            ],
            [
             0.8888888888888888,
             "#fdca26"
            ],
            [
             1,
             "#f0f921"
            ]
           ]
          },
          "colorway": [
           "#636efa",
           "#EF553B",
           "#00cc96",
           "#ab63fa",
           "#FFA15A",
           "#19d3f3",
           "#FF6692",
           "#B6E880",
           "#FF97FF",
           "#FECB52"
          ],
          "font": {
           "color": "#2a3f5f"
          },
          "geo": {
           "bgcolor": "white",
           "lakecolor": "white",
           "landcolor": "#E5ECF6",
           "showlakes": true,
           "showland": true,
           "subunitcolor": "white"
          },
          "hoverlabel": {
           "align": "left"
          },
          "hovermode": "closest",
          "mapbox": {
           "style": "light"
          },
          "paper_bgcolor": "white",
          "plot_bgcolor": "#E5ECF6",
          "polar": {
           "angularaxis": {
            "gridcolor": "white",
            "linecolor": "white",
            "ticks": ""
           },
           "bgcolor": "#E5ECF6",
           "radialaxis": {
            "gridcolor": "white",
            "linecolor": "white",
            "ticks": ""
           }
          },
          "scene": {
           "xaxis": {
            "backgroundcolor": "#E5ECF6",
            "gridcolor": "white",
            "gridwidth": 2,
            "linecolor": "white",
            "showbackground": true,
            "ticks": "",
            "zerolinecolor": "white"
           },
           "yaxis": {
            "backgroundcolor": "#E5ECF6",
            "gridcolor": "white",
            "gridwidth": 2,
            "linecolor": "white",
            "showbackground": true,
            "ticks": "",
            "zerolinecolor": "white"
           },
           "zaxis": {
            "backgroundcolor": "#E5ECF6",
            "gridcolor": "white",
            "gridwidth": 2,
            "linecolor": "white",
            "showbackground": true,
            "ticks": "",
            "zerolinecolor": "white"
           }
          },
          "shapedefaults": {
           "line": {
            "color": "#2a3f5f"
           }
          },
          "ternary": {
           "aaxis": {
            "gridcolor": "white",
            "linecolor": "white",
            "ticks": ""
           },
           "baxis": {
            "gridcolor": "white",
            "linecolor": "white",
            "ticks": ""
           },
           "bgcolor": "#E5ECF6",
           "caxis": {
            "gridcolor": "white",
            "linecolor": "white",
            "ticks": ""
           }
          },
          "title": {
           "x": 0.05
          },
          "xaxis": {
           "automargin": true,
           "gridcolor": "white",
           "linecolor": "white",
           "ticks": "",
           "title": {
            "standoff": 15
           },
           "zerolinecolor": "white",
           "zerolinewidth": 2
          },
          "yaxis": {
           "automargin": true,
           "gridcolor": "white",
           "linecolor": "white",
           "ticks": "",
           "title": {
            "standoff": 15
           },
           "zerolinecolor": "white",
           "zerolinewidth": 2
          }
         }
        },
        "title": {
         "font": {
          "color": "#4D5663"
         }
        },
        "xaxis": {
         "gridcolor": "#E1E5ED",
         "showgrid": true,
         "tickfont": {
          "color": "#4D5663"
         },
         "title": {
          "font": {
           "color": "#4D5663"
          },
          "text": ""
         },
         "zerolinecolor": "#E1E5ED"
        },
        "yaxis": {
         "gridcolor": "#E1E5ED",
         "showgrid": true,
         "tickfont": {
          "color": "#4D5663"
         },
         "title": {
          "font": {
           "color": "#4D5663"
          },
          "text": ""
         },
         "zerolinecolor": "#E1E5ED"
        }
       }
      },
      "text/html": [
       "<div>\n",
       "        \n",
       "        \n",
       "            <div id=\"569ae819-2181-4c1d-a403-5239dc5cb4dd\" class=\"plotly-graph-div\" style=\"height:525px; width:100%;\"></div>\n",
       "            <script type=\"text/javascript\">\n",
       "                require([\"plotly\"], function(Plotly) {\n",
       "                    window.PLOTLYENV=window.PLOTLYENV || {};\n",
       "                    window.PLOTLYENV.BASE_URL='https://plot.ly';\n",
       "                    \n",
       "                if (document.getElementById(\"569ae819-2181-4c1d-a403-5239dc5cb4dd\")) {\n",
       "                    Plotly.newPlot(\n",
       "                        '569ae819-2181-4c1d-a403-5239dc5cb4dd',\n",
       "                        [{\"boxpoints\": false, \"line\": {\"width\": 1.3}, \"marker\": {\"color\": \"rgba(255, 153, 51, 1.0)\"}, \"name\": \"A\", \"orientation\": \"v\", \"type\": \"box\", \"y\": [-1.3583402229536823, 0.0921673543459956, 0.4492594820576442, 0.6996025908357328, 2.1495250286838616, 0.24183106597206416, -0.8776832110040302, 1.0541732492278562, 0.08523758205433592, 0.4987407976187166, -0.42692187830303097, 0.3314238788412063, 0.8110203721335073, -1.892486336094162, -0.1986687733189751, -0.3859351717543113, 0.7622079403895549, 1.1342981825914735, -0.616705435419684, -0.12151918045946218, -1.1011316897029537, 0.3328629568633669, -1.0208981270296031, 0.053983225088959017, 0.3725114124839771, 0.10267108207518853, -1.1665665557543183, 0.054504419339731255, 0.07843971579163007, -0.5986900927551946, -1.1908876386329161, -0.9428019176036524, -0.20836288106335712, 2.0638412236218913, -0.08800663468845793, 2.3489296854756243, -0.328825492717537, 0.13679328526719142, 1.6362966816412452, -0.9865169458002857, 0.5322172281903023, 1.8126956542853345, 2.0187951705084726, 0.34262285700030415, -0.4049678282336819, -2.1252404889520555, 0.3577431068537883, 0.6213330482766051, 1.1533821829453454, 1.536912657916139, 2.008920554498628, -1.585227803158716, -0.8722662480875408, -0.15051809032390423, -1.0062867067219174, 1.8397911379130851, -0.06621953199647992, -1.2920370371673158, 0.5436718522445453, 0.5423224416184557, 1.5511194828341233, 0.13070055937739156, -0.44912176704902335, -0.2616470902800413, 0.345449072564648, -0.21847852159286552, -1.547915716754144, -0.24297968869274658, 0.10713560266622875, -0.03071741252082736, 0.6189888818452682, 0.949788377696495, -0.31913257258760963, 1.029866696113866, 0.2163440437977718, -1.9076255260432537, 0.9911538059288, -1.2938190969419967, -1.556975158647537, -0.8567798093066372, 1.1061307231493411, 0.8210251094170343, -0.8752867994424044, -1.3312503684676744, -0.15270325556453376, -1.6312580962345506, 1.8820767353613506, 0.2876026635475839, -0.8927184511718702, 0.8929654454438709, 0.6600185178648303, -1.2544677962637543, 1.0241195756808887, 1.7451061541136383, 1.6784492852125634, -0.209804057404903, 2.7179971818449857, 0.15330230160949973, 0.8962390746892906, 0.21855533520777062]}, {\"boxpoints\": false, \"line\": {\"width\": 1.3}, \"marker\": {\"color\": \"rgba(55, 128, 191, 1.0)\"}, \"name\": \"B\", \"orientation\": \"v\", \"type\": \"box\", \"y\": [0.7062159335042797, 0.7219254733761484, 0.5463129397908424, -0.6931529077523799, -1.6825415343319072, -0.163715476768212, 1.2542694738069151, 0.2874131009769991, -1.263462719563245, -0.7238140467351619, 2.184714958062746, -2.8697379154159677, -0.7409720185625667, 0.699470418188912, -1.2082057874168277, 1.172505684652955, 0.6764855553881596, 0.6145175314457706, 0.3998685213240509, 0.6011537674657929, -0.17760909229636285, -0.27164619891261593, 0.016783537950853814, -0.3152415327654973, 1.040155078188417, -1.6181904077672757, -0.6267969219734727, 0.3150579764877128, 1.1278776716162962, 1.8773340948873105, -0.1514056836070442, 0.3375374850890802, -1.4616285328336531, -0.8198419318788835, 0.8243541156979151, -0.40253086793801673, 0.11161375634635512, 0.8110433849900274, -0.7372647622097733, 0.5951094858811783, 1.788231465632863, 1.6096544305491811, -1.6724569437258132, -0.5343499938543699, -0.42080029902949184, 0.7017532920558198, -1.8095562597566381, 0.08967981171876918, 1.3014844394723237, -0.008188048042794197, 0.5120041176666327, 0.6307009822539876, 0.20535907665217643, 0.40208846119323083, -0.6250359423978179, -1.3173115747022526, 0.7934196396570694, 0.021772115789257137, 0.089532532038497, -0.3461312566174257, -1.3515693099417592, -0.8125304190004683, 0.6460317056406156, 2.5682487716392797, -1.3928851372548272, 0.49240556188681406, -1.3404633687098704, 0.4092479859742962, -0.055251692720409536, -0.40605510886442653, -1.7490729669018399, 0.9484082473493582, -0.25030755921934555, 1.1063585220126273, -1.285180609868798, -0.27944973884190905, 1.5788577983747496, 1.0687556988535705, 0.8847765838108002, 0.13394864375601528, 0.75925337178594, -0.1634560803366644, 0.07831300439827604, -0.8908680973465573, -1.3336711135597754, 0.5742058122235427, 0.8020214805889448, 2.9226570311911457, -1.3427501538316637, 0.6004478098801661, 0.0005468704148372964, 0.4825037294818465, -1.0839290848485301, -1.7338844652392993, 0.30343207245100284, -0.13956794322089353, 0.24250586024809148, -0.2763816144379349, -1.3194412611454425, 0.02032522014388897]}, {\"boxpoints\": false, \"line\": {\"width\": 1.3}, \"marker\": {\"color\": \"rgba(50, 171, 96, 1.0)\"}, \"name\": \"C\", \"orientation\": \"v\", \"type\": \"box\", \"y\": [-1.7394193082285367, 2.0199509590283324, -2.125045260659694, 0.9872091937611682, 1.2814726584521647, 1.9112407917021952, 0.8682065323813343, 0.9953456319658606, -0.47724553658137586, 0.2907453293892247, 0.2922072941281063, -1.0031202575300096, 0.6191438532439717, -0.20730239105666726, -0.3061246959355385, 1.6157414622829638, -1.0126178567292161, 0.9245663049594548, -1.4215312439541787, -0.7641846673842541, -0.24282777387711735, 0.1221896350021282, -0.45013297851147577, 0.12262189159104932, -0.22146285558706982, -0.42293498087215603, 0.42912714654322803, 0.1373949302686126, -0.07528551417909446, -0.8345047263438276, 0.242013070563943, 0.8841956172726568, 1.8015949174910602, 0.9276896530283995, 0.0445268358058785, -1.2167497680105366, -1.0609666266602078, -0.8229676300534009, -0.4659296912688198, -2.450017026055469, 2.007865763260578, -0.5714253071723848, 0.3104900370555491, -0.6265490779005343, 0.8292315795528291, -1.7856561980824746, 1.040462972074903, -0.6717794077056105, -3.016418333287492, -0.2982601216242055, 0.23682116985574989, 0.06774564588221275, 0.7317414515020575, 1.1708150818193395, 1.7179509061567175, -0.09531060061377467, -2.446695283742527, 1.2345616048347057, -0.42536208974328804, -0.8317642691126296, -1.395540850752444, -0.318993517146573, 0.5967297862283434, 0.872950971037923, 0.9078328797395858, -1.1179242321679763, -0.13551094533786015, 2.9940741991773367, 0.05979375987894932, -1.0441911901315293, 2.2382973166725435, 0.19095928512930777, 0.9635986997098613, -1.1089799201512651, -1.0611222801332265, -0.530030116387802, 0.8420748064206437, 1.451378193611522, 0.15630203815220325, 0.44432724012472413, 0.21319102371955295, -0.6808442207139247, 0.8499587129601391, -1.9262182617537706, -0.1405587991994687, -0.7748484503006927, 0.39678325647576956, -0.8813410163876415, 0.8820173866408353, -0.3491862544376239, -0.2410129619428547, -0.9057173317234595, -1.3875868082596643, -0.056640982831819314, -1.1773818281757318, -0.8829637711699871, -0.05024918980899207, 1.2910254435644628, 0.08975330868495415, 0.2019190020155585]}, {\"boxpoints\": false, \"line\": {\"width\": 1.3}, \"marker\": {\"color\": \"rgba(128, 0, 128, 1.0)\"}, \"name\": \"D\", \"orientation\": \"v\", \"type\": \"box\", \"y\": [-0.918021841382379, 0.3692701603907164, 1.188573271342609, 0.22978856469901443, 0.34401552918206985, 1.4434644093153666, -1.4144399047224352, -0.9262573803086471, -1.0096143309966708, -0.24797947664388517, 0.06193314664735327, -1.9847490598564868, 0.28930719147418593, 0.9729800141188311, -0.752826723320766, -0.1964051585219301, -0.9599060330733563, 0.23175729877103896, 0.6352713171037078, -1.4652585705909942, -0.5618443784834063, 1.3002625407503783, 0.2920556383677886, 0.6624188615292138, 0.6348322297238859, -1.4366734272605315, -0.9916924034914343, 0.9246214815924768, 1.1274590822784436, -0.054862832358006285, -1.1115686499842772, -2.1810572779048116, -0.6303969622757892, -1.805785039501949, -0.7244043601054821, -1.0735129121877474, 1.1308346797517523, -0.46909703068663483, -1.2112551878570506, 0.712082837871189, -0.8569204918044192, -0.01849398969657977, -0.7537431286052918, 0.23052330629156206, 1.106907800473795, 0.5201106000323045, 0.9883999655545883, 1.8169499319902562, 0.8720060646770937, 0.15524937064089045, -1.3623990893383962, 1.0221213704141545, 0.45476036661258196, -0.9398110554502317, -0.5509476422934868, 0.15478870709990045, -1.7618483025106282, 0.6942889786702552, 0.5283082335725829, -1.5534195938951703, 0.9783396485141392, -0.7291058861888242, -0.7649422077157795, 0.8460909820593372, -2.0382131719821963, -0.3348840078515811, 0.3272919918215468, 0.5865591818077541, 1.5398463883664955, -0.49854702667623696, -0.4225083608524863, -0.10802948547715434, 2.2346822788271687, -2.1303528397758815, 0.2418013944113245, 0.879429222427897, 1.9008821707299182, -0.3449374812457629, -0.7705988326805959, 1.3882406106252168, -0.45742519952022254, -0.4041779181983526, -0.37788039061515666, -0.2727046005123951, 0.13466798604546537, -0.9848270237121459, -0.2783457860638169, 0.12937596854579084, 0.4675249496342816, -0.4581541999742207, 1.1556611938675025, -0.08898255602530283, 0.7639547917194405, 1.6322889236802958, -0.3517880833180977, -0.24303123108308203, 0.3818600133402033, -0.5074320431098871, -1.3213786580557674, -0.458695491424776]}],\n",
       "                        {\"legend\": {\"bgcolor\": \"#F5F6F9\", \"font\": {\"color\": \"#4D5663\"}}, \"paper_bgcolor\": \"#F5F6F9\", \"plot_bgcolor\": \"#F5F6F9\", \"template\": {\"data\": {\"bar\": [{\"error_x\": {\"color\": \"#2a3f5f\"}, \"error_y\": {\"color\": \"#2a3f5f\"}, \"marker\": {\"line\": {\"color\": \"#E5ECF6\", \"width\": 0.5}}, \"type\": \"bar\"}], \"barpolar\": [{\"marker\": {\"line\": {\"color\": \"#E5ECF6\", \"width\": 0.5}}, \"type\": \"barpolar\"}], \"carpet\": [{\"aaxis\": {\"endlinecolor\": \"#2a3f5f\", \"gridcolor\": \"white\", \"linecolor\": \"white\", \"minorgridcolor\": \"white\", \"startlinecolor\": \"#2a3f5f\"}, \"baxis\": {\"endlinecolor\": \"#2a3f5f\", \"gridcolor\": \"white\", \"linecolor\": \"white\", \"minorgridcolor\": \"white\", \"startlinecolor\": \"#2a3f5f\"}, \"type\": \"carpet\"}], \"choropleth\": [{\"colorbar\": {\"outlinewidth\": 0, \"ticks\": \"\"}, \"type\": \"choropleth\"}], \"contour\": [{\"colorbar\": {\"outlinewidth\": 0, \"ticks\": \"\"}, \"colorscale\": [[0.0, \"#0d0887\"], [0.1111111111111111, \"#46039f\"], [0.2222222222222222, \"#7201a8\"], [0.3333333333333333, \"#9c179e\"], [0.4444444444444444, \"#bd3786\"], [0.5555555555555556, \"#d8576b\"], [0.6666666666666666, \"#ed7953\"], [0.7777777777777778, \"#fb9f3a\"], [0.8888888888888888, \"#fdca26\"], [1.0, \"#f0f921\"]], \"type\": \"contour\"}], \"contourcarpet\": [{\"colorbar\": {\"outlinewidth\": 0, \"ticks\": \"\"}, \"type\": \"contourcarpet\"}], \"heatmap\": [{\"colorbar\": {\"outlinewidth\": 0, \"ticks\": \"\"}, \"colorscale\": [[0.0, \"#0d0887\"], [0.1111111111111111, \"#46039f\"], [0.2222222222222222, \"#7201a8\"], [0.3333333333333333, \"#9c179e\"], [0.4444444444444444, \"#bd3786\"], [0.5555555555555556, \"#d8576b\"], [0.6666666666666666, \"#ed7953\"], [0.7777777777777778, \"#fb9f3a\"], [0.8888888888888888, \"#fdca26\"], [1.0, \"#f0f921\"]], \"type\": \"heatmap\"}], \"heatmapgl\": [{\"colorbar\": {\"outlinewidth\": 0, \"ticks\": \"\"}, \"colorscale\": [[0.0, \"#0d0887\"], [0.1111111111111111, \"#46039f\"], [0.2222222222222222, \"#7201a8\"], [0.3333333333333333, \"#9c179e\"], [0.4444444444444444, \"#bd3786\"], [0.5555555555555556, \"#d8576b\"], [0.6666666666666666, \"#ed7953\"], [0.7777777777777778, \"#fb9f3a\"], [0.8888888888888888, \"#fdca26\"], [1.0, \"#f0f921\"]], \"type\": \"heatmapgl\"}], \"histogram\": [{\"marker\": {\"colorbar\": {\"outlinewidth\": 0, \"ticks\": \"\"}}, \"type\": \"histogram\"}], \"histogram2d\": [{\"colorbar\": {\"outlinewidth\": 0, \"ticks\": \"\"}, \"colorscale\": [[0.0, \"#0d0887\"], [0.1111111111111111, \"#46039f\"], [0.2222222222222222, \"#7201a8\"], [0.3333333333333333, \"#9c179e\"], [0.4444444444444444, \"#bd3786\"], [0.5555555555555556, \"#d8576b\"], [0.6666666666666666, \"#ed7953\"], [0.7777777777777778, \"#fb9f3a\"], [0.8888888888888888, \"#fdca26\"], [1.0, \"#f0f921\"]], \"type\": \"histogram2d\"}], \"histogram2dcontour\": [{\"colorbar\": {\"outlinewidth\": 0, \"ticks\": \"\"}, \"colorscale\": [[0.0, \"#0d0887\"], [0.1111111111111111, \"#46039f\"], [0.2222222222222222, \"#7201a8\"], [0.3333333333333333, \"#9c179e\"], [0.4444444444444444, \"#bd3786\"], [0.5555555555555556, \"#d8576b\"], [0.6666666666666666, \"#ed7953\"], [0.7777777777777778, \"#fb9f3a\"], [0.8888888888888888, \"#fdca26\"], [1.0, \"#f0f921\"]], \"type\": \"histogram2dcontour\"}], \"mesh3d\": [{\"colorbar\": {\"outlinewidth\": 0, \"ticks\": \"\"}, \"type\": \"mesh3d\"}], \"parcoords\": [{\"line\": {\"colorbar\": {\"outlinewidth\": 0, \"ticks\": \"\"}}, \"type\": \"parcoords\"}], \"pie\": [{\"automargin\": true, \"type\": \"pie\"}], \"scatter\": [{\"marker\": {\"colorbar\": {\"outlinewidth\": 0, \"ticks\": \"\"}}, \"type\": \"scatter\"}], \"scatter3d\": [{\"line\": {\"colorbar\": {\"outlinewidth\": 0, \"ticks\": \"\"}}, \"marker\": {\"colorbar\": {\"outlinewidth\": 0, \"ticks\": \"\"}}, \"type\": \"scatter3d\"}], \"scattercarpet\": [{\"marker\": {\"colorbar\": {\"outlinewidth\": 0, \"ticks\": \"\"}}, \"type\": \"scattercarpet\"}], \"scattergeo\": [{\"marker\": {\"colorbar\": {\"outlinewidth\": 0, \"ticks\": \"\"}}, \"type\": \"scattergeo\"}], \"scattergl\": [{\"marker\": {\"colorbar\": {\"outlinewidth\": 0, \"ticks\": \"\"}}, \"type\": \"scattergl\"}], \"scattermapbox\": [{\"marker\": {\"colorbar\": {\"outlinewidth\": 0, \"ticks\": \"\"}}, \"type\": \"scattermapbox\"}], \"scatterpolar\": [{\"marker\": {\"colorbar\": {\"outlinewidth\": 0, \"ticks\": \"\"}}, \"type\": \"scatterpolar\"}], \"scatterpolargl\": [{\"marker\": {\"colorbar\": {\"outlinewidth\": 0, \"ticks\": \"\"}}, \"type\": \"scatterpolargl\"}], \"scatterternary\": [{\"marker\": {\"colorbar\": {\"outlinewidth\": 0, \"ticks\": \"\"}}, \"type\": \"scatterternary\"}], \"surface\": [{\"colorbar\": {\"outlinewidth\": 0, \"ticks\": \"\"}, \"colorscale\": [[0.0, \"#0d0887\"], [0.1111111111111111, \"#46039f\"], [0.2222222222222222, \"#7201a8\"], [0.3333333333333333, \"#9c179e\"], [0.4444444444444444, \"#bd3786\"], [0.5555555555555556, \"#d8576b\"], [0.6666666666666666, \"#ed7953\"], [0.7777777777777778, \"#fb9f3a\"], [0.8888888888888888, \"#fdca26\"], [1.0, \"#f0f921\"]], \"type\": \"surface\"}], \"table\": [{\"cells\": {\"fill\": {\"color\": \"#EBF0F8\"}, \"line\": {\"color\": \"white\"}}, \"header\": {\"fill\": {\"color\": \"#C8D4E3\"}, \"line\": {\"color\": \"white\"}}, \"type\": \"table\"}]}, \"layout\": {\"annotationdefaults\": {\"arrowcolor\": \"#2a3f5f\", \"arrowhead\": 0, \"arrowwidth\": 1}, \"coloraxis\": {\"colorbar\": {\"outlinewidth\": 0, \"ticks\": \"\"}}, \"colorscale\": {\"diverging\": [[0, \"#8e0152\"], [0.1, \"#c51b7d\"], [0.2, \"#de77ae\"], [0.3, \"#f1b6da\"], [0.4, \"#fde0ef\"], [0.5, \"#f7f7f7\"], [0.6, \"#e6f5d0\"], [0.7, \"#b8e186\"], [0.8, \"#7fbc41\"], [0.9, \"#4d9221\"], [1, \"#276419\"]], \"sequential\": [[0.0, \"#0d0887\"], [0.1111111111111111, \"#46039f\"], [0.2222222222222222, \"#7201a8\"], [0.3333333333333333, \"#9c179e\"], [0.4444444444444444, \"#bd3786\"], [0.5555555555555556, \"#d8576b\"], [0.6666666666666666, \"#ed7953\"], [0.7777777777777778, \"#fb9f3a\"], [0.8888888888888888, \"#fdca26\"], [1.0, \"#f0f921\"]], \"sequentialminus\": [[0.0, \"#0d0887\"], [0.1111111111111111, \"#46039f\"], [0.2222222222222222, \"#7201a8\"], [0.3333333333333333, \"#9c179e\"], [0.4444444444444444, \"#bd3786\"], [0.5555555555555556, \"#d8576b\"], [0.6666666666666666, \"#ed7953\"], [0.7777777777777778, \"#fb9f3a\"], [0.8888888888888888, \"#fdca26\"], [1.0, \"#f0f921\"]]}, \"colorway\": [\"#636efa\", \"#EF553B\", \"#00cc96\", \"#ab63fa\", \"#FFA15A\", \"#19d3f3\", \"#FF6692\", \"#B6E880\", \"#FF97FF\", \"#FECB52\"], \"font\": {\"color\": \"#2a3f5f\"}, \"geo\": {\"bgcolor\": \"white\", \"lakecolor\": \"white\", \"landcolor\": \"#E5ECF6\", \"showlakes\": true, \"showland\": true, \"subunitcolor\": \"white\"}, \"hoverlabel\": {\"align\": \"left\"}, \"hovermode\": \"closest\", \"mapbox\": {\"style\": \"light\"}, \"paper_bgcolor\": \"white\", \"plot_bgcolor\": \"#E5ECF6\", \"polar\": {\"angularaxis\": {\"gridcolor\": \"white\", \"linecolor\": \"white\", \"ticks\": \"\"}, \"bgcolor\": \"#E5ECF6\", \"radialaxis\": {\"gridcolor\": \"white\", \"linecolor\": \"white\", \"ticks\": \"\"}}, \"scene\": {\"xaxis\": {\"backgroundcolor\": \"#E5ECF6\", \"gridcolor\": \"white\", \"gridwidth\": 2, \"linecolor\": \"white\", \"showbackground\": true, \"ticks\": \"\", \"zerolinecolor\": \"white\"}, \"yaxis\": {\"backgroundcolor\": \"#E5ECF6\", \"gridcolor\": \"white\", \"gridwidth\": 2, \"linecolor\": \"white\", \"showbackground\": true, \"ticks\": \"\", \"zerolinecolor\": \"white\"}, \"zaxis\": {\"backgroundcolor\": \"#E5ECF6\", \"gridcolor\": \"white\", \"gridwidth\": 2, \"linecolor\": \"white\", \"showbackground\": true, \"ticks\": \"\", \"zerolinecolor\": \"white\"}}, \"shapedefaults\": {\"line\": {\"color\": \"#2a3f5f\"}}, \"ternary\": {\"aaxis\": {\"gridcolor\": \"white\", \"linecolor\": \"white\", \"ticks\": \"\"}, \"baxis\": {\"gridcolor\": \"white\", \"linecolor\": \"white\", \"ticks\": \"\"}, \"bgcolor\": \"#E5ECF6\", \"caxis\": {\"gridcolor\": \"white\", \"linecolor\": \"white\", \"ticks\": \"\"}}, \"title\": {\"x\": 0.05}, \"xaxis\": {\"automargin\": true, \"gridcolor\": \"white\", \"linecolor\": \"white\", \"ticks\": \"\", \"title\": {\"standoff\": 15}, \"zerolinecolor\": \"white\", \"zerolinewidth\": 2}, \"yaxis\": {\"automargin\": true, \"gridcolor\": \"white\", \"linecolor\": \"white\", \"ticks\": \"\", \"title\": {\"standoff\": 15}, \"zerolinecolor\": \"white\", \"zerolinewidth\": 2}}}, \"title\": {\"font\": {\"color\": \"#4D5663\"}}, \"xaxis\": {\"gridcolor\": \"#E1E5ED\", \"showgrid\": true, \"tickfont\": {\"color\": \"#4D5663\"}, \"title\": {\"font\": {\"color\": \"#4D5663\"}, \"text\": \"\"}, \"zerolinecolor\": \"#E1E5ED\"}, \"yaxis\": {\"gridcolor\": \"#E1E5ED\", \"showgrid\": true, \"tickfont\": {\"color\": \"#4D5663\"}, \"title\": {\"font\": {\"color\": \"#4D5663\"}, \"text\": \"\"}, \"zerolinecolor\": \"#E1E5ED\"}},\n",
       "                        {\"showLink\": true, \"linkText\": \"Export to plot.ly\", \"plotlyServerURL\": \"https://plot.ly\", \"responsive\": true}\n",
       "                    ).then(function(){\n",
       "                            \n",
       "var gd = document.getElementById('569ae819-2181-4c1d-a403-5239dc5cb4dd');\n",
       "var x = new MutationObserver(function (mutations, observer) {{\n",
       "        var display = window.getComputedStyle(gd).display;\n",
       "        if (!display || display === 'none') {{\n",
       "            console.log([gd, 'removed!']);\n",
       "            Plotly.purge(gd);\n",
       "            observer.disconnect();\n",
       "        }}\n",
       "}});\n",
       "\n",
       "// Listen for the removal of the full notebook cells\n",
       "var notebookContainer = gd.closest('#notebook-container');\n",
       "if (notebookContainer) {{\n",
       "    x.observe(notebookContainer, {childList: true});\n",
       "}}\n",
       "\n",
       "// Listen for the clearing of the current output cell\n",
       "var outputEl = gd.closest('.output');\n",
       "if (outputEl) {{\n",
       "    x.observe(outputEl, {childList: true});\n",
       "}}\n",
       "\n",
       "                        })\n",
       "                };\n",
       "                });\n",
       "            </script>\n",
       "        </div>"
      ]
     },
     "metadata": {},
     "output_type": "display_data"
    }
   ],
   "source": [
    "df.iplot(kind='box')"
   ]
  },
  {
   "cell_type": "markdown",
   "metadata": {},
   "source": [
    "## 3d Surface"
   ]
  },
  {
   "cell_type": "code",
   "execution_count": 16,
   "metadata": {},
   "outputs": [
    {
     "data": {
      "application/vnd.plotly.v1+json": {
       "config": {
        "linkText": "Export to plot.ly",
        "plotlyServerURL": "https://plot.ly",
        "showLink": true
       },
       "data": [
        {
         "colorscale": [
          [
           0,
           "rgb(165,0,38)"
          ],
          [
           0.1,
           "rgb(215,48,39)"
          ],
          [
           0.2,
           "rgb(244,109,67)"
          ],
          [
           0.3,
           "rgb(253,174,97)"
          ],
          [
           0.4,
           "rgb(254,224,144)"
          ],
          [
           0.5,
           "rgb(255,255,191)"
          ],
          [
           0.6,
           "rgb(224,243,248)"
          ],
          [
           0.7,
           "rgb(171,217,233)"
          ],
          [
           0.8,
           "rgb(116,173,209)"
          ],
          [
           0.9,
           "rgb(69,117,180)"
          ],
          [
           1,
           "rgb(49,54,149)"
          ]
         ],
         "type": "surface",
         "x": [
          0,
          1,
          2,
          3,
          4
         ],
         "y": [
          "x",
          "y",
          "z"
         ],
         "z": [
          [
           1,
           2,
           3,
           4,
           5
          ],
          [
           10,
           20,
           30,
           20,
           10
          ],
          [
           5,
           4,
           3,
           2,
           1
          ]
         ]
        }
       ],
       "layout": {
        "legend": {
         "bgcolor": "#F5F6F9",
         "font": {
          "color": "#4D5663"
         }
        },
        "paper_bgcolor": "#F5F6F9",
        "plot_bgcolor": "#F5F6F9",
        "template": {
         "data": {
          "bar": [
           {
            "error_x": {
             "color": "#2a3f5f"
            },
            "error_y": {
             "color": "#2a3f5f"
            },
            "marker": {
             "line": {
              "color": "#E5ECF6",
              "width": 0.5
             }
            },
            "type": "bar"
           }
          ],
          "barpolar": [
           {
            "marker": {
             "line": {
              "color": "#E5ECF6",
              "width": 0.5
             }
            },
            "type": "barpolar"
           }
          ],
          "carpet": [
           {
            "aaxis": {
             "endlinecolor": "#2a3f5f",
             "gridcolor": "white",
             "linecolor": "white",
             "minorgridcolor": "white",
             "startlinecolor": "#2a3f5f"
            },
            "baxis": {
             "endlinecolor": "#2a3f5f",
             "gridcolor": "white",
             "linecolor": "white",
             "minorgridcolor": "white",
             "startlinecolor": "#2a3f5f"
            },
            "type": "carpet"
           }
          ],
          "choropleth": [
           {
            "colorbar": {
             "outlinewidth": 0,
             "ticks": ""
            },
            "type": "choropleth"
           }
          ],
          "contour": [
           {
            "colorbar": {
             "outlinewidth": 0,
             "ticks": ""
            },
            "colorscale": [
             [
              0,
              "#0d0887"
             ],
             [
              0.1111111111111111,
              "#46039f"
             ],
             [
              0.2222222222222222,
              "#7201a8"
             ],
             [
              0.3333333333333333,
              "#9c179e"
             ],
             [
              0.4444444444444444,
              "#bd3786"
             ],
             [
              0.5555555555555556,
              "#d8576b"
             ],
             [
              0.6666666666666666,
              "#ed7953"
             ],
             [
              0.7777777777777778,
              "#fb9f3a"
             ],
             [
              0.8888888888888888,
              "#fdca26"
             ],
             [
              1,
              "#f0f921"
             ]
            ],
            "type": "contour"
           }
          ],
          "contourcarpet": [
           {
            "colorbar": {
             "outlinewidth": 0,
             "ticks": ""
            },
            "type": "contourcarpet"
           }
          ],
          "heatmap": [
           {
            "colorbar": {
             "outlinewidth": 0,
             "ticks": ""
            },
            "colorscale": [
             [
              0,
              "#0d0887"
             ],
             [
              0.1111111111111111,
              "#46039f"
             ],
             [
              0.2222222222222222,
              "#7201a8"
             ],
             [
              0.3333333333333333,
              "#9c179e"
             ],
             [
              0.4444444444444444,
              "#bd3786"
             ],
             [
              0.5555555555555556,
              "#d8576b"
             ],
             [
              0.6666666666666666,
              "#ed7953"
             ],
             [
              0.7777777777777778,
              "#fb9f3a"
             ],
             [
              0.8888888888888888,
              "#fdca26"
             ],
             [
              1,
              "#f0f921"
             ]
            ],
            "type": "heatmap"
           }
          ],
          "heatmapgl": [
           {
            "colorbar": {
             "outlinewidth": 0,
             "ticks": ""
            },
            "colorscale": [
             [
              0,
              "#0d0887"
             ],
             [
              0.1111111111111111,
              "#46039f"
             ],
             [
              0.2222222222222222,
              "#7201a8"
             ],
             [
              0.3333333333333333,
              "#9c179e"
             ],
             [
              0.4444444444444444,
              "#bd3786"
             ],
             [
              0.5555555555555556,
              "#d8576b"
             ],
             [
              0.6666666666666666,
              "#ed7953"
             ],
             [
              0.7777777777777778,
              "#fb9f3a"
             ],
             [
              0.8888888888888888,
              "#fdca26"
             ],
             [
              1,
              "#f0f921"
             ]
            ],
            "type": "heatmapgl"
           }
          ],
          "histogram": [
           {
            "marker": {
             "colorbar": {
              "outlinewidth": 0,
              "ticks": ""
             }
            },
            "type": "histogram"
           }
          ],
          "histogram2d": [
           {
            "colorbar": {
             "outlinewidth": 0,
             "ticks": ""
            },
            "colorscale": [
             [
              0,
              "#0d0887"
             ],
             [
              0.1111111111111111,
              "#46039f"
             ],
             [
              0.2222222222222222,
              "#7201a8"
             ],
             [
              0.3333333333333333,
              "#9c179e"
             ],
             [
              0.4444444444444444,
              "#bd3786"
             ],
             [
              0.5555555555555556,
              "#d8576b"
             ],
             [
              0.6666666666666666,
              "#ed7953"
             ],
             [
              0.7777777777777778,
              "#fb9f3a"
             ],
             [
              0.8888888888888888,
              "#fdca26"
             ],
             [
              1,
              "#f0f921"
             ]
            ],
            "type": "histogram2d"
           }
          ],
          "histogram2dcontour": [
           {
            "colorbar": {
             "outlinewidth": 0,
             "ticks": ""
            },
            "colorscale": [
             [
              0,
              "#0d0887"
             ],
             [
              0.1111111111111111,
              "#46039f"
             ],
             [
              0.2222222222222222,
              "#7201a8"
             ],
             [
              0.3333333333333333,
              "#9c179e"
             ],
             [
              0.4444444444444444,
              "#bd3786"
             ],
             [
              0.5555555555555556,
              "#d8576b"
             ],
             [
              0.6666666666666666,
              "#ed7953"
             ],
             [
              0.7777777777777778,
              "#fb9f3a"
             ],
             [
              0.8888888888888888,
              "#fdca26"
             ],
             [
              1,
              "#f0f921"
             ]
            ],
            "type": "histogram2dcontour"
           }
          ],
          "mesh3d": [
           {
            "colorbar": {
             "outlinewidth": 0,
             "ticks": ""
            },
            "type": "mesh3d"
           }
          ],
          "parcoords": [
           {
            "line": {
             "colorbar": {
              "outlinewidth": 0,
              "ticks": ""
             }
            },
            "type": "parcoords"
           }
          ],
          "pie": [
           {
            "automargin": true,
            "type": "pie"
           }
          ],
          "scatter": [
           {
            "marker": {
             "colorbar": {
              "outlinewidth": 0,
              "ticks": ""
             }
            },
            "type": "scatter"
           }
          ],
          "scatter3d": [
           {
            "line": {
             "colorbar": {
              "outlinewidth": 0,
              "ticks": ""
             }
            },
            "marker": {
             "colorbar": {
              "outlinewidth": 0,
              "ticks": ""
             }
            },
            "type": "scatter3d"
           }
          ],
          "scattercarpet": [
           {
            "marker": {
             "colorbar": {
              "outlinewidth": 0,
              "ticks": ""
             }
            },
            "type": "scattercarpet"
           }
          ],
          "scattergeo": [
           {
            "marker": {
             "colorbar": {
              "outlinewidth": 0,
              "ticks": ""
             }
            },
            "type": "scattergeo"
           }
          ],
          "scattergl": [
           {
            "marker": {
             "colorbar": {
              "outlinewidth": 0,
              "ticks": ""
             }
            },
            "type": "scattergl"
           }
          ],
          "scattermapbox": [
           {
            "marker": {
             "colorbar": {
              "outlinewidth": 0,
              "ticks": ""
             }
            },
            "type": "scattermapbox"
           }
          ],
          "scatterpolar": [
           {
            "marker": {
             "colorbar": {
              "outlinewidth": 0,
              "ticks": ""
             }
            },
            "type": "scatterpolar"
           }
          ],
          "scatterpolargl": [
           {
            "marker": {
             "colorbar": {
              "outlinewidth": 0,
              "ticks": ""
             }
            },
            "type": "scatterpolargl"
           }
          ],
          "scatterternary": [
           {
            "marker": {
             "colorbar": {
              "outlinewidth": 0,
              "ticks": ""
             }
            },
            "type": "scatterternary"
           }
          ],
          "surface": [
           {
            "colorbar": {
             "outlinewidth": 0,
             "ticks": ""
            },
            "colorscale": [
             [
              0,
              "#0d0887"
             ],
             [
              0.1111111111111111,
              "#46039f"
             ],
             [
              0.2222222222222222,
              "#7201a8"
             ],
             [
              0.3333333333333333,
              "#9c179e"
             ],
             [
              0.4444444444444444,
              "#bd3786"
             ],
             [
              0.5555555555555556,
              "#d8576b"
             ],
             [
              0.6666666666666666,
              "#ed7953"
             ],
             [
              0.7777777777777778,
              "#fb9f3a"
             ],
             [
              0.8888888888888888,
              "#fdca26"
             ],
             [
              1,
              "#f0f921"
             ]
            ],
            "type": "surface"
           }
          ],
          "table": [
           {
            "cells": {
             "fill": {
              "color": "#EBF0F8"
             },
             "line": {
              "color": "white"
             }
            },
            "header": {
             "fill": {
              "color": "#C8D4E3"
             },
             "line": {
              "color": "white"
             }
            },
            "type": "table"
           }
          ]
         },
         "layout": {
          "annotationdefaults": {
           "arrowcolor": "#2a3f5f",
           "arrowhead": 0,
           "arrowwidth": 1
          },
          "coloraxis": {
           "colorbar": {
            "outlinewidth": 0,
            "ticks": ""
           }
          },
          "colorscale": {
           "diverging": [
            [
             0,
             "#8e0152"
            ],
            [
             0.1,
             "#c51b7d"
            ],
            [
             0.2,
             "#de77ae"
            ],
            [
             0.3,
             "#f1b6da"
            ],
            [
             0.4,
             "#fde0ef"
            ],
            [
             0.5,
             "#f7f7f7"
            ],
            [
             0.6,
             "#e6f5d0"
            ],
            [
             0.7,
             "#b8e186"
            ],
            [
             0.8,
             "#7fbc41"
            ],
            [
             0.9,
             "#4d9221"
            ],
            [
             1,
             "#276419"
            ]
           ],
           "sequential": [
            [
             0,
             "#0d0887"
            ],
            [
             0.1111111111111111,
             "#46039f"
            ],
            [
             0.2222222222222222,
             "#7201a8"
            ],
            [
             0.3333333333333333,
             "#9c179e"
            ],
            [
             0.4444444444444444,
             "#bd3786"
            ],
            [
             0.5555555555555556,
             "#d8576b"
            ],
            [
             0.6666666666666666,
             "#ed7953"
            ],
            [
             0.7777777777777778,
             "#fb9f3a"
            ],
            [
             0.8888888888888888,
             "#fdca26"
            ],
            [
             1,
             "#f0f921"
            ]
           ],
           "sequentialminus": [
            [
             0,
             "#0d0887"
            ],
            [
             0.1111111111111111,
             "#46039f"
            ],
            [
             0.2222222222222222,
             "#7201a8"
            ],
            [
             0.3333333333333333,
             "#9c179e"
            ],
            [
             0.4444444444444444,
             "#bd3786"
            ],
            [
             0.5555555555555556,
             "#d8576b"
            ],
            [
             0.6666666666666666,
             "#ed7953"
            ],
            [
             0.7777777777777778,
             "#fb9f3a"
            ],
            [
             0.8888888888888888,
             "#fdca26"
            ],
            [
             1,
             "#f0f921"
            ]
           ]
          },
          "colorway": [
           "#636efa",
           "#EF553B",
           "#00cc96",
           "#ab63fa",
           "#FFA15A",
           "#19d3f3",
           "#FF6692",
           "#B6E880",
           "#FF97FF",
           "#FECB52"
          ],
          "font": {
           "color": "#2a3f5f"
          },
          "geo": {
           "bgcolor": "white",
           "lakecolor": "white",
           "landcolor": "#E5ECF6",
           "showlakes": true,
           "showland": true,
           "subunitcolor": "white"
          },
          "hoverlabel": {
           "align": "left"
          },
          "hovermode": "closest",
          "mapbox": {
           "style": "light"
          },
          "paper_bgcolor": "white",
          "plot_bgcolor": "#E5ECF6",
          "polar": {
           "angularaxis": {
            "gridcolor": "white",
            "linecolor": "white",
            "ticks": ""
           },
           "bgcolor": "#E5ECF6",
           "radialaxis": {
            "gridcolor": "white",
            "linecolor": "white",
            "ticks": ""
           }
          },
          "scene": {
           "xaxis": {
            "backgroundcolor": "#E5ECF6",
            "gridcolor": "white",
            "gridwidth": 2,
            "linecolor": "white",
            "showbackground": true,
            "ticks": "",
            "zerolinecolor": "white"
           },
           "yaxis": {
            "backgroundcolor": "#E5ECF6",
            "gridcolor": "white",
            "gridwidth": 2,
            "linecolor": "white",
            "showbackground": true,
            "ticks": "",
            "zerolinecolor": "white"
           },
           "zaxis": {
            "backgroundcolor": "#E5ECF6",
            "gridcolor": "white",
            "gridwidth": 2,
            "linecolor": "white",
            "showbackground": true,
            "ticks": "",
            "zerolinecolor": "white"
           }
          },
          "shapedefaults": {
           "line": {
            "color": "#2a3f5f"
           }
          },
          "ternary": {
           "aaxis": {
            "gridcolor": "white",
            "linecolor": "white",
            "ticks": ""
           },
           "baxis": {
            "gridcolor": "white",
            "linecolor": "white",
            "ticks": ""
           },
           "bgcolor": "#E5ECF6",
           "caxis": {
            "gridcolor": "white",
            "linecolor": "white",
            "ticks": ""
           }
          },
          "title": {
           "x": 0.05
          },
          "xaxis": {
           "automargin": true,
           "gridcolor": "white",
           "linecolor": "white",
           "ticks": "",
           "title": {
            "standoff": 15
           },
           "zerolinecolor": "white",
           "zerolinewidth": 2
          },
          "yaxis": {
           "automargin": true,
           "gridcolor": "white",
           "linecolor": "white",
           "ticks": "",
           "title": {
            "standoff": 15
           },
           "zerolinecolor": "white",
           "zerolinewidth": 2
          }
         }
        },
        "title": {
         "font": {
          "color": "#4D5663"
         }
        },
        "xaxis": {
         "gridcolor": "#E1E5ED",
         "showgrid": true,
         "tickfont": {
          "color": "#4D5663"
         },
         "title": {
          "font": {
           "color": "#4D5663"
          },
          "text": ""
         },
         "zerolinecolor": "#E1E5ED"
        },
        "yaxis": {
         "gridcolor": "#E1E5ED",
         "showgrid": true,
         "tickfont": {
          "color": "#4D5663"
         },
         "title": {
          "font": {
           "color": "#4D5663"
          },
          "text": ""
         },
         "zerolinecolor": "#E1E5ED"
        }
       }
      },
      "text/html": [
       "<div>\n",
       "        \n",
       "        \n",
       "            <div id=\"b58a2207-289a-40af-afb4-895d873473cc\" class=\"plotly-graph-div\" style=\"height:525px; width:100%;\"></div>\n",
       "            <script type=\"text/javascript\">\n",
       "                require([\"plotly\"], function(Plotly) {\n",
       "                    window.PLOTLYENV=window.PLOTLYENV || {};\n",
       "                    window.PLOTLYENV.BASE_URL='https://plot.ly';\n",
       "                    \n",
       "                if (document.getElementById(\"b58a2207-289a-40af-afb4-895d873473cc\")) {\n",
       "                    Plotly.newPlot(\n",
       "                        'b58a2207-289a-40af-afb4-895d873473cc',\n",
       "                        [{\"colorscale\": [[0.0, \"rgb(165,0,38)\"], [0.1, \"rgb(215,48,39)\"], [0.2, \"rgb(244,109,67)\"], [0.3, \"rgb(253,174,97)\"], [0.4, \"rgb(254,224,144)\"], [0.5, \"rgb(255,255,191)\"], [0.6, \"rgb(224,243,248)\"], [0.7, \"rgb(171,217,233)\"], [0.8, \"rgb(116,173,209)\"], [0.9, \"rgb(69,117,180)\"], [1.0, \"rgb(49,54,149)\"]], \"type\": \"surface\", \"x\": [0, 1, 2, 3, 4], \"y\": [\"x\", \"y\", \"z\"], \"z\": [[1, 2, 3, 4, 5], [10, 20, 30, 20, 10], [5, 4, 3, 2, 1]]}],\n",
       "                        {\"legend\": {\"bgcolor\": \"#F5F6F9\", \"font\": {\"color\": \"#4D5663\"}}, \"paper_bgcolor\": \"#F5F6F9\", \"plot_bgcolor\": \"#F5F6F9\", \"template\": {\"data\": {\"bar\": [{\"error_x\": {\"color\": \"#2a3f5f\"}, \"error_y\": {\"color\": \"#2a3f5f\"}, \"marker\": {\"line\": {\"color\": \"#E5ECF6\", \"width\": 0.5}}, \"type\": \"bar\"}], \"barpolar\": [{\"marker\": {\"line\": {\"color\": \"#E5ECF6\", \"width\": 0.5}}, \"type\": \"barpolar\"}], \"carpet\": [{\"aaxis\": {\"endlinecolor\": \"#2a3f5f\", \"gridcolor\": \"white\", \"linecolor\": \"white\", \"minorgridcolor\": \"white\", \"startlinecolor\": \"#2a3f5f\"}, \"baxis\": {\"endlinecolor\": \"#2a3f5f\", \"gridcolor\": \"white\", \"linecolor\": \"white\", \"minorgridcolor\": \"white\", \"startlinecolor\": \"#2a3f5f\"}, \"type\": \"carpet\"}], \"choropleth\": [{\"colorbar\": {\"outlinewidth\": 0, \"ticks\": \"\"}, \"type\": \"choropleth\"}], \"contour\": [{\"colorbar\": {\"outlinewidth\": 0, \"ticks\": \"\"}, \"colorscale\": [[0.0, \"#0d0887\"], [0.1111111111111111, \"#46039f\"], [0.2222222222222222, \"#7201a8\"], [0.3333333333333333, \"#9c179e\"], [0.4444444444444444, \"#bd3786\"], [0.5555555555555556, \"#d8576b\"], [0.6666666666666666, \"#ed7953\"], [0.7777777777777778, \"#fb9f3a\"], [0.8888888888888888, \"#fdca26\"], [1.0, \"#f0f921\"]], \"type\": \"contour\"}], \"contourcarpet\": [{\"colorbar\": {\"outlinewidth\": 0, \"ticks\": \"\"}, \"type\": \"contourcarpet\"}], \"heatmap\": [{\"colorbar\": {\"outlinewidth\": 0, \"ticks\": \"\"}, \"colorscale\": [[0.0, \"#0d0887\"], [0.1111111111111111, \"#46039f\"], [0.2222222222222222, \"#7201a8\"], [0.3333333333333333, \"#9c179e\"], [0.4444444444444444, \"#bd3786\"], [0.5555555555555556, \"#d8576b\"], [0.6666666666666666, \"#ed7953\"], [0.7777777777777778, \"#fb9f3a\"], [0.8888888888888888, \"#fdca26\"], [1.0, \"#f0f921\"]], \"type\": \"heatmap\"}], \"heatmapgl\": [{\"colorbar\": {\"outlinewidth\": 0, \"ticks\": \"\"}, \"colorscale\": [[0.0, \"#0d0887\"], [0.1111111111111111, \"#46039f\"], [0.2222222222222222, \"#7201a8\"], [0.3333333333333333, \"#9c179e\"], [0.4444444444444444, \"#bd3786\"], [0.5555555555555556, \"#d8576b\"], [0.6666666666666666, \"#ed7953\"], [0.7777777777777778, \"#fb9f3a\"], [0.8888888888888888, \"#fdca26\"], [1.0, \"#f0f921\"]], \"type\": \"heatmapgl\"}], \"histogram\": [{\"marker\": {\"colorbar\": {\"outlinewidth\": 0, \"ticks\": \"\"}}, \"type\": \"histogram\"}], \"histogram2d\": [{\"colorbar\": {\"outlinewidth\": 0, \"ticks\": \"\"}, \"colorscale\": [[0.0, \"#0d0887\"], [0.1111111111111111, \"#46039f\"], [0.2222222222222222, \"#7201a8\"], [0.3333333333333333, \"#9c179e\"], [0.4444444444444444, \"#bd3786\"], [0.5555555555555556, \"#d8576b\"], [0.6666666666666666, \"#ed7953\"], [0.7777777777777778, \"#fb9f3a\"], [0.8888888888888888, \"#fdca26\"], [1.0, \"#f0f921\"]], \"type\": \"histogram2d\"}], \"histogram2dcontour\": [{\"colorbar\": {\"outlinewidth\": 0, \"ticks\": \"\"}, \"colorscale\": [[0.0, \"#0d0887\"], [0.1111111111111111, \"#46039f\"], [0.2222222222222222, \"#7201a8\"], [0.3333333333333333, \"#9c179e\"], [0.4444444444444444, \"#bd3786\"], [0.5555555555555556, \"#d8576b\"], [0.6666666666666666, \"#ed7953\"], [0.7777777777777778, \"#fb9f3a\"], [0.8888888888888888, \"#fdca26\"], [1.0, \"#f0f921\"]], \"type\": \"histogram2dcontour\"}], \"mesh3d\": [{\"colorbar\": {\"outlinewidth\": 0, \"ticks\": \"\"}, \"type\": \"mesh3d\"}], \"parcoords\": [{\"line\": {\"colorbar\": {\"outlinewidth\": 0, \"ticks\": \"\"}}, \"type\": \"parcoords\"}], \"pie\": [{\"automargin\": true, \"type\": \"pie\"}], \"scatter\": [{\"marker\": {\"colorbar\": {\"outlinewidth\": 0, \"ticks\": \"\"}}, \"type\": \"scatter\"}], \"scatter3d\": [{\"line\": {\"colorbar\": {\"outlinewidth\": 0, \"ticks\": \"\"}}, \"marker\": {\"colorbar\": {\"outlinewidth\": 0, \"ticks\": \"\"}}, \"type\": \"scatter3d\"}], \"scattercarpet\": [{\"marker\": {\"colorbar\": {\"outlinewidth\": 0, \"ticks\": \"\"}}, \"type\": \"scattercarpet\"}], \"scattergeo\": [{\"marker\": {\"colorbar\": {\"outlinewidth\": 0, \"ticks\": \"\"}}, \"type\": \"scattergeo\"}], \"scattergl\": [{\"marker\": {\"colorbar\": {\"outlinewidth\": 0, \"ticks\": \"\"}}, \"type\": \"scattergl\"}], \"scattermapbox\": [{\"marker\": {\"colorbar\": {\"outlinewidth\": 0, \"ticks\": \"\"}}, \"type\": \"scattermapbox\"}], \"scatterpolar\": [{\"marker\": {\"colorbar\": {\"outlinewidth\": 0, \"ticks\": \"\"}}, \"type\": \"scatterpolar\"}], \"scatterpolargl\": [{\"marker\": {\"colorbar\": {\"outlinewidth\": 0, \"ticks\": \"\"}}, \"type\": \"scatterpolargl\"}], \"scatterternary\": [{\"marker\": {\"colorbar\": {\"outlinewidth\": 0, \"ticks\": \"\"}}, \"type\": \"scatterternary\"}], \"surface\": [{\"colorbar\": {\"outlinewidth\": 0, \"ticks\": \"\"}, \"colorscale\": [[0.0, \"#0d0887\"], [0.1111111111111111, \"#46039f\"], [0.2222222222222222, \"#7201a8\"], [0.3333333333333333, \"#9c179e\"], [0.4444444444444444, \"#bd3786\"], [0.5555555555555556, \"#d8576b\"], [0.6666666666666666, \"#ed7953\"], [0.7777777777777778, \"#fb9f3a\"], [0.8888888888888888, \"#fdca26\"], [1.0, \"#f0f921\"]], \"type\": \"surface\"}], \"table\": [{\"cells\": {\"fill\": {\"color\": \"#EBF0F8\"}, \"line\": {\"color\": \"white\"}}, \"header\": {\"fill\": {\"color\": \"#C8D4E3\"}, \"line\": {\"color\": \"white\"}}, \"type\": \"table\"}]}, \"layout\": {\"annotationdefaults\": {\"arrowcolor\": \"#2a3f5f\", \"arrowhead\": 0, \"arrowwidth\": 1}, \"coloraxis\": {\"colorbar\": {\"outlinewidth\": 0, \"ticks\": \"\"}}, \"colorscale\": {\"diverging\": [[0, \"#8e0152\"], [0.1, \"#c51b7d\"], [0.2, \"#de77ae\"], [0.3, \"#f1b6da\"], [0.4, \"#fde0ef\"], [0.5, \"#f7f7f7\"], [0.6, \"#e6f5d0\"], [0.7, \"#b8e186\"], [0.8, \"#7fbc41\"], [0.9, \"#4d9221\"], [1, \"#276419\"]], \"sequential\": [[0.0, \"#0d0887\"], [0.1111111111111111, \"#46039f\"], [0.2222222222222222, \"#7201a8\"], [0.3333333333333333, \"#9c179e\"], [0.4444444444444444, \"#bd3786\"], [0.5555555555555556, \"#d8576b\"], [0.6666666666666666, \"#ed7953\"], [0.7777777777777778, \"#fb9f3a\"], [0.8888888888888888, \"#fdca26\"], [1.0, \"#f0f921\"]], \"sequentialminus\": [[0.0, \"#0d0887\"], [0.1111111111111111, \"#46039f\"], [0.2222222222222222, \"#7201a8\"], [0.3333333333333333, \"#9c179e\"], [0.4444444444444444, \"#bd3786\"], [0.5555555555555556, \"#d8576b\"], [0.6666666666666666, \"#ed7953\"], [0.7777777777777778, \"#fb9f3a\"], [0.8888888888888888, \"#fdca26\"], [1.0, \"#f0f921\"]]}, \"colorway\": [\"#636efa\", \"#EF553B\", \"#00cc96\", \"#ab63fa\", \"#FFA15A\", \"#19d3f3\", \"#FF6692\", \"#B6E880\", \"#FF97FF\", \"#FECB52\"], \"font\": {\"color\": \"#2a3f5f\"}, \"geo\": {\"bgcolor\": \"white\", \"lakecolor\": \"white\", \"landcolor\": \"#E5ECF6\", \"showlakes\": true, \"showland\": true, \"subunitcolor\": \"white\"}, \"hoverlabel\": {\"align\": \"left\"}, \"hovermode\": \"closest\", \"mapbox\": {\"style\": \"light\"}, \"paper_bgcolor\": \"white\", \"plot_bgcolor\": \"#E5ECF6\", \"polar\": {\"angularaxis\": {\"gridcolor\": \"white\", \"linecolor\": \"white\", \"ticks\": \"\"}, \"bgcolor\": \"#E5ECF6\", \"radialaxis\": {\"gridcolor\": \"white\", \"linecolor\": \"white\", \"ticks\": \"\"}}, \"scene\": {\"xaxis\": {\"backgroundcolor\": \"#E5ECF6\", \"gridcolor\": \"white\", \"gridwidth\": 2, \"linecolor\": \"white\", \"showbackground\": true, \"ticks\": \"\", \"zerolinecolor\": \"white\"}, \"yaxis\": {\"backgroundcolor\": \"#E5ECF6\", \"gridcolor\": \"white\", \"gridwidth\": 2, \"linecolor\": \"white\", \"showbackground\": true, \"ticks\": \"\", \"zerolinecolor\": \"white\"}, \"zaxis\": {\"backgroundcolor\": \"#E5ECF6\", \"gridcolor\": \"white\", \"gridwidth\": 2, \"linecolor\": \"white\", \"showbackground\": true, \"ticks\": \"\", \"zerolinecolor\": \"white\"}}, \"shapedefaults\": {\"line\": {\"color\": \"#2a3f5f\"}}, \"ternary\": {\"aaxis\": {\"gridcolor\": \"white\", \"linecolor\": \"white\", \"ticks\": \"\"}, \"baxis\": {\"gridcolor\": \"white\", \"linecolor\": \"white\", \"ticks\": \"\"}, \"bgcolor\": \"#E5ECF6\", \"caxis\": {\"gridcolor\": \"white\", \"linecolor\": \"white\", \"ticks\": \"\"}}, \"title\": {\"x\": 0.05}, \"xaxis\": {\"automargin\": true, \"gridcolor\": \"white\", \"linecolor\": \"white\", \"ticks\": \"\", \"title\": {\"standoff\": 15}, \"zerolinecolor\": \"white\", \"zerolinewidth\": 2}, \"yaxis\": {\"automargin\": true, \"gridcolor\": \"white\", \"linecolor\": \"white\", \"ticks\": \"\", \"title\": {\"standoff\": 15}, \"zerolinecolor\": \"white\", \"zerolinewidth\": 2}}}, \"title\": {\"font\": {\"color\": \"#4D5663\"}}, \"xaxis\": {\"gridcolor\": \"#E1E5ED\", \"showgrid\": true, \"tickfont\": {\"color\": \"#4D5663\"}, \"title\": {\"font\": {\"color\": \"#4D5663\"}, \"text\": \"\"}, \"zerolinecolor\": \"#E1E5ED\"}, \"yaxis\": {\"gridcolor\": \"#E1E5ED\", \"showgrid\": true, \"tickfont\": {\"color\": \"#4D5663\"}, \"title\": {\"font\": {\"color\": \"#4D5663\"}, \"text\": \"\"}, \"zerolinecolor\": \"#E1E5ED\"}},\n",
       "                        {\"showLink\": true, \"linkText\": \"Export to plot.ly\", \"plotlyServerURL\": \"https://plot.ly\", \"responsive\": true}\n",
       "                    ).then(function(){\n",
       "                            \n",
       "var gd = document.getElementById('b58a2207-289a-40af-afb4-895d873473cc');\n",
       "var x = new MutationObserver(function (mutations, observer) {{\n",
       "        var display = window.getComputedStyle(gd).display;\n",
       "        if (!display || display === 'none') {{\n",
       "            console.log([gd, 'removed!']);\n",
       "            Plotly.purge(gd);\n",
       "            observer.disconnect();\n",
       "        }}\n",
       "}});\n",
       "\n",
       "// Listen for the removal of the full notebook cells\n",
       "var notebookContainer = gd.closest('#notebook-container');\n",
       "if (notebookContainer) {{\n",
       "    x.observe(notebookContainer, {childList: true});\n",
       "}}\n",
       "\n",
       "// Listen for the clearing of the current output cell\n",
       "var outputEl = gd.closest('.output');\n",
       "if (outputEl) {{\n",
       "    x.observe(outputEl, {childList: true});\n",
       "}}\n",
       "\n",
       "                        })\n",
       "                };\n",
       "                });\n",
       "            </script>\n",
       "        </div>"
      ]
     },
     "metadata": {},
     "output_type": "display_data"
    }
   ],
   "source": [
    "df3 = pd.DataFrame({'x':[1,2,3,4,5],'y':[10,20,30,20,10],'z':[5,4,3,2,1]})\n",
    "df3.iplot(kind='surface',colorscale='rdylbu')"
   ]
  },
  {
   "cell_type": "markdown",
   "metadata": {},
   "source": [
    "## Spread"
   ]
  },
  {
   "cell_type": "code",
   "execution_count": 17,
   "metadata": {},
   "outputs": [
    {
     "name": "stderr",
     "output_type": "stream",
     "text": [
      "C:\\Users\\patir\\anaconda3\\lib\\site-packages\\cufflinks\\plotlytools.py:849: FutureWarning:\n",
      "\n",
      "The pandas.np module is deprecated and will be removed from pandas in a future version. Import numpy directly instead\n",
      "\n",
      "C:\\Users\\patir\\anaconda3\\lib\\site-packages\\cufflinks\\plotlytools.py:850: FutureWarning:\n",
      "\n",
      "The pandas.np module is deprecated and will be removed from pandas in a future version. Import numpy directly instead\n",
      "\n"
     ]
    },
    {
     "data": {
      "application/vnd.plotly.v1+json": {
       "config": {
        "linkText": "Export to plot.ly",
        "plotlyServerURL": "https://plot.ly",
        "showLink": true
       },
       "data": [
        {
         "line": {
          "color": "rgba(255, 153, 51, 1.0)",
          "dash": "solid",
          "shape": "linear",
          "width": 1.3
         },
         "mode": "lines",
         "name": "A",
         "text": "",
         "type": "scatter",
         "x": [
          0,
          1,
          2,
          3,
          4,
          5,
          6,
          7,
          8,
          9,
          10,
          11,
          12,
          13,
          14,
          15,
          16,
          17,
          18,
          19,
          20,
          21,
          22,
          23,
          24,
          25,
          26,
          27,
          28,
          29,
          30,
          31,
          32,
          33,
          34,
          35,
          36,
          37,
          38,
          39,
          40,
          41,
          42,
          43,
          44,
          45,
          46,
          47,
          48,
          49,
          50,
          51,
          52,
          53,
          54,
          55,
          56,
          57,
          58,
          59,
          60,
          61,
          62,
          63,
          64,
          65,
          66,
          67,
          68,
          69,
          70,
          71,
          72,
          73,
          74,
          75,
          76,
          77,
          78,
          79,
          80,
          81,
          82,
          83,
          84,
          85,
          86,
          87,
          88,
          89,
          90,
          91,
          92,
          93,
          94,
          95,
          96,
          97,
          98,
          99
         ],
         "y": [
          -1.3583402229536823,
          0.0921673543459956,
          0.4492594820576442,
          0.6996025908357328,
          2.1495250286838616,
          0.24183106597206416,
          -0.8776832110040302,
          1.0541732492278562,
          0.08523758205433592,
          0.4987407976187166,
          -0.42692187830303097,
          0.3314238788412063,
          0.8110203721335073,
          -1.892486336094162,
          -0.1986687733189751,
          -0.3859351717543113,
          0.7622079403895549,
          1.1342981825914735,
          -0.616705435419684,
          -0.12151918045946218,
          -1.1011316897029537,
          0.3328629568633669,
          -1.0208981270296031,
          0.053983225088959017,
          0.3725114124839771,
          0.10267108207518853,
          -1.1665665557543183,
          0.054504419339731255,
          0.07843971579163007,
          -0.5986900927551946,
          -1.1908876386329161,
          -0.9428019176036524,
          -0.20836288106335712,
          2.0638412236218913,
          -0.08800663468845793,
          2.3489296854756243,
          -0.328825492717537,
          0.13679328526719142,
          1.6362966816412452,
          -0.9865169458002857,
          0.5322172281903023,
          1.8126956542853345,
          2.0187951705084726,
          0.34262285700030415,
          -0.4049678282336819,
          -2.1252404889520555,
          0.3577431068537883,
          0.6213330482766051,
          1.1533821829453454,
          1.536912657916139,
          2.008920554498628,
          -1.585227803158716,
          -0.8722662480875408,
          -0.15051809032390423,
          -1.0062867067219174,
          1.8397911379130851,
          -0.06621953199647992,
          -1.2920370371673158,
          0.5436718522445453,
          0.5423224416184557,
          1.5511194828341233,
          0.13070055937739156,
          -0.44912176704902335,
          -0.2616470902800413,
          0.345449072564648,
          -0.21847852159286552,
          -1.547915716754144,
          -0.24297968869274658,
          0.10713560266622875,
          -0.03071741252082736,
          0.6189888818452682,
          0.949788377696495,
          -0.31913257258760963,
          1.029866696113866,
          0.2163440437977718,
          -1.9076255260432537,
          0.9911538059288,
          -1.2938190969419967,
          -1.556975158647537,
          -0.8567798093066372,
          1.1061307231493411,
          0.8210251094170343,
          -0.8752867994424044,
          -1.3312503684676744,
          -0.15270325556453376,
          -1.6312580962345506,
          1.8820767353613506,
          0.2876026635475839,
          -0.8927184511718702,
          0.8929654454438709,
          0.6600185178648303,
          -1.2544677962637543,
          1.0241195756808887,
          1.7451061541136383,
          1.6784492852125634,
          -0.209804057404903,
          2.7179971818449857,
          0.15330230160949973,
          0.8962390746892906,
          0.21855533520777062
         ]
        },
        {
         "line": {
          "color": "rgba(55, 128, 191, 1.0)",
          "dash": "solid",
          "shape": "linear",
          "width": 1.3
         },
         "mode": "lines",
         "name": "B",
         "text": "",
         "type": "scatter",
         "x": [
          0,
          1,
          2,
          3,
          4,
          5,
          6,
          7,
          8,
          9,
          10,
          11,
          12,
          13,
          14,
          15,
          16,
          17,
          18,
          19,
          20,
          21,
          22,
          23,
          24,
          25,
          26,
          27,
          28,
          29,
          30,
          31,
          32,
          33,
          34,
          35,
          36,
          37,
          38,
          39,
          40,
          41,
          42,
          43,
          44,
          45,
          46,
          47,
          48,
          49,
          50,
          51,
          52,
          53,
          54,
          55,
          56,
          57,
          58,
          59,
          60,
          61,
          62,
          63,
          64,
          65,
          66,
          67,
          68,
          69,
          70,
          71,
          72,
          73,
          74,
          75,
          76,
          77,
          78,
          79,
          80,
          81,
          82,
          83,
          84,
          85,
          86,
          87,
          88,
          89,
          90,
          91,
          92,
          93,
          94,
          95,
          96,
          97,
          98,
          99
         ],
         "y": [
          0.7062159335042797,
          0.7219254733761484,
          0.5463129397908424,
          -0.6931529077523799,
          -1.6825415343319072,
          -0.163715476768212,
          1.2542694738069151,
          0.2874131009769991,
          -1.263462719563245,
          -0.7238140467351619,
          2.184714958062746,
          -2.8697379154159677,
          -0.7409720185625667,
          0.699470418188912,
          -1.2082057874168277,
          1.172505684652955,
          0.6764855553881596,
          0.6145175314457706,
          0.3998685213240509,
          0.6011537674657929,
          -0.17760909229636285,
          -0.27164619891261593,
          0.016783537950853814,
          -0.3152415327654973,
          1.040155078188417,
          -1.6181904077672757,
          -0.6267969219734727,
          0.3150579764877128,
          1.1278776716162962,
          1.8773340948873105,
          -0.1514056836070442,
          0.3375374850890802,
          -1.4616285328336531,
          -0.8198419318788835,
          0.8243541156979151,
          -0.40253086793801673,
          0.11161375634635512,
          0.8110433849900274,
          -0.7372647622097733,
          0.5951094858811783,
          1.788231465632863,
          1.6096544305491811,
          -1.6724569437258132,
          -0.5343499938543699,
          -0.42080029902949184,
          0.7017532920558198,
          -1.8095562597566381,
          0.08967981171876918,
          1.3014844394723237,
          -0.008188048042794197,
          0.5120041176666327,
          0.6307009822539876,
          0.20535907665217643,
          0.40208846119323083,
          -0.6250359423978179,
          -1.3173115747022526,
          0.7934196396570694,
          0.021772115789257137,
          0.089532532038497,
          -0.3461312566174257,
          -1.3515693099417592,
          -0.8125304190004683,
          0.6460317056406156,
          2.5682487716392797,
          -1.3928851372548272,
          0.49240556188681406,
          -1.3404633687098704,
          0.4092479859742962,
          -0.055251692720409536,
          -0.40605510886442653,
          -1.7490729669018399,
          0.9484082473493582,
          -0.25030755921934555,
          1.1063585220126273,
          -1.285180609868798,
          -0.27944973884190905,
          1.5788577983747496,
          1.0687556988535705,
          0.8847765838108002,
          0.13394864375601528,
          0.75925337178594,
          -0.1634560803366644,
          0.07831300439827604,
          -0.8908680973465573,
          -1.3336711135597754,
          0.5742058122235427,
          0.8020214805889448,
          2.9226570311911457,
          -1.3427501538316637,
          0.6004478098801661,
          0.0005468704148372964,
          0.4825037294818465,
          -1.0839290848485301,
          -1.7338844652392993,
          0.30343207245100284,
          -0.13956794322089353,
          0.24250586024809148,
          -0.2763816144379349,
          -1.3194412611454425,
          0.02032522014388897
         ]
        },
        {
         "connectgaps": false,
         "fill": "tozeroy",
         "line": {
          "color": "green",
          "dash": "solid",
          "shape": "linear",
          "width": 0.5
         },
         "mode": "lines",
         "name": "Spread",
         "showlegend": false,
         "type": "scatter",
         "x": [
          0,
          1,
          2,
          3,
          4,
          5,
          6,
          7,
          8,
          9,
          10,
          11,
          12,
          13,
          14,
          15,
          16,
          17,
          18,
          19,
          20,
          21,
          22,
          23,
          24,
          25,
          26,
          27,
          28,
          29,
          30,
          31,
          32,
          33,
          34,
          35,
          36,
          37,
          38,
          39,
          40,
          41,
          42,
          43,
          44,
          45,
          46,
          47,
          48,
          49,
          50,
          51,
          52,
          53,
          54,
          55,
          56,
          57,
          58,
          59,
          60,
          61,
          62,
          63,
          64,
          65,
          66,
          67,
          68,
          69,
          70,
          71,
          72,
          73,
          74,
          75,
          76,
          77,
          78,
          79,
          80,
          81,
          82,
          83,
          84,
          85,
          86,
          87,
          88,
          89,
          90,
          91,
          92,
          93,
          94,
          95,
          96,
          97,
          98,
          99
         ],
         "xaxis": "x2",
         "y": [
          "",
          "",
          "",
          1.3927554985881128,
          3.832066563015769,
          0.40554654274027613,
          "",
          0.766760148250857,
          1.348700301617581,
          1.2225548443538785,
          "",
          3.2011617942571737,
          1.551992390696074,
          "",
          1.0095370140978526,
          "",
          0.08572238500139528,
          0.5197806511457029,
          "",
          "",
          "",
          0.6045091557759829,
          "",
          0.36922475785445635,
          "",
          1.7208614898424643,
          "",
          "",
          "",
          "",
          "",
          "",
          1.253265651770296,
          2.883683155500775,
          "",
          2.751460553413641,
          "",
          "",
          2.3735614438510186,
          "",
          "",
          0.2030412237361534,
          3.6912521142342856,
          0.876972850854674,
          0.01583247079580996,
          "",
          2.1672993666104263,
          0.5316532365578359,
          "",
          1.5451007059589332,
          1.4969164368319956,
          "",
          "",
          "",
          "",
          3.1571027126153375,
          "",
          "",
          0.4541393202060483,
          0.8884536982358814,
          2.9026887927758827,
          0.9432309783778599,
          "",
          "",
          1.7383342098194752,
          "",
          "",
          "",
          0.1623872953866383,
          0.37533769634359915,
          2.368061848747108,
          0.0013801303471367987,
          "",
          "",
          1.5015246536665696,
          "",
          "",
          "",
          "",
          "",
          0.34687735136340114,
          0.9844811897536987,
          "",
          "",
          1.1809678579952416,
          "",
          1.0800552547724056,
          "",
          0.45003170265979353,
          0.2925176355637048,
          0.6594716474499931,
          "",
          2.108048660529419,
          3.4789906193529374,
          1.3750172127615605,
          "",
          2.4754913215968943,
          0.4296839160474346,
          2.2156803358347332,
          0.19823011506388166
         ],
         "yaxis": "y2"
        },
        {
         "connectgaps": false,
         "fill": "tozeroy",
         "line": {
          "color": "red",
          "dash": "solid",
          "shape": "linear",
          "width": 0.5
         },
         "mode": "lines",
         "name": "Spread",
         "showlegend": false,
         "type": "scatter",
         "x": [
          0,
          1,
          2,
          3,
          4,
          5,
          6,
          7,
          8,
          9,
          10,
          11,
          12,
          13,
          14,
          15,
          16,
          17,
          18,
          19,
          20,
          21,
          22,
          23,
          24,
          25,
          26,
          27,
          28,
          29,
          30,
          31,
          32,
          33,
          34,
          35,
          36,
          37,
          38,
          39,
          40,
          41,
          42,
          43,
          44,
          45,
          46,
          47,
          48,
          49,
          50,
          51,
          52,
          53,
          54,
          55,
          56,
          57,
          58,
          59,
          60,
          61,
          62,
          63,
          64,
          65,
          66,
          67,
          68,
          69,
          70,
          71,
          72,
          73,
          74,
          75,
          76,
          77,
          78,
          79,
          80,
          81,
          82,
          83,
          84,
          85,
          86,
          87,
          88,
          89,
          90,
          91,
          92,
          93,
          94,
          95,
          96,
          97,
          98,
          99
         ],
         "xaxis": "x2",
         "y": [
          -2.0645561564579618,
          -0.6297581190301529,
          -0.09705345773319818,
          "",
          "",
          "",
          -2.1319526848109454,
          "",
          "",
          "",
          -2.611636836365777,
          "",
          "",
          -2.591956754283074,
          "",
          -1.5584408564072663,
          "",
          "",
          -1.0165739567437349,
          -0.722672947925255,
          -0.9235225974065908,
          "",
          -1.037681664980457,
          "",
          -0.6676436657044399,
          "",
          -0.5397696337808456,
          -0.2605535571479815,
          -1.049437955824666,
          -2.476024187642505,
          -1.039481955025872,
          -1.2803394026927326,
          "",
          "",
          -0.912360750386373,
          "",
          -0.44043924906389215,
          -0.674250099722836,
          "",
          -1.5816264316814639,
          -1.2560142374425607,
          "",
          "",
          "",
          "",
          -2.826993781007875,
          "",
          "",
          -0.14810225652697828,
          "",
          "",
          -2.2159287854127037,
          -1.0776253247397172,
          -0.552606551517135,
          -0.38125076432409954,
          "",
          -0.8596391716535493,
          -1.313809152956573,
          "",
          "",
          "",
          "",
          -1.095153472689639,
          -2.829895861919321,
          "",
          -0.7108840834796796,
          -0.2074523480442736,
          -0.6522276746670428,
          "",
          "",
          "",
          "",
          -0.06882501336826408,
          -0.07649182589876125,
          "",
          -1.6281757872013447,
          -0.5877039924459496,
          -2.362574795795567,
          -2.4417517424583375,
          -0.9907284530626526,
          "",
          "",
          -0.9535998038406804,
          -0.44038227112111716,
          "",
          -2.2054639084580936,
          "",
          -2.635054367643562,
          "",
          "",
          "",
          -1.7369715257456009,
          "",
          "",
          "",
          -0.07023611418400946,
          "",
          "",
          "",
          ""
         ],
         "yaxis": "y2"
        }
       ],
       "layout": {
        "hovermode": "x",
        "legend": {
         "bgcolor": "#F5F6F9",
         "font": {
          "color": "#4D5663"
         }
        },
        "paper_bgcolor": "#F5F6F9",
        "plot_bgcolor": "#F5F6F9",
        "template": {
         "data": {
          "bar": [
           {
            "error_x": {
             "color": "#2a3f5f"
            },
            "error_y": {
             "color": "#2a3f5f"
            },
            "marker": {
             "line": {
              "color": "#E5ECF6",
              "width": 0.5
             }
            },
            "type": "bar"
           }
          ],
          "barpolar": [
           {
            "marker": {
             "line": {
              "color": "#E5ECF6",
              "width": 0.5
             }
            },
            "type": "barpolar"
           }
          ],
          "carpet": [
           {
            "aaxis": {
             "endlinecolor": "#2a3f5f",
             "gridcolor": "white",
             "linecolor": "white",
             "minorgridcolor": "white",
             "startlinecolor": "#2a3f5f"
            },
            "baxis": {
             "endlinecolor": "#2a3f5f",
             "gridcolor": "white",
             "linecolor": "white",
             "minorgridcolor": "white",
             "startlinecolor": "#2a3f5f"
            },
            "type": "carpet"
           }
          ],
          "choropleth": [
           {
            "colorbar": {
             "outlinewidth": 0,
             "ticks": ""
            },
            "type": "choropleth"
           }
          ],
          "contour": [
           {
            "colorbar": {
             "outlinewidth": 0,
             "ticks": ""
            },
            "colorscale": [
             [
              0,
              "#0d0887"
             ],
             [
              0.1111111111111111,
              "#46039f"
             ],
             [
              0.2222222222222222,
              "#7201a8"
             ],
             [
              0.3333333333333333,
              "#9c179e"
             ],
             [
              0.4444444444444444,
              "#bd3786"
             ],
             [
              0.5555555555555556,
              "#d8576b"
             ],
             [
              0.6666666666666666,
              "#ed7953"
             ],
             [
              0.7777777777777778,
              "#fb9f3a"
             ],
             [
              0.8888888888888888,
              "#fdca26"
             ],
             [
              1,
              "#f0f921"
             ]
            ],
            "type": "contour"
           }
          ],
          "contourcarpet": [
           {
            "colorbar": {
             "outlinewidth": 0,
             "ticks": ""
            },
            "type": "contourcarpet"
           }
          ],
          "heatmap": [
           {
            "colorbar": {
             "outlinewidth": 0,
             "ticks": ""
            },
            "colorscale": [
             [
              0,
              "#0d0887"
             ],
             [
              0.1111111111111111,
              "#46039f"
             ],
             [
              0.2222222222222222,
              "#7201a8"
             ],
             [
              0.3333333333333333,
              "#9c179e"
             ],
             [
              0.4444444444444444,
              "#bd3786"
             ],
             [
              0.5555555555555556,
              "#d8576b"
             ],
             [
              0.6666666666666666,
              "#ed7953"
             ],
             [
              0.7777777777777778,
              "#fb9f3a"
             ],
             [
              0.8888888888888888,
              "#fdca26"
             ],
             [
              1,
              "#f0f921"
             ]
            ],
            "type": "heatmap"
           }
          ],
          "heatmapgl": [
           {
            "colorbar": {
             "outlinewidth": 0,
             "ticks": ""
            },
            "colorscale": [
             [
              0,
              "#0d0887"
             ],
             [
              0.1111111111111111,
              "#46039f"
             ],
             [
              0.2222222222222222,
              "#7201a8"
             ],
             [
              0.3333333333333333,
              "#9c179e"
             ],
             [
              0.4444444444444444,
              "#bd3786"
             ],
             [
              0.5555555555555556,
              "#d8576b"
             ],
             [
              0.6666666666666666,
              "#ed7953"
             ],
             [
              0.7777777777777778,
              "#fb9f3a"
             ],
             [
              0.8888888888888888,
              "#fdca26"
             ],
             [
              1,
              "#f0f921"
             ]
            ],
            "type": "heatmapgl"
           }
          ],
          "histogram": [
           {
            "marker": {
             "colorbar": {
              "outlinewidth": 0,
              "ticks": ""
             }
            },
            "type": "histogram"
           }
          ],
          "histogram2d": [
           {
            "colorbar": {
             "outlinewidth": 0,
             "ticks": ""
            },
            "colorscale": [
             [
              0,
              "#0d0887"
             ],
             [
              0.1111111111111111,
              "#46039f"
             ],
             [
              0.2222222222222222,
              "#7201a8"
             ],
             [
              0.3333333333333333,
              "#9c179e"
             ],
             [
              0.4444444444444444,
              "#bd3786"
             ],
             [
              0.5555555555555556,
              "#d8576b"
             ],
             [
              0.6666666666666666,
              "#ed7953"
             ],
             [
              0.7777777777777778,
              "#fb9f3a"
             ],
             [
              0.8888888888888888,
              "#fdca26"
             ],
             [
              1,
              "#f0f921"
             ]
            ],
            "type": "histogram2d"
           }
          ],
          "histogram2dcontour": [
           {
            "colorbar": {
             "outlinewidth": 0,
             "ticks": ""
            },
            "colorscale": [
             [
              0,
              "#0d0887"
             ],
             [
              0.1111111111111111,
              "#46039f"
             ],
             [
              0.2222222222222222,
              "#7201a8"
             ],
             [
              0.3333333333333333,
              "#9c179e"
             ],
             [
              0.4444444444444444,
              "#bd3786"
             ],
             [
              0.5555555555555556,
              "#d8576b"
             ],
             [
              0.6666666666666666,
              "#ed7953"
             ],
             [
              0.7777777777777778,
              "#fb9f3a"
             ],
             [
              0.8888888888888888,
              "#fdca26"
             ],
             [
              1,
              "#f0f921"
             ]
            ],
            "type": "histogram2dcontour"
           }
          ],
          "mesh3d": [
           {
            "colorbar": {
             "outlinewidth": 0,
             "ticks": ""
            },
            "type": "mesh3d"
           }
          ],
          "parcoords": [
           {
            "line": {
             "colorbar": {
              "outlinewidth": 0,
              "ticks": ""
             }
            },
            "type": "parcoords"
           }
          ],
          "pie": [
           {
            "automargin": true,
            "type": "pie"
           }
          ],
          "scatter": [
           {
            "marker": {
             "colorbar": {
              "outlinewidth": 0,
              "ticks": ""
             }
            },
            "type": "scatter"
           }
          ],
          "scatter3d": [
           {
            "line": {
             "colorbar": {
              "outlinewidth": 0,
              "ticks": ""
             }
            },
            "marker": {
             "colorbar": {
              "outlinewidth": 0,
              "ticks": ""
             }
            },
            "type": "scatter3d"
           }
          ],
          "scattercarpet": [
           {
            "marker": {
             "colorbar": {
              "outlinewidth": 0,
              "ticks": ""
             }
            },
            "type": "scattercarpet"
           }
          ],
          "scattergeo": [
           {
            "marker": {
             "colorbar": {
              "outlinewidth": 0,
              "ticks": ""
             }
            },
            "type": "scattergeo"
           }
          ],
          "scattergl": [
           {
            "marker": {
             "colorbar": {
              "outlinewidth": 0,
              "ticks": ""
             }
            },
            "type": "scattergl"
           }
          ],
          "scattermapbox": [
           {
            "marker": {
             "colorbar": {
              "outlinewidth": 0,
              "ticks": ""
             }
            },
            "type": "scattermapbox"
           }
          ],
          "scatterpolar": [
           {
            "marker": {
             "colorbar": {
              "outlinewidth": 0,
              "ticks": ""
             }
            },
            "type": "scatterpolar"
           }
          ],
          "scatterpolargl": [
           {
            "marker": {
             "colorbar": {
              "outlinewidth": 0,
              "ticks": ""
             }
            },
            "type": "scatterpolargl"
           }
          ],
          "scatterternary": [
           {
            "marker": {
             "colorbar": {
              "outlinewidth": 0,
              "ticks": ""
             }
            },
            "type": "scatterternary"
           }
          ],
          "surface": [
           {
            "colorbar": {
             "outlinewidth": 0,
             "ticks": ""
            },
            "colorscale": [
             [
              0,
              "#0d0887"
             ],
             [
              0.1111111111111111,
              "#46039f"
             ],
             [
              0.2222222222222222,
              "#7201a8"
             ],
             [
              0.3333333333333333,
              "#9c179e"
             ],
             [
              0.4444444444444444,
              "#bd3786"
             ],
             [
              0.5555555555555556,
              "#d8576b"
             ],
             [
              0.6666666666666666,
              "#ed7953"
             ],
             [
              0.7777777777777778,
              "#fb9f3a"
             ],
             [
              0.8888888888888888,
              "#fdca26"
             ],
             [
              1,
              "#f0f921"
             ]
            ],
            "type": "surface"
           }
          ],
          "table": [
           {
            "cells": {
             "fill": {
              "color": "#EBF0F8"
             },
             "line": {
              "color": "white"
             }
            },
            "header": {
             "fill": {
              "color": "#C8D4E3"
             },
             "line": {
              "color": "white"
             }
            },
            "type": "table"
           }
          ]
         },
         "layout": {
          "annotationdefaults": {
           "arrowcolor": "#2a3f5f",
           "arrowhead": 0,
           "arrowwidth": 1
          },
          "coloraxis": {
           "colorbar": {
            "outlinewidth": 0,
            "ticks": ""
           }
          },
          "colorscale": {
           "diverging": [
            [
             0,
             "#8e0152"
            ],
            [
             0.1,
             "#c51b7d"
            ],
            [
             0.2,
             "#de77ae"
            ],
            [
             0.3,
             "#f1b6da"
            ],
            [
             0.4,
             "#fde0ef"
            ],
            [
             0.5,
             "#f7f7f7"
            ],
            [
             0.6,
             "#e6f5d0"
            ],
            [
             0.7,
             "#b8e186"
            ],
            [
             0.8,
             "#7fbc41"
            ],
            [
             0.9,
             "#4d9221"
            ],
            [
             1,
             "#276419"
            ]
           ],
           "sequential": [
            [
             0,
             "#0d0887"
            ],
            [
             0.1111111111111111,
             "#46039f"
            ],
            [
             0.2222222222222222,
             "#7201a8"
            ],
            [
             0.3333333333333333,
             "#9c179e"
            ],
            [
             0.4444444444444444,
             "#bd3786"
            ],
            [
             0.5555555555555556,
             "#d8576b"
            ],
            [
             0.6666666666666666,
             "#ed7953"
            ],
            [
             0.7777777777777778,
             "#fb9f3a"
            ],
            [
             0.8888888888888888,
             "#fdca26"
            ],
            [
             1,
             "#f0f921"
            ]
           ],
           "sequentialminus": [
            [
             0,
             "#0d0887"
            ],
            [
             0.1111111111111111,
             "#46039f"
            ],
            [
             0.2222222222222222,
             "#7201a8"
            ],
            [
             0.3333333333333333,
             "#9c179e"
            ],
            [
             0.4444444444444444,
             "#bd3786"
            ],
            [
             0.5555555555555556,
             "#d8576b"
            ],
            [
             0.6666666666666666,
             "#ed7953"
            ],
            [
             0.7777777777777778,
             "#fb9f3a"
            ],
            [
             0.8888888888888888,
             "#fdca26"
            ],
            [
             1,
             "#f0f921"
            ]
           ]
          },
          "colorway": [
           "#636efa",
           "#EF553B",
           "#00cc96",
           "#ab63fa",
           "#FFA15A",
           "#19d3f3",
           "#FF6692",
           "#B6E880",
           "#FF97FF",
           "#FECB52"
          ],
          "font": {
           "color": "#2a3f5f"
          },
          "geo": {
           "bgcolor": "white",
           "lakecolor": "white",
           "landcolor": "#E5ECF6",
           "showlakes": true,
           "showland": true,
           "subunitcolor": "white"
          },
          "hoverlabel": {
           "align": "left"
          },
          "hovermode": "closest",
          "mapbox": {
           "style": "light"
          },
          "paper_bgcolor": "white",
          "plot_bgcolor": "#E5ECF6",
          "polar": {
           "angularaxis": {
            "gridcolor": "white",
            "linecolor": "white",
            "ticks": ""
           },
           "bgcolor": "#E5ECF6",
           "radialaxis": {
            "gridcolor": "white",
            "linecolor": "white",
            "ticks": ""
           }
          },
          "scene": {
           "xaxis": {
            "backgroundcolor": "#E5ECF6",
            "gridcolor": "white",
            "gridwidth": 2,
            "linecolor": "white",
            "showbackground": true,
            "ticks": "",
            "zerolinecolor": "white"
           },
           "yaxis": {
            "backgroundcolor": "#E5ECF6",
            "gridcolor": "white",
            "gridwidth": 2,
            "linecolor": "white",
            "showbackground": true,
            "ticks": "",
            "zerolinecolor": "white"
           },
           "zaxis": {
            "backgroundcolor": "#E5ECF6",
            "gridcolor": "white",
            "gridwidth": 2,
            "linecolor": "white",
            "showbackground": true,
            "ticks": "",
            "zerolinecolor": "white"
           }
          },
          "shapedefaults": {
           "line": {
            "color": "#2a3f5f"
           }
          },
          "ternary": {
           "aaxis": {
            "gridcolor": "white",
            "linecolor": "white",
            "ticks": ""
           },
           "baxis": {
            "gridcolor": "white",
            "linecolor": "white",
            "ticks": ""
           },
           "bgcolor": "#E5ECF6",
           "caxis": {
            "gridcolor": "white",
            "linecolor": "white",
            "ticks": ""
           }
          },
          "title": {
           "x": 0.05
          },
          "xaxis": {
           "automargin": true,
           "gridcolor": "white",
           "linecolor": "white",
           "ticks": "",
           "title": {
            "standoff": 15
           },
           "zerolinecolor": "white",
           "zerolinewidth": 2
          },
          "yaxis": {
           "automargin": true,
           "gridcolor": "white",
           "linecolor": "white",
           "ticks": "",
           "title": {
            "standoff": 15
           },
           "zerolinecolor": "white",
           "zerolinewidth": 2
          }
         }
        },
        "title": {
         "font": {
          "color": "#4D5663"
         }
        },
        "xaxis": {
         "gridcolor": "#E1E5ED",
         "showgrid": true,
         "tickfont": {
          "color": "#4D5663"
         },
         "title": {
          "font": {
           "color": "#4D5663"
          },
          "text": ""
         },
         "zerolinecolor": "#E1E5ED"
        },
        "xaxis2": {
         "anchor": "y2",
         "gridcolor": "#E1E5ED",
         "showgrid": true,
         "showticklabels": false,
         "tickfont": {
          "color": "#4D5663"
         },
         "title": {
          "font": {
           "color": "#4D5663"
          },
          "text": ""
         },
         "zerolinecolor": "#E1E5ED"
        },
        "yaxis": {
         "domain": [
          0.3,
          1
         ],
         "gridcolor": "#E1E5ED",
         "showgrid": true,
         "tickfont": {
          "color": "#4D5663"
         },
         "title": {
          "font": {
           "color": "#4D5663"
          },
          "text": ""
         },
         "zerolinecolor": "#E1E5ED"
        },
        "yaxis2": {
         "domain": [
          0,
          0.25
         ],
         "gridcolor": "#E1E5ED",
         "showgrid": true,
         "tickfont": {
          "color": "#4D5663"
         },
         "title": {
          "font": {
           "color": "#4D5663"
          },
          "text": "Spread"
         },
         "zerolinecolor": "#E1E5ED"
        }
       }
      },
      "text/html": [
       "<div>\n",
       "        \n",
       "        \n",
       "            <div id=\"4060c1f4-dcf7-4b34-907f-a1f3c1061ccb\" class=\"plotly-graph-div\" style=\"height:525px; width:100%;\"></div>\n",
       "            <script type=\"text/javascript\">\n",
       "                require([\"plotly\"], function(Plotly) {\n",
       "                    window.PLOTLYENV=window.PLOTLYENV || {};\n",
       "                    window.PLOTLYENV.BASE_URL='https://plot.ly';\n",
       "                    \n",
       "                if (document.getElementById(\"4060c1f4-dcf7-4b34-907f-a1f3c1061ccb\")) {\n",
       "                    Plotly.newPlot(\n",
       "                        '4060c1f4-dcf7-4b34-907f-a1f3c1061ccb',\n",
       "                        [{\"line\": {\"color\": \"rgba(255, 153, 51, 1.0)\", \"dash\": \"solid\", \"shape\": \"linear\", \"width\": 1.3}, \"mode\": \"lines\", \"name\": \"A\", \"text\": \"\", \"type\": \"scatter\", \"x\": [0, 1, 2, 3, 4, 5, 6, 7, 8, 9, 10, 11, 12, 13, 14, 15, 16, 17, 18, 19, 20, 21, 22, 23, 24, 25, 26, 27, 28, 29, 30, 31, 32, 33, 34, 35, 36, 37, 38, 39, 40, 41, 42, 43, 44, 45, 46, 47, 48, 49, 50, 51, 52, 53, 54, 55, 56, 57, 58, 59, 60, 61, 62, 63, 64, 65, 66, 67, 68, 69, 70, 71, 72, 73, 74, 75, 76, 77, 78, 79, 80, 81, 82, 83, 84, 85, 86, 87, 88, 89, 90, 91, 92, 93, 94, 95, 96, 97, 98, 99], \"y\": [-1.3583402229536823, 0.0921673543459956, 0.4492594820576442, 0.6996025908357328, 2.1495250286838616, 0.24183106597206416, -0.8776832110040302, 1.0541732492278562, 0.08523758205433592, 0.4987407976187166, -0.42692187830303097, 0.3314238788412063, 0.8110203721335073, -1.892486336094162, -0.1986687733189751, -0.3859351717543113, 0.7622079403895549, 1.1342981825914735, -0.616705435419684, -0.12151918045946218, -1.1011316897029537, 0.3328629568633669, -1.0208981270296031, 0.053983225088959017, 0.3725114124839771, 0.10267108207518853, -1.1665665557543183, 0.054504419339731255, 0.07843971579163007, -0.5986900927551946, -1.1908876386329161, -0.9428019176036524, -0.20836288106335712, 2.0638412236218913, -0.08800663468845793, 2.3489296854756243, -0.328825492717537, 0.13679328526719142, 1.6362966816412452, -0.9865169458002857, 0.5322172281903023, 1.8126956542853345, 2.0187951705084726, 0.34262285700030415, -0.4049678282336819, -2.1252404889520555, 0.3577431068537883, 0.6213330482766051, 1.1533821829453454, 1.536912657916139, 2.008920554498628, -1.585227803158716, -0.8722662480875408, -0.15051809032390423, -1.0062867067219174, 1.8397911379130851, -0.06621953199647992, -1.2920370371673158, 0.5436718522445453, 0.5423224416184557, 1.5511194828341233, 0.13070055937739156, -0.44912176704902335, -0.2616470902800413, 0.345449072564648, -0.21847852159286552, -1.547915716754144, -0.24297968869274658, 0.10713560266622875, -0.03071741252082736, 0.6189888818452682, 0.949788377696495, -0.31913257258760963, 1.029866696113866, 0.2163440437977718, -1.9076255260432537, 0.9911538059288, -1.2938190969419967, -1.556975158647537, -0.8567798093066372, 1.1061307231493411, 0.8210251094170343, -0.8752867994424044, -1.3312503684676744, -0.15270325556453376, -1.6312580962345506, 1.8820767353613506, 0.2876026635475839, -0.8927184511718702, 0.8929654454438709, 0.6600185178648303, -1.2544677962637543, 1.0241195756808887, 1.7451061541136383, 1.6784492852125634, -0.209804057404903, 2.7179971818449857, 0.15330230160949973, 0.8962390746892906, 0.21855533520777062]}, {\"line\": {\"color\": \"rgba(55, 128, 191, 1.0)\", \"dash\": \"solid\", \"shape\": \"linear\", \"width\": 1.3}, \"mode\": \"lines\", \"name\": \"B\", \"text\": \"\", \"type\": \"scatter\", \"x\": [0, 1, 2, 3, 4, 5, 6, 7, 8, 9, 10, 11, 12, 13, 14, 15, 16, 17, 18, 19, 20, 21, 22, 23, 24, 25, 26, 27, 28, 29, 30, 31, 32, 33, 34, 35, 36, 37, 38, 39, 40, 41, 42, 43, 44, 45, 46, 47, 48, 49, 50, 51, 52, 53, 54, 55, 56, 57, 58, 59, 60, 61, 62, 63, 64, 65, 66, 67, 68, 69, 70, 71, 72, 73, 74, 75, 76, 77, 78, 79, 80, 81, 82, 83, 84, 85, 86, 87, 88, 89, 90, 91, 92, 93, 94, 95, 96, 97, 98, 99], \"y\": [0.7062159335042797, 0.7219254733761484, 0.5463129397908424, -0.6931529077523799, -1.6825415343319072, -0.163715476768212, 1.2542694738069151, 0.2874131009769991, -1.263462719563245, -0.7238140467351619, 2.184714958062746, -2.8697379154159677, -0.7409720185625667, 0.699470418188912, -1.2082057874168277, 1.172505684652955, 0.6764855553881596, 0.6145175314457706, 0.3998685213240509, 0.6011537674657929, -0.17760909229636285, -0.27164619891261593, 0.016783537950853814, -0.3152415327654973, 1.040155078188417, -1.6181904077672757, -0.6267969219734727, 0.3150579764877128, 1.1278776716162962, 1.8773340948873105, -0.1514056836070442, 0.3375374850890802, -1.4616285328336531, -0.8198419318788835, 0.8243541156979151, -0.40253086793801673, 0.11161375634635512, 0.8110433849900274, -0.7372647622097733, 0.5951094858811783, 1.788231465632863, 1.6096544305491811, -1.6724569437258132, -0.5343499938543699, -0.42080029902949184, 0.7017532920558198, -1.8095562597566381, 0.08967981171876918, 1.3014844394723237, -0.008188048042794197, 0.5120041176666327, 0.6307009822539876, 0.20535907665217643, 0.40208846119323083, -0.6250359423978179, -1.3173115747022526, 0.7934196396570694, 0.021772115789257137, 0.089532532038497, -0.3461312566174257, -1.3515693099417592, -0.8125304190004683, 0.6460317056406156, 2.5682487716392797, -1.3928851372548272, 0.49240556188681406, -1.3404633687098704, 0.4092479859742962, -0.055251692720409536, -0.40605510886442653, -1.7490729669018399, 0.9484082473493582, -0.25030755921934555, 1.1063585220126273, -1.285180609868798, -0.27944973884190905, 1.5788577983747496, 1.0687556988535705, 0.8847765838108002, 0.13394864375601528, 0.75925337178594, -0.1634560803366644, 0.07831300439827604, -0.8908680973465573, -1.3336711135597754, 0.5742058122235427, 0.8020214805889448, 2.9226570311911457, -1.3427501538316637, 0.6004478098801661, 0.0005468704148372964, 0.4825037294818465, -1.0839290848485301, -1.7338844652392993, 0.30343207245100284, -0.13956794322089353, 0.24250586024809148, -0.2763816144379349, -1.3194412611454425, 0.02032522014388897]}, {\"connectgaps\": false, \"fill\": \"tozeroy\", \"line\": {\"color\": \"green\", \"dash\": \"solid\", \"shape\": \"linear\", \"width\": 0.5}, \"mode\": \"lines\", \"name\": \"Spread\", \"showlegend\": false, \"type\": \"scatter\", \"x\": [0, 1, 2, 3, 4, 5, 6, 7, 8, 9, 10, 11, 12, 13, 14, 15, 16, 17, 18, 19, 20, 21, 22, 23, 24, 25, 26, 27, 28, 29, 30, 31, 32, 33, 34, 35, 36, 37, 38, 39, 40, 41, 42, 43, 44, 45, 46, 47, 48, 49, 50, 51, 52, 53, 54, 55, 56, 57, 58, 59, 60, 61, 62, 63, 64, 65, 66, 67, 68, 69, 70, 71, 72, 73, 74, 75, 76, 77, 78, 79, 80, 81, 82, 83, 84, 85, 86, 87, 88, 89, 90, 91, 92, 93, 94, 95, 96, 97, 98, 99], \"xaxis\": \"x2\", \"y\": [\"\", \"\", \"\", 1.3927554985881128, 3.832066563015769, 0.40554654274027613, \"\", 0.766760148250857, 1.348700301617581, 1.2225548443538785, \"\", 3.2011617942571737, 1.551992390696074, \"\", 1.0095370140978526, \"\", 0.08572238500139528, 0.5197806511457029, \"\", \"\", \"\", 0.6045091557759829, \"\", 0.36922475785445635, \"\", 1.7208614898424643, \"\", \"\", \"\", \"\", \"\", \"\", 1.253265651770296, 2.883683155500775, \"\", 2.751460553413641, \"\", \"\", 2.3735614438510186, \"\", \"\", 0.2030412237361534, 3.6912521142342856, 0.876972850854674, 0.01583247079580996, \"\", 2.1672993666104263, 0.5316532365578359, \"\", 1.5451007059589332, 1.4969164368319956, \"\", \"\", \"\", \"\", 3.1571027126153375, \"\", \"\", 0.4541393202060483, 0.8884536982358814, 2.9026887927758827, 0.9432309783778599, \"\", \"\", 1.7383342098194752, \"\", \"\", \"\", 0.1623872953866383, 0.37533769634359915, 2.368061848747108, 0.0013801303471367987, \"\", \"\", 1.5015246536665696, \"\", \"\", \"\", \"\", \"\", 0.34687735136340114, 0.9844811897536987, \"\", \"\", 1.1809678579952416, \"\", 1.0800552547724056, \"\", 0.45003170265979353, 0.2925176355637048, 0.6594716474499931, \"\", 2.108048660529419, 3.4789906193529374, 1.3750172127615605, \"\", 2.4754913215968943, 0.4296839160474346, 2.2156803358347332, 0.19823011506388166], \"yaxis\": \"y2\"}, {\"connectgaps\": false, \"fill\": \"tozeroy\", \"line\": {\"color\": \"red\", \"dash\": \"solid\", \"shape\": \"linear\", \"width\": 0.5}, \"mode\": \"lines\", \"name\": \"Spread\", \"showlegend\": false, \"type\": \"scatter\", \"x\": [0, 1, 2, 3, 4, 5, 6, 7, 8, 9, 10, 11, 12, 13, 14, 15, 16, 17, 18, 19, 20, 21, 22, 23, 24, 25, 26, 27, 28, 29, 30, 31, 32, 33, 34, 35, 36, 37, 38, 39, 40, 41, 42, 43, 44, 45, 46, 47, 48, 49, 50, 51, 52, 53, 54, 55, 56, 57, 58, 59, 60, 61, 62, 63, 64, 65, 66, 67, 68, 69, 70, 71, 72, 73, 74, 75, 76, 77, 78, 79, 80, 81, 82, 83, 84, 85, 86, 87, 88, 89, 90, 91, 92, 93, 94, 95, 96, 97, 98, 99], \"xaxis\": \"x2\", \"y\": [-2.0645561564579618, -0.6297581190301529, -0.09705345773319818, \"\", \"\", \"\", -2.1319526848109454, \"\", \"\", \"\", -2.611636836365777, \"\", \"\", -2.591956754283074, \"\", -1.5584408564072663, \"\", \"\", -1.0165739567437349, -0.722672947925255, -0.9235225974065908, \"\", -1.037681664980457, \"\", -0.6676436657044399, \"\", -0.5397696337808456, -0.2605535571479815, -1.049437955824666, -2.476024187642505, -1.039481955025872, -1.2803394026927326, \"\", \"\", -0.912360750386373, \"\", -0.44043924906389215, -0.674250099722836, \"\", -1.5816264316814639, -1.2560142374425607, \"\", \"\", \"\", \"\", -2.826993781007875, \"\", \"\", -0.14810225652697828, \"\", \"\", -2.2159287854127037, -1.0776253247397172, -0.552606551517135, -0.38125076432409954, \"\", -0.8596391716535493, -1.313809152956573, \"\", \"\", \"\", \"\", -1.095153472689639, -2.829895861919321, \"\", -0.7108840834796796, -0.2074523480442736, -0.6522276746670428, \"\", \"\", \"\", \"\", -0.06882501336826408, -0.07649182589876125, \"\", -1.6281757872013447, -0.5877039924459496, -2.362574795795567, -2.4417517424583375, -0.9907284530626526, \"\", \"\", -0.9535998038406804, -0.44038227112111716, \"\", -2.2054639084580936, \"\", -2.635054367643562, \"\", \"\", \"\", -1.7369715257456009, \"\", \"\", \"\", -0.07023611418400946, \"\", \"\", \"\", \"\"], \"yaxis\": \"y2\"}],\n",
       "                        {\"hovermode\": \"x\", \"legend\": {\"bgcolor\": \"#F5F6F9\", \"font\": {\"color\": \"#4D5663\"}}, \"paper_bgcolor\": \"#F5F6F9\", \"plot_bgcolor\": \"#F5F6F9\", \"template\": {\"data\": {\"bar\": [{\"error_x\": {\"color\": \"#2a3f5f\"}, \"error_y\": {\"color\": \"#2a3f5f\"}, \"marker\": {\"line\": {\"color\": \"#E5ECF6\", \"width\": 0.5}}, \"type\": \"bar\"}], \"barpolar\": [{\"marker\": {\"line\": {\"color\": \"#E5ECF6\", \"width\": 0.5}}, \"type\": \"barpolar\"}], \"carpet\": [{\"aaxis\": {\"endlinecolor\": \"#2a3f5f\", \"gridcolor\": \"white\", \"linecolor\": \"white\", \"minorgridcolor\": \"white\", \"startlinecolor\": \"#2a3f5f\"}, \"baxis\": {\"endlinecolor\": \"#2a3f5f\", \"gridcolor\": \"white\", \"linecolor\": \"white\", \"minorgridcolor\": \"white\", \"startlinecolor\": \"#2a3f5f\"}, \"type\": \"carpet\"}], \"choropleth\": [{\"colorbar\": {\"outlinewidth\": 0, \"ticks\": \"\"}, \"type\": \"choropleth\"}], \"contour\": [{\"colorbar\": {\"outlinewidth\": 0, \"ticks\": \"\"}, \"colorscale\": [[0.0, \"#0d0887\"], [0.1111111111111111, \"#46039f\"], [0.2222222222222222, \"#7201a8\"], [0.3333333333333333, \"#9c179e\"], [0.4444444444444444, \"#bd3786\"], [0.5555555555555556, \"#d8576b\"], [0.6666666666666666, \"#ed7953\"], [0.7777777777777778, \"#fb9f3a\"], [0.8888888888888888, \"#fdca26\"], [1.0, \"#f0f921\"]], \"type\": \"contour\"}], \"contourcarpet\": [{\"colorbar\": {\"outlinewidth\": 0, \"ticks\": \"\"}, \"type\": \"contourcarpet\"}], \"heatmap\": [{\"colorbar\": {\"outlinewidth\": 0, \"ticks\": \"\"}, \"colorscale\": [[0.0, \"#0d0887\"], [0.1111111111111111, \"#46039f\"], [0.2222222222222222, \"#7201a8\"], [0.3333333333333333, \"#9c179e\"], [0.4444444444444444, \"#bd3786\"], [0.5555555555555556, \"#d8576b\"], [0.6666666666666666, \"#ed7953\"], [0.7777777777777778, \"#fb9f3a\"], [0.8888888888888888, \"#fdca26\"], [1.0, \"#f0f921\"]], \"type\": \"heatmap\"}], \"heatmapgl\": [{\"colorbar\": {\"outlinewidth\": 0, \"ticks\": \"\"}, \"colorscale\": [[0.0, \"#0d0887\"], [0.1111111111111111, \"#46039f\"], [0.2222222222222222, \"#7201a8\"], [0.3333333333333333, \"#9c179e\"], [0.4444444444444444, \"#bd3786\"], [0.5555555555555556, \"#d8576b\"], [0.6666666666666666, \"#ed7953\"], [0.7777777777777778, \"#fb9f3a\"], [0.8888888888888888, \"#fdca26\"], [1.0, \"#f0f921\"]], \"type\": \"heatmapgl\"}], \"histogram\": [{\"marker\": {\"colorbar\": {\"outlinewidth\": 0, \"ticks\": \"\"}}, \"type\": \"histogram\"}], \"histogram2d\": [{\"colorbar\": {\"outlinewidth\": 0, \"ticks\": \"\"}, \"colorscale\": [[0.0, \"#0d0887\"], [0.1111111111111111, \"#46039f\"], [0.2222222222222222, \"#7201a8\"], [0.3333333333333333, \"#9c179e\"], [0.4444444444444444, \"#bd3786\"], [0.5555555555555556, \"#d8576b\"], [0.6666666666666666, \"#ed7953\"], [0.7777777777777778, \"#fb9f3a\"], [0.8888888888888888, \"#fdca26\"], [1.0, \"#f0f921\"]], \"type\": \"histogram2d\"}], \"histogram2dcontour\": [{\"colorbar\": {\"outlinewidth\": 0, \"ticks\": \"\"}, \"colorscale\": [[0.0, \"#0d0887\"], [0.1111111111111111, \"#46039f\"], [0.2222222222222222, \"#7201a8\"], [0.3333333333333333, \"#9c179e\"], [0.4444444444444444, \"#bd3786\"], [0.5555555555555556, \"#d8576b\"], [0.6666666666666666, \"#ed7953\"], [0.7777777777777778, \"#fb9f3a\"], [0.8888888888888888, \"#fdca26\"], [1.0, \"#f0f921\"]], \"type\": \"histogram2dcontour\"}], \"mesh3d\": [{\"colorbar\": {\"outlinewidth\": 0, \"ticks\": \"\"}, \"type\": \"mesh3d\"}], \"parcoords\": [{\"line\": {\"colorbar\": {\"outlinewidth\": 0, \"ticks\": \"\"}}, \"type\": \"parcoords\"}], \"pie\": [{\"automargin\": true, \"type\": \"pie\"}], \"scatter\": [{\"marker\": {\"colorbar\": {\"outlinewidth\": 0, \"ticks\": \"\"}}, \"type\": \"scatter\"}], \"scatter3d\": [{\"line\": {\"colorbar\": {\"outlinewidth\": 0, \"ticks\": \"\"}}, \"marker\": {\"colorbar\": {\"outlinewidth\": 0, \"ticks\": \"\"}}, \"type\": \"scatter3d\"}], \"scattercarpet\": [{\"marker\": {\"colorbar\": {\"outlinewidth\": 0, \"ticks\": \"\"}}, \"type\": \"scattercarpet\"}], \"scattergeo\": [{\"marker\": {\"colorbar\": {\"outlinewidth\": 0, \"ticks\": \"\"}}, \"type\": \"scattergeo\"}], \"scattergl\": [{\"marker\": {\"colorbar\": {\"outlinewidth\": 0, \"ticks\": \"\"}}, \"type\": \"scattergl\"}], \"scattermapbox\": [{\"marker\": {\"colorbar\": {\"outlinewidth\": 0, \"ticks\": \"\"}}, \"type\": \"scattermapbox\"}], \"scatterpolar\": [{\"marker\": {\"colorbar\": {\"outlinewidth\": 0, \"ticks\": \"\"}}, \"type\": \"scatterpolar\"}], \"scatterpolargl\": [{\"marker\": {\"colorbar\": {\"outlinewidth\": 0, \"ticks\": \"\"}}, \"type\": \"scatterpolargl\"}], \"scatterternary\": [{\"marker\": {\"colorbar\": {\"outlinewidth\": 0, \"ticks\": \"\"}}, \"type\": \"scatterternary\"}], \"surface\": [{\"colorbar\": {\"outlinewidth\": 0, \"ticks\": \"\"}, \"colorscale\": [[0.0, \"#0d0887\"], [0.1111111111111111, \"#46039f\"], [0.2222222222222222, \"#7201a8\"], [0.3333333333333333, \"#9c179e\"], [0.4444444444444444, \"#bd3786\"], [0.5555555555555556, \"#d8576b\"], [0.6666666666666666, \"#ed7953\"], [0.7777777777777778, \"#fb9f3a\"], [0.8888888888888888, \"#fdca26\"], [1.0, \"#f0f921\"]], \"type\": \"surface\"}], \"table\": [{\"cells\": {\"fill\": {\"color\": \"#EBF0F8\"}, \"line\": {\"color\": \"white\"}}, \"header\": {\"fill\": {\"color\": \"#C8D4E3\"}, \"line\": {\"color\": \"white\"}}, \"type\": \"table\"}]}, \"layout\": {\"annotationdefaults\": {\"arrowcolor\": \"#2a3f5f\", \"arrowhead\": 0, \"arrowwidth\": 1}, \"coloraxis\": {\"colorbar\": {\"outlinewidth\": 0, \"ticks\": \"\"}}, \"colorscale\": {\"diverging\": [[0, \"#8e0152\"], [0.1, \"#c51b7d\"], [0.2, \"#de77ae\"], [0.3, \"#f1b6da\"], [0.4, \"#fde0ef\"], [0.5, \"#f7f7f7\"], [0.6, \"#e6f5d0\"], [0.7, \"#b8e186\"], [0.8, \"#7fbc41\"], [0.9, \"#4d9221\"], [1, \"#276419\"]], \"sequential\": [[0.0, \"#0d0887\"], [0.1111111111111111, \"#46039f\"], [0.2222222222222222, \"#7201a8\"], [0.3333333333333333, \"#9c179e\"], [0.4444444444444444, \"#bd3786\"], [0.5555555555555556, \"#d8576b\"], [0.6666666666666666, \"#ed7953\"], [0.7777777777777778, \"#fb9f3a\"], [0.8888888888888888, \"#fdca26\"], [1.0, \"#f0f921\"]], \"sequentialminus\": [[0.0, \"#0d0887\"], [0.1111111111111111, \"#46039f\"], [0.2222222222222222, \"#7201a8\"], [0.3333333333333333, \"#9c179e\"], [0.4444444444444444, \"#bd3786\"], [0.5555555555555556, \"#d8576b\"], [0.6666666666666666, \"#ed7953\"], [0.7777777777777778, \"#fb9f3a\"], [0.8888888888888888, \"#fdca26\"], [1.0, \"#f0f921\"]]}, \"colorway\": [\"#636efa\", \"#EF553B\", \"#00cc96\", \"#ab63fa\", \"#FFA15A\", \"#19d3f3\", \"#FF6692\", \"#B6E880\", \"#FF97FF\", \"#FECB52\"], \"font\": {\"color\": \"#2a3f5f\"}, \"geo\": {\"bgcolor\": \"white\", \"lakecolor\": \"white\", \"landcolor\": \"#E5ECF6\", \"showlakes\": true, \"showland\": true, \"subunitcolor\": \"white\"}, \"hoverlabel\": {\"align\": \"left\"}, \"hovermode\": \"closest\", \"mapbox\": {\"style\": \"light\"}, \"paper_bgcolor\": \"white\", \"plot_bgcolor\": \"#E5ECF6\", \"polar\": {\"angularaxis\": {\"gridcolor\": \"white\", \"linecolor\": \"white\", \"ticks\": \"\"}, \"bgcolor\": \"#E5ECF6\", \"radialaxis\": {\"gridcolor\": \"white\", \"linecolor\": \"white\", \"ticks\": \"\"}}, \"scene\": {\"xaxis\": {\"backgroundcolor\": \"#E5ECF6\", \"gridcolor\": \"white\", \"gridwidth\": 2, \"linecolor\": \"white\", \"showbackground\": true, \"ticks\": \"\", \"zerolinecolor\": \"white\"}, \"yaxis\": {\"backgroundcolor\": \"#E5ECF6\", \"gridcolor\": \"white\", \"gridwidth\": 2, \"linecolor\": \"white\", \"showbackground\": true, \"ticks\": \"\", \"zerolinecolor\": \"white\"}, \"zaxis\": {\"backgroundcolor\": \"#E5ECF6\", \"gridcolor\": \"white\", \"gridwidth\": 2, \"linecolor\": \"white\", \"showbackground\": true, \"ticks\": \"\", \"zerolinecolor\": \"white\"}}, \"shapedefaults\": {\"line\": {\"color\": \"#2a3f5f\"}}, \"ternary\": {\"aaxis\": {\"gridcolor\": \"white\", \"linecolor\": \"white\", \"ticks\": \"\"}, \"baxis\": {\"gridcolor\": \"white\", \"linecolor\": \"white\", \"ticks\": \"\"}, \"bgcolor\": \"#E5ECF6\", \"caxis\": {\"gridcolor\": \"white\", \"linecolor\": \"white\", \"ticks\": \"\"}}, \"title\": {\"x\": 0.05}, \"xaxis\": {\"automargin\": true, \"gridcolor\": \"white\", \"linecolor\": \"white\", \"ticks\": \"\", \"title\": {\"standoff\": 15}, \"zerolinecolor\": \"white\", \"zerolinewidth\": 2}, \"yaxis\": {\"automargin\": true, \"gridcolor\": \"white\", \"linecolor\": \"white\", \"ticks\": \"\", \"title\": {\"standoff\": 15}, \"zerolinecolor\": \"white\", \"zerolinewidth\": 2}}}, \"title\": {\"font\": {\"color\": \"#4D5663\"}}, \"xaxis\": {\"gridcolor\": \"#E1E5ED\", \"showgrid\": true, \"tickfont\": {\"color\": \"#4D5663\"}, \"title\": {\"font\": {\"color\": \"#4D5663\"}, \"text\": \"\"}, \"zerolinecolor\": \"#E1E5ED\"}, \"xaxis2\": {\"anchor\": \"y2\", \"gridcolor\": \"#E1E5ED\", \"showgrid\": true, \"showticklabels\": false, \"tickfont\": {\"color\": \"#4D5663\"}, \"title\": {\"font\": {\"color\": \"#4D5663\"}, \"text\": \"\"}, \"zerolinecolor\": \"#E1E5ED\"}, \"yaxis\": {\"domain\": [0.3, 1], \"gridcolor\": \"#E1E5ED\", \"showgrid\": true, \"tickfont\": {\"color\": \"#4D5663\"}, \"title\": {\"font\": {\"color\": \"#4D5663\"}, \"text\": \"\"}, \"zerolinecolor\": \"#E1E5ED\"}, \"yaxis2\": {\"domain\": [0, 0.25], \"gridcolor\": \"#E1E5ED\", \"showgrid\": true, \"tickfont\": {\"color\": \"#4D5663\"}, \"title\": {\"font\": {\"color\": \"#4D5663\"}, \"text\": \"Spread\"}, \"zerolinecolor\": \"#E1E5ED\"}},\n",
       "                        {\"showLink\": true, \"linkText\": \"Export to plot.ly\", \"plotlyServerURL\": \"https://plot.ly\", \"responsive\": true}\n",
       "                    ).then(function(){\n",
       "                            \n",
       "var gd = document.getElementById('4060c1f4-dcf7-4b34-907f-a1f3c1061ccb');\n",
       "var x = new MutationObserver(function (mutations, observer) {{\n",
       "        var display = window.getComputedStyle(gd).display;\n",
       "        if (!display || display === 'none') {{\n",
       "            console.log([gd, 'removed!']);\n",
       "            Plotly.purge(gd);\n",
       "            observer.disconnect();\n",
       "        }}\n",
       "}});\n",
       "\n",
       "// Listen for the removal of the full notebook cells\n",
       "var notebookContainer = gd.closest('#notebook-container');\n",
       "if (notebookContainer) {{\n",
       "    x.observe(notebookContainer, {childList: true});\n",
       "}}\n",
       "\n",
       "// Listen for the clearing of the current output cell\n",
       "var outputEl = gd.closest('.output');\n",
       "if (outputEl) {{\n",
       "    x.observe(outputEl, {childList: true});\n",
       "}}\n",
       "\n",
       "                        })\n",
       "                };\n",
       "                });\n",
       "            </script>\n",
       "        </div>"
      ]
     },
     "metadata": {},
     "output_type": "display_data"
    }
   ],
   "source": [
    "df[['A','B']].iplot(kind='spread')"
   ]
  },
  {
   "cell_type": "markdown",
   "metadata": {},
   "source": [
    "## Histogram"
   ]
  },
  {
   "cell_type": "code",
   "execution_count": 18,
   "metadata": {},
   "outputs": [
    {
     "data": {
      "application/vnd.plotly.v1+json": {
       "config": {
        "linkText": "Export to plot.ly",
        "plotlyServerURL": "https://plot.ly",
        "showLink": true
       },
       "data": [
        {
         "histfunc": "count",
         "histnorm": "",
         "marker": {
          "color": "rgba(255, 153, 51, 1.0)",
          "line": {
           "color": "#4D5663",
           "width": 1.3
          }
         },
         "name": "A",
         "nbinsx": 25,
         "opacity": 0.8,
         "orientation": "v",
         "type": "histogram",
         "x": [
          -1.3583402229536823,
          0.0921673543459956,
          0.4492594820576442,
          0.6996025908357328,
          2.1495250286838616,
          0.24183106597206416,
          -0.8776832110040302,
          1.0541732492278562,
          0.08523758205433592,
          0.4987407976187166,
          -0.42692187830303097,
          0.3314238788412063,
          0.8110203721335073,
          -1.892486336094162,
          -0.1986687733189751,
          -0.3859351717543113,
          0.7622079403895549,
          1.1342981825914735,
          -0.616705435419684,
          -0.12151918045946218,
          -1.1011316897029537,
          0.3328629568633669,
          -1.0208981270296031,
          0.053983225088959017,
          0.3725114124839771,
          0.10267108207518853,
          -1.1665665557543183,
          0.054504419339731255,
          0.07843971579163007,
          -0.5986900927551946,
          -1.1908876386329161,
          -0.9428019176036524,
          -0.20836288106335712,
          2.0638412236218913,
          -0.08800663468845793,
          2.3489296854756243,
          -0.328825492717537,
          0.13679328526719142,
          1.6362966816412452,
          -0.9865169458002857,
          0.5322172281903023,
          1.8126956542853345,
          2.0187951705084726,
          0.34262285700030415,
          -0.4049678282336819,
          -2.1252404889520555,
          0.3577431068537883,
          0.6213330482766051,
          1.1533821829453454,
          1.536912657916139,
          2.008920554498628,
          -1.585227803158716,
          -0.8722662480875408,
          -0.15051809032390423,
          -1.0062867067219174,
          1.8397911379130851,
          -0.06621953199647992,
          -1.2920370371673158,
          0.5436718522445453,
          0.5423224416184557,
          1.5511194828341233,
          0.13070055937739156,
          -0.44912176704902335,
          -0.2616470902800413,
          0.345449072564648,
          -0.21847852159286552,
          -1.547915716754144,
          -0.24297968869274658,
          0.10713560266622875,
          -0.03071741252082736,
          0.6189888818452682,
          0.949788377696495,
          -0.31913257258760963,
          1.029866696113866,
          0.2163440437977718,
          -1.9076255260432537,
          0.9911538059288,
          -1.2938190969419967,
          -1.556975158647537,
          -0.8567798093066372,
          1.1061307231493411,
          0.8210251094170343,
          -0.8752867994424044,
          -1.3312503684676744,
          -0.15270325556453376,
          -1.6312580962345506,
          1.8820767353613506,
          0.2876026635475839,
          -0.8927184511718702,
          0.8929654454438709,
          0.6600185178648303,
          -1.2544677962637543,
          1.0241195756808887,
          1.7451061541136383,
          1.6784492852125634,
          -0.209804057404903,
          2.7179971818449857,
          0.15330230160949973,
          0.8962390746892906,
          0.21855533520777062
         ]
        }
       ],
       "layout": {
        "barmode": "overlay",
        "legend": {
         "bgcolor": "#F5F6F9",
         "font": {
          "color": "#4D5663"
         }
        },
        "paper_bgcolor": "#F5F6F9",
        "plot_bgcolor": "#F5F6F9",
        "template": {
         "data": {
          "bar": [
           {
            "error_x": {
             "color": "#2a3f5f"
            },
            "error_y": {
             "color": "#2a3f5f"
            },
            "marker": {
             "line": {
              "color": "#E5ECF6",
              "width": 0.5
             }
            },
            "type": "bar"
           }
          ],
          "barpolar": [
           {
            "marker": {
             "line": {
              "color": "#E5ECF6",
              "width": 0.5
             }
            },
            "type": "barpolar"
           }
          ],
          "carpet": [
           {
            "aaxis": {
             "endlinecolor": "#2a3f5f",
             "gridcolor": "white",
             "linecolor": "white",
             "minorgridcolor": "white",
             "startlinecolor": "#2a3f5f"
            },
            "baxis": {
             "endlinecolor": "#2a3f5f",
             "gridcolor": "white",
             "linecolor": "white",
             "minorgridcolor": "white",
             "startlinecolor": "#2a3f5f"
            },
            "type": "carpet"
           }
          ],
          "choropleth": [
           {
            "colorbar": {
             "outlinewidth": 0,
             "ticks": ""
            },
            "type": "choropleth"
           }
          ],
          "contour": [
           {
            "colorbar": {
             "outlinewidth": 0,
             "ticks": ""
            },
            "colorscale": [
             [
              0,
              "#0d0887"
             ],
             [
              0.1111111111111111,
              "#46039f"
             ],
             [
              0.2222222222222222,
              "#7201a8"
             ],
             [
              0.3333333333333333,
              "#9c179e"
             ],
             [
              0.4444444444444444,
              "#bd3786"
             ],
             [
              0.5555555555555556,
              "#d8576b"
             ],
             [
              0.6666666666666666,
              "#ed7953"
             ],
             [
              0.7777777777777778,
              "#fb9f3a"
             ],
             [
              0.8888888888888888,
              "#fdca26"
             ],
             [
              1,
              "#f0f921"
             ]
            ],
            "type": "contour"
           }
          ],
          "contourcarpet": [
           {
            "colorbar": {
             "outlinewidth": 0,
             "ticks": ""
            },
            "type": "contourcarpet"
           }
          ],
          "heatmap": [
           {
            "colorbar": {
             "outlinewidth": 0,
             "ticks": ""
            },
            "colorscale": [
             [
              0,
              "#0d0887"
             ],
             [
              0.1111111111111111,
              "#46039f"
             ],
             [
              0.2222222222222222,
              "#7201a8"
             ],
             [
              0.3333333333333333,
              "#9c179e"
             ],
             [
              0.4444444444444444,
              "#bd3786"
             ],
             [
              0.5555555555555556,
              "#d8576b"
             ],
             [
              0.6666666666666666,
              "#ed7953"
             ],
             [
              0.7777777777777778,
              "#fb9f3a"
             ],
             [
              0.8888888888888888,
              "#fdca26"
             ],
             [
              1,
              "#f0f921"
             ]
            ],
            "type": "heatmap"
           }
          ],
          "heatmapgl": [
           {
            "colorbar": {
             "outlinewidth": 0,
             "ticks": ""
            },
            "colorscale": [
             [
              0,
              "#0d0887"
             ],
             [
              0.1111111111111111,
              "#46039f"
             ],
             [
              0.2222222222222222,
              "#7201a8"
             ],
             [
              0.3333333333333333,
              "#9c179e"
             ],
             [
              0.4444444444444444,
              "#bd3786"
             ],
             [
              0.5555555555555556,
              "#d8576b"
             ],
             [
              0.6666666666666666,
              "#ed7953"
             ],
             [
              0.7777777777777778,
              "#fb9f3a"
             ],
             [
              0.8888888888888888,
              "#fdca26"
             ],
             [
              1,
              "#f0f921"
             ]
            ],
            "type": "heatmapgl"
           }
          ],
          "histogram": [
           {
            "marker": {
             "colorbar": {
              "outlinewidth": 0,
              "ticks": ""
             }
            },
            "type": "histogram"
           }
          ],
          "histogram2d": [
           {
            "colorbar": {
             "outlinewidth": 0,
             "ticks": ""
            },
            "colorscale": [
             [
              0,
              "#0d0887"
             ],
             [
              0.1111111111111111,
              "#46039f"
             ],
             [
              0.2222222222222222,
              "#7201a8"
             ],
             [
              0.3333333333333333,
              "#9c179e"
             ],
             [
              0.4444444444444444,
              "#bd3786"
             ],
             [
              0.5555555555555556,
              "#d8576b"
             ],
             [
              0.6666666666666666,
              "#ed7953"
             ],
             [
              0.7777777777777778,
              "#fb9f3a"
             ],
             [
              0.8888888888888888,
              "#fdca26"
             ],
             [
              1,
              "#f0f921"
             ]
            ],
            "type": "histogram2d"
           }
          ],
          "histogram2dcontour": [
           {
            "colorbar": {
             "outlinewidth": 0,
             "ticks": ""
            },
            "colorscale": [
             [
              0,
              "#0d0887"
             ],
             [
              0.1111111111111111,
              "#46039f"
             ],
             [
              0.2222222222222222,
              "#7201a8"
             ],
             [
              0.3333333333333333,
              "#9c179e"
             ],
             [
              0.4444444444444444,
              "#bd3786"
             ],
             [
              0.5555555555555556,
              "#d8576b"
             ],
             [
              0.6666666666666666,
              "#ed7953"
             ],
             [
              0.7777777777777778,
              "#fb9f3a"
             ],
             [
              0.8888888888888888,
              "#fdca26"
             ],
             [
              1,
              "#f0f921"
             ]
            ],
            "type": "histogram2dcontour"
           }
          ],
          "mesh3d": [
           {
            "colorbar": {
             "outlinewidth": 0,
             "ticks": ""
            },
            "type": "mesh3d"
           }
          ],
          "parcoords": [
           {
            "line": {
             "colorbar": {
              "outlinewidth": 0,
              "ticks": ""
             }
            },
            "type": "parcoords"
           }
          ],
          "pie": [
           {
            "automargin": true,
            "type": "pie"
           }
          ],
          "scatter": [
           {
            "marker": {
             "colorbar": {
              "outlinewidth": 0,
              "ticks": ""
             }
            },
            "type": "scatter"
           }
          ],
          "scatter3d": [
           {
            "line": {
             "colorbar": {
              "outlinewidth": 0,
              "ticks": ""
             }
            },
            "marker": {
             "colorbar": {
              "outlinewidth": 0,
              "ticks": ""
             }
            },
            "type": "scatter3d"
           }
          ],
          "scattercarpet": [
           {
            "marker": {
             "colorbar": {
              "outlinewidth": 0,
              "ticks": ""
             }
            },
            "type": "scattercarpet"
           }
          ],
          "scattergeo": [
           {
            "marker": {
             "colorbar": {
              "outlinewidth": 0,
              "ticks": ""
             }
            },
            "type": "scattergeo"
           }
          ],
          "scattergl": [
           {
            "marker": {
             "colorbar": {
              "outlinewidth": 0,
              "ticks": ""
             }
            },
            "type": "scattergl"
           }
          ],
          "scattermapbox": [
           {
            "marker": {
             "colorbar": {
              "outlinewidth": 0,
              "ticks": ""
             }
            },
            "type": "scattermapbox"
           }
          ],
          "scatterpolar": [
           {
            "marker": {
             "colorbar": {
              "outlinewidth": 0,
              "ticks": ""
             }
            },
            "type": "scatterpolar"
           }
          ],
          "scatterpolargl": [
           {
            "marker": {
             "colorbar": {
              "outlinewidth": 0,
              "ticks": ""
             }
            },
            "type": "scatterpolargl"
           }
          ],
          "scatterternary": [
           {
            "marker": {
             "colorbar": {
              "outlinewidth": 0,
              "ticks": ""
             }
            },
            "type": "scatterternary"
           }
          ],
          "surface": [
           {
            "colorbar": {
             "outlinewidth": 0,
             "ticks": ""
            },
            "colorscale": [
             [
              0,
              "#0d0887"
             ],
             [
              0.1111111111111111,
              "#46039f"
             ],
             [
              0.2222222222222222,
              "#7201a8"
             ],
             [
              0.3333333333333333,
              "#9c179e"
             ],
             [
              0.4444444444444444,
              "#bd3786"
             ],
             [
              0.5555555555555556,
              "#d8576b"
             ],
             [
              0.6666666666666666,
              "#ed7953"
             ],
             [
              0.7777777777777778,
              "#fb9f3a"
             ],
             [
              0.8888888888888888,
              "#fdca26"
             ],
             [
              1,
              "#f0f921"
             ]
            ],
            "type": "surface"
           }
          ],
          "table": [
           {
            "cells": {
             "fill": {
              "color": "#EBF0F8"
             },
             "line": {
              "color": "white"
             }
            },
            "header": {
             "fill": {
              "color": "#C8D4E3"
             },
             "line": {
              "color": "white"
             }
            },
            "type": "table"
           }
          ]
         },
         "layout": {
          "annotationdefaults": {
           "arrowcolor": "#2a3f5f",
           "arrowhead": 0,
           "arrowwidth": 1
          },
          "coloraxis": {
           "colorbar": {
            "outlinewidth": 0,
            "ticks": ""
           }
          },
          "colorscale": {
           "diverging": [
            [
             0,
             "#8e0152"
            ],
            [
             0.1,
             "#c51b7d"
            ],
            [
             0.2,
             "#de77ae"
            ],
            [
             0.3,
             "#f1b6da"
            ],
            [
             0.4,
             "#fde0ef"
            ],
            [
             0.5,
             "#f7f7f7"
            ],
            [
             0.6,
             "#e6f5d0"
            ],
            [
             0.7,
             "#b8e186"
            ],
            [
             0.8,
             "#7fbc41"
            ],
            [
             0.9,
             "#4d9221"
            ],
            [
             1,
             "#276419"
            ]
           ],
           "sequential": [
            [
             0,
             "#0d0887"
            ],
            [
             0.1111111111111111,
             "#46039f"
            ],
            [
             0.2222222222222222,
             "#7201a8"
            ],
            [
             0.3333333333333333,
             "#9c179e"
            ],
            [
             0.4444444444444444,
             "#bd3786"
            ],
            [
             0.5555555555555556,
             "#d8576b"
            ],
            [
             0.6666666666666666,
             "#ed7953"
            ],
            [
             0.7777777777777778,
             "#fb9f3a"
            ],
            [
             0.8888888888888888,
             "#fdca26"
            ],
            [
             1,
             "#f0f921"
            ]
           ],
           "sequentialminus": [
            [
             0,
             "#0d0887"
            ],
            [
             0.1111111111111111,
             "#46039f"
            ],
            [
             0.2222222222222222,
             "#7201a8"
            ],
            [
             0.3333333333333333,
             "#9c179e"
            ],
            [
             0.4444444444444444,
             "#bd3786"
            ],
            [
             0.5555555555555556,
             "#d8576b"
            ],
            [
             0.6666666666666666,
             "#ed7953"
            ],
            [
             0.7777777777777778,
             "#fb9f3a"
            ],
            [
             0.8888888888888888,
             "#fdca26"
            ],
            [
             1,
             "#f0f921"
            ]
           ]
          },
          "colorway": [
           "#636efa",
           "#EF553B",
           "#00cc96",
           "#ab63fa",
           "#FFA15A",
           "#19d3f3",
           "#FF6692",
           "#B6E880",
           "#FF97FF",
           "#FECB52"
          ],
          "font": {
           "color": "#2a3f5f"
          },
          "geo": {
           "bgcolor": "white",
           "lakecolor": "white",
           "landcolor": "#E5ECF6",
           "showlakes": true,
           "showland": true,
           "subunitcolor": "white"
          },
          "hoverlabel": {
           "align": "left"
          },
          "hovermode": "closest",
          "mapbox": {
           "style": "light"
          },
          "paper_bgcolor": "white",
          "plot_bgcolor": "#E5ECF6",
          "polar": {
           "angularaxis": {
            "gridcolor": "white",
            "linecolor": "white",
            "ticks": ""
           },
           "bgcolor": "#E5ECF6",
           "radialaxis": {
            "gridcolor": "white",
            "linecolor": "white",
            "ticks": ""
           }
          },
          "scene": {
           "xaxis": {
            "backgroundcolor": "#E5ECF6",
            "gridcolor": "white",
            "gridwidth": 2,
            "linecolor": "white",
            "showbackground": true,
            "ticks": "",
            "zerolinecolor": "white"
           },
           "yaxis": {
            "backgroundcolor": "#E5ECF6",
            "gridcolor": "white",
            "gridwidth": 2,
            "linecolor": "white",
            "showbackground": true,
            "ticks": "",
            "zerolinecolor": "white"
           },
           "zaxis": {
            "backgroundcolor": "#E5ECF6",
            "gridcolor": "white",
            "gridwidth": 2,
            "linecolor": "white",
            "showbackground": true,
            "ticks": "",
            "zerolinecolor": "white"
           }
          },
          "shapedefaults": {
           "line": {
            "color": "#2a3f5f"
           }
          },
          "ternary": {
           "aaxis": {
            "gridcolor": "white",
            "linecolor": "white",
            "ticks": ""
           },
           "baxis": {
            "gridcolor": "white",
            "linecolor": "white",
            "ticks": ""
           },
           "bgcolor": "#E5ECF6",
           "caxis": {
            "gridcolor": "white",
            "linecolor": "white",
            "ticks": ""
           }
          },
          "title": {
           "x": 0.05
          },
          "xaxis": {
           "automargin": true,
           "gridcolor": "white",
           "linecolor": "white",
           "ticks": "",
           "title": {
            "standoff": 15
           },
           "zerolinecolor": "white",
           "zerolinewidth": 2
          },
          "yaxis": {
           "automargin": true,
           "gridcolor": "white",
           "linecolor": "white",
           "ticks": "",
           "title": {
            "standoff": 15
           },
           "zerolinecolor": "white",
           "zerolinewidth": 2
          }
         }
        },
        "title": {
         "font": {
          "color": "#4D5663"
         }
        },
        "xaxis": {
         "gridcolor": "#E1E5ED",
         "showgrid": true,
         "tickfont": {
          "color": "#4D5663"
         },
         "title": {
          "font": {
           "color": "#4D5663"
          },
          "text": ""
         },
         "zerolinecolor": "#E1E5ED"
        },
        "yaxis": {
         "gridcolor": "#E1E5ED",
         "showgrid": true,
         "tickfont": {
          "color": "#4D5663"
         },
         "title": {
          "font": {
           "color": "#4D5663"
          },
          "text": ""
         },
         "zerolinecolor": "#E1E5ED"
        }
       }
      },
      "text/html": [
       "<div>\n",
       "        \n",
       "        \n",
       "            <div id=\"da46d8c8-d769-4b7a-b54b-289583682cf8\" class=\"plotly-graph-div\" style=\"height:525px; width:100%;\"></div>\n",
       "            <script type=\"text/javascript\">\n",
       "                require([\"plotly\"], function(Plotly) {\n",
       "                    window.PLOTLYENV=window.PLOTLYENV || {};\n",
       "                    window.PLOTLYENV.BASE_URL='https://plot.ly';\n",
       "                    \n",
       "                if (document.getElementById(\"da46d8c8-d769-4b7a-b54b-289583682cf8\")) {\n",
       "                    Plotly.newPlot(\n",
       "                        'da46d8c8-d769-4b7a-b54b-289583682cf8',\n",
       "                        [{\"histfunc\": \"count\", \"histnorm\": \"\", \"marker\": {\"color\": \"rgba(255, 153, 51, 1.0)\", \"line\": {\"color\": \"#4D5663\", \"width\": 1.3}}, \"name\": \"A\", \"nbinsx\": 25, \"opacity\": 0.8, \"orientation\": \"v\", \"type\": \"histogram\", \"x\": [-1.3583402229536823, 0.0921673543459956, 0.4492594820576442, 0.6996025908357328, 2.1495250286838616, 0.24183106597206416, -0.8776832110040302, 1.0541732492278562, 0.08523758205433592, 0.4987407976187166, -0.42692187830303097, 0.3314238788412063, 0.8110203721335073, -1.892486336094162, -0.1986687733189751, -0.3859351717543113, 0.7622079403895549, 1.1342981825914735, -0.616705435419684, -0.12151918045946218, -1.1011316897029537, 0.3328629568633669, -1.0208981270296031, 0.053983225088959017, 0.3725114124839771, 0.10267108207518853, -1.1665665557543183, 0.054504419339731255, 0.07843971579163007, -0.5986900927551946, -1.1908876386329161, -0.9428019176036524, -0.20836288106335712, 2.0638412236218913, -0.08800663468845793, 2.3489296854756243, -0.328825492717537, 0.13679328526719142, 1.6362966816412452, -0.9865169458002857, 0.5322172281903023, 1.8126956542853345, 2.0187951705084726, 0.34262285700030415, -0.4049678282336819, -2.1252404889520555, 0.3577431068537883, 0.6213330482766051, 1.1533821829453454, 1.536912657916139, 2.008920554498628, -1.585227803158716, -0.8722662480875408, -0.15051809032390423, -1.0062867067219174, 1.8397911379130851, -0.06621953199647992, -1.2920370371673158, 0.5436718522445453, 0.5423224416184557, 1.5511194828341233, 0.13070055937739156, -0.44912176704902335, -0.2616470902800413, 0.345449072564648, -0.21847852159286552, -1.547915716754144, -0.24297968869274658, 0.10713560266622875, -0.03071741252082736, 0.6189888818452682, 0.949788377696495, -0.31913257258760963, 1.029866696113866, 0.2163440437977718, -1.9076255260432537, 0.9911538059288, -1.2938190969419967, -1.556975158647537, -0.8567798093066372, 1.1061307231493411, 0.8210251094170343, -0.8752867994424044, -1.3312503684676744, -0.15270325556453376, -1.6312580962345506, 1.8820767353613506, 0.2876026635475839, -0.8927184511718702, 0.8929654454438709, 0.6600185178648303, -1.2544677962637543, 1.0241195756808887, 1.7451061541136383, 1.6784492852125634, -0.209804057404903, 2.7179971818449857, 0.15330230160949973, 0.8962390746892906, 0.21855533520777062]}],\n",
       "                        {\"barmode\": \"overlay\", \"legend\": {\"bgcolor\": \"#F5F6F9\", \"font\": {\"color\": \"#4D5663\"}}, \"paper_bgcolor\": \"#F5F6F9\", \"plot_bgcolor\": \"#F5F6F9\", \"template\": {\"data\": {\"bar\": [{\"error_x\": {\"color\": \"#2a3f5f\"}, \"error_y\": {\"color\": \"#2a3f5f\"}, \"marker\": {\"line\": {\"color\": \"#E5ECF6\", \"width\": 0.5}}, \"type\": \"bar\"}], \"barpolar\": [{\"marker\": {\"line\": {\"color\": \"#E5ECF6\", \"width\": 0.5}}, \"type\": \"barpolar\"}], \"carpet\": [{\"aaxis\": {\"endlinecolor\": \"#2a3f5f\", \"gridcolor\": \"white\", \"linecolor\": \"white\", \"minorgridcolor\": \"white\", \"startlinecolor\": \"#2a3f5f\"}, \"baxis\": {\"endlinecolor\": \"#2a3f5f\", \"gridcolor\": \"white\", \"linecolor\": \"white\", \"minorgridcolor\": \"white\", \"startlinecolor\": \"#2a3f5f\"}, \"type\": \"carpet\"}], \"choropleth\": [{\"colorbar\": {\"outlinewidth\": 0, \"ticks\": \"\"}, \"type\": \"choropleth\"}], \"contour\": [{\"colorbar\": {\"outlinewidth\": 0, \"ticks\": \"\"}, \"colorscale\": [[0.0, \"#0d0887\"], [0.1111111111111111, \"#46039f\"], [0.2222222222222222, \"#7201a8\"], [0.3333333333333333, \"#9c179e\"], [0.4444444444444444, \"#bd3786\"], [0.5555555555555556, \"#d8576b\"], [0.6666666666666666, \"#ed7953\"], [0.7777777777777778, \"#fb9f3a\"], [0.8888888888888888, \"#fdca26\"], [1.0, \"#f0f921\"]], \"type\": \"contour\"}], \"contourcarpet\": [{\"colorbar\": {\"outlinewidth\": 0, \"ticks\": \"\"}, \"type\": \"contourcarpet\"}], \"heatmap\": [{\"colorbar\": {\"outlinewidth\": 0, \"ticks\": \"\"}, \"colorscale\": [[0.0, \"#0d0887\"], [0.1111111111111111, \"#46039f\"], [0.2222222222222222, \"#7201a8\"], [0.3333333333333333, \"#9c179e\"], [0.4444444444444444, \"#bd3786\"], [0.5555555555555556, \"#d8576b\"], [0.6666666666666666, \"#ed7953\"], [0.7777777777777778, \"#fb9f3a\"], [0.8888888888888888, \"#fdca26\"], [1.0, \"#f0f921\"]], \"type\": \"heatmap\"}], \"heatmapgl\": [{\"colorbar\": {\"outlinewidth\": 0, \"ticks\": \"\"}, \"colorscale\": [[0.0, \"#0d0887\"], [0.1111111111111111, \"#46039f\"], [0.2222222222222222, \"#7201a8\"], [0.3333333333333333, \"#9c179e\"], [0.4444444444444444, \"#bd3786\"], [0.5555555555555556, \"#d8576b\"], [0.6666666666666666, \"#ed7953\"], [0.7777777777777778, \"#fb9f3a\"], [0.8888888888888888, \"#fdca26\"], [1.0, \"#f0f921\"]], \"type\": \"heatmapgl\"}], \"histogram\": [{\"marker\": {\"colorbar\": {\"outlinewidth\": 0, \"ticks\": \"\"}}, \"type\": \"histogram\"}], \"histogram2d\": [{\"colorbar\": {\"outlinewidth\": 0, \"ticks\": \"\"}, \"colorscale\": [[0.0, \"#0d0887\"], [0.1111111111111111, \"#46039f\"], [0.2222222222222222, \"#7201a8\"], [0.3333333333333333, \"#9c179e\"], [0.4444444444444444, \"#bd3786\"], [0.5555555555555556, \"#d8576b\"], [0.6666666666666666, \"#ed7953\"], [0.7777777777777778, \"#fb9f3a\"], [0.8888888888888888, \"#fdca26\"], [1.0, \"#f0f921\"]], \"type\": \"histogram2d\"}], \"histogram2dcontour\": [{\"colorbar\": {\"outlinewidth\": 0, \"ticks\": \"\"}, \"colorscale\": [[0.0, \"#0d0887\"], [0.1111111111111111, \"#46039f\"], [0.2222222222222222, \"#7201a8\"], [0.3333333333333333, \"#9c179e\"], [0.4444444444444444, \"#bd3786\"], [0.5555555555555556, \"#d8576b\"], [0.6666666666666666, \"#ed7953\"], [0.7777777777777778, \"#fb9f3a\"], [0.8888888888888888, \"#fdca26\"], [1.0, \"#f0f921\"]], \"type\": \"histogram2dcontour\"}], \"mesh3d\": [{\"colorbar\": {\"outlinewidth\": 0, \"ticks\": \"\"}, \"type\": \"mesh3d\"}], \"parcoords\": [{\"line\": {\"colorbar\": {\"outlinewidth\": 0, \"ticks\": \"\"}}, \"type\": \"parcoords\"}], \"pie\": [{\"automargin\": true, \"type\": \"pie\"}], \"scatter\": [{\"marker\": {\"colorbar\": {\"outlinewidth\": 0, \"ticks\": \"\"}}, \"type\": \"scatter\"}], \"scatter3d\": [{\"line\": {\"colorbar\": {\"outlinewidth\": 0, \"ticks\": \"\"}}, \"marker\": {\"colorbar\": {\"outlinewidth\": 0, \"ticks\": \"\"}}, \"type\": \"scatter3d\"}], \"scattercarpet\": [{\"marker\": {\"colorbar\": {\"outlinewidth\": 0, \"ticks\": \"\"}}, \"type\": \"scattercarpet\"}], \"scattergeo\": [{\"marker\": {\"colorbar\": {\"outlinewidth\": 0, \"ticks\": \"\"}}, \"type\": \"scattergeo\"}], \"scattergl\": [{\"marker\": {\"colorbar\": {\"outlinewidth\": 0, \"ticks\": \"\"}}, \"type\": \"scattergl\"}], \"scattermapbox\": [{\"marker\": {\"colorbar\": {\"outlinewidth\": 0, \"ticks\": \"\"}}, \"type\": \"scattermapbox\"}], \"scatterpolar\": [{\"marker\": {\"colorbar\": {\"outlinewidth\": 0, \"ticks\": \"\"}}, \"type\": \"scatterpolar\"}], \"scatterpolargl\": [{\"marker\": {\"colorbar\": {\"outlinewidth\": 0, \"ticks\": \"\"}}, \"type\": \"scatterpolargl\"}], \"scatterternary\": [{\"marker\": {\"colorbar\": {\"outlinewidth\": 0, \"ticks\": \"\"}}, \"type\": \"scatterternary\"}], \"surface\": [{\"colorbar\": {\"outlinewidth\": 0, \"ticks\": \"\"}, \"colorscale\": [[0.0, \"#0d0887\"], [0.1111111111111111, \"#46039f\"], [0.2222222222222222, \"#7201a8\"], [0.3333333333333333, \"#9c179e\"], [0.4444444444444444, \"#bd3786\"], [0.5555555555555556, \"#d8576b\"], [0.6666666666666666, \"#ed7953\"], [0.7777777777777778, \"#fb9f3a\"], [0.8888888888888888, \"#fdca26\"], [1.0, \"#f0f921\"]], \"type\": \"surface\"}], \"table\": [{\"cells\": {\"fill\": {\"color\": \"#EBF0F8\"}, \"line\": {\"color\": \"white\"}}, \"header\": {\"fill\": {\"color\": \"#C8D4E3\"}, \"line\": {\"color\": \"white\"}}, \"type\": \"table\"}]}, \"layout\": {\"annotationdefaults\": {\"arrowcolor\": \"#2a3f5f\", \"arrowhead\": 0, \"arrowwidth\": 1}, \"coloraxis\": {\"colorbar\": {\"outlinewidth\": 0, \"ticks\": \"\"}}, \"colorscale\": {\"diverging\": [[0, \"#8e0152\"], [0.1, \"#c51b7d\"], [0.2, \"#de77ae\"], [0.3, \"#f1b6da\"], [0.4, \"#fde0ef\"], [0.5, \"#f7f7f7\"], [0.6, \"#e6f5d0\"], [0.7, \"#b8e186\"], [0.8, \"#7fbc41\"], [0.9, \"#4d9221\"], [1, \"#276419\"]], \"sequential\": [[0.0, \"#0d0887\"], [0.1111111111111111, \"#46039f\"], [0.2222222222222222, \"#7201a8\"], [0.3333333333333333, \"#9c179e\"], [0.4444444444444444, \"#bd3786\"], [0.5555555555555556, \"#d8576b\"], [0.6666666666666666, \"#ed7953\"], [0.7777777777777778, \"#fb9f3a\"], [0.8888888888888888, \"#fdca26\"], [1.0, \"#f0f921\"]], \"sequentialminus\": [[0.0, \"#0d0887\"], [0.1111111111111111, \"#46039f\"], [0.2222222222222222, \"#7201a8\"], [0.3333333333333333, \"#9c179e\"], [0.4444444444444444, \"#bd3786\"], [0.5555555555555556, \"#d8576b\"], [0.6666666666666666, \"#ed7953\"], [0.7777777777777778, \"#fb9f3a\"], [0.8888888888888888, \"#fdca26\"], [1.0, \"#f0f921\"]]}, \"colorway\": [\"#636efa\", \"#EF553B\", \"#00cc96\", \"#ab63fa\", \"#FFA15A\", \"#19d3f3\", \"#FF6692\", \"#B6E880\", \"#FF97FF\", \"#FECB52\"], \"font\": {\"color\": \"#2a3f5f\"}, \"geo\": {\"bgcolor\": \"white\", \"lakecolor\": \"white\", \"landcolor\": \"#E5ECF6\", \"showlakes\": true, \"showland\": true, \"subunitcolor\": \"white\"}, \"hoverlabel\": {\"align\": \"left\"}, \"hovermode\": \"closest\", \"mapbox\": {\"style\": \"light\"}, \"paper_bgcolor\": \"white\", \"plot_bgcolor\": \"#E5ECF6\", \"polar\": {\"angularaxis\": {\"gridcolor\": \"white\", \"linecolor\": \"white\", \"ticks\": \"\"}, \"bgcolor\": \"#E5ECF6\", \"radialaxis\": {\"gridcolor\": \"white\", \"linecolor\": \"white\", \"ticks\": \"\"}}, \"scene\": {\"xaxis\": {\"backgroundcolor\": \"#E5ECF6\", \"gridcolor\": \"white\", \"gridwidth\": 2, \"linecolor\": \"white\", \"showbackground\": true, \"ticks\": \"\", \"zerolinecolor\": \"white\"}, \"yaxis\": {\"backgroundcolor\": \"#E5ECF6\", \"gridcolor\": \"white\", \"gridwidth\": 2, \"linecolor\": \"white\", \"showbackground\": true, \"ticks\": \"\", \"zerolinecolor\": \"white\"}, \"zaxis\": {\"backgroundcolor\": \"#E5ECF6\", \"gridcolor\": \"white\", \"gridwidth\": 2, \"linecolor\": \"white\", \"showbackground\": true, \"ticks\": \"\", \"zerolinecolor\": \"white\"}}, \"shapedefaults\": {\"line\": {\"color\": \"#2a3f5f\"}}, \"ternary\": {\"aaxis\": {\"gridcolor\": \"white\", \"linecolor\": \"white\", \"ticks\": \"\"}, \"baxis\": {\"gridcolor\": \"white\", \"linecolor\": \"white\", \"ticks\": \"\"}, \"bgcolor\": \"#E5ECF6\", \"caxis\": {\"gridcolor\": \"white\", \"linecolor\": \"white\", \"ticks\": \"\"}}, \"title\": {\"x\": 0.05}, \"xaxis\": {\"automargin\": true, \"gridcolor\": \"white\", \"linecolor\": \"white\", \"ticks\": \"\", \"title\": {\"standoff\": 15}, \"zerolinecolor\": \"white\", \"zerolinewidth\": 2}, \"yaxis\": {\"automargin\": true, \"gridcolor\": \"white\", \"linecolor\": \"white\", \"ticks\": \"\", \"title\": {\"standoff\": 15}, \"zerolinecolor\": \"white\", \"zerolinewidth\": 2}}}, \"title\": {\"font\": {\"color\": \"#4D5663\"}}, \"xaxis\": {\"gridcolor\": \"#E1E5ED\", \"showgrid\": true, \"tickfont\": {\"color\": \"#4D5663\"}, \"title\": {\"font\": {\"color\": \"#4D5663\"}, \"text\": \"\"}, \"zerolinecolor\": \"#E1E5ED\"}, \"yaxis\": {\"gridcolor\": \"#E1E5ED\", \"showgrid\": true, \"tickfont\": {\"color\": \"#4D5663\"}, \"title\": {\"font\": {\"color\": \"#4D5663\"}, \"text\": \"\"}, \"zerolinecolor\": \"#E1E5ED\"}},\n",
       "                        {\"showLink\": true, \"linkText\": \"Export to plot.ly\", \"plotlyServerURL\": \"https://plot.ly\", \"responsive\": true}\n",
       "                    ).then(function(){\n",
       "                            \n",
       "var gd = document.getElementById('da46d8c8-d769-4b7a-b54b-289583682cf8');\n",
       "var x = new MutationObserver(function (mutations, observer) {{\n",
       "        var display = window.getComputedStyle(gd).display;\n",
       "        if (!display || display === 'none') {{\n",
       "            console.log([gd, 'removed!']);\n",
       "            Plotly.purge(gd);\n",
       "            observer.disconnect();\n",
       "        }}\n",
       "}});\n",
       "\n",
       "// Listen for the removal of the full notebook cells\n",
       "var notebookContainer = gd.closest('#notebook-container');\n",
       "if (notebookContainer) {{\n",
       "    x.observe(notebookContainer, {childList: true});\n",
       "}}\n",
       "\n",
       "// Listen for the clearing of the current output cell\n",
       "var outputEl = gd.closest('.output');\n",
       "if (outputEl) {{\n",
       "    x.observe(outputEl, {childList: true});\n",
       "}}\n",
       "\n",
       "                        })\n",
       "                };\n",
       "                });\n",
       "            </script>\n",
       "        </div>"
      ]
     },
     "metadata": {},
     "output_type": "display_data"
    }
   ],
   "source": [
    "df['A'].iplot(kind='hist',bins=25)"
   ]
  },
  {
   "cell_type": "markdown",
   "metadata": {},
   "source": [
    "## Bubble plot"
   ]
  },
  {
   "cell_type": "code",
   "execution_count": 31,
   "metadata": {},
   "outputs": [
    {
     "data": {
      "application/vnd.plotly.v1+json": {
       "config": {
        "linkText": "Export to plot.ly",
        "plotlyServerURL": "https://plot.ly",
        "showLink": true
       },
       "data": [
        {
         "marker": {
          "color": [
           "rgb(255, 153, 51)",
           "rgb(55, 128, 191)",
           "rgb(50, 171, 96)",
           "rgb(128, 0, 128)",
           "rgb(219, 64, 82)",
           "rgb(0, 128, 128)",
           "rgb(255, 255, 51)",
           "rgb(128, 128, 0)",
           "rgb(251, 128, 114)",
           "rgb(128, 177, 211)"
          ],
          "line": {
           "width": 1.3
          },
          "size": [
           33,
           95,
           26,
           78,
           83,
           93,
           76,
           78,
           54,
           67,
           67,
           45,
           72,
           58,
           57,
           89,
           45,
           77,
           38,
           49,
           58,
           64,
           54,
           64,
           58,
           55,
           69,
           64,
           60,
           48,
           66,
           76,
           92,
           77,
           62,
           41,
           44,
           48,
           54,
           21,
           95,
           52,
           67,
           51,
           75,
           32,
           79,
           51,
           12,
           57,
           66,
           63,
           74,
           81,
           90,
           60,
           21,
           82,
           55,
           48,
           38,
           56,
           72,
           76,
           77,
           43,
           59,
           112,
           63,
           44,
           99,
           65,
           78,
           43,
           44,
           53,
           76,
           86,
           64,
           69,
           65,
           50,
           76,
           30,
           59,
           49,
           68,
           47,
           76,
           56,
           58,
           47,
           39,
           61,
           42,
           47,
           61,
           83,
           63,
           65
          ],
          "symbol": "circle"
         },
         "mode": "markers",
         "text": "",
         "type": "scatter",
         "x": [
          -1.3583402229536823,
          0.0921673543459956,
          0.4492594820576442,
          0.6996025908357328,
          2.1495250286838616,
          0.24183106597206416,
          -0.8776832110040302,
          1.0541732492278562,
          0.08523758205433592,
          0.4987407976187166,
          -0.42692187830303097,
          0.3314238788412063,
          0.8110203721335073,
          -1.892486336094162,
          -0.1986687733189751,
          -0.3859351717543113,
          0.7622079403895549,
          1.1342981825914735,
          -0.616705435419684,
          -0.12151918045946218,
          -1.1011316897029537,
          0.3328629568633669,
          -1.0208981270296031,
          0.053983225088959017,
          0.3725114124839771,
          0.10267108207518853,
          -1.1665665557543183,
          0.054504419339731255,
          0.07843971579163007,
          -0.5986900927551946,
          -1.1908876386329161,
          -0.9428019176036524,
          -0.20836288106335712,
          2.0638412236218913,
          -0.08800663468845793,
          2.3489296854756243,
          -0.328825492717537,
          0.13679328526719142,
          1.6362966816412452,
          -0.9865169458002857,
          0.5322172281903023,
          1.8126956542853345,
          2.0187951705084726,
          0.34262285700030415,
          -0.4049678282336819,
          -2.1252404889520555,
          0.3577431068537883,
          0.6213330482766051,
          1.1533821829453454,
          1.536912657916139,
          2.008920554498628,
          -1.585227803158716,
          -0.8722662480875408,
          -0.15051809032390423,
          -1.0062867067219174,
          1.8397911379130851,
          -0.06621953199647992,
          -1.2920370371673158,
          0.5436718522445453,
          0.5423224416184557,
          1.5511194828341233,
          0.13070055937739156,
          -0.44912176704902335,
          -0.2616470902800413,
          0.345449072564648,
          -0.21847852159286552,
          -1.547915716754144,
          -0.24297968869274658,
          0.10713560266622875,
          -0.03071741252082736,
          0.6189888818452682,
          0.949788377696495,
          -0.31913257258760963,
          1.029866696113866,
          0.2163440437977718,
          -1.9076255260432537,
          0.9911538059288,
          -1.2938190969419967,
          -1.556975158647537,
          -0.8567798093066372,
          1.1061307231493411,
          0.8210251094170343,
          -0.8752867994424044,
          -1.3312503684676744,
          -0.15270325556453376,
          -1.6312580962345506,
          1.8820767353613506,
          0.2876026635475839,
          -0.8927184511718702,
          0.8929654454438709,
          0.6600185178648303,
          -1.2544677962637543,
          1.0241195756808887,
          1.7451061541136383,
          1.6784492852125634,
          -0.209804057404903,
          2.7179971818449857,
          0.15330230160949973,
          0.8962390746892906,
          0.21855533520777062
         ],
         "y": [
          0.7062159335042797,
          0.7219254733761484,
          0.5463129397908424,
          -0.6931529077523799,
          -1.6825415343319072,
          -0.163715476768212,
          1.2542694738069151,
          0.2874131009769991,
          -1.263462719563245,
          -0.7238140467351619,
          2.184714958062746,
          -2.8697379154159677,
          -0.7409720185625667,
          0.699470418188912,
          -1.2082057874168277,
          1.172505684652955,
          0.6764855553881596,
          0.6145175314457706,
          0.3998685213240509,
          0.6011537674657929,
          -0.17760909229636285,
          -0.27164619891261593,
          0.016783537950853814,
          -0.3152415327654973,
          1.040155078188417,
          -1.6181904077672757,
          -0.6267969219734727,
          0.3150579764877128,
          1.1278776716162962,
          1.8773340948873105,
          -0.1514056836070442,
          0.3375374850890802,
          -1.4616285328336531,
          -0.8198419318788835,
          0.8243541156979151,
          -0.40253086793801673,
          0.11161375634635512,
          0.8110433849900274,
          -0.7372647622097733,
          0.5951094858811783,
          1.788231465632863,
          1.6096544305491811,
          -1.6724569437258132,
          -0.5343499938543699,
          -0.42080029902949184,
          0.7017532920558198,
          -1.8095562597566381,
          0.08967981171876918,
          1.3014844394723237,
          -0.008188048042794197,
          0.5120041176666327,
          0.6307009822539876,
          0.20535907665217643,
          0.40208846119323083,
          -0.6250359423978179,
          -1.3173115747022526,
          0.7934196396570694,
          0.021772115789257137,
          0.089532532038497,
          -0.3461312566174257,
          -1.3515693099417592,
          -0.8125304190004683,
          0.6460317056406156,
          2.5682487716392797,
          -1.3928851372548272,
          0.49240556188681406,
          -1.3404633687098704,
          0.4092479859742962,
          -0.055251692720409536,
          -0.40605510886442653,
          -1.7490729669018399,
          0.9484082473493582,
          -0.25030755921934555,
          1.1063585220126273,
          -1.285180609868798,
          -0.27944973884190905,
          1.5788577983747496,
          1.0687556988535705,
          0.8847765838108002,
          0.13394864375601528,
          0.75925337178594,
          -0.1634560803366644,
          0.07831300439827604,
          -0.8908680973465573,
          -1.3336711135597754,
          0.5742058122235427,
          0.8020214805889448,
          2.9226570311911457,
          -1.3427501538316637,
          0.6004478098801661,
          0.0005468704148372964,
          0.4825037294818465,
          -1.0839290848485301,
          -1.7338844652392993,
          0.30343207245100284,
          -0.13956794322089353,
          0.24250586024809148,
          -0.2763816144379349,
          -1.3194412611454425,
          0.02032522014388897
         ]
        }
       ],
       "layout": {
        "legend": {
         "bgcolor": "#F5F6F9",
         "font": {
          "color": "#4D5663"
         }
        },
        "paper_bgcolor": "#F5F6F9",
        "plot_bgcolor": "#F5F6F9",
        "template": {
         "data": {
          "bar": [
           {
            "error_x": {
             "color": "#2a3f5f"
            },
            "error_y": {
             "color": "#2a3f5f"
            },
            "marker": {
             "line": {
              "color": "#E5ECF6",
              "width": 0.5
             }
            },
            "type": "bar"
           }
          ],
          "barpolar": [
           {
            "marker": {
             "line": {
              "color": "#E5ECF6",
              "width": 0.5
             }
            },
            "type": "barpolar"
           }
          ],
          "carpet": [
           {
            "aaxis": {
             "endlinecolor": "#2a3f5f",
             "gridcolor": "white",
             "linecolor": "white",
             "minorgridcolor": "white",
             "startlinecolor": "#2a3f5f"
            },
            "baxis": {
             "endlinecolor": "#2a3f5f",
             "gridcolor": "white",
             "linecolor": "white",
             "minorgridcolor": "white",
             "startlinecolor": "#2a3f5f"
            },
            "type": "carpet"
           }
          ],
          "choropleth": [
           {
            "colorbar": {
             "outlinewidth": 0,
             "ticks": ""
            },
            "type": "choropleth"
           }
          ],
          "contour": [
           {
            "colorbar": {
             "outlinewidth": 0,
             "ticks": ""
            },
            "colorscale": [
             [
              0,
              "#0d0887"
             ],
             [
              0.1111111111111111,
              "#46039f"
             ],
             [
              0.2222222222222222,
              "#7201a8"
             ],
             [
              0.3333333333333333,
              "#9c179e"
             ],
             [
              0.4444444444444444,
              "#bd3786"
             ],
             [
              0.5555555555555556,
              "#d8576b"
             ],
             [
              0.6666666666666666,
              "#ed7953"
             ],
             [
              0.7777777777777778,
              "#fb9f3a"
             ],
             [
              0.8888888888888888,
              "#fdca26"
             ],
             [
              1,
              "#f0f921"
             ]
            ],
            "type": "contour"
           }
          ],
          "contourcarpet": [
           {
            "colorbar": {
             "outlinewidth": 0,
             "ticks": ""
            },
            "type": "contourcarpet"
           }
          ],
          "heatmap": [
           {
            "colorbar": {
             "outlinewidth": 0,
             "ticks": ""
            },
            "colorscale": [
             [
              0,
              "#0d0887"
             ],
             [
              0.1111111111111111,
              "#46039f"
             ],
             [
              0.2222222222222222,
              "#7201a8"
             ],
             [
              0.3333333333333333,
              "#9c179e"
             ],
             [
              0.4444444444444444,
              "#bd3786"
             ],
             [
              0.5555555555555556,
              "#d8576b"
             ],
             [
              0.6666666666666666,
              "#ed7953"
             ],
             [
              0.7777777777777778,
              "#fb9f3a"
             ],
             [
              0.8888888888888888,
              "#fdca26"
             ],
             [
              1,
              "#f0f921"
             ]
            ],
            "type": "heatmap"
           }
          ],
          "heatmapgl": [
           {
            "colorbar": {
             "outlinewidth": 0,
             "ticks": ""
            },
            "colorscale": [
             [
              0,
              "#0d0887"
             ],
             [
              0.1111111111111111,
              "#46039f"
             ],
             [
              0.2222222222222222,
              "#7201a8"
             ],
             [
              0.3333333333333333,
              "#9c179e"
             ],
             [
              0.4444444444444444,
              "#bd3786"
             ],
             [
              0.5555555555555556,
              "#d8576b"
             ],
             [
              0.6666666666666666,
              "#ed7953"
             ],
             [
              0.7777777777777778,
              "#fb9f3a"
             ],
             [
              0.8888888888888888,
              "#fdca26"
             ],
             [
              1,
              "#f0f921"
             ]
            ],
            "type": "heatmapgl"
           }
          ],
          "histogram": [
           {
            "marker": {
             "colorbar": {
              "outlinewidth": 0,
              "ticks": ""
             }
            },
            "type": "histogram"
           }
          ],
          "histogram2d": [
           {
            "colorbar": {
             "outlinewidth": 0,
             "ticks": ""
            },
            "colorscale": [
             [
              0,
              "#0d0887"
             ],
             [
              0.1111111111111111,
              "#46039f"
             ],
             [
              0.2222222222222222,
              "#7201a8"
             ],
             [
              0.3333333333333333,
              "#9c179e"
             ],
             [
              0.4444444444444444,
              "#bd3786"
             ],
             [
              0.5555555555555556,
              "#d8576b"
             ],
             [
              0.6666666666666666,
              "#ed7953"
             ],
             [
              0.7777777777777778,
              "#fb9f3a"
             ],
             [
              0.8888888888888888,
              "#fdca26"
             ],
             [
              1,
              "#f0f921"
             ]
            ],
            "type": "histogram2d"
           }
          ],
          "histogram2dcontour": [
           {
            "colorbar": {
             "outlinewidth": 0,
             "ticks": ""
            },
            "colorscale": [
             [
              0,
              "#0d0887"
             ],
             [
              0.1111111111111111,
              "#46039f"
             ],
             [
              0.2222222222222222,
              "#7201a8"
             ],
             [
              0.3333333333333333,
              "#9c179e"
             ],
             [
              0.4444444444444444,
              "#bd3786"
             ],
             [
              0.5555555555555556,
              "#d8576b"
             ],
             [
              0.6666666666666666,
              "#ed7953"
             ],
             [
              0.7777777777777778,
              "#fb9f3a"
             ],
             [
              0.8888888888888888,
              "#fdca26"
             ],
             [
              1,
              "#f0f921"
             ]
            ],
            "type": "histogram2dcontour"
           }
          ],
          "mesh3d": [
           {
            "colorbar": {
             "outlinewidth": 0,
             "ticks": ""
            },
            "type": "mesh3d"
           }
          ],
          "parcoords": [
           {
            "line": {
             "colorbar": {
              "outlinewidth": 0,
              "ticks": ""
             }
            },
            "type": "parcoords"
           }
          ],
          "pie": [
           {
            "automargin": true,
            "type": "pie"
           }
          ],
          "scatter": [
           {
            "marker": {
             "colorbar": {
              "outlinewidth": 0,
              "ticks": ""
             }
            },
            "type": "scatter"
           }
          ],
          "scatter3d": [
           {
            "line": {
             "colorbar": {
              "outlinewidth": 0,
              "ticks": ""
             }
            },
            "marker": {
             "colorbar": {
              "outlinewidth": 0,
              "ticks": ""
             }
            },
            "type": "scatter3d"
           }
          ],
          "scattercarpet": [
           {
            "marker": {
             "colorbar": {
              "outlinewidth": 0,
              "ticks": ""
             }
            },
            "type": "scattercarpet"
           }
          ],
          "scattergeo": [
           {
            "marker": {
             "colorbar": {
              "outlinewidth": 0,
              "ticks": ""
             }
            },
            "type": "scattergeo"
           }
          ],
          "scattergl": [
           {
            "marker": {
             "colorbar": {
              "outlinewidth": 0,
              "ticks": ""
             }
            },
            "type": "scattergl"
           }
          ],
          "scattermapbox": [
           {
            "marker": {
             "colorbar": {
              "outlinewidth": 0,
              "ticks": ""
             }
            },
            "type": "scattermapbox"
           }
          ],
          "scatterpolar": [
           {
            "marker": {
             "colorbar": {
              "outlinewidth": 0,
              "ticks": ""
             }
            },
            "type": "scatterpolar"
           }
          ],
          "scatterpolargl": [
           {
            "marker": {
             "colorbar": {
              "outlinewidth": 0,
              "ticks": ""
             }
            },
            "type": "scatterpolargl"
           }
          ],
          "scatterternary": [
           {
            "marker": {
             "colorbar": {
              "outlinewidth": 0,
              "ticks": ""
             }
            },
            "type": "scatterternary"
           }
          ],
          "surface": [
           {
            "colorbar": {
             "outlinewidth": 0,
             "ticks": ""
            },
            "colorscale": [
             [
              0,
              "#0d0887"
             ],
             [
              0.1111111111111111,
              "#46039f"
             ],
             [
              0.2222222222222222,
              "#7201a8"
             ],
             [
              0.3333333333333333,
              "#9c179e"
             ],
             [
              0.4444444444444444,
              "#bd3786"
             ],
             [
              0.5555555555555556,
              "#d8576b"
             ],
             [
              0.6666666666666666,
              "#ed7953"
             ],
             [
              0.7777777777777778,
              "#fb9f3a"
             ],
             [
              0.8888888888888888,
              "#fdca26"
             ],
             [
              1,
              "#f0f921"
             ]
            ],
            "type": "surface"
           }
          ],
          "table": [
           {
            "cells": {
             "fill": {
              "color": "#EBF0F8"
             },
             "line": {
              "color": "white"
             }
            },
            "header": {
             "fill": {
              "color": "#C8D4E3"
             },
             "line": {
              "color": "white"
             }
            },
            "type": "table"
           }
          ]
         },
         "layout": {
          "annotationdefaults": {
           "arrowcolor": "#2a3f5f",
           "arrowhead": 0,
           "arrowwidth": 1
          },
          "coloraxis": {
           "colorbar": {
            "outlinewidth": 0,
            "ticks": ""
           }
          },
          "colorscale": {
           "diverging": [
            [
             0,
             "#8e0152"
            ],
            [
             0.1,
             "#c51b7d"
            ],
            [
             0.2,
             "#de77ae"
            ],
            [
             0.3,
             "#f1b6da"
            ],
            [
             0.4,
             "#fde0ef"
            ],
            [
             0.5,
             "#f7f7f7"
            ],
            [
             0.6,
             "#e6f5d0"
            ],
            [
             0.7,
             "#b8e186"
            ],
            [
             0.8,
             "#7fbc41"
            ],
            [
             0.9,
             "#4d9221"
            ],
            [
             1,
             "#276419"
            ]
           ],
           "sequential": [
            [
             0,
             "#0d0887"
            ],
            [
             0.1111111111111111,
             "#46039f"
            ],
            [
             0.2222222222222222,
             "#7201a8"
            ],
            [
             0.3333333333333333,
             "#9c179e"
            ],
            [
             0.4444444444444444,
             "#bd3786"
            ],
            [
             0.5555555555555556,
             "#d8576b"
            ],
            [
             0.6666666666666666,
             "#ed7953"
            ],
            [
             0.7777777777777778,
             "#fb9f3a"
            ],
            [
             0.8888888888888888,
             "#fdca26"
            ],
            [
             1,
             "#f0f921"
            ]
           ],
           "sequentialminus": [
            [
             0,
             "#0d0887"
            ],
            [
             0.1111111111111111,
             "#46039f"
            ],
            [
             0.2222222222222222,
             "#7201a8"
            ],
            [
             0.3333333333333333,
             "#9c179e"
            ],
            [
             0.4444444444444444,
             "#bd3786"
            ],
            [
             0.5555555555555556,
             "#d8576b"
            ],
            [
             0.6666666666666666,
             "#ed7953"
            ],
            [
             0.7777777777777778,
             "#fb9f3a"
            ],
            [
             0.8888888888888888,
             "#fdca26"
            ],
            [
             1,
             "#f0f921"
            ]
           ]
          },
          "colorway": [
           "#636efa",
           "#EF553B",
           "#00cc96",
           "#ab63fa",
           "#FFA15A",
           "#19d3f3",
           "#FF6692",
           "#B6E880",
           "#FF97FF",
           "#FECB52"
          ],
          "font": {
           "color": "#2a3f5f"
          },
          "geo": {
           "bgcolor": "white",
           "lakecolor": "white",
           "landcolor": "#E5ECF6",
           "showlakes": true,
           "showland": true,
           "subunitcolor": "white"
          },
          "hoverlabel": {
           "align": "left"
          },
          "hovermode": "closest",
          "mapbox": {
           "style": "light"
          },
          "paper_bgcolor": "white",
          "plot_bgcolor": "#E5ECF6",
          "polar": {
           "angularaxis": {
            "gridcolor": "white",
            "linecolor": "white",
            "ticks": ""
           },
           "bgcolor": "#E5ECF6",
           "radialaxis": {
            "gridcolor": "white",
            "linecolor": "white",
            "ticks": ""
           }
          },
          "scene": {
           "xaxis": {
            "backgroundcolor": "#E5ECF6",
            "gridcolor": "white",
            "gridwidth": 2,
            "linecolor": "white",
            "showbackground": true,
            "ticks": "",
            "zerolinecolor": "white"
           },
           "yaxis": {
            "backgroundcolor": "#E5ECF6",
            "gridcolor": "white",
            "gridwidth": 2,
            "linecolor": "white",
            "showbackground": true,
            "ticks": "",
            "zerolinecolor": "white"
           },
           "zaxis": {
            "backgroundcolor": "#E5ECF6",
            "gridcolor": "white",
            "gridwidth": 2,
            "linecolor": "white",
            "showbackground": true,
            "ticks": "",
            "zerolinecolor": "white"
           }
          },
          "shapedefaults": {
           "line": {
            "color": "#2a3f5f"
           }
          },
          "ternary": {
           "aaxis": {
            "gridcolor": "white",
            "linecolor": "white",
            "ticks": ""
           },
           "baxis": {
            "gridcolor": "white",
            "linecolor": "white",
            "ticks": ""
           },
           "bgcolor": "#E5ECF6",
           "caxis": {
            "gridcolor": "white",
            "linecolor": "white",
            "ticks": ""
           }
          },
          "title": {
           "x": 0.05
          },
          "xaxis": {
           "automargin": true,
           "gridcolor": "white",
           "linecolor": "white",
           "ticks": "",
           "title": {
            "standoff": 15
           },
           "zerolinecolor": "white",
           "zerolinewidth": 2
          },
          "yaxis": {
           "automargin": true,
           "gridcolor": "white",
           "linecolor": "white",
           "ticks": "",
           "title": {
            "standoff": 15
           },
           "zerolinecolor": "white",
           "zerolinewidth": 2
          }
         }
        },
        "title": {
         "font": {
          "color": "#4D5663"
         }
        },
        "xaxis": {
         "gridcolor": "#E1E5ED",
         "showgrid": true,
         "tickfont": {
          "color": "#4D5663"
         },
         "title": {
          "font": {
           "color": "#4D5663"
          },
          "text": ""
         },
         "zerolinecolor": "#E1E5ED"
        },
        "yaxis": {
         "gridcolor": "#E1E5ED",
         "showgrid": true,
         "tickfont": {
          "color": "#4D5663"
         },
         "title": {
          "font": {
           "color": "#4D5663"
          },
          "text": ""
         },
         "zerolinecolor": "#E1E5ED"
        }
       }
      },
      "text/html": [
       "<div>\n",
       "        \n",
       "        \n",
       "            <div id=\"1a691009-156f-47a0-8207-4913cabe50f8\" class=\"plotly-graph-div\" style=\"height:525px; width:100%;\"></div>\n",
       "            <script type=\"text/javascript\">\n",
       "                require([\"plotly\"], function(Plotly) {\n",
       "                    window.PLOTLYENV=window.PLOTLYENV || {};\n",
       "                    window.PLOTLYENV.BASE_URL='https://plot.ly';\n",
       "                    \n",
       "                if (document.getElementById(\"1a691009-156f-47a0-8207-4913cabe50f8\")) {\n",
       "                    Plotly.newPlot(\n",
       "                        '1a691009-156f-47a0-8207-4913cabe50f8',\n",
       "                        [{\"marker\": {\"color\": [\"rgb(255, 153, 51)\", \"rgb(55, 128, 191)\", \"rgb(50, 171, 96)\", \"rgb(128, 0, 128)\", \"rgb(219, 64, 82)\", \"rgb(0, 128, 128)\", \"rgb(255, 255, 51)\", \"rgb(128, 128, 0)\", \"rgb(251, 128, 114)\", \"rgb(128, 177, 211)\"], \"line\": {\"width\": 1.3}, \"size\": [33, 95, 26, 78, 83, 93, 76, 78, 54, 67, 67, 45, 72, 58, 57, 89, 45, 77, 38, 49, 58, 64, 54, 64, 58, 55, 69, 64, 60, 48, 66, 76, 92, 77, 62, 41, 44, 48, 54, 21, 95, 52, 67, 51, 75, 32, 79, 51, 12, 57, 66, 63, 74, 81, 90, 60, 21, 82, 55, 48, 38, 56, 72, 76, 77, 43, 59, 112, 63, 44, 99, 65, 78, 43, 44, 53, 76, 86, 64, 69, 65, 50, 76, 30, 59, 49, 68, 47, 76, 56, 58, 47, 39, 61, 42, 47, 61, 83, 63, 65], \"symbol\": \"circle\"}, \"mode\": \"markers\", \"text\": \"\", \"type\": \"scatter\", \"x\": [-1.3583402229536823, 0.0921673543459956, 0.4492594820576442, 0.6996025908357328, 2.1495250286838616, 0.24183106597206416, -0.8776832110040302, 1.0541732492278562, 0.08523758205433592, 0.4987407976187166, -0.42692187830303097, 0.3314238788412063, 0.8110203721335073, -1.892486336094162, -0.1986687733189751, -0.3859351717543113, 0.7622079403895549, 1.1342981825914735, -0.616705435419684, -0.12151918045946218, -1.1011316897029537, 0.3328629568633669, -1.0208981270296031, 0.053983225088959017, 0.3725114124839771, 0.10267108207518853, -1.1665665557543183, 0.054504419339731255, 0.07843971579163007, -0.5986900927551946, -1.1908876386329161, -0.9428019176036524, -0.20836288106335712, 2.0638412236218913, -0.08800663468845793, 2.3489296854756243, -0.328825492717537, 0.13679328526719142, 1.6362966816412452, -0.9865169458002857, 0.5322172281903023, 1.8126956542853345, 2.0187951705084726, 0.34262285700030415, -0.4049678282336819, -2.1252404889520555, 0.3577431068537883, 0.6213330482766051, 1.1533821829453454, 1.536912657916139, 2.008920554498628, -1.585227803158716, -0.8722662480875408, -0.15051809032390423, -1.0062867067219174, 1.8397911379130851, -0.06621953199647992, -1.2920370371673158, 0.5436718522445453, 0.5423224416184557, 1.5511194828341233, 0.13070055937739156, -0.44912176704902335, -0.2616470902800413, 0.345449072564648, -0.21847852159286552, -1.547915716754144, -0.24297968869274658, 0.10713560266622875, -0.03071741252082736, 0.6189888818452682, 0.949788377696495, -0.31913257258760963, 1.029866696113866, 0.2163440437977718, -1.9076255260432537, 0.9911538059288, -1.2938190969419967, -1.556975158647537, -0.8567798093066372, 1.1061307231493411, 0.8210251094170343, -0.8752867994424044, -1.3312503684676744, -0.15270325556453376, -1.6312580962345506, 1.8820767353613506, 0.2876026635475839, -0.8927184511718702, 0.8929654454438709, 0.6600185178648303, -1.2544677962637543, 1.0241195756808887, 1.7451061541136383, 1.6784492852125634, -0.209804057404903, 2.7179971818449857, 0.15330230160949973, 0.8962390746892906, 0.21855533520777062], \"y\": [0.7062159335042797, 0.7219254733761484, 0.5463129397908424, -0.6931529077523799, -1.6825415343319072, -0.163715476768212, 1.2542694738069151, 0.2874131009769991, -1.263462719563245, -0.7238140467351619, 2.184714958062746, -2.8697379154159677, -0.7409720185625667, 0.699470418188912, -1.2082057874168277, 1.172505684652955, 0.6764855553881596, 0.6145175314457706, 0.3998685213240509, 0.6011537674657929, -0.17760909229636285, -0.27164619891261593, 0.016783537950853814, -0.3152415327654973, 1.040155078188417, -1.6181904077672757, -0.6267969219734727, 0.3150579764877128, 1.1278776716162962, 1.8773340948873105, -0.1514056836070442, 0.3375374850890802, -1.4616285328336531, -0.8198419318788835, 0.8243541156979151, -0.40253086793801673, 0.11161375634635512, 0.8110433849900274, -0.7372647622097733, 0.5951094858811783, 1.788231465632863, 1.6096544305491811, -1.6724569437258132, -0.5343499938543699, -0.42080029902949184, 0.7017532920558198, -1.8095562597566381, 0.08967981171876918, 1.3014844394723237, -0.008188048042794197, 0.5120041176666327, 0.6307009822539876, 0.20535907665217643, 0.40208846119323083, -0.6250359423978179, -1.3173115747022526, 0.7934196396570694, 0.021772115789257137, 0.089532532038497, -0.3461312566174257, -1.3515693099417592, -0.8125304190004683, 0.6460317056406156, 2.5682487716392797, -1.3928851372548272, 0.49240556188681406, -1.3404633687098704, 0.4092479859742962, -0.055251692720409536, -0.40605510886442653, -1.7490729669018399, 0.9484082473493582, -0.25030755921934555, 1.1063585220126273, -1.285180609868798, -0.27944973884190905, 1.5788577983747496, 1.0687556988535705, 0.8847765838108002, 0.13394864375601528, 0.75925337178594, -0.1634560803366644, 0.07831300439827604, -0.8908680973465573, -1.3336711135597754, 0.5742058122235427, 0.8020214805889448, 2.9226570311911457, -1.3427501538316637, 0.6004478098801661, 0.0005468704148372964, 0.4825037294818465, -1.0839290848485301, -1.7338844652392993, 0.30343207245100284, -0.13956794322089353, 0.24250586024809148, -0.2763816144379349, -1.3194412611454425, 0.02032522014388897]}],\n",
       "                        {\"legend\": {\"bgcolor\": \"#F5F6F9\", \"font\": {\"color\": \"#4D5663\"}}, \"paper_bgcolor\": \"#F5F6F9\", \"plot_bgcolor\": \"#F5F6F9\", \"template\": {\"data\": {\"bar\": [{\"error_x\": {\"color\": \"#2a3f5f\"}, \"error_y\": {\"color\": \"#2a3f5f\"}, \"marker\": {\"line\": {\"color\": \"#E5ECF6\", \"width\": 0.5}}, \"type\": \"bar\"}], \"barpolar\": [{\"marker\": {\"line\": {\"color\": \"#E5ECF6\", \"width\": 0.5}}, \"type\": \"barpolar\"}], \"carpet\": [{\"aaxis\": {\"endlinecolor\": \"#2a3f5f\", \"gridcolor\": \"white\", \"linecolor\": \"white\", \"minorgridcolor\": \"white\", \"startlinecolor\": \"#2a3f5f\"}, \"baxis\": {\"endlinecolor\": \"#2a3f5f\", \"gridcolor\": \"white\", \"linecolor\": \"white\", \"minorgridcolor\": \"white\", \"startlinecolor\": \"#2a3f5f\"}, \"type\": \"carpet\"}], \"choropleth\": [{\"colorbar\": {\"outlinewidth\": 0, \"ticks\": \"\"}, \"type\": \"choropleth\"}], \"contour\": [{\"colorbar\": {\"outlinewidth\": 0, \"ticks\": \"\"}, \"colorscale\": [[0.0, \"#0d0887\"], [0.1111111111111111, \"#46039f\"], [0.2222222222222222, \"#7201a8\"], [0.3333333333333333, \"#9c179e\"], [0.4444444444444444, \"#bd3786\"], [0.5555555555555556, \"#d8576b\"], [0.6666666666666666, \"#ed7953\"], [0.7777777777777778, \"#fb9f3a\"], [0.8888888888888888, \"#fdca26\"], [1.0, \"#f0f921\"]], \"type\": \"contour\"}], \"contourcarpet\": [{\"colorbar\": {\"outlinewidth\": 0, \"ticks\": \"\"}, \"type\": \"contourcarpet\"}], \"heatmap\": [{\"colorbar\": {\"outlinewidth\": 0, \"ticks\": \"\"}, \"colorscale\": [[0.0, \"#0d0887\"], [0.1111111111111111, \"#46039f\"], [0.2222222222222222, \"#7201a8\"], [0.3333333333333333, \"#9c179e\"], [0.4444444444444444, \"#bd3786\"], [0.5555555555555556, \"#d8576b\"], [0.6666666666666666, \"#ed7953\"], [0.7777777777777778, \"#fb9f3a\"], [0.8888888888888888, \"#fdca26\"], [1.0, \"#f0f921\"]], \"type\": \"heatmap\"}], \"heatmapgl\": [{\"colorbar\": {\"outlinewidth\": 0, \"ticks\": \"\"}, \"colorscale\": [[0.0, \"#0d0887\"], [0.1111111111111111, \"#46039f\"], [0.2222222222222222, \"#7201a8\"], [0.3333333333333333, \"#9c179e\"], [0.4444444444444444, \"#bd3786\"], [0.5555555555555556, \"#d8576b\"], [0.6666666666666666, \"#ed7953\"], [0.7777777777777778, \"#fb9f3a\"], [0.8888888888888888, \"#fdca26\"], [1.0, \"#f0f921\"]], \"type\": \"heatmapgl\"}], \"histogram\": [{\"marker\": {\"colorbar\": {\"outlinewidth\": 0, \"ticks\": \"\"}}, \"type\": \"histogram\"}], \"histogram2d\": [{\"colorbar\": {\"outlinewidth\": 0, \"ticks\": \"\"}, \"colorscale\": [[0.0, \"#0d0887\"], [0.1111111111111111, \"#46039f\"], [0.2222222222222222, \"#7201a8\"], [0.3333333333333333, \"#9c179e\"], [0.4444444444444444, \"#bd3786\"], [0.5555555555555556, \"#d8576b\"], [0.6666666666666666, \"#ed7953\"], [0.7777777777777778, \"#fb9f3a\"], [0.8888888888888888, \"#fdca26\"], [1.0, \"#f0f921\"]], \"type\": \"histogram2d\"}], \"histogram2dcontour\": [{\"colorbar\": {\"outlinewidth\": 0, \"ticks\": \"\"}, \"colorscale\": [[0.0, \"#0d0887\"], [0.1111111111111111, \"#46039f\"], [0.2222222222222222, \"#7201a8\"], [0.3333333333333333, \"#9c179e\"], [0.4444444444444444, \"#bd3786\"], [0.5555555555555556, \"#d8576b\"], [0.6666666666666666, \"#ed7953\"], [0.7777777777777778, \"#fb9f3a\"], [0.8888888888888888, \"#fdca26\"], [1.0, \"#f0f921\"]], \"type\": \"histogram2dcontour\"}], \"mesh3d\": [{\"colorbar\": {\"outlinewidth\": 0, \"ticks\": \"\"}, \"type\": \"mesh3d\"}], \"parcoords\": [{\"line\": {\"colorbar\": {\"outlinewidth\": 0, \"ticks\": \"\"}}, \"type\": \"parcoords\"}], \"pie\": [{\"automargin\": true, \"type\": \"pie\"}], \"scatter\": [{\"marker\": {\"colorbar\": {\"outlinewidth\": 0, \"ticks\": \"\"}}, \"type\": \"scatter\"}], \"scatter3d\": [{\"line\": {\"colorbar\": {\"outlinewidth\": 0, \"ticks\": \"\"}}, \"marker\": {\"colorbar\": {\"outlinewidth\": 0, \"ticks\": \"\"}}, \"type\": \"scatter3d\"}], \"scattercarpet\": [{\"marker\": {\"colorbar\": {\"outlinewidth\": 0, \"ticks\": \"\"}}, \"type\": \"scattercarpet\"}], \"scattergeo\": [{\"marker\": {\"colorbar\": {\"outlinewidth\": 0, \"ticks\": \"\"}}, \"type\": \"scattergeo\"}], \"scattergl\": [{\"marker\": {\"colorbar\": {\"outlinewidth\": 0, \"ticks\": \"\"}}, \"type\": \"scattergl\"}], \"scattermapbox\": [{\"marker\": {\"colorbar\": {\"outlinewidth\": 0, \"ticks\": \"\"}}, \"type\": \"scattermapbox\"}], \"scatterpolar\": [{\"marker\": {\"colorbar\": {\"outlinewidth\": 0, \"ticks\": \"\"}}, \"type\": \"scatterpolar\"}], \"scatterpolargl\": [{\"marker\": {\"colorbar\": {\"outlinewidth\": 0, \"ticks\": \"\"}}, \"type\": \"scatterpolargl\"}], \"scatterternary\": [{\"marker\": {\"colorbar\": {\"outlinewidth\": 0, \"ticks\": \"\"}}, \"type\": \"scatterternary\"}], \"surface\": [{\"colorbar\": {\"outlinewidth\": 0, \"ticks\": \"\"}, \"colorscale\": [[0.0, \"#0d0887\"], [0.1111111111111111, \"#46039f\"], [0.2222222222222222, \"#7201a8\"], [0.3333333333333333, \"#9c179e\"], [0.4444444444444444, \"#bd3786\"], [0.5555555555555556, \"#d8576b\"], [0.6666666666666666, \"#ed7953\"], [0.7777777777777778, \"#fb9f3a\"], [0.8888888888888888, \"#fdca26\"], [1.0, \"#f0f921\"]], \"type\": \"surface\"}], \"table\": [{\"cells\": {\"fill\": {\"color\": \"#EBF0F8\"}, \"line\": {\"color\": \"white\"}}, \"header\": {\"fill\": {\"color\": \"#C8D4E3\"}, \"line\": {\"color\": \"white\"}}, \"type\": \"table\"}]}, \"layout\": {\"annotationdefaults\": {\"arrowcolor\": \"#2a3f5f\", \"arrowhead\": 0, \"arrowwidth\": 1}, \"coloraxis\": {\"colorbar\": {\"outlinewidth\": 0, \"ticks\": \"\"}}, \"colorscale\": {\"diverging\": [[0, \"#8e0152\"], [0.1, \"#c51b7d\"], [0.2, \"#de77ae\"], [0.3, \"#f1b6da\"], [0.4, \"#fde0ef\"], [0.5, \"#f7f7f7\"], [0.6, \"#e6f5d0\"], [0.7, \"#b8e186\"], [0.8, \"#7fbc41\"], [0.9, \"#4d9221\"], [1, \"#276419\"]], \"sequential\": [[0.0, \"#0d0887\"], [0.1111111111111111, \"#46039f\"], [0.2222222222222222, \"#7201a8\"], [0.3333333333333333, \"#9c179e\"], [0.4444444444444444, \"#bd3786\"], [0.5555555555555556, \"#d8576b\"], [0.6666666666666666, \"#ed7953\"], [0.7777777777777778, \"#fb9f3a\"], [0.8888888888888888, \"#fdca26\"], [1.0, \"#f0f921\"]], \"sequentialminus\": [[0.0, \"#0d0887\"], [0.1111111111111111, \"#46039f\"], [0.2222222222222222, \"#7201a8\"], [0.3333333333333333, \"#9c179e\"], [0.4444444444444444, \"#bd3786\"], [0.5555555555555556, \"#d8576b\"], [0.6666666666666666, \"#ed7953\"], [0.7777777777777778, \"#fb9f3a\"], [0.8888888888888888, \"#fdca26\"], [1.0, \"#f0f921\"]]}, \"colorway\": [\"#636efa\", \"#EF553B\", \"#00cc96\", \"#ab63fa\", \"#FFA15A\", \"#19d3f3\", \"#FF6692\", \"#B6E880\", \"#FF97FF\", \"#FECB52\"], \"font\": {\"color\": \"#2a3f5f\"}, \"geo\": {\"bgcolor\": \"white\", \"lakecolor\": \"white\", \"landcolor\": \"#E5ECF6\", \"showlakes\": true, \"showland\": true, \"subunitcolor\": \"white\"}, \"hoverlabel\": {\"align\": \"left\"}, \"hovermode\": \"closest\", \"mapbox\": {\"style\": \"light\"}, \"paper_bgcolor\": \"white\", \"plot_bgcolor\": \"#E5ECF6\", \"polar\": {\"angularaxis\": {\"gridcolor\": \"white\", \"linecolor\": \"white\", \"ticks\": \"\"}, \"bgcolor\": \"#E5ECF6\", \"radialaxis\": {\"gridcolor\": \"white\", \"linecolor\": \"white\", \"ticks\": \"\"}}, \"scene\": {\"xaxis\": {\"backgroundcolor\": \"#E5ECF6\", \"gridcolor\": \"white\", \"gridwidth\": 2, \"linecolor\": \"white\", \"showbackground\": true, \"ticks\": \"\", \"zerolinecolor\": \"white\"}, \"yaxis\": {\"backgroundcolor\": \"#E5ECF6\", \"gridcolor\": \"white\", \"gridwidth\": 2, \"linecolor\": \"white\", \"showbackground\": true, \"ticks\": \"\", \"zerolinecolor\": \"white\"}, \"zaxis\": {\"backgroundcolor\": \"#E5ECF6\", \"gridcolor\": \"white\", \"gridwidth\": 2, \"linecolor\": \"white\", \"showbackground\": true, \"ticks\": \"\", \"zerolinecolor\": \"white\"}}, \"shapedefaults\": {\"line\": {\"color\": \"#2a3f5f\"}}, \"ternary\": {\"aaxis\": {\"gridcolor\": \"white\", \"linecolor\": \"white\", \"ticks\": \"\"}, \"baxis\": {\"gridcolor\": \"white\", \"linecolor\": \"white\", \"ticks\": \"\"}, \"bgcolor\": \"#E5ECF6\", \"caxis\": {\"gridcolor\": \"white\", \"linecolor\": \"white\", \"ticks\": \"\"}}, \"title\": {\"x\": 0.05}, \"xaxis\": {\"automargin\": true, \"gridcolor\": \"white\", \"linecolor\": \"white\", \"ticks\": \"\", \"title\": {\"standoff\": 15}, \"zerolinecolor\": \"white\", \"zerolinewidth\": 2}, \"yaxis\": {\"automargin\": true, \"gridcolor\": \"white\", \"linecolor\": \"white\", \"ticks\": \"\", \"title\": {\"standoff\": 15}, \"zerolinecolor\": \"white\", \"zerolinewidth\": 2}}}, \"title\": {\"font\": {\"color\": \"#4D5663\"}}, \"xaxis\": {\"gridcolor\": \"#E1E5ED\", \"showgrid\": true, \"tickfont\": {\"color\": \"#4D5663\"}, \"title\": {\"font\": {\"color\": \"#4D5663\"}, \"text\": \"\"}, \"zerolinecolor\": \"#E1E5ED\"}, \"yaxis\": {\"gridcolor\": \"#E1E5ED\", \"showgrid\": true, \"tickfont\": {\"color\": \"#4D5663\"}, \"title\": {\"font\": {\"color\": \"#4D5663\"}, \"text\": \"\"}, \"zerolinecolor\": \"#E1E5ED\"}},\n",
       "                        {\"showLink\": true, \"linkText\": \"Export to plot.ly\", \"plotlyServerURL\": \"https://plot.ly\", \"responsive\": true}\n",
       "                    ).then(function(){\n",
       "                            \n",
       "var gd = document.getElementById('1a691009-156f-47a0-8207-4913cabe50f8');\n",
       "var x = new MutationObserver(function (mutations, observer) {{\n",
       "        var display = window.getComputedStyle(gd).display;\n",
       "        if (!display || display === 'none') {{\n",
       "            console.log([gd, 'removed!']);\n",
       "            Plotly.purge(gd);\n",
       "            observer.disconnect();\n",
       "        }}\n",
       "}});\n",
       "\n",
       "// Listen for the removal of the full notebook cells\n",
       "var notebookContainer = gd.closest('#notebook-container');\n",
       "if (notebookContainer) {{\n",
       "    x.observe(notebookContainer, {childList: true});\n",
       "}}\n",
       "\n",
       "// Listen for the clearing of the current output cell\n",
       "var outputEl = gd.closest('.output');\n",
       "if (outputEl) {{\n",
       "    x.observe(outputEl, {childList: true});\n",
       "}}\n",
       "\n",
       "                        })\n",
       "                };\n",
       "                });\n",
       "            </script>\n",
       "        </div>"
      ]
     },
     "metadata": {},
     "output_type": "display_data"
    }
   ],
   "source": [
    "df.iplot(kind='bubble',x='A',y='B',size='C')"
   ]
  },
  {
   "cell_type": "markdown",
   "metadata": {},
   "source": [
    "## Scatter_matrix()\n",
    "\n",
    "Similar to sns.pairplot()"
   ]
  },
  {
   "cell_type": "code",
   "execution_count": 21,
   "metadata": {},
   "outputs": [
    {
     "data": {
      "application/vnd.plotly.v1+json": {
       "config": {
        "linkText": "Export to plot.ly",
        "plotlyServerURL": "https://plot.ly",
        "showLink": true
       },
       "data": [
        {
         "histfunc": "count",
         "histnorm": "",
         "marker": {
          "color": "rgba(255, 153, 51, 1.0)",
          "line": {
           "color": "#4D5663",
           "width": 1.3
          }
         },
         "name": "A",
         "nbinsx": 10,
         "opacity": 0.8,
         "orientation": "v",
         "type": "histogram",
         "x": [
          -1.3583402229536823,
          0.0921673543459956,
          0.4492594820576442,
          0.6996025908357328,
          2.1495250286838616,
          0.24183106597206416,
          -0.8776832110040302,
          1.0541732492278562,
          0.08523758205433592,
          0.4987407976187166,
          -0.42692187830303097,
          0.3314238788412063,
          0.8110203721335073,
          -1.892486336094162,
          -0.1986687733189751,
          -0.3859351717543113,
          0.7622079403895549,
          1.1342981825914735,
          -0.616705435419684,
          -0.12151918045946218,
          -1.1011316897029537,
          0.3328629568633669,
          -1.0208981270296031,
          0.053983225088959017,
          0.3725114124839771,
          0.10267108207518853,
          -1.1665665557543183,
          0.054504419339731255,
          0.07843971579163007,
          -0.5986900927551946,
          -1.1908876386329161,
          -0.9428019176036524,
          -0.20836288106335712,
          2.0638412236218913,
          -0.08800663468845793,
          2.3489296854756243,
          -0.328825492717537,
          0.13679328526719142,
          1.6362966816412452,
          -0.9865169458002857,
          0.5322172281903023,
          1.8126956542853345,
          2.0187951705084726,
          0.34262285700030415,
          -0.4049678282336819,
          -2.1252404889520555,
          0.3577431068537883,
          0.6213330482766051,
          1.1533821829453454,
          1.536912657916139,
          2.008920554498628,
          -1.585227803158716,
          -0.8722662480875408,
          -0.15051809032390423,
          -1.0062867067219174,
          1.8397911379130851,
          -0.06621953199647992,
          -1.2920370371673158,
          0.5436718522445453,
          0.5423224416184557,
          1.5511194828341233,
          0.13070055937739156,
          -0.44912176704902335,
          -0.2616470902800413,
          0.345449072564648,
          -0.21847852159286552,
          -1.547915716754144,
          -0.24297968869274658,
          0.10713560266622875,
          -0.03071741252082736,
          0.6189888818452682,
          0.949788377696495,
          -0.31913257258760963,
          1.029866696113866,
          0.2163440437977718,
          -1.9076255260432537,
          0.9911538059288,
          -1.2938190969419967,
          -1.556975158647537,
          -0.8567798093066372,
          1.1061307231493411,
          0.8210251094170343,
          -0.8752867994424044,
          -1.3312503684676744,
          -0.15270325556453376,
          -1.6312580962345506,
          1.8820767353613506,
          0.2876026635475839,
          -0.8927184511718702,
          0.8929654454438709,
          0.6600185178648303,
          -1.2544677962637543,
          1.0241195756808887,
          1.7451061541136383,
          1.6784492852125634,
          -0.209804057404903,
          2.7179971818449857,
          0.15330230160949973,
          0.8962390746892906,
          0.21855533520777062
         ],
         "xaxis": "x",
         "yaxis": "y"
        },
        {
         "line": {
          "color": "rgba(128, 128, 128, 1.0)",
          "dash": "solid",
          "shape": "linear",
          "width": 1.3
         },
         "marker": {
          "size": 2,
          "symbol": "circle"
         },
         "mode": "markers",
         "name": "A",
         "text": "",
         "type": "scatter",
         "x": [
          0.7062159335042797,
          0.7219254733761484,
          0.5463129397908424,
          -0.6931529077523799,
          -1.6825415343319072,
          -0.163715476768212,
          1.2542694738069151,
          0.2874131009769991,
          -1.263462719563245,
          -0.7238140467351619,
          2.184714958062746,
          -2.8697379154159677,
          -0.7409720185625667,
          0.699470418188912,
          -1.2082057874168277,
          1.172505684652955,
          0.6764855553881596,
          0.6145175314457706,
          0.3998685213240509,
          0.6011537674657929,
          -0.17760909229636285,
          -0.27164619891261593,
          0.016783537950853814,
          -0.3152415327654973,
          1.040155078188417,
          -1.6181904077672757,
          -0.6267969219734727,
          0.3150579764877128,
          1.1278776716162962,
          1.8773340948873105,
          -0.1514056836070442,
          0.3375374850890802,
          -1.4616285328336531,
          -0.8198419318788835,
          0.8243541156979151,
          -0.40253086793801673,
          0.11161375634635512,
          0.8110433849900274,
          -0.7372647622097733,
          0.5951094858811783,
          1.788231465632863,
          1.6096544305491811,
          -1.6724569437258132,
          -0.5343499938543699,
          -0.42080029902949184,
          0.7017532920558198,
          -1.8095562597566381,
          0.08967981171876918,
          1.3014844394723237,
          -0.008188048042794197,
          0.5120041176666327,
          0.6307009822539876,
          0.20535907665217643,
          0.40208846119323083,
          -0.6250359423978179,
          -1.3173115747022526,
          0.7934196396570694,
          0.021772115789257137,
          0.089532532038497,
          -0.3461312566174257,
          -1.3515693099417592,
          -0.8125304190004683,
          0.6460317056406156,
          2.5682487716392797,
          -1.3928851372548272,
          0.49240556188681406,
          -1.3404633687098704,
          0.4092479859742962,
          -0.055251692720409536,
          -0.40605510886442653,
          -1.7490729669018399,
          0.9484082473493582,
          -0.25030755921934555,
          1.1063585220126273,
          -1.285180609868798,
          -0.27944973884190905,
          1.5788577983747496,
          1.0687556988535705,
          0.8847765838108002,
          0.13394864375601528,
          0.75925337178594,
          -0.1634560803366644,
          0.07831300439827604,
          -0.8908680973465573,
          -1.3336711135597754,
          0.5742058122235427,
          0.8020214805889448,
          2.9226570311911457,
          -1.3427501538316637,
          0.6004478098801661,
          0.0005468704148372964,
          0.4825037294818465,
          -1.0839290848485301,
          -1.7338844652392993,
          0.30343207245100284,
          -0.13956794322089353,
          0.24250586024809148,
          -0.2763816144379349,
          -1.3194412611454425,
          0.02032522014388897
         ],
         "xaxis": "x2",
         "y": [
          -1.3583402229536823,
          0.0921673543459956,
          0.4492594820576442,
          0.6996025908357328,
          2.1495250286838616,
          0.24183106597206416,
          -0.8776832110040302,
          1.0541732492278562,
          0.08523758205433592,
          0.4987407976187166,
          -0.42692187830303097,
          0.3314238788412063,
          0.8110203721335073,
          -1.892486336094162,
          -0.1986687733189751,
          -0.3859351717543113,
          0.7622079403895549,
          1.1342981825914735,
          -0.616705435419684,
          -0.12151918045946218,
          -1.1011316897029537,
          0.3328629568633669,
          -1.0208981270296031,
          0.053983225088959017,
          0.3725114124839771,
          0.10267108207518853,
          -1.1665665557543183,
          0.054504419339731255,
          0.07843971579163007,
          -0.5986900927551946,
          -1.1908876386329161,
          -0.9428019176036524,
          -0.20836288106335712,
          2.0638412236218913,
          -0.08800663468845793,
          2.3489296854756243,
          -0.328825492717537,
          0.13679328526719142,
          1.6362966816412452,
          -0.9865169458002857,
          0.5322172281903023,
          1.8126956542853345,
          2.0187951705084726,
          0.34262285700030415,
          -0.4049678282336819,
          -2.1252404889520555,
          0.3577431068537883,
          0.6213330482766051,
          1.1533821829453454,
          1.536912657916139,
          2.008920554498628,
          -1.585227803158716,
          -0.8722662480875408,
          -0.15051809032390423,
          -1.0062867067219174,
          1.8397911379130851,
          -0.06621953199647992,
          -1.2920370371673158,
          0.5436718522445453,
          0.5423224416184557,
          1.5511194828341233,
          0.13070055937739156,
          -0.44912176704902335,
          -0.2616470902800413,
          0.345449072564648,
          -0.21847852159286552,
          -1.547915716754144,
          -0.24297968869274658,
          0.10713560266622875,
          -0.03071741252082736,
          0.6189888818452682,
          0.949788377696495,
          -0.31913257258760963,
          1.029866696113866,
          0.2163440437977718,
          -1.9076255260432537,
          0.9911538059288,
          -1.2938190969419967,
          -1.556975158647537,
          -0.8567798093066372,
          1.1061307231493411,
          0.8210251094170343,
          -0.8752867994424044,
          -1.3312503684676744,
          -0.15270325556453376,
          -1.6312580962345506,
          1.8820767353613506,
          0.2876026635475839,
          -0.8927184511718702,
          0.8929654454438709,
          0.6600185178648303,
          -1.2544677962637543,
          1.0241195756808887,
          1.7451061541136383,
          1.6784492852125634,
          -0.209804057404903,
          2.7179971818449857,
          0.15330230160949973,
          0.8962390746892906,
          0.21855533520777062
         ],
         "yaxis": "y2"
        },
        {
         "line": {
          "color": "rgba(128, 128, 128, 1.0)",
          "dash": "solid",
          "shape": "linear",
          "width": 1.3
         },
         "marker": {
          "size": 2,
          "symbol": "circle"
         },
         "mode": "markers",
         "name": "A",
         "text": "",
         "type": "scatter",
         "x": [
          -1.7394193082285367,
          2.0199509590283324,
          -2.125045260659694,
          0.9872091937611682,
          1.2814726584521647,
          1.9112407917021952,
          0.8682065323813343,
          0.9953456319658606,
          -0.47724553658137586,
          0.2907453293892247,
          0.2922072941281063,
          -1.0031202575300096,
          0.6191438532439717,
          -0.20730239105666726,
          -0.3061246959355385,
          1.6157414622829638,
          -1.0126178567292161,
          0.9245663049594548,
          -1.4215312439541787,
          -0.7641846673842541,
          -0.24282777387711735,
          0.1221896350021282,
          -0.45013297851147577,
          0.12262189159104932,
          -0.22146285558706982,
          -0.42293498087215603,
          0.42912714654322803,
          0.1373949302686126,
          -0.07528551417909446,
          -0.8345047263438276,
          0.242013070563943,
          0.8841956172726568,
          1.8015949174910602,
          0.9276896530283995,
          0.0445268358058785,
          -1.2167497680105366,
          -1.0609666266602078,
          -0.8229676300534009,
          -0.4659296912688198,
          -2.450017026055469,
          2.007865763260578,
          -0.5714253071723848,
          0.3104900370555491,
          -0.6265490779005343,
          0.8292315795528291,
          -1.7856561980824746,
          1.040462972074903,
          -0.6717794077056105,
          -3.016418333287492,
          -0.2982601216242055,
          0.23682116985574989,
          0.06774564588221275,
          0.7317414515020575,
          1.1708150818193395,
          1.7179509061567175,
          -0.09531060061377467,
          -2.446695283742527,
          1.2345616048347057,
          -0.42536208974328804,
          -0.8317642691126296,
          -1.395540850752444,
          -0.318993517146573,
          0.5967297862283434,
          0.872950971037923,
          0.9078328797395858,
          -1.1179242321679763,
          -0.13551094533786015,
          2.9940741991773367,
          0.05979375987894932,
          -1.0441911901315293,
          2.2382973166725435,
          0.19095928512930777,
          0.9635986997098613,
          -1.1089799201512651,
          -1.0611222801332265,
          -0.530030116387802,
          0.8420748064206437,
          1.451378193611522,
          0.15630203815220325,
          0.44432724012472413,
          0.21319102371955295,
          -0.6808442207139247,
          0.8499587129601391,
          -1.9262182617537706,
          -0.1405587991994687,
          -0.7748484503006927,
          0.39678325647576956,
          -0.8813410163876415,
          0.8820173866408353,
          -0.3491862544376239,
          -0.2410129619428547,
          -0.9057173317234595,
          -1.3875868082596643,
          -0.056640982831819314,
          -1.1773818281757318,
          -0.8829637711699871,
          -0.05024918980899207,
          1.2910254435644628,
          0.08975330868495415,
          0.2019190020155585
         ],
         "xaxis": "x3",
         "y": [
          -1.3583402229536823,
          0.0921673543459956,
          0.4492594820576442,
          0.6996025908357328,
          2.1495250286838616,
          0.24183106597206416,
          -0.8776832110040302,
          1.0541732492278562,
          0.08523758205433592,
          0.4987407976187166,
          -0.42692187830303097,
          0.3314238788412063,
          0.8110203721335073,
          -1.892486336094162,
          -0.1986687733189751,
          -0.3859351717543113,
          0.7622079403895549,
          1.1342981825914735,
          -0.616705435419684,
          -0.12151918045946218,
          -1.1011316897029537,
          0.3328629568633669,
          -1.0208981270296031,
          0.053983225088959017,
          0.3725114124839771,
          0.10267108207518853,
          -1.1665665557543183,
          0.054504419339731255,
          0.07843971579163007,
          -0.5986900927551946,
          -1.1908876386329161,
          -0.9428019176036524,
          -0.20836288106335712,
          2.0638412236218913,
          -0.08800663468845793,
          2.3489296854756243,
          -0.328825492717537,
          0.13679328526719142,
          1.6362966816412452,
          -0.9865169458002857,
          0.5322172281903023,
          1.8126956542853345,
          2.0187951705084726,
          0.34262285700030415,
          -0.4049678282336819,
          -2.1252404889520555,
          0.3577431068537883,
          0.6213330482766051,
          1.1533821829453454,
          1.536912657916139,
          2.008920554498628,
          -1.585227803158716,
          -0.8722662480875408,
          -0.15051809032390423,
          -1.0062867067219174,
          1.8397911379130851,
          -0.06621953199647992,
          -1.2920370371673158,
          0.5436718522445453,
          0.5423224416184557,
          1.5511194828341233,
          0.13070055937739156,
          -0.44912176704902335,
          -0.2616470902800413,
          0.345449072564648,
          -0.21847852159286552,
          -1.547915716754144,
          -0.24297968869274658,
          0.10713560266622875,
          -0.03071741252082736,
          0.6189888818452682,
          0.949788377696495,
          -0.31913257258760963,
          1.029866696113866,
          0.2163440437977718,
          -1.9076255260432537,
          0.9911538059288,
          -1.2938190969419967,
          -1.556975158647537,
          -0.8567798093066372,
          1.1061307231493411,
          0.8210251094170343,
          -0.8752867994424044,
          -1.3312503684676744,
          -0.15270325556453376,
          -1.6312580962345506,
          1.8820767353613506,
          0.2876026635475839,
          -0.8927184511718702,
          0.8929654454438709,
          0.6600185178648303,
          -1.2544677962637543,
          1.0241195756808887,
          1.7451061541136383,
          1.6784492852125634,
          -0.209804057404903,
          2.7179971818449857,
          0.15330230160949973,
          0.8962390746892906,
          0.21855533520777062
         ],
         "yaxis": "y3"
        },
        {
         "line": {
          "color": "rgba(128, 128, 128, 1.0)",
          "dash": "solid",
          "shape": "linear",
          "width": 1.3
         },
         "marker": {
          "size": 2,
          "symbol": "circle"
         },
         "mode": "markers",
         "name": "A",
         "text": "",
         "type": "scatter",
         "x": [
          -0.918021841382379,
          0.3692701603907164,
          1.188573271342609,
          0.22978856469901443,
          0.34401552918206985,
          1.4434644093153666,
          -1.4144399047224352,
          -0.9262573803086471,
          -1.0096143309966708,
          -0.24797947664388517,
          0.06193314664735327,
          -1.9847490598564868,
          0.28930719147418593,
          0.9729800141188311,
          -0.752826723320766,
          -0.1964051585219301,
          -0.9599060330733563,
          0.23175729877103896,
          0.6352713171037078,
          -1.4652585705909942,
          -0.5618443784834063,
          1.3002625407503783,
          0.2920556383677886,
          0.6624188615292138,
          0.6348322297238859,
          -1.4366734272605315,
          -0.9916924034914343,
          0.9246214815924768,
          1.1274590822784436,
          -0.054862832358006285,
          -1.1115686499842772,
          -2.1810572779048116,
          -0.6303969622757892,
          -1.805785039501949,
          -0.7244043601054821,
          -1.0735129121877474,
          1.1308346797517523,
          -0.46909703068663483,
          -1.2112551878570506,
          0.712082837871189,
          -0.8569204918044192,
          -0.01849398969657977,
          -0.7537431286052918,
          0.23052330629156206,
          1.106907800473795,
          0.5201106000323045,
          0.9883999655545883,
          1.8169499319902562,
          0.8720060646770937,
          0.15524937064089045,
          -1.3623990893383962,
          1.0221213704141545,
          0.45476036661258196,
          -0.9398110554502317,
          -0.5509476422934868,
          0.15478870709990045,
          -1.7618483025106282,
          0.6942889786702552,
          0.5283082335725829,
          -1.5534195938951703,
          0.9783396485141392,
          -0.7291058861888242,
          -0.7649422077157795,
          0.8460909820593372,
          -2.0382131719821963,
          -0.3348840078515811,
          0.3272919918215468,
          0.5865591818077541,
          1.5398463883664955,
          -0.49854702667623696,
          -0.4225083608524863,
          -0.10802948547715434,
          2.2346822788271687,
          -2.1303528397758815,
          0.2418013944113245,
          0.879429222427897,
          1.9008821707299182,
          -0.3449374812457629,
          -0.7705988326805959,
          1.3882406106252168,
          -0.45742519952022254,
          -0.4041779181983526,
          -0.37788039061515666,
          -0.2727046005123951,
          0.13466798604546537,
          -0.9848270237121459,
          -0.2783457860638169,
          0.12937596854579084,
          0.4675249496342816,
          -0.4581541999742207,
          1.1556611938675025,
          -0.08898255602530283,
          0.7639547917194405,
          1.6322889236802958,
          -0.3517880833180977,
          -0.24303123108308203,
          0.3818600133402033,
          -0.5074320431098871,
          -1.3213786580557674,
          -0.458695491424776
         ],
         "xaxis": "x4",
         "y": [
          -1.3583402229536823,
          0.0921673543459956,
          0.4492594820576442,
          0.6996025908357328,
          2.1495250286838616,
          0.24183106597206416,
          -0.8776832110040302,
          1.0541732492278562,
          0.08523758205433592,
          0.4987407976187166,
          -0.42692187830303097,
          0.3314238788412063,
          0.8110203721335073,
          -1.892486336094162,
          -0.1986687733189751,
          -0.3859351717543113,
          0.7622079403895549,
          1.1342981825914735,
          -0.616705435419684,
          -0.12151918045946218,
          -1.1011316897029537,
          0.3328629568633669,
          -1.0208981270296031,
          0.053983225088959017,
          0.3725114124839771,
          0.10267108207518853,
          -1.1665665557543183,
          0.054504419339731255,
          0.07843971579163007,
          -0.5986900927551946,
          -1.1908876386329161,
          -0.9428019176036524,
          -0.20836288106335712,
          2.0638412236218913,
          -0.08800663468845793,
          2.3489296854756243,
          -0.328825492717537,
          0.13679328526719142,
          1.6362966816412452,
          -0.9865169458002857,
          0.5322172281903023,
          1.8126956542853345,
          2.0187951705084726,
          0.34262285700030415,
          -0.4049678282336819,
          -2.1252404889520555,
          0.3577431068537883,
          0.6213330482766051,
          1.1533821829453454,
          1.536912657916139,
          2.008920554498628,
          -1.585227803158716,
          -0.8722662480875408,
          -0.15051809032390423,
          -1.0062867067219174,
          1.8397911379130851,
          -0.06621953199647992,
          -1.2920370371673158,
          0.5436718522445453,
          0.5423224416184557,
          1.5511194828341233,
          0.13070055937739156,
          -0.44912176704902335,
          -0.2616470902800413,
          0.345449072564648,
          -0.21847852159286552,
          -1.547915716754144,
          -0.24297968869274658,
          0.10713560266622875,
          -0.03071741252082736,
          0.6189888818452682,
          0.949788377696495,
          -0.31913257258760963,
          1.029866696113866,
          0.2163440437977718,
          -1.9076255260432537,
          0.9911538059288,
          -1.2938190969419967,
          -1.556975158647537,
          -0.8567798093066372,
          1.1061307231493411,
          0.8210251094170343,
          -0.8752867994424044,
          -1.3312503684676744,
          -0.15270325556453376,
          -1.6312580962345506,
          1.8820767353613506,
          0.2876026635475839,
          -0.8927184511718702,
          0.8929654454438709,
          0.6600185178648303,
          -1.2544677962637543,
          1.0241195756808887,
          1.7451061541136383,
          1.6784492852125634,
          -0.209804057404903,
          2.7179971818449857,
          0.15330230160949973,
          0.8962390746892906,
          0.21855533520777062
         ],
         "yaxis": "y4"
        },
        {
         "line": {
          "color": "rgba(128, 128, 128, 1.0)",
          "dash": "solid",
          "shape": "linear",
          "width": 1.3
         },
         "marker": {
          "size": 2,
          "symbol": "circle"
         },
         "mode": "markers",
         "name": "B",
         "text": "",
         "type": "scatter",
         "x": [
          -1.3583402229536823,
          0.0921673543459956,
          0.4492594820576442,
          0.6996025908357328,
          2.1495250286838616,
          0.24183106597206416,
          -0.8776832110040302,
          1.0541732492278562,
          0.08523758205433592,
          0.4987407976187166,
          -0.42692187830303097,
          0.3314238788412063,
          0.8110203721335073,
          -1.892486336094162,
          -0.1986687733189751,
          -0.3859351717543113,
          0.7622079403895549,
          1.1342981825914735,
          -0.616705435419684,
          -0.12151918045946218,
          -1.1011316897029537,
          0.3328629568633669,
          -1.0208981270296031,
          0.053983225088959017,
          0.3725114124839771,
          0.10267108207518853,
          -1.1665665557543183,
          0.054504419339731255,
          0.07843971579163007,
          -0.5986900927551946,
          -1.1908876386329161,
          -0.9428019176036524,
          -0.20836288106335712,
          2.0638412236218913,
          -0.08800663468845793,
          2.3489296854756243,
          -0.328825492717537,
          0.13679328526719142,
          1.6362966816412452,
          -0.9865169458002857,
          0.5322172281903023,
          1.8126956542853345,
          2.0187951705084726,
          0.34262285700030415,
          -0.4049678282336819,
          -2.1252404889520555,
          0.3577431068537883,
          0.6213330482766051,
          1.1533821829453454,
          1.536912657916139,
          2.008920554498628,
          -1.585227803158716,
          -0.8722662480875408,
          -0.15051809032390423,
          -1.0062867067219174,
          1.8397911379130851,
          -0.06621953199647992,
          -1.2920370371673158,
          0.5436718522445453,
          0.5423224416184557,
          1.5511194828341233,
          0.13070055937739156,
          -0.44912176704902335,
          -0.2616470902800413,
          0.345449072564648,
          -0.21847852159286552,
          -1.547915716754144,
          -0.24297968869274658,
          0.10713560266622875,
          -0.03071741252082736,
          0.6189888818452682,
          0.949788377696495,
          -0.31913257258760963,
          1.029866696113866,
          0.2163440437977718,
          -1.9076255260432537,
          0.9911538059288,
          -1.2938190969419967,
          -1.556975158647537,
          -0.8567798093066372,
          1.1061307231493411,
          0.8210251094170343,
          -0.8752867994424044,
          -1.3312503684676744,
          -0.15270325556453376,
          -1.6312580962345506,
          1.8820767353613506,
          0.2876026635475839,
          -0.8927184511718702,
          0.8929654454438709,
          0.6600185178648303,
          -1.2544677962637543,
          1.0241195756808887,
          1.7451061541136383,
          1.6784492852125634,
          -0.209804057404903,
          2.7179971818449857,
          0.15330230160949973,
          0.8962390746892906,
          0.21855533520777062
         ],
         "xaxis": "x5",
         "y": [
          0.7062159335042797,
          0.7219254733761484,
          0.5463129397908424,
          -0.6931529077523799,
          -1.6825415343319072,
          -0.163715476768212,
          1.2542694738069151,
          0.2874131009769991,
          -1.263462719563245,
          -0.7238140467351619,
          2.184714958062746,
          -2.8697379154159677,
          -0.7409720185625667,
          0.699470418188912,
          -1.2082057874168277,
          1.172505684652955,
          0.6764855553881596,
          0.6145175314457706,
          0.3998685213240509,
          0.6011537674657929,
          -0.17760909229636285,
          -0.27164619891261593,
          0.016783537950853814,
          -0.3152415327654973,
          1.040155078188417,
          -1.6181904077672757,
          -0.6267969219734727,
          0.3150579764877128,
          1.1278776716162962,
          1.8773340948873105,
          -0.1514056836070442,
          0.3375374850890802,
          -1.4616285328336531,
          -0.8198419318788835,
          0.8243541156979151,
          -0.40253086793801673,
          0.11161375634635512,
          0.8110433849900274,
          -0.7372647622097733,
          0.5951094858811783,
          1.788231465632863,
          1.6096544305491811,
          -1.6724569437258132,
          -0.5343499938543699,
          -0.42080029902949184,
          0.7017532920558198,
          -1.8095562597566381,
          0.08967981171876918,
          1.3014844394723237,
          -0.008188048042794197,
          0.5120041176666327,
          0.6307009822539876,
          0.20535907665217643,
          0.40208846119323083,
          -0.6250359423978179,
          -1.3173115747022526,
          0.7934196396570694,
          0.021772115789257137,
          0.089532532038497,
          -0.3461312566174257,
          -1.3515693099417592,
          -0.8125304190004683,
          0.6460317056406156,
          2.5682487716392797,
          -1.3928851372548272,
          0.49240556188681406,
          -1.3404633687098704,
          0.4092479859742962,
          -0.055251692720409536,
          -0.40605510886442653,
          -1.7490729669018399,
          0.9484082473493582,
          -0.25030755921934555,
          1.1063585220126273,
          -1.285180609868798,
          -0.27944973884190905,
          1.5788577983747496,
          1.0687556988535705,
          0.8847765838108002,
          0.13394864375601528,
          0.75925337178594,
          -0.1634560803366644,
          0.07831300439827604,
          -0.8908680973465573,
          -1.3336711135597754,
          0.5742058122235427,
          0.8020214805889448,
          2.9226570311911457,
          -1.3427501538316637,
          0.6004478098801661,
          0.0005468704148372964,
          0.4825037294818465,
          -1.0839290848485301,
          -1.7338844652392993,
          0.30343207245100284,
          -0.13956794322089353,
          0.24250586024809148,
          -0.2763816144379349,
          -1.3194412611454425,
          0.02032522014388897
         ],
         "yaxis": "y5"
        },
        {
         "histfunc": "count",
         "histnorm": "",
         "marker": {
          "color": "rgba(55, 128, 191, 1.0)",
          "line": {
           "color": "#4D5663",
           "width": 1.3
          }
         },
         "name": "B",
         "nbinsx": 10,
         "opacity": 0.8,
         "orientation": "v",
         "type": "histogram",
         "x": [
          0.7062159335042797,
          0.7219254733761484,
          0.5463129397908424,
          -0.6931529077523799,
          -1.6825415343319072,
          -0.163715476768212,
          1.2542694738069151,
          0.2874131009769991,
          -1.263462719563245,
          -0.7238140467351619,
          2.184714958062746,
          -2.8697379154159677,
          -0.7409720185625667,
          0.699470418188912,
          -1.2082057874168277,
          1.172505684652955,
          0.6764855553881596,
          0.6145175314457706,
          0.3998685213240509,
          0.6011537674657929,
          -0.17760909229636285,
          -0.27164619891261593,
          0.016783537950853814,
          -0.3152415327654973,
          1.040155078188417,
          -1.6181904077672757,
          -0.6267969219734727,
          0.3150579764877128,
          1.1278776716162962,
          1.8773340948873105,
          -0.1514056836070442,
          0.3375374850890802,
          -1.4616285328336531,
          -0.8198419318788835,
          0.8243541156979151,
          -0.40253086793801673,
          0.11161375634635512,
          0.8110433849900274,
          -0.7372647622097733,
          0.5951094858811783,
          1.788231465632863,
          1.6096544305491811,
          -1.6724569437258132,
          -0.5343499938543699,
          -0.42080029902949184,
          0.7017532920558198,
          -1.8095562597566381,
          0.08967981171876918,
          1.3014844394723237,
          -0.008188048042794197,
          0.5120041176666327,
          0.6307009822539876,
          0.20535907665217643,
          0.40208846119323083,
          -0.6250359423978179,
          -1.3173115747022526,
          0.7934196396570694,
          0.021772115789257137,
          0.089532532038497,
          -0.3461312566174257,
          -1.3515693099417592,
          -0.8125304190004683,
          0.6460317056406156,
          2.5682487716392797,
          -1.3928851372548272,
          0.49240556188681406,
          -1.3404633687098704,
          0.4092479859742962,
          -0.055251692720409536,
          -0.40605510886442653,
          -1.7490729669018399,
          0.9484082473493582,
          -0.25030755921934555,
          1.1063585220126273,
          -1.285180609868798,
          -0.27944973884190905,
          1.5788577983747496,
          1.0687556988535705,
          0.8847765838108002,
          0.13394864375601528,
          0.75925337178594,
          -0.1634560803366644,
          0.07831300439827604,
          -0.8908680973465573,
          -1.3336711135597754,
          0.5742058122235427,
          0.8020214805889448,
          2.9226570311911457,
          -1.3427501538316637,
          0.6004478098801661,
          0.0005468704148372964,
          0.4825037294818465,
          -1.0839290848485301,
          -1.7338844652392993,
          0.30343207245100284,
          -0.13956794322089353,
          0.24250586024809148,
          -0.2763816144379349,
          -1.3194412611454425,
          0.02032522014388897
         ],
         "xaxis": "x6",
         "yaxis": "y6"
        },
        {
         "line": {
          "color": "rgba(128, 128, 128, 1.0)",
          "dash": "solid",
          "shape": "linear",
          "width": 1.3
         },
         "marker": {
          "size": 2,
          "symbol": "circle"
         },
         "mode": "markers",
         "name": "B",
         "text": "",
         "type": "scatter",
         "x": [
          -1.7394193082285367,
          2.0199509590283324,
          -2.125045260659694,
          0.9872091937611682,
          1.2814726584521647,
          1.9112407917021952,
          0.8682065323813343,
          0.9953456319658606,
          -0.47724553658137586,
          0.2907453293892247,
          0.2922072941281063,
          -1.0031202575300096,
          0.6191438532439717,
          -0.20730239105666726,
          -0.3061246959355385,
          1.6157414622829638,
          -1.0126178567292161,
          0.9245663049594548,
          -1.4215312439541787,
          -0.7641846673842541,
          -0.24282777387711735,
          0.1221896350021282,
          -0.45013297851147577,
          0.12262189159104932,
          -0.22146285558706982,
          -0.42293498087215603,
          0.42912714654322803,
          0.1373949302686126,
          -0.07528551417909446,
          -0.8345047263438276,
          0.242013070563943,
          0.8841956172726568,
          1.8015949174910602,
          0.9276896530283995,
          0.0445268358058785,
          -1.2167497680105366,
          -1.0609666266602078,
          -0.8229676300534009,
          -0.4659296912688198,
          -2.450017026055469,
          2.007865763260578,
          -0.5714253071723848,
          0.3104900370555491,
          -0.6265490779005343,
          0.8292315795528291,
          -1.7856561980824746,
          1.040462972074903,
          -0.6717794077056105,
          -3.016418333287492,
          -0.2982601216242055,
          0.23682116985574989,
          0.06774564588221275,
          0.7317414515020575,
          1.1708150818193395,
          1.7179509061567175,
          -0.09531060061377467,
          -2.446695283742527,
          1.2345616048347057,
          -0.42536208974328804,
          -0.8317642691126296,
          -1.395540850752444,
          -0.318993517146573,
          0.5967297862283434,
          0.872950971037923,
          0.9078328797395858,
          -1.1179242321679763,
          -0.13551094533786015,
          2.9940741991773367,
          0.05979375987894932,
          -1.0441911901315293,
          2.2382973166725435,
          0.19095928512930777,
          0.9635986997098613,
          -1.1089799201512651,
          -1.0611222801332265,
          -0.530030116387802,
          0.8420748064206437,
          1.451378193611522,
          0.15630203815220325,
          0.44432724012472413,
          0.21319102371955295,
          -0.6808442207139247,
          0.8499587129601391,
          -1.9262182617537706,
          -0.1405587991994687,
          -0.7748484503006927,
          0.39678325647576956,
          -0.8813410163876415,
          0.8820173866408353,
          -0.3491862544376239,
          -0.2410129619428547,
          -0.9057173317234595,
          -1.3875868082596643,
          -0.056640982831819314,
          -1.1773818281757318,
          -0.8829637711699871,
          -0.05024918980899207,
          1.2910254435644628,
          0.08975330868495415,
          0.2019190020155585
         ],
         "xaxis": "x7",
         "y": [
          0.7062159335042797,
          0.7219254733761484,
          0.5463129397908424,
          -0.6931529077523799,
          -1.6825415343319072,
          -0.163715476768212,
          1.2542694738069151,
          0.2874131009769991,
          -1.263462719563245,
          -0.7238140467351619,
          2.184714958062746,
          -2.8697379154159677,
          -0.7409720185625667,
          0.699470418188912,
          -1.2082057874168277,
          1.172505684652955,
          0.6764855553881596,
          0.6145175314457706,
          0.3998685213240509,
          0.6011537674657929,
          -0.17760909229636285,
          -0.27164619891261593,
          0.016783537950853814,
          -0.3152415327654973,
          1.040155078188417,
          -1.6181904077672757,
          -0.6267969219734727,
          0.3150579764877128,
          1.1278776716162962,
          1.8773340948873105,
          -0.1514056836070442,
          0.3375374850890802,
          -1.4616285328336531,
          -0.8198419318788835,
          0.8243541156979151,
          -0.40253086793801673,
          0.11161375634635512,
          0.8110433849900274,
          -0.7372647622097733,
          0.5951094858811783,
          1.788231465632863,
          1.6096544305491811,
          -1.6724569437258132,
          -0.5343499938543699,
          -0.42080029902949184,
          0.7017532920558198,
          -1.8095562597566381,
          0.08967981171876918,
          1.3014844394723237,
          -0.008188048042794197,
          0.5120041176666327,
          0.6307009822539876,
          0.20535907665217643,
          0.40208846119323083,
          -0.6250359423978179,
          -1.3173115747022526,
          0.7934196396570694,
          0.021772115789257137,
          0.089532532038497,
          -0.3461312566174257,
          -1.3515693099417592,
          -0.8125304190004683,
          0.6460317056406156,
          2.5682487716392797,
          -1.3928851372548272,
          0.49240556188681406,
          -1.3404633687098704,
          0.4092479859742962,
          -0.055251692720409536,
          -0.40605510886442653,
          -1.7490729669018399,
          0.9484082473493582,
          -0.25030755921934555,
          1.1063585220126273,
          -1.285180609868798,
          -0.27944973884190905,
          1.5788577983747496,
          1.0687556988535705,
          0.8847765838108002,
          0.13394864375601528,
          0.75925337178594,
          -0.1634560803366644,
          0.07831300439827604,
          -0.8908680973465573,
          -1.3336711135597754,
          0.5742058122235427,
          0.8020214805889448,
          2.9226570311911457,
          -1.3427501538316637,
          0.6004478098801661,
          0.0005468704148372964,
          0.4825037294818465,
          -1.0839290848485301,
          -1.7338844652392993,
          0.30343207245100284,
          -0.13956794322089353,
          0.24250586024809148,
          -0.2763816144379349,
          -1.3194412611454425,
          0.02032522014388897
         ],
         "yaxis": "y7"
        },
        {
         "line": {
          "color": "rgba(128, 128, 128, 1.0)",
          "dash": "solid",
          "shape": "linear",
          "width": 1.3
         },
         "marker": {
          "size": 2,
          "symbol": "circle"
         },
         "mode": "markers",
         "name": "B",
         "text": "",
         "type": "scatter",
         "x": [
          -0.918021841382379,
          0.3692701603907164,
          1.188573271342609,
          0.22978856469901443,
          0.34401552918206985,
          1.4434644093153666,
          -1.4144399047224352,
          -0.9262573803086471,
          -1.0096143309966708,
          -0.24797947664388517,
          0.06193314664735327,
          -1.9847490598564868,
          0.28930719147418593,
          0.9729800141188311,
          -0.752826723320766,
          -0.1964051585219301,
          -0.9599060330733563,
          0.23175729877103896,
          0.6352713171037078,
          -1.4652585705909942,
          -0.5618443784834063,
          1.3002625407503783,
          0.2920556383677886,
          0.6624188615292138,
          0.6348322297238859,
          -1.4366734272605315,
          -0.9916924034914343,
          0.9246214815924768,
          1.1274590822784436,
          -0.054862832358006285,
          -1.1115686499842772,
          -2.1810572779048116,
          -0.6303969622757892,
          -1.805785039501949,
          -0.7244043601054821,
          -1.0735129121877474,
          1.1308346797517523,
          -0.46909703068663483,
          -1.2112551878570506,
          0.712082837871189,
          -0.8569204918044192,
          -0.01849398969657977,
          -0.7537431286052918,
          0.23052330629156206,
          1.106907800473795,
          0.5201106000323045,
          0.9883999655545883,
          1.8169499319902562,
          0.8720060646770937,
          0.15524937064089045,
          -1.3623990893383962,
          1.0221213704141545,
          0.45476036661258196,
          -0.9398110554502317,
          -0.5509476422934868,
          0.15478870709990045,
          -1.7618483025106282,
          0.6942889786702552,
          0.5283082335725829,
          -1.5534195938951703,
          0.9783396485141392,
          -0.7291058861888242,
          -0.7649422077157795,
          0.8460909820593372,
          -2.0382131719821963,
          -0.3348840078515811,
          0.3272919918215468,
          0.5865591818077541,
          1.5398463883664955,
          -0.49854702667623696,
          -0.4225083608524863,
          -0.10802948547715434,
          2.2346822788271687,
          -2.1303528397758815,
          0.2418013944113245,
          0.879429222427897,
          1.9008821707299182,
          -0.3449374812457629,
          -0.7705988326805959,
          1.3882406106252168,
          -0.45742519952022254,
          -0.4041779181983526,
          -0.37788039061515666,
          -0.2727046005123951,
          0.13466798604546537,
          -0.9848270237121459,
          -0.2783457860638169,
          0.12937596854579084,
          0.4675249496342816,
          -0.4581541999742207,
          1.1556611938675025,
          -0.08898255602530283,
          0.7639547917194405,
          1.6322889236802958,
          -0.3517880833180977,
          -0.24303123108308203,
          0.3818600133402033,
          -0.5074320431098871,
          -1.3213786580557674,
          -0.458695491424776
         ],
         "xaxis": "x8",
         "y": [
          0.7062159335042797,
          0.7219254733761484,
          0.5463129397908424,
          -0.6931529077523799,
          -1.6825415343319072,
          -0.163715476768212,
          1.2542694738069151,
          0.2874131009769991,
          -1.263462719563245,
          -0.7238140467351619,
          2.184714958062746,
          -2.8697379154159677,
          -0.7409720185625667,
          0.699470418188912,
          -1.2082057874168277,
          1.172505684652955,
          0.6764855553881596,
          0.6145175314457706,
          0.3998685213240509,
          0.6011537674657929,
          -0.17760909229636285,
          -0.27164619891261593,
          0.016783537950853814,
          -0.3152415327654973,
          1.040155078188417,
          -1.6181904077672757,
          -0.6267969219734727,
          0.3150579764877128,
          1.1278776716162962,
          1.8773340948873105,
          -0.1514056836070442,
          0.3375374850890802,
          -1.4616285328336531,
          -0.8198419318788835,
          0.8243541156979151,
          -0.40253086793801673,
          0.11161375634635512,
          0.8110433849900274,
          -0.7372647622097733,
          0.5951094858811783,
          1.788231465632863,
          1.6096544305491811,
          -1.6724569437258132,
          -0.5343499938543699,
          -0.42080029902949184,
          0.7017532920558198,
          -1.8095562597566381,
          0.08967981171876918,
          1.3014844394723237,
          -0.008188048042794197,
          0.5120041176666327,
          0.6307009822539876,
          0.20535907665217643,
          0.40208846119323083,
          -0.6250359423978179,
          -1.3173115747022526,
          0.7934196396570694,
          0.021772115789257137,
          0.089532532038497,
          -0.3461312566174257,
          -1.3515693099417592,
          -0.8125304190004683,
          0.6460317056406156,
          2.5682487716392797,
          -1.3928851372548272,
          0.49240556188681406,
          -1.3404633687098704,
          0.4092479859742962,
          -0.055251692720409536,
          -0.40605510886442653,
          -1.7490729669018399,
          0.9484082473493582,
          -0.25030755921934555,
          1.1063585220126273,
          -1.285180609868798,
          -0.27944973884190905,
          1.5788577983747496,
          1.0687556988535705,
          0.8847765838108002,
          0.13394864375601528,
          0.75925337178594,
          -0.1634560803366644,
          0.07831300439827604,
          -0.8908680973465573,
          -1.3336711135597754,
          0.5742058122235427,
          0.8020214805889448,
          2.9226570311911457,
          -1.3427501538316637,
          0.6004478098801661,
          0.0005468704148372964,
          0.4825037294818465,
          -1.0839290848485301,
          -1.7338844652392993,
          0.30343207245100284,
          -0.13956794322089353,
          0.24250586024809148,
          -0.2763816144379349,
          -1.3194412611454425,
          0.02032522014388897
         ],
         "yaxis": "y8"
        },
        {
         "line": {
          "color": "rgba(128, 128, 128, 1.0)",
          "dash": "solid",
          "shape": "linear",
          "width": 1.3
         },
         "marker": {
          "size": 2,
          "symbol": "circle"
         },
         "mode": "markers",
         "name": "C",
         "text": "",
         "type": "scatter",
         "x": [
          -1.3583402229536823,
          0.0921673543459956,
          0.4492594820576442,
          0.6996025908357328,
          2.1495250286838616,
          0.24183106597206416,
          -0.8776832110040302,
          1.0541732492278562,
          0.08523758205433592,
          0.4987407976187166,
          -0.42692187830303097,
          0.3314238788412063,
          0.8110203721335073,
          -1.892486336094162,
          -0.1986687733189751,
          -0.3859351717543113,
          0.7622079403895549,
          1.1342981825914735,
          -0.616705435419684,
          -0.12151918045946218,
          -1.1011316897029537,
          0.3328629568633669,
          -1.0208981270296031,
          0.053983225088959017,
          0.3725114124839771,
          0.10267108207518853,
          -1.1665665557543183,
          0.054504419339731255,
          0.07843971579163007,
          -0.5986900927551946,
          -1.1908876386329161,
          -0.9428019176036524,
          -0.20836288106335712,
          2.0638412236218913,
          -0.08800663468845793,
          2.3489296854756243,
          -0.328825492717537,
          0.13679328526719142,
          1.6362966816412452,
          -0.9865169458002857,
          0.5322172281903023,
          1.8126956542853345,
          2.0187951705084726,
          0.34262285700030415,
          -0.4049678282336819,
          -2.1252404889520555,
          0.3577431068537883,
          0.6213330482766051,
          1.1533821829453454,
          1.536912657916139,
          2.008920554498628,
          -1.585227803158716,
          -0.8722662480875408,
          -0.15051809032390423,
          -1.0062867067219174,
          1.8397911379130851,
          -0.06621953199647992,
          -1.2920370371673158,
          0.5436718522445453,
          0.5423224416184557,
          1.5511194828341233,
          0.13070055937739156,
          -0.44912176704902335,
          -0.2616470902800413,
          0.345449072564648,
          -0.21847852159286552,
          -1.547915716754144,
          -0.24297968869274658,
          0.10713560266622875,
          -0.03071741252082736,
          0.6189888818452682,
          0.949788377696495,
          -0.31913257258760963,
          1.029866696113866,
          0.2163440437977718,
          -1.9076255260432537,
          0.9911538059288,
          -1.2938190969419967,
          -1.556975158647537,
          -0.8567798093066372,
          1.1061307231493411,
          0.8210251094170343,
          -0.8752867994424044,
          -1.3312503684676744,
          -0.15270325556453376,
          -1.6312580962345506,
          1.8820767353613506,
          0.2876026635475839,
          -0.8927184511718702,
          0.8929654454438709,
          0.6600185178648303,
          -1.2544677962637543,
          1.0241195756808887,
          1.7451061541136383,
          1.6784492852125634,
          -0.209804057404903,
          2.7179971818449857,
          0.15330230160949973,
          0.8962390746892906,
          0.21855533520777062
         ],
         "xaxis": "x9",
         "y": [
          -1.7394193082285367,
          2.0199509590283324,
          -2.125045260659694,
          0.9872091937611682,
          1.2814726584521647,
          1.9112407917021952,
          0.8682065323813343,
          0.9953456319658606,
          -0.47724553658137586,
          0.2907453293892247,
          0.2922072941281063,
          -1.0031202575300096,
          0.6191438532439717,
          -0.20730239105666726,
          -0.3061246959355385,
          1.6157414622829638,
          -1.0126178567292161,
          0.9245663049594548,
          -1.4215312439541787,
          -0.7641846673842541,
          -0.24282777387711735,
          0.1221896350021282,
          -0.45013297851147577,
          0.12262189159104932,
          -0.22146285558706982,
          -0.42293498087215603,
          0.42912714654322803,
          0.1373949302686126,
          -0.07528551417909446,
          -0.8345047263438276,
          0.242013070563943,
          0.8841956172726568,
          1.8015949174910602,
          0.9276896530283995,
          0.0445268358058785,
          -1.2167497680105366,
          -1.0609666266602078,
          -0.8229676300534009,
          -0.4659296912688198,
          -2.450017026055469,
          2.007865763260578,
          -0.5714253071723848,
          0.3104900370555491,
          -0.6265490779005343,
          0.8292315795528291,
          -1.7856561980824746,
          1.040462972074903,
          -0.6717794077056105,
          -3.016418333287492,
          -0.2982601216242055,
          0.23682116985574989,
          0.06774564588221275,
          0.7317414515020575,
          1.1708150818193395,
          1.7179509061567175,
          -0.09531060061377467,
          -2.446695283742527,
          1.2345616048347057,
          -0.42536208974328804,
          -0.8317642691126296,
          -1.395540850752444,
          -0.318993517146573,
          0.5967297862283434,
          0.872950971037923,
          0.9078328797395858,
          -1.1179242321679763,
          -0.13551094533786015,
          2.9940741991773367,
          0.05979375987894932,
          -1.0441911901315293,
          2.2382973166725435,
          0.19095928512930777,
          0.9635986997098613,
          -1.1089799201512651,
          -1.0611222801332265,
          -0.530030116387802,
          0.8420748064206437,
          1.451378193611522,
          0.15630203815220325,
          0.44432724012472413,
          0.21319102371955295,
          -0.6808442207139247,
          0.8499587129601391,
          -1.9262182617537706,
          -0.1405587991994687,
          -0.7748484503006927,
          0.39678325647576956,
          -0.8813410163876415,
          0.8820173866408353,
          -0.3491862544376239,
          -0.2410129619428547,
          -0.9057173317234595,
          -1.3875868082596643,
          -0.056640982831819314,
          -1.1773818281757318,
          -0.8829637711699871,
          -0.05024918980899207,
          1.2910254435644628,
          0.08975330868495415,
          0.2019190020155585
         ],
         "yaxis": "y9"
        },
        {
         "line": {
          "color": "rgba(128, 128, 128, 1.0)",
          "dash": "solid",
          "shape": "linear",
          "width": 1.3
         },
         "marker": {
          "size": 2,
          "symbol": "circle"
         },
         "mode": "markers",
         "name": "C",
         "text": "",
         "type": "scatter",
         "x": [
          0.7062159335042797,
          0.7219254733761484,
          0.5463129397908424,
          -0.6931529077523799,
          -1.6825415343319072,
          -0.163715476768212,
          1.2542694738069151,
          0.2874131009769991,
          -1.263462719563245,
          -0.7238140467351619,
          2.184714958062746,
          -2.8697379154159677,
          -0.7409720185625667,
          0.699470418188912,
          -1.2082057874168277,
          1.172505684652955,
          0.6764855553881596,
          0.6145175314457706,
          0.3998685213240509,
          0.6011537674657929,
          -0.17760909229636285,
          -0.27164619891261593,
          0.016783537950853814,
          -0.3152415327654973,
          1.040155078188417,
          -1.6181904077672757,
          -0.6267969219734727,
          0.3150579764877128,
          1.1278776716162962,
          1.8773340948873105,
          -0.1514056836070442,
          0.3375374850890802,
          -1.4616285328336531,
          -0.8198419318788835,
          0.8243541156979151,
          -0.40253086793801673,
          0.11161375634635512,
          0.8110433849900274,
          -0.7372647622097733,
          0.5951094858811783,
          1.788231465632863,
          1.6096544305491811,
          -1.6724569437258132,
          -0.5343499938543699,
          -0.42080029902949184,
          0.7017532920558198,
          -1.8095562597566381,
          0.08967981171876918,
          1.3014844394723237,
          -0.008188048042794197,
          0.5120041176666327,
          0.6307009822539876,
          0.20535907665217643,
          0.40208846119323083,
          -0.6250359423978179,
          -1.3173115747022526,
          0.7934196396570694,
          0.021772115789257137,
          0.089532532038497,
          -0.3461312566174257,
          -1.3515693099417592,
          -0.8125304190004683,
          0.6460317056406156,
          2.5682487716392797,
          -1.3928851372548272,
          0.49240556188681406,
          -1.3404633687098704,
          0.4092479859742962,
          -0.055251692720409536,
          -0.40605510886442653,
          -1.7490729669018399,
          0.9484082473493582,
          -0.25030755921934555,
          1.1063585220126273,
          -1.285180609868798,
          -0.27944973884190905,
          1.5788577983747496,
          1.0687556988535705,
          0.8847765838108002,
          0.13394864375601528,
          0.75925337178594,
          -0.1634560803366644,
          0.07831300439827604,
          -0.8908680973465573,
          -1.3336711135597754,
          0.5742058122235427,
          0.8020214805889448,
          2.9226570311911457,
          -1.3427501538316637,
          0.6004478098801661,
          0.0005468704148372964,
          0.4825037294818465,
          -1.0839290848485301,
          -1.7338844652392993,
          0.30343207245100284,
          -0.13956794322089353,
          0.24250586024809148,
          -0.2763816144379349,
          -1.3194412611454425,
          0.02032522014388897
         ],
         "xaxis": "x10",
         "y": [
          -1.7394193082285367,
          2.0199509590283324,
          -2.125045260659694,
          0.9872091937611682,
          1.2814726584521647,
          1.9112407917021952,
          0.8682065323813343,
          0.9953456319658606,
          -0.47724553658137586,
          0.2907453293892247,
          0.2922072941281063,
          -1.0031202575300096,
          0.6191438532439717,
          -0.20730239105666726,
          -0.3061246959355385,
          1.6157414622829638,
          -1.0126178567292161,
          0.9245663049594548,
          -1.4215312439541787,
          -0.7641846673842541,
          -0.24282777387711735,
          0.1221896350021282,
          -0.45013297851147577,
          0.12262189159104932,
          -0.22146285558706982,
          -0.42293498087215603,
          0.42912714654322803,
          0.1373949302686126,
          -0.07528551417909446,
          -0.8345047263438276,
          0.242013070563943,
          0.8841956172726568,
          1.8015949174910602,
          0.9276896530283995,
          0.0445268358058785,
          -1.2167497680105366,
          -1.0609666266602078,
          -0.8229676300534009,
          -0.4659296912688198,
          -2.450017026055469,
          2.007865763260578,
          -0.5714253071723848,
          0.3104900370555491,
          -0.6265490779005343,
          0.8292315795528291,
          -1.7856561980824746,
          1.040462972074903,
          -0.6717794077056105,
          -3.016418333287492,
          -0.2982601216242055,
          0.23682116985574989,
          0.06774564588221275,
          0.7317414515020575,
          1.1708150818193395,
          1.7179509061567175,
          -0.09531060061377467,
          -2.446695283742527,
          1.2345616048347057,
          -0.42536208974328804,
          -0.8317642691126296,
          -1.395540850752444,
          -0.318993517146573,
          0.5967297862283434,
          0.872950971037923,
          0.9078328797395858,
          -1.1179242321679763,
          -0.13551094533786015,
          2.9940741991773367,
          0.05979375987894932,
          -1.0441911901315293,
          2.2382973166725435,
          0.19095928512930777,
          0.9635986997098613,
          -1.1089799201512651,
          -1.0611222801332265,
          -0.530030116387802,
          0.8420748064206437,
          1.451378193611522,
          0.15630203815220325,
          0.44432724012472413,
          0.21319102371955295,
          -0.6808442207139247,
          0.8499587129601391,
          -1.9262182617537706,
          -0.1405587991994687,
          -0.7748484503006927,
          0.39678325647576956,
          -0.8813410163876415,
          0.8820173866408353,
          -0.3491862544376239,
          -0.2410129619428547,
          -0.9057173317234595,
          -1.3875868082596643,
          -0.056640982831819314,
          -1.1773818281757318,
          -0.8829637711699871,
          -0.05024918980899207,
          1.2910254435644628,
          0.08975330868495415,
          0.2019190020155585
         ],
         "yaxis": "y10"
        },
        {
         "histfunc": "count",
         "histnorm": "",
         "marker": {
          "color": "rgba(50, 171, 96, 1.0)",
          "line": {
           "color": "#4D5663",
           "width": 1.3
          }
         },
         "name": "C",
         "nbinsx": 10,
         "opacity": 0.8,
         "orientation": "v",
         "type": "histogram",
         "x": [
          -1.7394193082285367,
          2.0199509590283324,
          -2.125045260659694,
          0.9872091937611682,
          1.2814726584521647,
          1.9112407917021952,
          0.8682065323813343,
          0.9953456319658606,
          -0.47724553658137586,
          0.2907453293892247,
          0.2922072941281063,
          -1.0031202575300096,
          0.6191438532439717,
          -0.20730239105666726,
          -0.3061246959355385,
          1.6157414622829638,
          -1.0126178567292161,
          0.9245663049594548,
          -1.4215312439541787,
          -0.7641846673842541,
          -0.24282777387711735,
          0.1221896350021282,
          -0.45013297851147577,
          0.12262189159104932,
          -0.22146285558706982,
          -0.42293498087215603,
          0.42912714654322803,
          0.1373949302686126,
          -0.07528551417909446,
          -0.8345047263438276,
          0.242013070563943,
          0.8841956172726568,
          1.8015949174910602,
          0.9276896530283995,
          0.0445268358058785,
          -1.2167497680105366,
          -1.0609666266602078,
          -0.8229676300534009,
          -0.4659296912688198,
          -2.450017026055469,
          2.007865763260578,
          -0.5714253071723848,
          0.3104900370555491,
          -0.6265490779005343,
          0.8292315795528291,
          -1.7856561980824746,
          1.040462972074903,
          -0.6717794077056105,
          -3.016418333287492,
          -0.2982601216242055,
          0.23682116985574989,
          0.06774564588221275,
          0.7317414515020575,
          1.1708150818193395,
          1.7179509061567175,
          -0.09531060061377467,
          -2.446695283742527,
          1.2345616048347057,
          -0.42536208974328804,
          -0.8317642691126296,
          -1.395540850752444,
          -0.318993517146573,
          0.5967297862283434,
          0.872950971037923,
          0.9078328797395858,
          -1.1179242321679763,
          -0.13551094533786015,
          2.9940741991773367,
          0.05979375987894932,
          -1.0441911901315293,
          2.2382973166725435,
          0.19095928512930777,
          0.9635986997098613,
          -1.1089799201512651,
          -1.0611222801332265,
          -0.530030116387802,
          0.8420748064206437,
          1.451378193611522,
          0.15630203815220325,
          0.44432724012472413,
          0.21319102371955295,
          -0.6808442207139247,
          0.8499587129601391,
          -1.9262182617537706,
          -0.1405587991994687,
          -0.7748484503006927,
          0.39678325647576956,
          -0.8813410163876415,
          0.8820173866408353,
          -0.3491862544376239,
          -0.2410129619428547,
          -0.9057173317234595,
          -1.3875868082596643,
          -0.056640982831819314,
          -1.1773818281757318,
          -0.8829637711699871,
          -0.05024918980899207,
          1.2910254435644628,
          0.08975330868495415,
          0.2019190020155585
         ],
         "xaxis": "x11",
         "yaxis": "y11"
        },
        {
         "line": {
          "color": "rgba(128, 128, 128, 1.0)",
          "dash": "solid",
          "shape": "linear",
          "width": 1.3
         },
         "marker": {
          "size": 2,
          "symbol": "circle"
         },
         "mode": "markers",
         "name": "C",
         "text": "",
         "type": "scatter",
         "x": [
          -0.918021841382379,
          0.3692701603907164,
          1.188573271342609,
          0.22978856469901443,
          0.34401552918206985,
          1.4434644093153666,
          -1.4144399047224352,
          -0.9262573803086471,
          -1.0096143309966708,
          -0.24797947664388517,
          0.06193314664735327,
          -1.9847490598564868,
          0.28930719147418593,
          0.9729800141188311,
          -0.752826723320766,
          -0.1964051585219301,
          -0.9599060330733563,
          0.23175729877103896,
          0.6352713171037078,
          -1.4652585705909942,
          -0.5618443784834063,
          1.3002625407503783,
          0.2920556383677886,
          0.6624188615292138,
          0.6348322297238859,
          -1.4366734272605315,
          -0.9916924034914343,
          0.9246214815924768,
          1.1274590822784436,
          -0.054862832358006285,
          -1.1115686499842772,
          -2.1810572779048116,
          -0.6303969622757892,
          -1.805785039501949,
          -0.7244043601054821,
          -1.0735129121877474,
          1.1308346797517523,
          -0.46909703068663483,
          -1.2112551878570506,
          0.712082837871189,
          -0.8569204918044192,
          -0.01849398969657977,
          -0.7537431286052918,
          0.23052330629156206,
          1.106907800473795,
          0.5201106000323045,
          0.9883999655545883,
          1.8169499319902562,
          0.8720060646770937,
          0.15524937064089045,
          -1.3623990893383962,
          1.0221213704141545,
          0.45476036661258196,
          -0.9398110554502317,
          -0.5509476422934868,
          0.15478870709990045,
          -1.7618483025106282,
          0.6942889786702552,
          0.5283082335725829,
          -1.5534195938951703,
          0.9783396485141392,
          -0.7291058861888242,
          -0.7649422077157795,
          0.8460909820593372,
          -2.0382131719821963,
          -0.3348840078515811,
          0.3272919918215468,
          0.5865591818077541,
          1.5398463883664955,
          -0.49854702667623696,
          -0.4225083608524863,
          -0.10802948547715434,
          2.2346822788271687,
          -2.1303528397758815,
          0.2418013944113245,
          0.879429222427897,
          1.9008821707299182,
          -0.3449374812457629,
          -0.7705988326805959,
          1.3882406106252168,
          -0.45742519952022254,
          -0.4041779181983526,
          -0.37788039061515666,
          -0.2727046005123951,
          0.13466798604546537,
          -0.9848270237121459,
          -0.2783457860638169,
          0.12937596854579084,
          0.4675249496342816,
          -0.4581541999742207,
          1.1556611938675025,
          -0.08898255602530283,
          0.7639547917194405,
          1.6322889236802958,
          -0.3517880833180977,
          -0.24303123108308203,
          0.3818600133402033,
          -0.5074320431098871,
          -1.3213786580557674,
          -0.458695491424776
         ],
         "xaxis": "x12",
         "y": [
          -1.7394193082285367,
          2.0199509590283324,
          -2.125045260659694,
          0.9872091937611682,
          1.2814726584521647,
          1.9112407917021952,
          0.8682065323813343,
          0.9953456319658606,
          -0.47724553658137586,
          0.2907453293892247,
          0.2922072941281063,
          -1.0031202575300096,
          0.6191438532439717,
          -0.20730239105666726,
          -0.3061246959355385,
          1.6157414622829638,
          -1.0126178567292161,
          0.9245663049594548,
          -1.4215312439541787,
          -0.7641846673842541,
          -0.24282777387711735,
          0.1221896350021282,
          -0.45013297851147577,
          0.12262189159104932,
          -0.22146285558706982,
          -0.42293498087215603,
          0.42912714654322803,
          0.1373949302686126,
          -0.07528551417909446,
          -0.8345047263438276,
          0.242013070563943,
          0.8841956172726568,
          1.8015949174910602,
          0.9276896530283995,
          0.0445268358058785,
          -1.2167497680105366,
          -1.0609666266602078,
          -0.8229676300534009,
          -0.4659296912688198,
          -2.450017026055469,
          2.007865763260578,
          -0.5714253071723848,
          0.3104900370555491,
          -0.6265490779005343,
          0.8292315795528291,
          -1.7856561980824746,
          1.040462972074903,
          -0.6717794077056105,
          -3.016418333287492,
          -0.2982601216242055,
          0.23682116985574989,
          0.06774564588221275,
          0.7317414515020575,
          1.1708150818193395,
          1.7179509061567175,
          -0.09531060061377467,
          -2.446695283742527,
          1.2345616048347057,
          -0.42536208974328804,
          -0.8317642691126296,
          -1.395540850752444,
          -0.318993517146573,
          0.5967297862283434,
          0.872950971037923,
          0.9078328797395858,
          -1.1179242321679763,
          -0.13551094533786015,
          2.9940741991773367,
          0.05979375987894932,
          -1.0441911901315293,
          2.2382973166725435,
          0.19095928512930777,
          0.9635986997098613,
          -1.1089799201512651,
          -1.0611222801332265,
          -0.530030116387802,
          0.8420748064206437,
          1.451378193611522,
          0.15630203815220325,
          0.44432724012472413,
          0.21319102371955295,
          -0.6808442207139247,
          0.8499587129601391,
          -1.9262182617537706,
          -0.1405587991994687,
          -0.7748484503006927,
          0.39678325647576956,
          -0.8813410163876415,
          0.8820173866408353,
          -0.3491862544376239,
          -0.2410129619428547,
          -0.9057173317234595,
          -1.3875868082596643,
          -0.056640982831819314,
          -1.1773818281757318,
          -0.8829637711699871,
          -0.05024918980899207,
          1.2910254435644628,
          0.08975330868495415,
          0.2019190020155585
         ],
         "yaxis": "y12"
        },
        {
         "line": {
          "color": "rgba(128, 128, 128, 1.0)",
          "dash": "solid",
          "shape": "linear",
          "width": 1.3
         },
         "marker": {
          "size": 2,
          "symbol": "circle"
         },
         "mode": "markers",
         "name": "D",
         "text": "",
         "type": "scatter",
         "x": [
          -1.3583402229536823,
          0.0921673543459956,
          0.4492594820576442,
          0.6996025908357328,
          2.1495250286838616,
          0.24183106597206416,
          -0.8776832110040302,
          1.0541732492278562,
          0.08523758205433592,
          0.4987407976187166,
          -0.42692187830303097,
          0.3314238788412063,
          0.8110203721335073,
          -1.892486336094162,
          -0.1986687733189751,
          -0.3859351717543113,
          0.7622079403895549,
          1.1342981825914735,
          -0.616705435419684,
          -0.12151918045946218,
          -1.1011316897029537,
          0.3328629568633669,
          -1.0208981270296031,
          0.053983225088959017,
          0.3725114124839771,
          0.10267108207518853,
          -1.1665665557543183,
          0.054504419339731255,
          0.07843971579163007,
          -0.5986900927551946,
          -1.1908876386329161,
          -0.9428019176036524,
          -0.20836288106335712,
          2.0638412236218913,
          -0.08800663468845793,
          2.3489296854756243,
          -0.328825492717537,
          0.13679328526719142,
          1.6362966816412452,
          -0.9865169458002857,
          0.5322172281903023,
          1.8126956542853345,
          2.0187951705084726,
          0.34262285700030415,
          -0.4049678282336819,
          -2.1252404889520555,
          0.3577431068537883,
          0.6213330482766051,
          1.1533821829453454,
          1.536912657916139,
          2.008920554498628,
          -1.585227803158716,
          -0.8722662480875408,
          -0.15051809032390423,
          -1.0062867067219174,
          1.8397911379130851,
          -0.06621953199647992,
          -1.2920370371673158,
          0.5436718522445453,
          0.5423224416184557,
          1.5511194828341233,
          0.13070055937739156,
          -0.44912176704902335,
          -0.2616470902800413,
          0.345449072564648,
          -0.21847852159286552,
          -1.547915716754144,
          -0.24297968869274658,
          0.10713560266622875,
          -0.03071741252082736,
          0.6189888818452682,
          0.949788377696495,
          -0.31913257258760963,
          1.029866696113866,
          0.2163440437977718,
          -1.9076255260432537,
          0.9911538059288,
          -1.2938190969419967,
          -1.556975158647537,
          -0.8567798093066372,
          1.1061307231493411,
          0.8210251094170343,
          -0.8752867994424044,
          -1.3312503684676744,
          -0.15270325556453376,
          -1.6312580962345506,
          1.8820767353613506,
          0.2876026635475839,
          -0.8927184511718702,
          0.8929654454438709,
          0.6600185178648303,
          -1.2544677962637543,
          1.0241195756808887,
          1.7451061541136383,
          1.6784492852125634,
          -0.209804057404903,
          2.7179971818449857,
          0.15330230160949973,
          0.8962390746892906,
          0.21855533520777062
         ],
         "xaxis": "x13",
         "y": [
          -0.918021841382379,
          0.3692701603907164,
          1.188573271342609,
          0.22978856469901443,
          0.34401552918206985,
          1.4434644093153666,
          -1.4144399047224352,
          -0.9262573803086471,
          -1.0096143309966708,
          -0.24797947664388517,
          0.06193314664735327,
          -1.9847490598564868,
          0.28930719147418593,
          0.9729800141188311,
          -0.752826723320766,
          -0.1964051585219301,
          -0.9599060330733563,
          0.23175729877103896,
          0.6352713171037078,
          -1.4652585705909942,
          -0.5618443784834063,
          1.3002625407503783,
          0.2920556383677886,
          0.6624188615292138,
          0.6348322297238859,
          -1.4366734272605315,
          -0.9916924034914343,
          0.9246214815924768,
          1.1274590822784436,
          -0.054862832358006285,
          -1.1115686499842772,
          -2.1810572779048116,
          -0.6303969622757892,
          -1.805785039501949,
          -0.7244043601054821,
          -1.0735129121877474,
          1.1308346797517523,
          -0.46909703068663483,
          -1.2112551878570506,
          0.712082837871189,
          -0.8569204918044192,
          -0.01849398969657977,
          -0.7537431286052918,
          0.23052330629156206,
          1.106907800473795,
          0.5201106000323045,
          0.9883999655545883,
          1.8169499319902562,
          0.8720060646770937,
          0.15524937064089045,
          -1.3623990893383962,
          1.0221213704141545,
          0.45476036661258196,
          -0.9398110554502317,
          -0.5509476422934868,
          0.15478870709990045,
          -1.7618483025106282,
          0.6942889786702552,
          0.5283082335725829,
          -1.5534195938951703,
          0.9783396485141392,
          -0.7291058861888242,
          -0.7649422077157795,
          0.8460909820593372,
          -2.0382131719821963,
          -0.3348840078515811,
          0.3272919918215468,
          0.5865591818077541,
          1.5398463883664955,
          -0.49854702667623696,
          -0.4225083608524863,
          -0.10802948547715434,
          2.2346822788271687,
          -2.1303528397758815,
          0.2418013944113245,
          0.879429222427897,
          1.9008821707299182,
          -0.3449374812457629,
          -0.7705988326805959,
          1.3882406106252168,
          -0.45742519952022254,
          -0.4041779181983526,
          -0.37788039061515666,
          -0.2727046005123951,
          0.13466798604546537,
          -0.9848270237121459,
          -0.2783457860638169,
          0.12937596854579084,
          0.4675249496342816,
          -0.4581541999742207,
          1.1556611938675025,
          -0.08898255602530283,
          0.7639547917194405,
          1.6322889236802958,
          -0.3517880833180977,
          -0.24303123108308203,
          0.3818600133402033,
          -0.5074320431098871,
          -1.3213786580557674,
          -0.458695491424776
         ],
         "yaxis": "y13"
        },
        {
         "line": {
          "color": "rgba(128, 128, 128, 1.0)",
          "dash": "solid",
          "shape": "linear",
          "width": 1.3
         },
         "marker": {
          "size": 2,
          "symbol": "circle"
         },
         "mode": "markers",
         "name": "D",
         "text": "",
         "type": "scatter",
         "x": [
          0.7062159335042797,
          0.7219254733761484,
          0.5463129397908424,
          -0.6931529077523799,
          -1.6825415343319072,
          -0.163715476768212,
          1.2542694738069151,
          0.2874131009769991,
          -1.263462719563245,
          -0.7238140467351619,
          2.184714958062746,
          -2.8697379154159677,
          -0.7409720185625667,
          0.699470418188912,
          -1.2082057874168277,
          1.172505684652955,
          0.6764855553881596,
          0.6145175314457706,
          0.3998685213240509,
          0.6011537674657929,
          -0.17760909229636285,
          -0.27164619891261593,
          0.016783537950853814,
          -0.3152415327654973,
          1.040155078188417,
          -1.6181904077672757,
          -0.6267969219734727,
          0.3150579764877128,
          1.1278776716162962,
          1.8773340948873105,
          -0.1514056836070442,
          0.3375374850890802,
          -1.4616285328336531,
          -0.8198419318788835,
          0.8243541156979151,
          -0.40253086793801673,
          0.11161375634635512,
          0.8110433849900274,
          -0.7372647622097733,
          0.5951094858811783,
          1.788231465632863,
          1.6096544305491811,
          -1.6724569437258132,
          -0.5343499938543699,
          -0.42080029902949184,
          0.7017532920558198,
          -1.8095562597566381,
          0.08967981171876918,
          1.3014844394723237,
          -0.008188048042794197,
          0.5120041176666327,
          0.6307009822539876,
          0.20535907665217643,
          0.40208846119323083,
          -0.6250359423978179,
          -1.3173115747022526,
          0.7934196396570694,
          0.021772115789257137,
          0.089532532038497,
          -0.3461312566174257,
          -1.3515693099417592,
          -0.8125304190004683,
          0.6460317056406156,
          2.5682487716392797,
          -1.3928851372548272,
          0.49240556188681406,
          -1.3404633687098704,
          0.4092479859742962,
          -0.055251692720409536,
          -0.40605510886442653,
          -1.7490729669018399,
          0.9484082473493582,
          -0.25030755921934555,
          1.1063585220126273,
          -1.285180609868798,
          -0.27944973884190905,
          1.5788577983747496,
          1.0687556988535705,
          0.8847765838108002,
          0.13394864375601528,
          0.75925337178594,
          -0.1634560803366644,
          0.07831300439827604,
          -0.8908680973465573,
          -1.3336711135597754,
          0.5742058122235427,
          0.8020214805889448,
          2.9226570311911457,
          -1.3427501538316637,
          0.6004478098801661,
          0.0005468704148372964,
          0.4825037294818465,
          -1.0839290848485301,
          -1.7338844652392993,
          0.30343207245100284,
          -0.13956794322089353,
          0.24250586024809148,
          -0.2763816144379349,
          -1.3194412611454425,
          0.02032522014388897
         ],
         "xaxis": "x14",
         "y": [
          -0.918021841382379,
          0.3692701603907164,
          1.188573271342609,
          0.22978856469901443,
          0.34401552918206985,
          1.4434644093153666,
          -1.4144399047224352,
          -0.9262573803086471,
          -1.0096143309966708,
          -0.24797947664388517,
          0.06193314664735327,
          -1.9847490598564868,
          0.28930719147418593,
          0.9729800141188311,
          -0.752826723320766,
          -0.1964051585219301,
          -0.9599060330733563,
          0.23175729877103896,
          0.6352713171037078,
          -1.4652585705909942,
          -0.5618443784834063,
          1.3002625407503783,
          0.2920556383677886,
          0.6624188615292138,
          0.6348322297238859,
          -1.4366734272605315,
          -0.9916924034914343,
          0.9246214815924768,
          1.1274590822784436,
          -0.054862832358006285,
          -1.1115686499842772,
          -2.1810572779048116,
          -0.6303969622757892,
          -1.805785039501949,
          -0.7244043601054821,
          -1.0735129121877474,
          1.1308346797517523,
          -0.46909703068663483,
          -1.2112551878570506,
          0.712082837871189,
          -0.8569204918044192,
          -0.01849398969657977,
          -0.7537431286052918,
          0.23052330629156206,
          1.106907800473795,
          0.5201106000323045,
          0.9883999655545883,
          1.8169499319902562,
          0.8720060646770937,
          0.15524937064089045,
          -1.3623990893383962,
          1.0221213704141545,
          0.45476036661258196,
          -0.9398110554502317,
          -0.5509476422934868,
          0.15478870709990045,
          -1.7618483025106282,
          0.6942889786702552,
          0.5283082335725829,
          -1.5534195938951703,
          0.9783396485141392,
          -0.7291058861888242,
          -0.7649422077157795,
          0.8460909820593372,
          -2.0382131719821963,
          -0.3348840078515811,
          0.3272919918215468,
          0.5865591818077541,
          1.5398463883664955,
          -0.49854702667623696,
          -0.4225083608524863,
          -0.10802948547715434,
          2.2346822788271687,
          -2.1303528397758815,
          0.2418013944113245,
          0.879429222427897,
          1.9008821707299182,
          -0.3449374812457629,
          -0.7705988326805959,
          1.3882406106252168,
          -0.45742519952022254,
          -0.4041779181983526,
          -0.37788039061515666,
          -0.2727046005123951,
          0.13466798604546537,
          -0.9848270237121459,
          -0.2783457860638169,
          0.12937596854579084,
          0.4675249496342816,
          -0.4581541999742207,
          1.1556611938675025,
          -0.08898255602530283,
          0.7639547917194405,
          1.6322889236802958,
          -0.3517880833180977,
          -0.24303123108308203,
          0.3818600133402033,
          -0.5074320431098871,
          -1.3213786580557674,
          -0.458695491424776
         ],
         "yaxis": "y14"
        },
        {
         "line": {
          "color": "rgba(128, 128, 128, 1.0)",
          "dash": "solid",
          "shape": "linear",
          "width": 1.3
         },
         "marker": {
          "size": 2,
          "symbol": "circle"
         },
         "mode": "markers",
         "name": "D",
         "text": "",
         "type": "scatter",
         "x": [
          -1.7394193082285367,
          2.0199509590283324,
          -2.125045260659694,
          0.9872091937611682,
          1.2814726584521647,
          1.9112407917021952,
          0.8682065323813343,
          0.9953456319658606,
          -0.47724553658137586,
          0.2907453293892247,
          0.2922072941281063,
          -1.0031202575300096,
          0.6191438532439717,
          -0.20730239105666726,
          -0.3061246959355385,
          1.6157414622829638,
          -1.0126178567292161,
          0.9245663049594548,
          -1.4215312439541787,
          -0.7641846673842541,
          -0.24282777387711735,
          0.1221896350021282,
          -0.45013297851147577,
          0.12262189159104932,
          -0.22146285558706982,
          -0.42293498087215603,
          0.42912714654322803,
          0.1373949302686126,
          -0.07528551417909446,
          -0.8345047263438276,
          0.242013070563943,
          0.8841956172726568,
          1.8015949174910602,
          0.9276896530283995,
          0.0445268358058785,
          -1.2167497680105366,
          -1.0609666266602078,
          -0.8229676300534009,
          -0.4659296912688198,
          -2.450017026055469,
          2.007865763260578,
          -0.5714253071723848,
          0.3104900370555491,
          -0.6265490779005343,
          0.8292315795528291,
          -1.7856561980824746,
          1.040462972074903,
          -0.6717794077056105,
          -3.016418333287492,
          -0.2982601216242055,
          0.23682116985574989,
          0.06774564588221275,
          0.7317414515020575,
          1.1708150818193395,
          1.7179509061567175,
          -0.09531060061377467,
          -2.446695283742527,
          1.2345616048347057,
          -0.42536208974328804,
          -0.8317642691126296,
          -1.395540850752444,
          -0.318993517146573,
          0.5967297862283434,
          0.872950971037923,
          0.9078328797395858,
          -1.1179242321679763,
          -0.13551094533786015,
          2.9940741991773367,
          0.05979375987894932,
          -1.0441911901315293,
          2.2382973166725435,
          0.19095928512930777,
          0.9635986997098613,
          -1.1089799201512651,
          -1.0611222801332265,
          -0.530030116387802,
          0.8420748064206437,
          1.451378193611522,
          0.15630203815220325,
          0.44432724012472413,
          0.21319102371955295,
          -0.6808442207139247,
          0.8499587129601391,
          -1.9262182617537706,
          -0.1405587991994687,
          -0.7748484503006927,
          0.39678325647576956,
          -0.8813410163876415,
          0.8820173866408353,
          -0.3491862544376239,
          -0.2410129619428547,
          -0.9057173317234595,
          -1.3875868082596643,
          -0.056640982831819314,
          -1.1773818281757318,
          -0.8829637711699871,
          -0.05024918980899207,
          1.2910254435644628,
          0.08975330868495415,
          0.2019190020155585
         ],
         "xaxis": "x15",
         "y": [
          -0.918021841382379,
          0.3692701603907164,
          1.188573271342609,
          0.22978856469901443,
          0.34401552918206985,
          1.4434644093153666,
          -1.4144399047224352,
          -0.9262573803086471,
          -1.0096143309966708,
          -0.24797947664388517,
          0.06193314664735327,
          -1.9847490598564868,
          0.28930719147418593,
          0.9729800141188311,
          -0.752826723320766,
          -0.1964051585219301,
          -0.9599060330733563,
          0.23175729877103896,
          0.6352713171037078,
          -1.4652585705909942,
          -0.5618443784834063,
          1.3002625407503783,
          0.2920556383677886,
          0.6624188615292138,
          0.6348322297238859,
          -1.4366734272605315,
          -0.9916924034914343,
          0.9246214815924768,
          1.1274590822784436,
          -0.054862832358006285,
          -1.1115686499842772,
          -2.1810572779048116,
          -0.6303969622757892,
          -1.805785039501949,
          -0.7244043601054821,
          -1.0735129121877474,
          1.1308346797517523,
          -0.46909703068663483,
          -1.2112551878570506,
          0.712082837871189,
          -0.8569204918044192,
          -0.01849398969657977,
          -0.7537431286052918,
          0.23052330629156206,
          1.106907800473795,
          0.5201106000323045,
          0.9883999655545883,
          1.8169499319902562,
          0.8720060646770937,
          0.15524937064089045,
          -1.3623990893383962,
          1.0221213704141545,
          0.45476036661258196,
          -0.9398110554502317,
          -0.5509476422934868,
          0.15478870709990045,
          -1.7618483025106282,
          0.6942889786702552,
          0.5283082335725829,
          -1.5534195938951703,
          0.9783396485141392,
          -0.7291058861888242,
          -0.7649422077157795,
          0.8460909820593372,
          -2.0382131719821963,
          -0.3348840078515811,
          0.3272919918215468,
          0.5865591818077541,
          1.5398463883664955,
          -0.49854702667623696,
          -0.4225083608524863,
          -0.10802948547715434,
          2.2346822788271687,
          -2.1303528397758815,
          0.2418013944113245,
          0.879429222427897,
          1.9008821707299182,
          -0.3449374812457629,
          -0.7705988326805959,
          1.3882406106252168,
          -0.45742519952022254,
          -0.4041779181983526,
          -0.37788039061515666,
          -0.2727046005123951,
          0.13466798604546537,
          -0.9848270237121459,
          -0.2783457860638169,
          0.12937596854579084,
          0.4675249496342816,
          -0.4581541999742207,
          1.1556611938675025,
          -0.08898255602530283,
          0.7639547917194405,
          1.6322889236802958,
          -0.3517880833180977,
          -0.24303123108308203,
          0.3818600133402033,
          -0.5074320431098871,
          -1.3213786580557674,
          -0.458695491424776
         ],
         "yaxis": "y15"
        },
        {
         "histfunc": "count",
         "histnorm": "",
         "marker": {
          "color": "rgba(128, 0, 128, 1.0)",
          "line": {
           "color": "#4D5663",
           "width": 1.3
          }
         },
         "name": "D",
         "nbinsx": 10,
         "opacity": 0.8,
         "orientation": "v",
         "type": "histogram",
         "x": [
          -0.918021841382379,
          0.3692701603907164,
          1.188573271342609,
          0.22978856469901443,
          0.34401552918206985,
          1.4434644093153666,
          -1.4144399047224352,
          -0.9262573803086471,
          -1.0096143309966708,
          -0.24797947664388517,
          0.06193314664735327,
          -1.9847490598564868,
          0.28930719147418593,
          0.9729800141188311,
          -0.752826723320766,
          -0.1964051585219301,
          -0.9599060330733563,
          0.23175729877103896,
          0.6352713171037078,
          -1.4652585705909942,
          -0.5618443784834063,
          1.3002625407503783,
          0.2920556383677886,
          0.6624188615292138,
          0.6348322297238859,
          -1.4366734272605315,
          -0.9916924034914343,
          0.9246214815924768,
          1.1274590822784436,
          -0.054862832358006285,
          -1.1115686499842772,
          -2.1810572779048116,
          -0.6303969622757892,
          -1.805785039501949,
          -0.7244043601054821,
          -1.0735129121877474,
          1.1308346797517523,
          -0.46909703068663483,
          -1.2112551878570506,
          0.712082837871189,
          -0.8569204918044192,
          -0.01849398969657977,
          -0.7537431286052918,
          0.23052330629156206,
          1.106907800473795,
          0.5201106000323045,
          0.9883999655545883,
          1.8169499319902562,
          0.8720060646770937,
          0.15524937064089045,
          -1.3623990893383962,
          1.0221213704141545,
          0.45476036661258196,
          -0.9398110554502317,
          -0.5509476422934868,
          0.15478870709990045,
          -1.7618483025106282,
          0.6942889786702552,
          0.5283082335725829,
          -1.5534195938951703,
          0.9783396485141392,
          -0.7291058861888242,
          -0.7649422077157795,
          0.8460909820593372,
          -2.0382131719821963,
          -0.3348840078515811,
          0.3272919918215468,
          0.5865591818077541,
          1.5398463883664955,
          -0.49854702667623696,
          -0.4225083608524863,
          -0.10802948547715434,
          2.2346822788271687,
          -2.1303528397758815,
          0.2418013944113245,
          0.879429222427897,
          1.9008821707299182,
          -0.3449374812457629,
          -0.7705988326805959,
          1.3882406106252168,
          -0.45742519952022254,
          -0.4041779181983526,
          -0.37788039061515666,
          -0.2727046005123951,
          0.13466798604546537,
          -0.9848270237121459,
          -0.2783457860638169,
          0.12937596854579084,
          0.4675249496342816,
          -0.4581541999742207,
          1.1556611938675025,
          -0.08898255602530283,
          0.7639547917194405,
          1.6322889236802958,
          -0.3517880833180977,
          -0.24303123108308203,
          0.3818600133402033,
          -0.5074320431098871,
          -1.3213786580557674,
          -0.458695491424776
         ],
         "xaxis": "x16",
         "yaxis": "y16"
        }
       ],
       "layout": {
        "bargap": 0.02,
        "legend": {
         "bgcolor": "#F5F6F9",
         "font": {
          "color": "#4D5663"
         }
        },
        "paper_bgcolor": "#F5F6F9",
        "plot_bgcolor": "#F5F6F9",
        "showlegend": false,
        "template": {
         "data": {
          "bar": [
           {
            "error_x": {
             "color": "#2a3f5f"
            },
            "error_y": {
             "color": "#2a3f5f"
            },
            "marker": {
             "line": {
              "color": "#E5ECF6",
              "width": 0.5
             }
            },
            "type": "bar"
           }
          ],
          "barpolar": [
           {
            "marker": {
             "line": {
              "color": "#E5ECF6",
              "width": 0.5
             }
            },
            "type": "barpolar"
           }
          ],
          "carpet": [
           {
            "aaxis": {
             "endlinecolor": "#2a3f5f",
             "gridcolor": "white",
             "linecolor": "white",
             "minorgridcolor": "white",
             "startlinecolor": "#2a3f5f"
            },
            "baxis": {
             "endlinecolor": "#2a3f5f",
             "gridcolor": "white",
             "linecolor": "white",
             "minorgridcolor": "white",
             "startlinecolor": "#2a3f5f"
            },
            "type": "carpet"
           }
          ],
          "choropleth": [
           {
            "colorbar": {
             "outlinewidth": 0,
             "ticks": ""
            },
            "type": "choropleth"
           }
          ],
          "contour": [
           {
            "colorbar": {
             "outlinewidth": 0,
             "ticks": ""
            },
            "colorscale": [
             [
              0,
              "#0d0887"
             ],
             [
              0.1111111111111111,
              "#46039f"
             ],
             [
              0.2222222222222222,
              "#7201a8"
             ],
             [
              0.3333333333333333,
              "#9c179e"
             ],
             [
              0.4444444444444444,
              "#bd3786"
             ],
             [
              0.5555555555555556,
              "#d8576b"
             ],
             [
              0.6666666666666666,
              "#ed7953"
             ],
             [
              0.7777777777777778,
              "#fb9f3a"
             ],
             [
              0.8888888888888888,
              "#fdca26"
             ],
             [
              1,
              "#f0f921"
             ]
            ],
            "type": "contour"
           }
          ],
          "contourcarpet": [
           {
            "colorbar": {
             "outlinewidth": 0,
             "ticks": ""
            },
            "type": "contourcarpet"
           }
          ],
          "heatmap": [
           {
            "colorbar": {
             "outlinewidth": 0,
             "ticks": ""
            },
            "colorscale": [
             [
              0,
              "#0d0887"
             ],
             [
              0.1111111111111111,
              "#46039f"
             ],
             [
              0.2222222222222222,
              "#7201a8"
             ],
             [
              0.3333333333333333,
              "#9c179e"
             ],
             [
              0.4444444444444444,
              "#bd3786"
             ],
             [
              0.5555555555555556,
              "#d8576b"
             ],
             [
              0.6666666666666666,
              "#ed7953"
             ],
             [
              0.7777777777777778,
              "#fb9f3a"
             ],
             [
              0.8888888888888888,
              "#fdca26"
             ],
             [
              1,
              "#f0f921"
             ]
            ],
            "type": "heatmap"
           }
          ],
          "heatmapgl": [
           {
            "colorbar": {
             "outlinewidth": 0,
             "ticks": ""
            },
            "colorscale": [
             [
              0,
              "#0d0887"
             ],
             [
              0.1111111111111111,
              "#46039f"
             ],
             [
              0.2222222222222222,
              "#7201a8"
             ],
             [
              0.3333333333333333,
              "#9c179e"
             ],
             [
              0.4444444444444444,
              "#bd3786"
             ],
             [
              0.5555555555555556,
              "#d8576b"
             ],
             [
              0.6666666666666666,
              "#ed7953"
             ],
             [
              0.7777777777777778,
              "#fb9f3a"
             ],
             [
              0.8888888888888888,
              "#fdca26"
             ],
             [
              1,
              "#f0f921"
             ]
            ],
            "type": "heatmapgl"
           }
          ],
          "histogram": [
           {
            "marker": {
             "colorbar": {
              "outlinewidth": 0,
              "ticks": ""
             }
            },
            "type": "histogram"
           }
          ],
          "histogram2d": [
           {
            "colorbar": {
             "outlinewidth": 0,
             "ticks": ""
            },
            "colorscale": [
             [
              0,
              "#0d0887"
             ],
             [
              0.1111111111111111,
              "#46039f"
             ],
             [
              0.2222222222222222,
              "#7201a8"
             ],
             [
              0.3333333333333333,
              "#9c179e"
             ],
             [
              0.4444444444444444,
              "#bd3786"
             ],
             [
              0.5555555555555556,
              "#d8576b"
             ],
             [
              0.6666666666666666,
              "#ed7953"
             ],
             [
              0.7777777777777778,
              "#fb9f3a"
             ],
             [
              0.8888888888888888,
              "#fdca26"
             ],
             [
              1,
              "#f0f921"
             ]
            ],
            "type": "histogram2d"
           }
          ],
          "histogram2dcontour": [
           {
            "colorbar": {
             "outlinewidth": 0,
             "ticks": ""
            },
            "colorscale": [
             [
              0,
              "#0d0887"
             ],
             [
              0.1111111111111111,
              "#46039f"
             ],
             [
              0.2222222222222222,
              "#7201a8"
             ],
             [
              0.3333333333333333,
              "#9c179e"
             ],
             [
              0.4444444444444444,
              "#bd3786"
             ],
             [
              0.5555555555555556,
              "#d8576b"
             ],
             [
              0.6666666666666666,
              "#ed7953"
             ],
             [
              0.7777777777777778,
              "#fb9f3a"
             ],
             [
              0.8888888888888888,
              "#fdca26"
             ],
             [
              1,
              "#f0f921"
             ]
            ],
            "type": "histogram2dcontour"
           }
          ],
          "mesh3d": [
           {
            "colorbar": {
             "outlinewidth": 0,
             "ticks": ""
            },
            "type": "mesh3d"
           }
          ],
          "parcoords": [
           {
            "line": {
             "colorbar": {
              "outlinewidth": 0,
              "ticks": ""
             }
            },
            "type": "parcoords"
           }
          ],
          "pie": [
           {
            "automargin": true,
            "type": "pie"
           }
          ],
          "scatter": [
           {
            "marker": {
             "colorbar": {
              "outlinewidth": 0,
              "ticks": ""
             }
            },
            "type": "scatter"
           }
          ],
          "scatter3d": [
           {
            "line": {
             "colorbar": {
              "outlinewidth": 0,
              "ticks": ""
             }
            },
            "marker": {
             "colorbar": {
              "outlinewidth": 0,
              "ticks": ""
             }
            },
            "type": "scatter3d"
           }
          ],
          "scattercarpet": [
           {
            "marker": {
             "colorbar": {
              "outlinewidth": 0,
              "ticks": ""
             }
            },
            "type": "scattercarpet"
           }
          ],
          "scattergeo": [
           {
            "marker": {
             "colorbar": {
              "outlinewidth": 0,
              "ticks": ""
             }
            },
            "type": "scattergeo"
           }
          ],
          "scattergl": [
           {
            "marker": {
             "colorbar": {
              "outlinewidth": 0,
              "ticks": ""
             }
            },
            "type": "scattergl"
           }
          ],
          "scattermapbox": [
           {
            "marker": {
             "colorbar": {
              "outlinewidth": 0,
              "ticks": ""
             }
            },
            "type": "scattermapbox"
           }
          ],
          "scatterpolar": [
           {
            "marker": {
             "colorbar": {
              "outlinewidth": 0,
              "ticks": ""
             }
            },
            "type": "scatterpolar"
           }
          ],
          "scatterpolargl": [
           {
            "marker": {
             "colorbar": {
              "outlinewidth": 0,
              "ticks": ""
             }
            },
            "type": "scatterpolargl"
           }
          ],
          "scatterternary": [
           {
            "marker": {
             "colorbar": {
              "outlinewidth": 0,
              "ticks": ""
             }
            },
            "type": "scatterternary"
           }
          ],
          "surface": [
           {
            "colorbar": {
             "outlinewidth": 0,
             "ticks": ""
            },
            "colorscale": [
             [
              0,
              "#0d0887"
             ],
             [
              0.1111111111111111,
              "#46039f"
             ],
             [
              0.2222222222222222,
              "#7201a8"
             ],
             [
              0.3333333333333333,
              "#9c179e"
             ],
             [
              0.4444444444444444,
              "#bd3786"
             ],
             [
              0.5555555555555556,
              "#d8576b"
             ],
             [
              0.6666666666666666,
              "#ed7953"
             ],
             [
              0.7777777777777778,
              "#fb9f3a"
             ],
             [
              0.8888888888888888,
              "#fdca26"
             ],
             [
              1,
              "#f0f921"
             ]
            ],
            "type": "surface"
           }
          ],
          "table": [
           {
            "cells": {
             "fill": {
              "color": "#EBF0F8"
             },
             "line": {
              "color": "white"
             }
            },
            "header": {
             "fill": {
              "color": "#C8D4E3"
             },
             "line": {
              "color": "white"
             }
            },
            "type": "table"
           }
          ]
         },
         "layout": {
          "annotationdefaults": {
           "arrowcolor": "#2a3f5f",
           "arrowhead": 0,
           "arrowwidth": 1
          },
          "coloraxis": {
           "colorbar": {
            "outlinewidth": 0,
            "ticks": ""
           }
          },
          "colorscale": {
           "diverging": [
            [
             0,
             "#8e0152"
            ],
            [
             0.1,
             "#c51b7d"
            ],
            [
             0.2,
             "#de77ae"
            ],
            [
             0.3,
             "#f1b6da"
            ],
            [
             0.4,
             "#fde0ef"
            ],
            [
             0.5,
             "#f7f7f7"
            ],
            [
             0.6,
             "#e6f5d0"
            ],
            [
             0.7,
             "#b8e186"
            ],
            [
             0.8,
             "#7fbc41"
            ],
            [
             0.9,
             "#4d9221"
            ],
            [
             1,
             "#276419"
            ]
           ],
           "sequential": [
            [
             0,
             "#0d0887"
            ],
            [
             0.1111111111111111,
             "#46039f"
            ],
            [
             0.2222222222222222,
             "#7201a8"
            ],
            [
             0.3333333333333333,
             "#9c179e"
            ],
            [
             0.4444444444444444,
             "#bd3786"
            ],
            [
             0.5555555555555556,
             "#d8576b"
            ],
            [
             0.6666666666666666,
             "#ed7953"
            ],
            [
             0.7777777777777778,
             "#fb9f3a"
            ],
            [
             0.8888888888888888,
             "#fdca26"
            ],
            [
             1,
             "#f0f921"
            ]
           ],
           "sequentialminus": [
            [
             0,
             "#0d0887"
            ],
            [
             0.1111111111111111,
             "#46039f"
            ],
            [
             0.2222222222222222,
             "#7201a8"
            ],
            [
             0.3333333333333333,
             "#9c179e"
            ],
            [
             0.4444444444444444,
             "#bd3786"
            ],
            [
             0.5555555555555556,
             "#d8576b"
            ],
            [
             0.6666666666666666,
             "#ed7953"
            ],
            [
             0.7777777777777778,
             "#fb9f3a"
            ],
            [
             0.8888888888888888,
             "#fdca26"
            ],
            [
             1,
             "#f0f921"
            ]
           ]
          },
          "colorway": [
           "#636efa",
           "#EF553B",
           "#00cc96",
           "#ab63fa",
           "#FFA15A",
           "#19d3f3",
           "#FF6692",
           "#B6E880",
           "#FF97FF",
           "#FECB52"
          ],
          "font": {
           "color": "#2a3f5f"
          },
          "geo": {
           "bgcolor": "white",
           "lakecolor": "white",
           "landcolor": "#E5ECF6",
           "showlakes": true,
           "showland": true,
           "subunitcolor": "white"
          },
          "hoverlabel": {
           "align": "left"
          },
          "hovermode": "closest",
          "mapbox": {
           "style": "light"
          },
          "paper_bgcolor": "white",
          "plot_bgcolor": "#E5ECF6",
          "polar": {
           "angularaxis": {
            "gridcolor": "white",
            "linecolor": "white",
            "ticks": ""
           },
           "bgcolor": "#E5ECF6",
           "radialaxis": {
            "gridcolor": "white",
            "linecolor": "white",
            "ticks": ""
           }
          },
          "scene": {
           "xaxis": {
            "backgroundcolor": "#E5ECF6",
            "gridcolor": "white",
            "gridwidth": 2,
            "linecolor": "white",
            "showbackground": true,
            "ticks": "",
            "zerolinecolor": "white"
           },
           "yaxis": {
            "backgroundcolor": "#E5ECF6",
            "gridcolor": "white",
            "gridwidth": 2,
            "linecolor": "white",
            "showbackground": true,
            "ticks": "",
            "zerolinecolor": "white"
           },
           "zaxis": {
            "backgroundcolor": "#E5ECF6",
            "gridcolor": "white",
            "gridwidth": 2,
            "linecolor": "white",
            "showbackground": true,
            "ticks": "",
            "zerolinecolor": "white"
           }
          },
          "shapedefaults": {
           "line": {
            "color": "#2a3f5f"
           }
          },
          "ternary": {
           "aaxis": {
            "gridcolor": "white",
            "linecolor": "white",
            "ticks": ""
           },
           "baxis": {
            "gridcolor": "white",
            "linecolor": "white",
            "ticks": ""
           },
           "bgcolor": "#E5ECF6",
           "caxis": {
            "gridcolor": "white",
            "linecolor": "white",
            "ticks": ""
           }
          },
          "title": {
           "x": 0.05
          },
          "xaxis": {
           "automargin": true,
           "gridcolor": "white",
           "linecolor": "white",
           "ticks": "",
           "title": {
            "standoff": 15
           },
           "zerolinecolor": "white",
           "zerolinewidth": 2
          },
          "yaxis": {
           "automargin": true,
           "gridcolor": "white",
           "linecolor": "white",
           "ticks": "",
           "title": {
            "standoff": 15
           },
           "zerolinecolor": "white",
           "zerolinewidth": 2
          }
         }
        },
        "title": {
         "font": {
          "color": "#4D5663"
         }
        },
        "xaxis": {
         "anchor": "y",
         "domain": [
          0,
          0.2125
         ],
         "gridcolor": "#E1E5ED",
         "showgrid": false,
         "tickfont": {
          "color": "#4D5663"
         },
         "title": {
          "font": {
           "color": "#4D5663"
          },
          "text": ""
         },
         "zerolinecolor": "#E1E5ED"
        },
        "xaxis10": {
         "anchor": "y10",
         "domain": [
          0.2625,
          0.475
         ],
         "gridcolor": "#E1E5ED",
         "showgrid": false,
         "tickfont": {
          "color": "#4D5663"
         },
         "title": {
          "font": {
           "color": "#4D5663"
          },
          "text": ""
         },
         "zerolinecolor": "#E1E5ED"
        },
        "xaxis11": {
         "anchor": "y11",
         "domain": [
          0.525,
          0.7375
         ],
         "gridcolor": "#E1E5ED",
         "showgrid": false,
         "tickfont": {
          "color": "#4D5663"
         },
         "title": {
          "font": {
           "color": "#4D5663"
          },
          "text": ""
         },
         "zerolinecolor": "#E1E5ED"
        },
        "xaxis12": {
         "anchor": "y12",
         "domain": [
          0.7875,
          1
         ],
         "gridcolor": "#E1E5ED",
         "showgrid": false,
         "tickfont": {
          "color": "#4D5663"
         },
         "title": {
          "font": {
           "color": "#4D5663"
          },
          "text": ""
         },
         "zerolinecolor": "#E1E5ED"
        },
        "xaxis13": {
         "anchor": "y13",
         "domain": [
          0,
          0.2125
         ],
         "gridcolor": "#E1E5ED",
         "showgrid": false,
         "tickfont": {
          "color": "#4D5663"
         },
         "title": {
          "font": {
           "color": "#4D5663"
          },
          "text": ""
         },
         "zerolinecolor": "#E1E5ED"
        },
        "xaxis14": {
         "anchor": "y14",
         "domain": [
          0.2625,
          0.475
         ],
         "gridcolor": "#E1E5ED",
         "showgrid": false,
         "tickfont": {
          "color": "#4D5663"
         },
         "title": {
          "font": {
           "color": "#4D5663"
          },
          "text": ""
         },
         "zerolinecolor": "#E1E5ED"
        },
        "xaxis15": {
         "anchor": "y15",
         "domain": [
          0.525,
          0.7375
         ],
         "gridcolor": "#E1E5ED",
         "showgrid": false,
         "tickfont": {
          "color": "#4D5663"
         },
         "title": {
          "font": {
           "color": "#4D5663"
          },
          "text": ""
         },
         "zerolinecolor": "#E1E5ED"
        },
        "xaxis16": {
         "anchor": "y16",
         "domain": [
          0.7875,
          1
         ],
         "gridcolor": "#E1E5ED",
         "showgrid": false,
         "tickfont": {
          "color": "#4D5663"
         },
         "title": {
          "font": {
           "color": "#4D5663"
          },
          "text": ""
         },
         "zerolinecolor": "#E1E5ED"
        },
        "xaxis2": {
         "anchor": "y2",
         "domain": [
          0.2625,
          0.475
         ],
         "gridcolor": "#E1E5ED",
         "showgrid": false,
         "tickfont": {
          "color": "#4D5663"
         },
         "title": {
          "font": {
           "color": "#4D5663"
          },
          "text": ""
         },
         "zerolinecolor": "#E1E5ED"
        },
        "xaxis3": {
         "anchor": "y3",
         "domain": [
          0.525,
          0.7375
         ],
         "gridcolor": "#E1E5ED",
         "showgrid": false,
         "tickfont": {
          "color": "#4D5663"
         },
         "title": {
          "font": {
           "color": "#4D5663"
          },
          "text": ""
         },
         "zerolinecolor": "#E1E5ED"
        },
        "xaxis4": {
         "anchor": "y4",
         "domain": [
          0.7875,
          1
         ],
         "gridcolor": "#E1E5ED",
         "showgrid": false,
         "tickfont": {
          "color": "#4D5663"
         },
         "title": {
          "font": {
           "color": "#4D5663"
          },
          "text": ""
         },
         "zerolinecolor": "#E1E5ED"
        },
        "xaxis5": {
         "anchor": "y5",
         "domain": [
          0,
          0.2125
         ],
         "gridcolor": "#E1E5ED",
         "showgrid": false,
         "tickfont": {
          "color": "#4D5663"
         },
         "title": {
          "font": {
           "color": "#4D5663"
          },
          "text": ""
         },
         "zerolinecolor": "#E1E5ED"
        },
        "xaxis6": {
         "anchor": "y6",
         "domain": [
          0.2625,
          0.475
         ],
         "gridcolor": "#E1E5ED",
         "showgrid": false,
         "tickfont": {
          "color": "#4D5663"
         },
         "title": {
          "font": {
           "color": "#4D5663"
          },
          "text": ""
         },
         "zerolinecolor": "#E1E5ED"
        },
        "xaxis7": {
         "anchor": "y7",
         "domain": [
          0.525,
          0.7375
         ],
         "gridcolor": "#E1E5ED",
         "showgrid": false,
         "tickfont": {
          "color": "#4D5663"
         },
         "title": {
          "font": {
           "color": "#4D5663"
          },
          "text": ""
         },
         "zerolinecolor": "#E1E5ED"
        },
        "xaxis8": {
         "anchor": "y8",
         "domain": [
          0.7875,
          1
         ],
         "gridcolor": "#E1E5ED",
         "showgrid": false,
         "tickfont": {
          "color": "#4D5663"
         },
         "title": {
          "font": {
           "color": "#4D5663"
          },
          "text": ""
         },
         "zerolinecolor": "#E1E5ED"
        },
        "xaxis9": {
         "anchor": "y9",
         "domain": [
          0,
          0.2125
         ],
         "gridcolor": "#E1E5ED",
         "showgrid": false,
         "tickfont": {
          "color": "#4D5663"
         },
         "title": {
          "font": {
           "color": "#4D5663"
          },
          "text": ""
         },
         "zerolinecolor": "#E1E5ED"
        },
        "yaxis": {
         "anchor": "x",
         "domain": [
          0.8025,
          1
         ],
         "gridcolor": "#E1E5ED",
         "showgrid": false,
         "tickfont": {
          "color": "#4D5663"
         },
         "title": {
          "font": {
           "color": "#4D5663"
          },
          "text": ""
         },
         "zerolinecolor": "#E1E5ED"
        },
        "yaxis10": {
         "anchor": "x10",
         "domain": [
          0.2675,
          0.465
         ],
         "gridcolor": "#E1E5ED",
         "showgrid": false,
         "tickfont": {
          "color": "#4D5663"
         },
         "title": {
          "font": {
           "color": "#4D5663"
          },
          "text": ""
         },
         "zerolinecolor": "#E1E5ED"
        },
        "yaxis11": {
         "anchor": "x11",
         "domain": [
          0.2675,
          0.465
         ],
         "gridcolor": "#E1E5ED",
         "showgrid": false,
         "tickfont": {
          "color": "#4D5663"
         },
         "title": {
          "font": {
           "color": "#4D5663"
          },
          "text": ""
         },
         "zerolinecolor": "#E1E5ED"
        },
        "yaxis12": {
         "anchor": "x12",
         "domain": [
          0.2675,
          0.465
         ],
         "gridcolor": "#E1E5ED",
         "showgrid": false,
         "tickfont": {
          "color": "#4D5663"
         },
         "title": {
          "font": {
           "color": "#4D5663"
          },
          "text": ""
         },
         "zerolinecolor": "#E1E5ED"
        },
        "yaxis13": {
         "anchor": "x13",
         "domain": [
          0,
          0.1975
         ],
         "gridcolor": "#E1E5ED",
         "showgrid": false,
         "tickfont": {
          "color": "#4D5663"
         },
         "title": {
          "font": {
           "color": "#4D5663"
          },
          "text": ""
         },
         "zerolinecolor": "#E1E5ED"
        },
        "yaxis14": {
         "anchor": "x14",
         "domain": [
          0,
          0.1975
         ],
         "gridcolor": "#E1E5ED",
         "showgrid": false,
         "tickfont": {
          "color": "#4D5663"
         },
         "title": {
          "font": {
           "color": "#4D5663"
          },
          "text": ""
         },
         "zerolinecolor": "#E1E5ED"
        },
        "yaxis15": {
         "anchor": "x15",
         "domain": [
          0,
          0.1975
         ],
         "gridcolor": "#E1E5ED",
         "showgrid": false,
         "tickfont": {
          "color": "#4D5663"
         },
         "title": {
          "font": {
           "color": "#4D5663"
          },
          "text": ""
         },
         "zerolinecolor": "#E1E5ED"
        },
        "yaxis16": {
         "anchor": "x16",
         "domain": [
          0,
          0.1975
         ],
         "gridcolor": "#E1E5ED",
         "showgrid": false,
         "tickfont": {
          "color": "#4D5663"
         },
         "title": {
          "font": {
           "color": "#4D5663"
          },
          "text": ""
         },
         "zerolinecolor": "#E1E5ED"
        },
        "yaxis2": {
         "anchor": "x2",
         "domain": [
          0.8025,
          1
         ],
         "gridcolor": "#E1E5ED",
         "showgrid": false,
         "tickfont": {
          "color": "#4D5663"
         },
         "title": {
          "font": {
           "color": "#4D5663"
          },
          "text": ""
         },
         "zerolinecolor": "#E1E5ED"
        },
        "yaxis3": {
         "anchor": "x3",
         "domain": [
          0.8025,
          1
         ],
         "gridcolor": "#E1E5ED",
         "showgrid": false,
         "tickfont": {
          "color": "#4D5663"
         },
         "title": {
          "font": {
           "color": "#4D5663"
          },
          "text": ""
         },
         "zerolinecolor": "#E1E5ED"
        },
        "yaxis4": {
         "anchor": "x4",
         "domain": [
          0.8025,
          1
         ],
         "gridcolor": "#E1E5ED",
         "showgrid": false,
         "tickfont": {
          "color": "#4D5663"
         },
         "title": {
          "font": {
           "color": "#4D5663"
          },
          "text": ""
         },
         "zerolinecolor": "#E1E5ED"
        },
        "yaxis5": {
         "anchor": "x5",
         "domain": [
          0.535,
          0.7325
         ],
         "gridcolor": "#E1E5ED",
         "showgrid": false,
         "tickfont": {
          "color": "#4D5663"
         },
         "title": {
          "font": {
           "color": "#4D5663"
          },
          "text": ""
         },
         "zerolinecolor": "#E1E5ED"
        },
        "yaxis6": {
         "anchor": "x6",
         "domain": [
          0.535,
          0.7325
         ],
         "gridcolor": "#E1E5ED",
         "showgrid": false,
         "tickfont": {
          "color": "#4D5663"
         },
         "title": {
          "font": {
           "color": "#4D5663"
          },
          "text": ""
         },
         "zerolinecolor": "#E1E5ED"
        },
        "yaxis7": {
         "anchor": "x7",
         "domain": [
          0.535,
          0.7325
         ],
         "gridcolor": "#E1E5ED",
         "showgrid": false,
         "tickfont": {
          "color": "#4D5663"
         },
         "title": {
          "font": {
           "color": "#4D5663"
          },
          "text": ""
         },
         "zerolinecolor": "#E1E5ED"
        },
        "yaxis8": {
         "anchor": "x8",
         "domain": [
          0.535,
          0.7325
         ],
         "gridcolor": "#E1E5ED",
         "showgrid": false,
         "tickfont": {
          "color": "#4D5663"
         },
         "title": {
          "font": {
           "color": "#4D5663"
          },
          "text": ""
         },
         "zerolinecolor": "#E1E5ED"
        },
        "yaxis9": {
         "anchor": "x9",
         "domain": [
          0.2675,
          0.465
         ],
         "gridcolor": "#E1E5ED",
         "showgrid": false,
         "tickfont": {
          "color": "#4D5663"
         },
         "title": {
          "font": {
           "color": "#4D5663"
          },
          "text": ""
         },
         "zerolinecolor": "#E1E5ED"
        }
       }
      },
      "text/html": [
       "<div>\n",
       "        \n",
       "        \n",
       "            <div id=\"16f8c9c2-add0-42c3-8ae7-5e44285cc519\" class=\"plotly-graph-div\" style=\"height:525px; width:100%;\"></div>\n",
       "            <script type=\"text/javascript\">\n",
       "                require([\"plotly\"], function(Plotly) {\n",
       "                    window.PLOTLYENV=window.PLOTLYENV || {};\n",
       "                    window.PLOTLYENV.BASE_URL='https://plot.ly';\n",
       "                    \n",
       "                if (document.getElementById(\"16f8c9c2-add0-42c3-8ae7-5e44285cc519\")) {\n",
       "                    Plotly.newPlot(\n",
       "                        '16f8c9c2-add0-42c3-8ae7-5e44285cc519',\n",
       "                        [{\"histfunc\": \"count\", \"histnorm\": \"\", \"marker\": {\"color\": \"rgba(255, 153, 51, 1.0)\", \"line\": {\"color\": \"#4D5663\", \"width\": 1.3}}, \"name\": \"A\", \"nbinsx\": 10, \"opacity\": 0.8, \"orientation\": \"v\", \"type\": \"histogram\", \"x\": [-1.3583402229536823, 0.0921673543459956, 0.4492594820576442, 0.6996025908357328, 2.1495250286838616, 0.24183106597206416, -0.8776832110040302, 1.0541732492278562, 0.08523758205433592, 0.4987407976187166, -0.42692187830303097, 0.3314238788412063, 0.8110203721335073, -1.892486336094162, -0.1986687733189751, -0.3859351717543113, 0.7622079403895549, 1.1342981825914735, -0.616705435419684, -0.12151918045946218, -1.1011316897029537, 0.3328629568633669, -1.0208981270296031, 0.053983225088959017, 0.3725114124839771, 0.10267108207518853, -1.1665665557543183, 0.054504419339731255, 0.07843971579163007, -0.5986900927551946, -1.1908876386329161, -0.9428019176036524, -0.20836288106335712, 2.0638412236218913, -0.08800663468845793, 2.3489296854756243, -0.328825492717537, 0.13679328526719142, 1.6362966816412452, -0.9865169458002857, 0.5322172281903023, 1.8126956542853345, 2.0187951705084726, 0.34262285700030415, -0.4049678282336819, -2.1252404889520555, 0.3577431068537883, 0.6213330482766051, 1.1533821829453454, 1.536912657916139, 2.008920554498628, -1.585227803158716, -0.8722662480875408, -0.15051809032390423, -1.0062867067219174, 1.8397911379130851, -0.06621953199647992, -1.2920370371673158, 0.5436718522445453, 0.5423224416184557, 1.5511194828341233, 0.13070055937739156, -0.44912176704902335, -0.2616470902800413, 0.345449072564648, -0.21847852159286552, -1.547915716754144, -0.24297968869274658, 0.10713560266622875, -0.03071741252082736, 0.6189888818452682, 0.949788377696495, -0.31913257258760963, 1.029866696113866, 0.2163440437977718, -1.9076255260432537, 0.9911538059288, -1.2938190969419967, -1.556975158647537, -0.8567798093066372, 1.1061307231493411, 0.8210251094170343, -0.8752867994424044, -1.3312503684676744, -0.15270325556453376, -1.6312580962345506, 1.8820767353613506, 0.2876026635475839, -0.8927184511718702, 0.8929654454438709, 0.6600185178648303, -1.2544677962637543, 1.0241195756808887, 1.7451061541136383, 1.6784492852125634, -0.209804057404903, 2.7179971818449857, 0.15330230160949973, 0.8962390746892906, 0.21855533520777062], \"xaxis\": \"x\", \"yaxis\": \"y\"}, {\"line\": {\"color\": \"rgba(128, 128, 128, 1.0)\", \"dash\": \"solid\", \"shape\": \"linear\", \"width\": 1.3}, \"marker\": {\"size\": 2, \"symbol\": \"circle\"}, \"mode\": \"markers\", \"name\": \"A\", \"text\": \"\", \"type\": \"scatter\", \"x\": [0.7062159335042797, 0.7219254733761484, 0.5463129397908424, -0.6931529077523799, -1.6825415343319072, -0.163715476768212, 1.2542694738069151, 0.2874131009769991, -1.263462719563245, -0.7238140467351619, 2.184714958062746, -2.8697379154159677, -0.7409720185625667, 0.699470418188912, -1.2082057874168277, 1.172505684652955, 0.6764855553881596, 0.6145175314457706, 0.3998685213240509, 0.6011537674657929, -0.17760909229636285, -0.27164619891261593, 0.016783537950853814, -0.3152415327654973, 1.040155078188417, -1.6181904077672757, -0.6267969219734727, 0.3150579764877128, 1.1278776716162962, 1.8773340948873105, -0.1514056836070442, 0.3375374850890802, -1.4616285328336531, -0.8198419318788835, 0.8243541156979151, -0.40253086793801673, 0.11161375634635512, 0.8110433849900274, -0.7372647622097733, 0.5951094858811783, 1.788231465632863, 1.6096544305491811, -1.6724569437258132, -0.5343499938543699, -0.42080029902949184, 0.7017532920558198, -1.8095562597566381, 0.08967981171876918, 1.3014844394723237, -0.008188048042794197, 0.5120041176666327, 0.6307009822539876, 0.20535907665217643, 0.40208846119323083, -0.6250359423978179, -1.3173115747022526, 0.7934196396570694, 0.021772115789257137, 0.089532532038497, -0.3461312566174257, -1.3515693099417592, -0.8125304190004683, 0.6460317056406156, 2.5682487716392797, -1.3928851372548272, 0.49240556188681406, -1.3404633687098704, 0.4092479859742962, -0.055251692720409536, -0.40605510886442653, -1.7490729669018399, 0.9484082473493582, -0.25030755921934555, 1.1063585220126273, -1.285180609868798, -0.27944973884190905, 1.5788577983747496, 1.0687556988535705, 0.8847765838108002, 0.13394864375601528, 0.75925337178594, -0.1634560803366644, 0.07831300439827604, -0.8908680973465573, -1.3336711135597754, 0.5742058122235427, 0.8020214805889448, 2.9226570311911457, -1.3427501538316637, 0.6004478098801661, 0.0005468704148372964, 0.4825037294818465, -1.0839290848485301, -1.7338844652392993, 0.30343207245100284, -0.13956794322089353, 0.24250586024809148, -0.2763816144379349, -1.3194412611454425, 0.02032522014388897], \"xaxis\": \"x2\", \"y\": [-1.3583402229536823, 0.0921673543459956, 0.4492594820576442, 0.6996025908357328, 2.1495250286838616, 0.24183106597206416, -0.8776832110040302, 1.0541732492278562, 0.08523758205433592, 0.4987407976187166, -0.42692187830303097, 0.3314238788412063, 0.8110203721335073, -1.892486336094162, -0.1986687733189751, -0.3859351717543113, 0.7622079403895549, 1.1342981825914735, -0.616705435419684, -0.12151918045946218, -1.1011316897029537, 0.3328629568633669, -1.0208981270296031, 0.053983225088959017, 0.3725114124839771, 0.10267108207518853, -1.1665665557543183, 0.054504419339731255, 0.07843971579163007, -0.5986900927551946, -1.1908876386329161, -0.9428019176036524, -0.20836288106335712, 2.0638412236218913, -0.08800663468845793, 2.3489296854756243, -0.328825492717537, 0.13679328526719142, 1.6362966816412452, -0.9865169458002857, 0.5322172281903023, 1.8126956542853345, 2.0187951705084726, 0.34262285700030415, -0.4049678282336819, -2.1252404889520555, 0.3577431068537883, 0.6213330482766051, 1.1533821829453454, 1.536912657916139, 2.008920554498628, -1.585227803158716, -0.8722662480875408, -0.15051809032390423, -1.0062867067219174, 1.8397911379130851, -0.06621953199647992, -1.2920370371673158, 0.5436718522445453, 0.5423224416184557, 1.5511194828341233, 0.13070055937739156, -0.44912176704902335, -0.2616470902800413, 0.345449072564648, -0.21847852159286552, -1.547915716754144, -0.24297968869274658, 0.10713560266622875, -0.03071741252082736, 0.6189888818452682, 0.949788377696495, -0.31913257258760963, 1.029866696113866, 0.2163440437977718, -1.9076255260432537, 0.9911538059288, -1.2938190969419967, -1.556975158647537, -0.8567798093066372, 1.1061307231493411, 0.8210251094170343, -0.8752867994424044, -1.3312503684676744, -0.15270325556453376, -1.6312580962345506, 1.8820767353613506, 0.2876026635475839, -0.8927184511718702, 0.8929654454438709, 0.6600185178648303, -1.2544677962637543, 1.0241195756808887, 1.7451061541136383, 1.6784492852125634, -0.209804057404903, 2.7179971818449857, 0.15330230160949973, 0.8962390746892906, 0.21855533520777062], \"yaxis\": \"y2\"}, {\"line\": {\"color\": \"rgba(128, 128, 128, 1.0)\", \"dash\": \"solid\", \"shape\": \"linear\", \"width\": 1.3}, \"marker\": {\"size\": 2, \"symbol\": \"circle\"}, \"mode\": \"markers\", \"name\": \"A\", \"text\": \"\", \"type\": \"scatter\", \"x\": [-1.7394193082285367, 2.0199509590283324, -2.125045260659694, 0.9872091937611682, 1.2814726584521647, 1.9112407917021952, 0.8682065323813343, 0.9953456319658606, -0.47724553658137586, 0.2907453293892247, 0.2922072941281063, -1.0031202575300096, 0.6191438532439717, -0.20730239105666726, -0.3061246959355385, 1.6157414622829638, -1.0126178567292161, 0.9245663049594548, -1.4215312439541787, -0.7641846673842541, -0.24282777387711735, 0.1221896350021282, -0.45013297851147577, 0.12262189159104932, -0.22146285558706982, -0.42293498087215603, 0.42912714654322803, 0.1373949302686126, -0.07528551417909446, -0.8345047263438276, 0.242013070563943, 0.8841956172726568, 1.8015949174910602, 0.9276896530283995, 0.0445268358058785, -1.2167497680105366, -1.0609666266602078, -0.8229676300534009, -0.4659296912688198, -2.450017026055469, 2.007865763260578, -0.5714253071723848, 0.3104900370555491, -0.6265490779005343, 0.8292315795528291, -1.7856561980824746, 1.040462972074903, -0.6717794077056105, -3.016418333287492, -0.2982601216242055, 0.23682116985574989, 0.06774564588221275, 0.7317414515020575, 1.1708150818193395, 1.7179509061567175, -0.09531060061377467, -2.446695283742527, 1.2345616048347057, -0.42536208974328804, -0.8317642691126296, -1.395540850752444, -0.318993517146573, 0.5967297862283434, 0.872950971037923, 0.9078328797395858, -1.1179242321679763, -0.13551094533786015, 2.9940741991773367, 0.05979375987894932, -1.0441911901315293, 2.2382973166725435, 0.19095928512930777, 0.9635986997098613, -1.1089799201512651, -1.0611222801332265, -0.530030116387802, 0.8420748064206437, 1.451378193611522, 0.15630203815220325, 0.44432724012472413, 0.21319102371955295, -0.6808442207139247, 0.8499587129601391, -1.9262182617537706, -0.1405587991994687, -0.7748484503006927, 0.39678325647576956, -0.8813410163876415, 0.8820173866408353, -0.3491862544376239, -0.2410129619428547, -0.9057173317234595, -1.3875868082596643, -0.056640982831819314, -1.1773818281757318, -0.8829637711699871, -0.05024918980899207, 1.2910254435644628, 0.08975330868495415, 0.2019190020155585], \"xaxis\": \"x3\", \"y\": [-1.3583402229536823, 0.0921673543459956, 0.4492594820576442, 0.6996025908357328, 2.1495250286838616, 0.24183106597206416, -0.8776832110040302, 1.0541732492278562, 0.08523758205433592, 0.4987407976187166, -0.42692187830303097, 0.3314238788412063, 0.8110203721335073, -1.892486336094162, -0.1986687733189751, -0.3859351717543113, 0.7622079403895549, 1.1342981825914735, -0.616705435419684, -0.12151918045946218, -1.1011316897029537, 0.3328629568633669, -1.0208981270296031, 0.053983225088959017, 0.3725114124839771, 0.10267108207518853, -1.1665665557543183, 0.054504419339731255, 0.07843971579163007, -0.5986900927551946, -1.1908876386329161, -0.9428019176036524, -0.20836288106335712, 2.0638412236218913, -0.08800663468845793, 2.3489296854756243, -0.328825492717537, 0.13679328526719142, 1.6362966816412452, -0.9865169458002857, 0.5322172281903023, 1.8126956542853345, 2.0187951705084726, 0.34262285700030415, -0.4049678282336819, -2.1252404889520555, 0.3577431068537883, 0.6213330482766051, 1.1533821829453454, 1.536912657916139, 2.008920554498628, -1.585227803158716, -0.8722662480875408, -0.15051809032390423, -1.0062867067219174, 1.8397911379130851, -0.06621953199647992, -1.2920370371673158, 0.5436718522445453, 0.5423224416184557, 1.5511194828341233, 0.13070055937739156, -0.44912176704902335, -0.2616470902800413, 0.345449072564648, -0.21847852159286552, -1.547915716754144, -0.24297968869274658, 0.10713560266622875, -0.03071741252082736, 0.6189888818452682, 0.949788377696495, -0.31913257258760963, 1.029866696113866, 0.2163440437977718, -1.9076255260432537, 0.9911538059288, -1.2938190969419967, -1.556975158647537, -0.8567798093066372, 1.1061307231493411, 0.8210251094170343, -0.8752867994424044, -1.3312503684676744, -0.15270325556453376, -1.6312580962345506, 1.8820767353613506, 0.2876026635475839, -0.8927184511718702, 0.8929654454438709, 0.6600185178648303, -1.2544677962637543, 1.0241195756808887, 1.7451061541136383, 1.6784492852125634, -0.209804057404903, 2.7179971818449857, 0.15330230160949973, 0.8962390746892906, 0.21855533520777062], \"yaxis\": \"y3\"}, {\"line\": {\"color\": \"rgba(128, 128, 128, 1.0)\", \"dash\": \"solid\", \"shape\": \"linear\", \"width\": 1.3}, \"marker\": {\"size\": 2, \"symbol\": \"circle\"}, \"mode\": \"markers\", \"name\": \"A\", \"text\": \"\", \"type\": \"scatter\", \"x\": [-0.918021841382379, 0.3692701603907164, 1.188573271342609, 0.22978856469901443, 0.34401552918206985, 1.4434644093153666, -1.4144399047224352, -0.9262573803086471, -1.0096143309966708, -0.24797947664388517, 0.06193314664735327, -1.9847490598564868, 0.28930719147418593, 0.9729800141188311, -0.752826723320766, -0.1964051585219301, -0.9599060330733563, 0.23175729877103896, 0.6352713171037078, -1.4652585705909942, -0.5618443784834063, 1.3002625407503783, 0.2920556383677886, 0.6624188615292138, 0.6348322297238859, -1.4366734272605315, -0.9916924034914343, 0.9246214815924768, 1.1274590822784436, -0.054862832358006285, -1.1115686499842772, -2.1810572779048116, -0.6303969622757892, -1.805785039501949, -0.7244043601054821, -1.0735129121877474, 1.1308346797517523, -0.46909703068663483, -1.2112551878570506, 0.712082837871189, -0.8569204918044192, -0.01849398969657977, -0.7537431286052918, 0.23052330629156206, 1.106907800473795, 0.5201106000323045, 0.9883999655545883, 1.8169499319902562, 0.8720060646770937, 0.15524937064089045, -1.3623990893383962, 1.0221213704141545, 0.45476036661258196, -0.9398110554502317, -0.5509476422934868, 0.15478870709990045, -1.7618483025106282, 0.6942889786702552, 0.5283082335725829, -1.5534195938951703, 0.9783396485141392, -0.7291058861888242, -0.7649422077157795, 0.8460909820593372, -2.0382131719821963, -0.3348840078515811, 0.3272919918215468, 0.5865591818077541, 1.5398463883664955, -0.49854702667623696, -0.4225083608524863, -0.10802948547715434, 2.2346822788271687, -2.1303528397758815, 0.2418013944113245, 0.879429222427897, 1.9008821707299182, -0.3449374812457629, -0.7705988326805959, 1.3882406106252168, -0.45742519952022254, -0.4041779181983526, -0.37788039061515666, -0.2727046005123951, 0.13466798604546537, -0.9848270237121459, -0.2783457860638169, 0.12937596854579084, 0.4675249496342816, -0.4581541999742207, 1.1556611938675025, -0.08898255602530283, 0.7639547917194405, 1.6322889236802958, -0.3517880833180977, -0.24303123108308203, 0.3818600133402033, -0.5074320431098871, -1.3213786580557674, -0.458695491424776], \"xaxis\": \"x4\", \"y\": [-1.3583402229536823, 0.0921673543459956, 0.4492594820576442, 0.6996025908357328, 2.1495250286838616, 0.24183106597206416, -0.8776832110040302, 1.0541732492278562, 0.08523758205433592, 0.4987407976187166, -0.42692187830303097, 0.3314238788412063, 0.8110203721335073, -1.892486336094162, -0.1986687733189751, -0.3859351717543113, 0.7622079403895549, 1.1342981825914735, -0.616705435419684, -0.12151918045946218, -1.1011316897029537, 0.3328629568633669, -1.0208981270296031, 0.053983225088959017, 0.3725114124839771, 0.10267108207518853, -1.1665665557543183, 0.054504419339731255, 0.07843971579163007, -0.5986900927551946, -1.1908876386329161, -0.9428019176036524, -0.20836288106335712, 2.0638412236218913, -0.08800663468845793, 2.3489296854756243, -0.328825492717537, 0.13679328526719142, 1.6362966816412452, -0.9865169458002857, 0.5322172281903023, 1.8126956542853345, 2.0187951705084726, 0.34262285700030415, -0.4049678282336819, -2.1252404889520555, 0.3577431068537883, 0.6213330482766051, 1.1533821829453454, 1.536912657916139, 2.008920554498628, -1.585227803158716, -0.8722662480875408, -0.15051809032390423, -1.0062867067219174, 1.8397911379130851, -0.06621953199647992, -1.2920370371673158, 0.5436718522445453, 0.5423224416184557, 1.5511194828341233, 0.13070055937739156, -0.44912176704902335, -0.2616470902800413, 0.345449072564648, -0.21847852159286552, -1.547915716754144, -0.24297968869274658, 0.10713560266622875, -0.03071741252082736, 0.6189888818452682, 0.949788377696495, -0.31913257258760963, 1.029866696113866, 0.2163440437977718, -1.9076255260432537, 0.9911538059288, -1.2938190969419967, -1.556975158647537, -0.8567798093066372, 1.1061307231493411, 0.8210251094170343, -0.8752867994424044, -1.3312503684676744, -0.15270325556453376, -1.6312580962345506, 1.8820767353613506, 0.2876026635475839, -0.8927184511718702, 0.8929654454438709, 0.6600185178648303, -1.2544677962637543, 1.0241195756808887, 1.7451061541136383, 1.6784492852125634, -0.209804057404903, 2.7179971818449857, 0.15330230160949973, 0.8962390746892906, 0.21855533520777062], \"yaxis\": \"y4\"}, {\"line\": {\"color\": \"rgba(128, 128, 128, 1.0)\", \"dash\": \"solid\", \"shape\": \"linear\", \"width\": 1.3}, \"marker\": {\"size\": 2, \"symbol\": \"circle\"}, \"mode\": \"markers\", \"name\": \"B\", \"text\": \"\", \"type\": \"scatter\", \"x\": [-1.3583402229536823, 0.0921673543459956, 0.4492594820576442, 0.6996025908357328, 2.1495250286838616, 0.24183106597206416, -0.8776832110040302, 1.0541732492278562, 0.08523758205433592, 0.4987407976187166, -0.42692187830303097, 0.3314238788412063, 0.8110203721335073, -1.892486336094162, -0.1986687733189751, -0.3859351717543113, 0.7622079403895549, 1.1342981825914735, -0.616705435419684, -0.12151918045946218, -1.1011316897029537, 0.3328629568633669, -1.0208981270296031, 0.053983225088959017, 0.3725114124839771, 0.10267108207518853, -1.1665665557543183, 0.054504419339731255, 0.07843971579163007, -0.5986900927551946, -1.1908876386329161, -0.9428019176036524, -0.20836288106335712, 2.0638412236218913, -0.08800663468845793, 2.3489296854756243, -0.328825492717537, 0.13679328526719142, 1.6362966816412452, -0.9865169458002857, 0.5322172281903023, 1.8126956542853345, 2.0187951705084726, 0.34262285700030415, -0.4049678282336819, -2.1252404889520555, 0.3577431068537883, 0.6213330482766051, 1.1533821829453454, 1.536912657916139, 2.008920554498628, -1.585227803158716, -0.8722662480875408, -0.15051809032390423, -1.0062867067219174, 1.8397911379130851, -0.06621953199647992, -1.2920370371673158, 0.5436718522445453, 0.5423224416184557, 1.5511194828341233, 0.13070055937739156, -0.44912176704902335, -0.2616470902800413, 0.345449072564648, -0.21847852159286552, -1.547915716754144, -0.24297968869274658, 0.10713560266622875, -0.03071741252082736, 0.6189888818452682, 0.949788377696495, -0.31913257258760963, 1.029866696113866, 0.2163440437977718, -1.9076255260432537, 0.9911538059288, -1.2938190969419967, -1.556975158647537, -0.8567798093066372, 1.1061307231493411, 0.8210251094170343, -0.8752867994424044, -1.3312503684676744, -0.15270325556453376, -1.6312580962345506, 1.8820767353613506, 0.2876026635475839, -0.8927184511718702, 0.8929654454438709, 0.6600185178648303, -1.2544677962637543, 1.0241195756808887, 1.7451061541136383, 1.6784492852125634, -0.209804057404903, 2.7179971818449857, 0.15330230160949973, 0.8962390746892906, 0.21855533520777062], \"xaxis\": \"x5\", \"y\": [0.7062159335042797, 0.7219254733761484, 0.5463129397908424, -0.6931529077523799, -1.6825415343319072, -0.163715476768212, 1.2542694738069151, 0.2874131009769991, -1.263462719563245, -0.7238140467351619, 2.184714958062746, -2.8697379154159677, -0.7409720185625667, 0.699470418188912, -1.2082057874168277, 1.172505684652955, 0.6764855553881596, 0.6145175314457706, 0.3998685213240509, 0.6011537674657929, -0.17760909229636285, -0.27164619891261593, 0.016783537950853814, -0.3152415327654973, 1.040155078188417, -1.6181904077672757, -0.6267969219734727, 0.3150579764877128, 1.1278776716162962, 1.8773340948873105, -0.1514056836070442, 0.3375374850890802, -1.4616285328336531, -0.8198419318788835, 0.8243541156979151, -0.40253086793801673, 0.11161375634635512, 0.8110433849900274, -0.7372647622097733, 0.5951094858811783, 1.788231465632863, 1.6096544305491811, -1.6724569437258132, -0.5343499938543699, -0.42080029902949184, 0.7017532920558198, -1.8095562597566381, 0.08967981171876918, 1.3014844394723237, -0.008188048042794197, 0.5120041176666327, 0.6307009822539876, 0.20535907665217643, 0.40208846119323083, -0.6250359423978179, -1.3173115747022526, 0.7934196396570694, 0.021772115789257137, 0.089532532038497, -0.3461312566174257, -1.3515693099417592, -0.8125304190004683, 0.6460317056406156, 2.5682487716392797, -1.3928851372548272, 0.49240556188681406, -1.3404633687098704, 0.4092479859742962, -0.055251692720409536, -0.40605510886442653, -1.7490729669018399, 0.9484082473493582, -0.25030755921934555, 1.1063585220126273, -1.285180609868798, -0.27944973884190905, 1.5788577983747496, 1.0687556988535705, 0.8847765838108002, 0.13394864375601528, 0.75925337178594, -0.1634560803366644, 0.07831300439827604, -0.8908680973465573, -1.3336711135597754, 0.5742058122235427, 0.8020214805889448, 2.9226570311911457, -1.3427501538316637, 0.6004478098801661, 0.0005468704148372964, 0.4825037294818465, -1.0839290848485301, -1.7338844652392993, 0.30343207245100284, -0.13956794322089353, 0.24250586024809148, -0.2763816144379349, -1.3194412611454425, 0.02032522014388897], \"yaxis\": \"y5\"}, {\"histfunc\": \"count\", \"histnorm\": \"\", \"marker\": {\"color\": \"rgba(55, 128, 191, 1.0)\", \"line\": {\"color\": \"#4D5663\", \"width\": 1.3}}, \"name\": \"B\", \"nbinsx\": 10, \"opacity\": 0.8, \"orientation\": \"v\", \"type\": \"histogram\", \"x\": [0.7062159335042797, 0.7219254733761484, 0.5463129397908424, -0.6931529077523799, -1.6825415343319072, -0.163715476768212, 1.2542694738069151, 0.2874131009769991, -1.263462719563245, -0.7238140467351619, 2.184714958062746, -2.8697379154159677, -0.7409720185625667, 0.699470418188912, -1.2082057874168277, 1.172505684652955, 0.6764855553881596, 0.6145175314457706, 0.3998685213240509, 0.6011537674657929, -0.17760909229636285, -0.27164619891261593, 0.016783537950853814, -0.3152415327654973, 1.040155078188417, -1.6181904077672757, -0.6267969219734727, 0.3150579764877128, 1.1278776716162962, 1.8773340948873105, -0.1514056836070442, 0.3375374850890802, -1.4616285328336531, -0.8198419318788835, 0.8243541156979151, -0.40253086793801673, 0.11161375634635512, 0.8110433849900274, -0.7372647622097733, 0.5951094858811783, 1.788231465632863, 1.6096544305491811, -1.6724569437258132, -0.5343499938543699, -0.42080029902949184, 0.7017532920558198, -1.8095562597566381, 0.08967981171876918, 1.3014844394723237, -0.008188048042794197, 0.5120041176666327, 0.6307009822539876, 0.20535907665217643, 0.40208846119323083, -0.6250359423978179, -1.3173115747022526, 0.7934196396570694, 0.021772115789257137, 0.089532532038497, -0.3461312566174257, -1.3515693099417592, -0.8125304190004683, 0.6460317056406156, 2.5682487716392797, -1.3928851372548272, 0.49240556188681406, -1.3404633687098704, 0.4092479859742962, -0.055251692720409536, -0.40605510886442653, -1.7490729669018399, 0.9484082473493582, -0.25030755921934555, 1.1063585220126273, -1.285180609868798, -0.27944973884190905, 1.5788577983747496, 1.0687556988535705, 0.8847765838108002, 0.13394864375601528, 0.75925337178594, -0.1634560803366644, 0.07831300439827604, -0.8908680973465573, -1.3336711135597754, 0.5742058122235427, 0.8020214805889448, 2.9226570311911457, -1.3427501538316637, 0.6004478098801661, 0.0005468704148372964, 0.4825037294818465, -1.0839290848485301, -1.7338844652392993, 0.30343207245100284, -0.13956794322089353, 0.24250586024809148, -0.2763816144379349, -1.3194412611454425, 0.02032522014388897], \"xaxis\": \"x6\", \"yaxis\": \"y6\"}, {\"line\": {\"color\": \"rgba(128, 128, 128, 1.0)\", \"dash\": \"solid\", \"shape\": \"linear\", \"width\": 1.3}, \"marker\": {\"size\": 2, \"symbol\": \"circle\"}, \"mode\": \"markers\", \"name\": \"B\", \"text\": \"\", \"type\": \"scatter\", \"x\": [-1.7394193082285367, 2.0199509590283324, -2.125045260659694, 0.9872091937611682, 1.2814726584521647, 1.9112407917021952, 0.8682065323813343, 0.9953456319658606, -0.47724553658137586, 0.2907453293892247, 0.2922072941281063, -1.0031202575300096, 0.6191438532439717, -0.20730239105666726, -0.3061246959355385, 1.6157414622829638, -1.0126178567292161, 0.9245663049594548, -1.4215312439541787, -0.7641846673842541, -0.24282777387711735, 0.1221896350021282, -0.45013297851147577, 0.12262189159104932, -0.22146285558706982, -0.42293498087215603, 0.42912714654322803, 0.1373949302686126, -0.07528551417909446, -0.8345047263438276, 0.242013070563943, 0.8841956172726568, 1.8015949174910602, 0.9276896530283995, 0.0445268358058785, -1.2167497680105366, -1.0609666266602078, -0.8229676300534009, -0.4659296912688198, -2.450017026055469, 2.007865763260578, -0.5714253071723848, 0.3104900370555491, -0.6265490779005343, 0.8292315795528291, -1.7856561980824746, 1.040462972074903, -0.6717794077056105, -3.016418333287492, -0.2982601216242055, 0.23682116985574989, 0.06774564588221275, 0.7317414515020575, 1.1708150818193395, 1.7179509061567175, -0.09531060061377467, -2.446695283742527, 1.2345616048347057, -0.42536208974328804, -0.8317642691126296, -1.395540850752444, -0.318993517146573, 0.5967297862283434, 0.872950971037923, 0.9078328797395858, -1.1179242321679763, -0.13551094533786015, 2.9940741991773367, 0.05979375987894932, -1.0441911901315293, 2.2382973166725435, 0.19095928512930777, 0.9635986997098613, -1.1089799201512651, -1.0611222801332265, -0.530030116387802, 0.8420748064206437, 1.451378193611522, 0.15630203815220325, 0.44432724012472413, 0.21319102371955295, -0.6808442207139247, 0.8499587129601391, -1.9262182617537706, -0.1405587991994687, -0.7748484503006927, 0.39678325647576956, -0.8813410163876415, 0.8820173866408353, -0.3491862544376239, -0.2410129619428547, -0.9057173317234595, -1.3875868082596643, -0.056640982831819314, -1.1773818281757318, -0.8829637711699871, -0.05024918980899207, 1.2910254435644628, 0.08975330868495415, 0.2019190020155585], \"xaxis\": \"x7\", \"y\": [0.7062159335042797, 0.7219254733761484, 0.5463129397908424, -0.6931529077523799, -1.6825415343319072, -0.163715476768212, 1.2542694738069151, 0.2874131009769991, -1.263462719563245, -0.7238140467351619, 2.184714958062746, -2.8697379154159677, -0.7409720185625667, 0.699470418188912, -1.2082057874168277, 1.172505684652955, 0.6764855553881596, 0.6145175314457706, 0.3998685213240509, 0.6011537674657929, -0.17760909229636285, -0.27164619891261593, 0.016783537950853814, -0.3152415327654973, 1.040155078188417, -1.6181904077672757, -0.6267969219734727, 0.3150579764877128, 1.1278776716162962, 1.8773340948873105, -0.1514056836070442, 0.3375374850890802, -1.4616285328336531, -0.8198419318788835, 0.8243541156979151, -0.40253086793801673, 0.11161375634635512, 0.8110433849900274, -0.7372647622097733, 0.5951094858811783, 1.788231465632863, 1.6096544305491811, -1.6724569437258132, -0.5343499938543699, -0.42080029902949184, 0.7017532920558198, -1.8095562597566381, 0.08967981171876918, 1.3014844394723237, -0.008188048042794197, 0.5120041176666327, 0.6307009822539876, 0.20535907665217643, 0.40208846119323083, -0.6250359423978179, -1.3173115747022526, 0.7934196396570694, 0.021772115789257137, 0.089532532038497, -0.3461312566174257, -1.3515693099417592, -0.8125304190004683, 0.6460317056406156, 2.5682487716392797, -1.3928851372548272, 0.49240556188681406, -1.3404633687098704, 0.4092479859742962, -0.055251692720409536, -0.40605510886442653, -1.7490729669018399, 0.9484082473493582, -0.25030755921934555, 1.1063585220126273, -1.285180609868798, -0.27944973884190905, 1.5788577983747496, 1.0687556988535705, 0.8847765838108002, 0.13394864375601528, 0.75925337178594, -0.1634560803366644, 0.07831300439827604, -0.8908680973465573, -1.3336711135597754, 0.5742058122235427, 0.8020214805889448, 2.9226570311911457, -1.3427501538316637, 0.6004478098801661, 0.0005468704148372964, 0.4825037294818465, -1.0839290848485301, -1.7338844652392993, 0.30343207245100284, -0.13956794322089353, 0.24250586024809148, -0.2763816144379349, -1.3194412611454425, 0.02032522014388897], \"yaxis\": \"y7\"}, {\"line\": {\"color\": \"rgba(128, 128, 128, 1.0)\", \"dash\": \"solid\", \"shape\": \"linear\", \"width\": 1.3}, \"marker\": {\"size\": 2, \"symbol\": \"circle\"}, \"mode\": \"markers\", \"name\": \"B\", \"text\": \"\", \"type\": \"scatter\", \"x\": [-0.918021841382379, 0.3692701603907164, 1.188573271342609, 0.22978856469901443, 0.34401552918206985, 1.4434644093153666, -1.4144399047224352, -0.9262573803086471, -1.0096143309966708, -0.24797947664388517, 0.06193314664735327, -1.9847490598564868, 0.28930719147418593, 0.9729800141188311, -0.752826723320766, -0.1964051585219301, -0.9599060330733563, 0.23175729877103896, 0.6352713171037078, -1.4652585705909942, -0.5618443784834063, 1.3002625407503783, 0.2920556383677886, 0.6624188615292138, 0.6348322297238859, -1.4366734272605315, -0.9916924034914343, 0.9246214815924768, 1.1274590822784436, -0.054862832358006285, -1.1115686499842772, -2.1810572779048116, -0.6303969622757892, -1.805785039501949, -0.7244043601054821, -1.0735129121877474, 1.1308346797517523, -0.46909703068663483, -1.2112551878570506, 0.712082837871189, -0.8569204918044192, -0.01849398969657977, -0.7537431286052918, 0.23052330629156206, 1.106907800473795, 0.5201106000323045, 0.9883999655545883, 1.8169499319902562, 0.8720060646770937, 0.15524937064089045, -1.3623990893383962, 1.0221213704141545, 0.45476036661258196, -0.9398110554502317, -0.5509476422934868, 0.15478870709990045, -1.7618483025106282, 0.6942889786702552, 0.5283082335725829, -1.5534195938951703, 0.9783396485141392, -0.7291058861888242, -0.7649422077157795, 0.8460909820593372, -2.0382131719821963, -0.3348840078515811, 0.3272919918215468, 0.5865591818077541, 1.5398463883664955, -0.49854702667623696, -0.4225083608524863, -0.10802948547715434, 2.2346822788271687, -2.1303528397758815, 0.2418013944113245, 0.879429222427897, 1.9008821707299182, -0.3449374812457629, -0.7705988326805959, 1.3882406106252168, -0.45742519952022254, -0.4041779181983526, -0.37788039061515666, -0.2727046005123951, 0.13466798604546537, -0.9848270237121459, -0.2783457860638169, 0.12937596854579084, 0.4675249496342816, -0.4581541999742207, 1.1556611938675025, -0.08898255602530283, 0.7639547917194405, 1.6322889236802958, -0.3517880833180977, -0.24303123108308203, 0.3818600133402033, -0.5074320431098871, -1.3213786580557674, -0.458695491424776], \"xaxis\": \"x8\", \"y\": [0.7062159335042797, 0.7219254733761484, 0.5463129397908424, -0.6931529077523799, -1.6825415343319072, -0.163715476768212, 1.2542694738069151, 0.2874131009769991, -1.263462719563245, -0.7238140467351619, 2.184714958062746, -2.8697379154159677, -0.7409720185625667, 0.699470418188912, -1.2082057874168277, 1.172505684652955, 0.6764855553881596, 0.6145175314457706, 0.3998685213240509, 0.6011537674657929, -0.17760909229636285, -0.27164619891261593, 0.016783537950853814, -0.3152415327654973, 1.040155078188417, -1.6181904077672757, -0.6267969219734727, 0.3150579764877128, 1.1278776716162962, 1.8773340948873105, -0.1514056836070442, 0.3375374850890802, -1.4616285328336531, -0.8198419318788835, 0.8243541156979151, -0.40253086793801673, 0.11161375634635512, 0.8110433849900274, -0.7372647622097733, 0.5951094858811783, 1.788231465632863, 1.6096544305491811, -1.6724569437258132, -0.5343499938543699, -0.42080029902949184, 0.7017532920558198, -1.8095562597566381, 0.08967981171876918, 1.3014844394723237, -0.008188048042794197, 0.5120041176666327, 0.6307009822539876, 0.20535907665217643, 0.40208846119323083, -0.6250359423978179, -1.3173115747022526, 0.7934196396570694, 0.021772115789257137, 0.089532532038497, -0.3461312566174257, -1.3515693099417592, -0.8125304190004683, 0.6460317056406156, 2.5682487716392797, -1.3928851372548272, 0.49240556188681406, -1.3404633687098704, 0.4092479859742962, -0.055251692720409536, -0.40605510886442653, -1.7490729669018399, 0.9484082473493582, -0.25030755921934555, 1.1063585220126273, -1.285180609868798, -0.27944973884190905, 1.5788577983747496, 1.0687556988535705, 0.8847765838108002, 0.13394864375601528, 0.75925337178594, -0.1634560803366644, 0.07831300439827604, -0.8908680973465573, -1.3336711135597754, 0.5742058122235427, 0.8020214805889448, 2.9226570311911457, -1.3427501538316637, 0.6004478098801661, 0.0005468704148372964, 0.4825037294818465, -1.0839290848485301, -1.7338844652392993, 0.30343207245100284, -0.13956794322089353, 0.24250586024809148, -0.2763816144379349, -1.3194412611454425, 0.02032522014388897], \"yaxis\": \"y8\"}, {\"line\": {\"color\": \"rgba(128, 128, 128, 1.0)\", \"dash\": \"solid\", \"shape\": \"linear\", \"width\": 1.3}, \"marker\": {\"size\": 2, \"symbol\": \"circle\"}, \"mode\": \"markers\", \"name\": \"C\", \"text\": \"\", \"type\": \"scatter\", \"x\": [-1.3583402229536823, 0.0921673543459956, 0.4492594820576442, 0.6996025908357328, 2.1495250286838616, 0.24183106597206416, -0.8776832110040302, 1.0541732492278562, 0.08523758205433592, 0.4987407976187166, -0.42692187830303097, 0.3314238788412063, 0.8110203721335073, -1.892486336094162, -0.1986687733189751, -0.3859351717543113, 0.7622079403895549, 1.1342981825914735, -0.616705435419684, -0.12151918045946218, -1.1011316897029537, 0.3328629568633669, -1.0208981270296031, 0.053983225088959017, 0.3725114124839771, 0.10267108207518853, -1.1665665557543183, 0.054504419339731255, 0.07843971579163007, -0.5986900927551946, -1.1908876386329161, -0.9428019176036524, -0.20836288106335712, 2.0638412236218913, -0.08800663468845793, 2.3489296854756243, -0.328825492717537, 0.13679328526719142, 1.6362966816412452, -0.9865169458002857, 0.5322172281903023, 1.8126956542853345, 2.0187951705084726, 0.34262285700030415, -0.4049678282336819, -2.1252404889520555, 0.3577431068537883, 0.6213330482766051, 1.1533821829453454, 1.536912657916139, 2.008920554498628, -1.585227803158716, -0.8722662480875408, -0.15051809032390423, -1.0062867067219174, 1.8397911379130851, -0.06621953199647992, -1.2920370371673158, 0.5436718522445453, 0.5423224416184557, 1.5511194828341233, 0.13070055937739156, -0.44912176704902335, -0.2616470902800413, 0.345449072564648, -0.21847852159286552, -1.547915716754144, -0.24297968869274658, 0.10713560266622875, -0.03071741252082736, 0.6189888818452682, 0.949788377696495, -0.31913257258760963, 1.029866696113866, 0.2163440437977718, -1.9076255260432537, 0.9911538059288, -1.2938190969419967, -1.556975158647537, -0.8567798093066372, 1.1061307231493411, 0.8210251094170343, -0.8752867994424044, -1.3312503684676744, -0.15270325556453376, -1.6312580962345506, 1.8820767353613506, 0.2876026635475839, -0.8927184511718702, 0.8929654454438709, 0.6600185178648303, -1.2544677962637543, 1.0241195756808887, 1.7451061541136383, 1.6784492852125634, -0.209804057404903, 2.7179971818449857, 0.15330230160949973, 0.8962390746892906, 0.21855533520777062], \"xaxis\": \"x9\", \"y\": [-1.7394193082285367, 2.0199509590283324, -2.125045260659694, 0.9872091937611682, 1.2814726584521647, 1.9112407917021952, 0.8682065323813343, 0.9953456319658606, -0.47724553658137586, 0.2907453293892247, 0.2922072941281063, -1.0031202575300096, 0.6191438532439717, -0.20730239105666726, -0.3061246959355385, 1.6157414622829638, -1.0126178567292161, 0.9245663049594548, -1.4215312439541787, -0.7641846673842541, -0.24282777387711735, 0.1221896350021282, -0.45013297851147577, 0.12262189159104932, -0.22146285558706982, -0.42293498087215603, 0.42912714654322803, 0.1373949302686126, -0.07528551417909446, -0.8345047263438276, 0.242013070563943, 0.8841956172726568, 1.8015949174910602, 0.9276896530283995, 0.0445268358058785, -1.2167497680105366, -1.0609666266602078, -0.8229676300534009, -0.4659296912688198, -2.450017026055469, 2.007865763260578, -0.5714253071723848, 0.3104900370555491, -0.6265490779005343, 0.8292315795528291, -1.7856561980824746, 1.040462972074903, -0.6717794077056105, -3.016418333287492, -0.2982601216242055, 0.23682116985574989, 0.06774564588221275, 0.7317414515020575, 1.1708150818193395, 1.7179509061567175, -0.09531060061377467, -2.446695283742527, 1.2345616048347057, -0.42536208974328804, -0.8317642691126296, -1.395540850752444, -0.318993517146573, 0.5967297862283434, 0.872950971037923, 0.9078328797395858, -1.1179242321679763, -0.13551094533786015, 2.9940741991773367, 0.05979375987894932, -1.0441911901315293, 2.2382973166725435, 0.19095928512930777, 0.9635986997098613, -1.1089799201512651, -1.0611222801332265, -0.530030116387802, 0.8420748064206437, 1.451378193611522, 0.15630203815220325, 0.44432724012472413, 0.21319102371955295, -0.6808442207139247, 0.8499587129601391, -1.9262182617537706, -0.1405587991994687, -0.7748484503006927, 0.39678325647576956, -0.8813410163876415, 0.8820173866408353, -0.3491862544376239, -0.2410129619428547, -0.9057173317234595, -1.3875868082596643, -0.056640982831819314, -1.1773818281757318, -0.8829637711699871, -0.05024918980899207, 1.2910254435644628, 0.08975330868495415, 0.2019190020155585], \"yaxis\": \"y9\"}, {\"line\": {\"color\": \"rgba(128, 128, 128, 1.0)\", \"dash\": \"solid\", \"shape\": \"linear\", \"width\": 1.3}, \"marker\": {\"size\": 2, \"symbol\": \"circle\"}, \"mode\": \"markers\", \"name\": \"C\", \"text\": \"\", \"type\": \"scatter\", \"x\": [0.7062159335042797, 0.7219254733761484, 0.5463129397908424, -0.6931529077523799, -1.6825415343319072, -0.163715476768212, 1.2542694738069151, 0.2874131009769991, -1.263462719563245, -0.7238140467351619, 2.184714958062746, -2.8697379154159677, -0.7409720185625667, 0.699470418188912, -1.2082057874168277, 1.172505684652955, 0.6764855553881596, 0.6145175314457706, 0.3998685213240509, 0.6011537674657929, -0.17760909229636285, -0.27164619891261593, 0.016783537950853814, -0.3152415327654973, 1.040155078188417, -1.6181904077672757, -0.6267969219734727, 0.3150579764877128, 1.1278776716162962, 1.8773340948873105, -0.1514056836070442, 0.3375374850890802, -1.4616285328336531, -0.8198419318788835, 0.8243541156979151, -0.40253086793801673, 0.11161375634635512, 0.8110433849900274, -0.7372647622097733, 0.5951094858811783, 1.788231465632863, 1.6096544305491811, -1.6724569437258132, -0.5343499938543699, -0.42080029902949184, 0.7017532920558198, -1.8095562597566381, 0.08967981171876918, 1.3014844394723237, -0.008188048042794197, 0.5120041176666327, 0.6307009822539876, 0.20535907665217643, 0.40208846119323083, -0.6250359423978179, -1.3173115747022526, 0.7934196396570694, 0.021772115789257137, 0.089532532038497, -0.3461312566174257, -1.3515693099417592, -0.8125304190004683, 0.6460317056406156, 2.5682487716392797, -1.3928851372548272, 0.49240556188681406, -1.3404633687098704, 0.4092479859742962, -0.055251692720409536, -0.40605510886442653, -1.7490729669018399, 0.9484082473493582, -0.25030755921934555, 1.1063585220126273, -1.285180609868798, -0.27944973884190905, 1.5788577983747496, 1.0687556988535705, 0.8847765838108002, 0.13394864375601528, 0.75925337178594, -0.1634560803366644, 0.07831300439827604, -0.8908680973465573, -1.3336711135597754, 0.5742058122235427, 0.8020214805889448, 2.9226570311911457, -1.3427501538316637, 0.6004478098801661, 0.0005468704148372964, 0.4825037294818465, -1.0839290848485301, -1.7338844652392993, 0.30343207245100284, -0.13956794322089353, 0.24250586024809148, -0.2763816144379349, -1.3194412611454425, 0.02032522014388897], \"xaxis\": \"x10\", \"y\": [-1.7394193082285367, 2.0199509590283324, -2.125045260659694, 0.9872091937611682, 1.2814726584521647, 1.9112407917021952, 0.8682065323813343, 0.9953456319658606, -0.47724553658137586, 0.2907453293892247, 0.2922072941281063, -1.0031202575300096, 0.6191438532439717, -0.20730239105666726, -0.3061246959355385, 1.6157414622829638, -1.0126178567292161, 0.9245663049594548, -1.4215312439541787, -0.7641846673842541, -0.24282777387711735, 0.1221896350021282, -0.45013297851147577, 0.12262189159104932, -0.22146285558706982, -0.42293498087215603, 0.42912714654322803, 0.1373949302686126, -0.07528551417909446, -0.8345047263438276, 0.242013070563943, 0.8841956172726568, 1.8015949174910602, 0.9276896530283995, 0.0445268358058785, -1.2167497680105366, -1.0609666266602078, -0.8229676300534009, -0.4659296912688198, -2.450017026055469, 2.007865763260578, -0.5714253071723848, 0.3104900370555491, -0.6265490779005343, 0.8292315795528291, -1.7856561980824746, 1.040462972074903, -0.6717794077056105, -3.016418333287492, -0.2982601216242055, 0.23682116985574989, 0.06774564588221275, 0.7317414515020575, 1.1708150818193395, 1.7179509061567175, -0.09531060061377467, -2.446695283742527, 1.2345616048347057, -0.42536208974328804, -0.8317642691126296, -1.395540850752444, -0.318993517146573, 0.5967297862283434, 0.872950971037923, 0.9078328797395858, -1.1179242321679763, -0.13551094533786015, 2.9940741991773367, 0.05979375987894932, -1.0441911901315293, 2.2382973166725435, 0.19095928512930777, 0.9635986997098613, -1.1089799201512651, -1.0611222801332265, -0.530030116387802, 0.8420748064206437, 1.451378193611522, 0.15630203815220325, 0.44432724012472413, 0.21319102371955295, -0.6808442207139247, 0.8499587129601391, -1.9262182617537706, -0.1405587991994687, -0.7748484503006927, 0.39678325647576956, -0.8813410163876415, 0.8820173866408353, -0.3491862544376239, -0.2410129619428547, -0.9057173317234595, -1.3875868082596643, -0.056640982831819314, -1.1773818281757318, -0.8829637711699871, -0.05024918980899207, 1.2910254435644628, 0.08975330868495415, 0.2019190020155585], \"yaxis\": \"y10\"}, {\"histfunc\": \"count\", \"histnorm\": \"\", \"marker\": {\"color\": \"rgba(50, 171, 96, 1.0)\", \"line\": {\"color\": \"#4D5663\", \"width\": 1.3}}, \"name\": \"C\", \"nbinsx\": 10, \"opacity\": 0.8, \"orientation\": \"v\", \"type\": \"histogram\", \"x\": [-1.7394193082285367, 2.0199509590283324, -2.125045260659694, 0.9872091937611682, 1.2814726584521647, 1.9112407917021952, 0.8682065323813343, 0.9953456319658606, -0.47724553658137586, 0.2907453293892247, 0.2922072941281063, -1.0031202575300096, 0.6191438532439717, -0.20730239105666726, -0.3061246959355385, 1.6157414622829638, -1.0126178567292161, 0.9245663049594548, -1.4215312439541787, -0.7641846673842541, -0.24282777387711735, 0.1221896350021282, -0.45013297851147577, 0.12262189159104932, -0.22146285558706982, -0.42293498087215603, 0.42912714654322803, 0.1373949302686126, -0.07528551417909446, -0.8345047263438276, 0.242013070563943, 0.8841956172726568, 1.8015949174910602, 0.9276896530283995, 0.0445268358058785, -1.2167497680105366, -1.0609666266602078, -0.8229676300534009, -0.4659296912688198, -2.450017026055469, 2.007865763260578, -0.5714253071723848, 0.3104900370555491, -0.6265490779005343, 0.8292315795528291, -1.7856561980824746, 1.040462972074903, -0.6717794077056105, -3.016418333287492, -0.2982601216242055, 0.23682116985574989, 0.06774564588221275, 0.7317414515020575, 1.1708150818193395, 1.7179509061567175, -0.09531060061377467, -2.446695283742527, 1.2345616048347057, -0.42536208974328804, -0.8317642691126296, -1.395540850752444, -0.318993517146573, 0.5967297862283434, 0.872950971037923, 0.9078328797395858, -1.1179242321679763, -0.13551094533786015, 2.9940741991773367, 0.05979375987894932, -1.0441911901315293, 2.2382973166725435, 0.19095928512930777, 0.9635986997098613, -1.1089799201512651, -1.0611222801332265, -0.530030116387802, 0.8420748064206437, 1.451378193611522, 0.15630203815220325, 0.44432724012472413, 0.21319102371955295, -0.6808442207139247, 0.8499587129601391, -1.9262182617537706, -0.1405587991994687, -0.7748484503006927, 0.39678325647576956, -0.8813410163876415, 0.8820173866408353, -0.3491862544376239, -0.2410129619428547, -0.9057173317234595, -1.3875868082596643, -0.056640982831819314, -1.1773818281757318, -0.8829637711699871, -0.05024918980899207, 1.2910254435644628, 0.08975330868495415, 0.2019190020155585], \"xaxis\": \"x11\", \"yaxis\": \"y11\"}, {\"line\": {\"color\": \"rgba(128, 128, 128, 1.0)\", \"dash\": \"solid\", \"shape\": \"linear\", \"width\": 1.3}, \"marker\": {\"size\": 2, \"symbol\": \"circle\"}, \"mode\": \"markers\", \"name\": \"C\", \"text\": \"\", \"type\": \"scatter\", \"x\": [-0.918021841382379, 0.3692701603907164, 1.188573271342609, 0.22978856469901443, 0.34401552918206985, 1.4434644093153666, -1.4144399047224352, -0.9262573803086471, -1.0096143309966708, -0.24797947664388517, 0.06193314664735327, -1.9847490598564868, 0.28930719147418593, 0.9729800141188311, -0.752826723320766, -0.1964051585219301, -0.9599060330733563, 0.23175729877103896, 0.6352713171037078, -1.4652585705909942, -0.5618443784834063, 1.3002625407503783, 0.2920556383677886, 0.6624188615292138, 0.6348322297238859, -1.4366734272605315, -0.9916924034914343, 0.9246214815924768, 1.1274590822784436, -0.054862832358006285, -1.1115686499842772, -2.1810572779048116, -0.6303969622757892, -1.805785039501949, -0.7244043601054821, -1.0735129121877474, 1.1308346797517523, -0.46909703068663483, -1.2112551878570506, 0.712082837871189, -0.8569204918044192, -0.01849398969657977, -0.7537431286052918, 0.23052330629156206, 1.106907800473795, 0.5201106000323045, 0.9883999655545883, 1.8169499319902562, 0.8720060646770937, 0.15524937064089045, -1.3623990893383962, 1.0221213704141545, 0.45476036661258196, -0.9398110554502317, -0.5509476422934868, 0.15478870709990045, -1.7618483025106282, 0.6942889786702552, 0.5283082335725829, -1.5534195938951703, 0.9783396485141392, -0.7291058861888242, -0.7649422077157795, 0.8460909820593372, -2.0382131719821963, -0.3348840078515811, 0.3272919918215468, 0.5865591818077541, 1.5398463883664955, -0.49854702667623696, -0.4225083608524863, -0.10802948547715434, 2.2346822788271687, -2.1303528397758815, 0.2418013944113245, 0.879429222427897, 1.9008821707299182, -0.3449374812457629, -0.7705988326805959, 1.3882406106252168, -0.45742519952022254, -0.4041779181983526, -0.37788039061515666, -0.2727046005123951, 0.13466798604546537, -0.9848270237121459, -0.2783457860638169, 0.12937596854579084, 0.4675249496342816, -0.4581541999742207, 1.1556611938675025, -0.08898255602530283, 0.7639547917194405, 1.6322889236802958, -0.3517880833180977, -0.24303123108308203, 0.3818600133402033, -0.5074320431098871, -1.3213786580557674, -0.458695491424776], \"xaxis\": \"x12\", \"y\": [-1.7394193082285367, 2.0199509590283324, -2.125045260659694, 0.9872091937611682, 1.2814726584521647, 1.9112407917021952, 0.8682065323813343, 0.9953456319658606, -0.47724553658137586, 0.2907453293892247, 0.2922072941281063, -1.0031202575300096, 0.6191438532439717, -0.20730239105666726, -0.3061246959355385, 1.6157414622829638, -1.0126178567292161, 0.9245663049594548, -1.4215312439541787, -0.7641846673842541, -0.24282777387711735, 0.1221896350021282, -0.45013297851147577, 0.12262189159104932, -0.22146285558706982, -0.42293498087215603, 0.42912714654322803, 0.1373949302686126, -0.07528551417909446, -0.8345047263438276, 0.242013070563943, 0.8841956172726568, 1.8015949174910602, 0.9276896530283995, 0.0445268358058785, -1.2167497680105366, -1.0609666266602078, -0.8229676300534009, -0.4659296912688198, -2.450017026055469, 2.007865763260578, -0.5714253071723848, 0.3104900370555491, -0.6265490779005343, 0.8292315795528291, -1.7856561980824746, 1.040462972074903, -0.6717794077056105, -3.016418333287492, -0.2982601216242055, 0.23682116985574989, 0.06774564588221275, 0.7317414515020575, 1.1708150818193395, 1.7179509061567175, -0.09531060061377467, -2.446695283742527, 1.2345616048347057, -0.42536208974328804, -0.8317642691126296, -1.395540850752444, -0.318993517146573, 0.5967297862283434, 0.872950971037923, 0.9078328797395858, -1.1179242321679763, -0.13551094533786015, 2.9940741991773367, 0.05979375987894932, -1.0441911901315293, 2.2382973166725435, 0.19095928512930777, 0.9635986997098613, -1.1089799201512651, -1.0611222801332265, -0.530030116387802, 0.8420748064206437, 1.451378193611522, 0.15630203815220325, 0.44432724012472413, 0.21319102371955295, -0.6808442207139247, 0.8499587129601391, -1.9262182617537706, -0.1405587991994687, -0.7748484503006927, 0.39678325647576956, -0.8813410163876415, 0.8820173866408353, -0.3491862544376239, -0.2410129619428547, -0.9057173317234595, -1.3875868082596643, -0.056640982831819314, -1.1773818281757318, -0.8829637711699871, -0.05024918980899207, 1.2910254435644628, 0.08975330868495415, 0.2019190020155585], \"yaxis\": \"y12\"}, {\"line\": {\"color\": \"rgba(128, 128, 128, 1.0)\", \"dash\": \"solid\", \"shape\": \"linear\", \"width\": 1.3}, \"marker\": {\"size\": 2, \"symbol\": \"circle\"}, \"mode\": \"markers\", \"name\": \"D\", \"text\": \"\", \"type\": \"scatter\", \"x\": [-1.3583402229536823, 0.0921673543459956, 0.4492594820576442, 0.6996025908357328, 2.1495250286838616, 0.24183106597206416, -0.8776832110040302, 1.0541732492278562, 0.08523758205433592, 0.4987407976187166, -0.42692187830303097, 0.3314238788412063, 0.8110203721335073, -1.892486336094162, -0.1986687733189751, -0.3859351717543113, 0.7622079403895549, 1.1342981825914735, -0.616705435419684, -0.12151918045946218, -1.1011316897029537, 0.3328629568633669, -1.0208981270296031, 0.053983225088959017, 0.3725114124839771, 0.10267108207518853, -1.1665665557543183, 0.054504419339731255, 0.07843971579163007, -0.5986900927551946, -1.1908876386329161, -0.9428019176036524, -0.20836288106335712, 2.0638412236218913, -0.08800663468845793, 2.3489296854756243, -0.328825492717537, 0.13679328526719142, 1.6362966816412452, -0.9865169458002857, 0.5322172281903023, 1.8126956542853345, 2.0187951705084726, 0.34262285700030415, -0.4049678282336819, -2.1252404889520555, 0.3577431068537883, 0.6213330482766051, 1.1533821829453454, 1.536912657916139, 2.008920554498628, -1.585227803158716, -0.8722662480875408, -0.15051809032390423, -1.0062867067219174, 1.8397911379130851, -0.06621953199647992, -1.2920370371673158, 0.5436718522445453, 0.5423224416184557, 1.5511194828341233, 0.13070055937739156, -0.44912176704902335, -0.2616470902800413, 0.345449072564648, -0.21847852159286552, -1.547915716754144, -0.24297968869274658, 0.10713560266622875, -0.03071741252082736, 0.6189888818452682, 0.949788377696495, -0.31913257258760963, 1.029866696113866, 0.2163440437977718, -1.9076255260432537, 0.9911538059288, -1.2938190969419967, -1.556975158647537, -0.8567798093066372, 1.1061307231493411, 0.8210251094170343, -0.8752867994424044, -1.3312503684676744, -0.15270325556453376, -1.6312580962345506, 1.8820767353613506, 0.2876026635475839, -0.8927184511718702, 0.8929654454438709, 0.6600185178648303, -1.2544677962637543, 1.0241195756808887, 1.7451061541136383, 1.6784492852125634, -0.209804057404903, 2.7179971818449857, 0.15330230160949973, 0.8962390746892906, 0.21855533520777062], \"xaxis\": \"x13\", \"y\": [-0.918021841382379, 0.3692701603907164, 1.188573271342609, 0.22978856469901443, 0.34401552918206985, 1.4434644093153666, -1.4144399047224352, -0.9262573803086471, -1.0096143309966708, -0.24797947664388517, 0.06193314664735327, -1.9847490598564868, 0.28930719147418593, 0.9729800141188311, -0.752826723320766, -0.1964051585219301, -0.9599060330733563, 0.23175729877103896, 0.6352713171037078, -1.4652585705909942, -0.5618443784834063, 1.3002625407503783, 0.2920556383677886, 0.6624188615292138, 0.6348322297238859, -1.4366734272605315, -0.9916924034914343, 0.9246214815924768, 1.1274590822784436, -0.054862832358006285, -1.1115686499842772, -2.1810572779048116, -0.6303969622757892, -1.805785039501949, -0.7244043601054821, -1.0735129121877474, 1.1308346797517523, -0.46909703068663483, -1.2112551878570506, 0.712082837871189, -0.8569204918044192, -0.01849398969657977, -0.7537431286052918, 0.23052330629156206, 1.106907800473795, 0.5201106000323045, 0.9883999655545883, 1.8169499319902562, 0.8720060646770937, 0.15524937064089045, -1.3623990893383962, 1.0221213704141545, 0.45476036661258196, -0.9398110554502317, -0.5509476422934868, 0.15478870709990045, -1.7618483025106282, 0.6942889786702552, 0.5283082335725829, -1.5534195938951703, 0.9783396485141392, -0.7291058861888242, -0.7649422077157795, 0.8460909820593372, -2.0382131719821963, -0.3348840078515811, 0.3272919918215468, 0.5865591818077541, 1.5398463883664955, -0.49854702667623696, -0.4225083608524863, -0.10802948547715434, 2.2346822788271687, -2.1303528397758815, 0.2418013944113245, 0.879429222427897, 1.9008821707299182, -0.3449374812457629, -0.7705988326805959, 1.3882406106252168, -0.45742519952022254, -0.4041779181983526, -0.37788039061515666, -0.2727046005123951, 0.13466798604546537, -0.9848270237121459, -0.2783457860638169, 0.12937596854579084, 0.4675249496342816, -0.4581541999742207, 1.1556611938675025, -0.08898255602530283, 0.7639547917194405, 1.6322889236802958, -0.3517880833180977, -0.24303123108308203, 0.3818600133402033, -0.5074320431098871, -1.3213786580557674, -0.458695491424776], \"yaxis\": \"y13\"}, {\"line\": {\"color\": \"rgba(128, 128, 128, 1.0)\", \"dash\": \"solid\", \"shape\": \"linear\", \"width\": 1.3}, \"marker\": {\"size\": 2, \"symbol\": \"circle\"}, \"mode\": \"markers\", \"name\": \"D\", \"text\": \"\", \"type\": \"scatter\", \"x\": [0.7062159335042797, 0.7219254733761484, 0.5463129397908424, -0.6931529077523799, -1.6825415343319072, -0.163715476768212, 1.2542694738069151, 0.2874131009769991, -1.263462719563245, -0.7238140467351619, 2.184714958062746, -2.8697379154159677, -0.7409720185625667, 0.699470418188912, -1.2082057874168277, 1.172505684652955, 0.6764855553881596, 0.6145175314457706, 0.3998685213240509, 0.6011537674657929, -0.17760909229636285, -0.27164619891261593, 0.016783537950853814, -0.3152415327654973, 1.040155078188417, -1.6181904077672757, -0.6267969219734727, 0.3150579764877128, 1.1278776716162962, 1.8773340948873105, -0.1514056836070442, 0.3375374850890802, -1.4616285328336531, -0.8198419318788835, 0.8243541156979151, -0.40253086793801673, 0.11161375634635512, 0.8110433849900274, -0.7372647622097733, 0.5951094858811783, 1.788231465632863, 1.6096544305491811, -1.6724569437258132, -0.5343499938543699, -0.42080029902949184, 0.7017532920558198, -1.8095562597566381, 0.08967981171876918, 1.3014844394723237, -0.008188048042794197, 0.5120041176666327, 0.6307009822539876, 0.20535907665217643, 0.40208846119323083, -0.6250359423978179, -1.3173115747022526, 0.7934196396570694, 0.021772115789257137, 0.089532532038497, -0.3461312566174257, -1.3515693099417592, -0.8125304190004683, 0.6460317056406156, 2.5682487716392797, -1.3928851372548272, 0.49240556188681406, -1.3404633687098704, 0.4092479859742962, -0.055251692720409536, -0.40605510886442653, -1.7490729669018399, 0.9484082473493582, -0.25030755921934555, 1.1063585220126273, -1.285180609868798, -0.27944973884190905, 1.5788577983747496, 1.0687556988535705, 0.8847765838108002, 0.13394864375601528, 0.75925337178594, -0.1634560803366644, 0.07831300439827604, -0.8908680973465573, -1.3336711135597754, 0.5742058122235427, 0.8020214805889448, 2.9226570311911457, -1.3427501538316637, 0.6004478098801661, 0.0005468704148372964, 0.4825037294818465, -1.0839290848485301, -1.7338844652392993, 0.30343207245100284, -0.13956794322089353, 0.24250586024809148, -0.2763816144379349, -1.3194412611454425, 0.02032522014388897], \"xaxis\": \"x14\", \"y\": [-0.918021841382379, 0.3692701603907164, 1.188573271342609, 0.22978856469901443, 0.34401552918206985, 1.4434644093153666, -1.4144399047224352, -0.9262573803086471, -1.0096143309966708, -0.24797947664388517, 0.06193314664735327, -1.9847490598564868, 0.28930719147418593, 0.9729800141188311, -0.752826723320766, -0.1964051585219301, -0.9599060330733563, 0.23175729877103896, 0.6352713171037078, -1.4652585705909942, -0.5618443784834063, 1.3002625407503783, 0.2920556383677886, 0.6624188615292138, 0.6348322297238859, -1.4366734272605315, -0.9916924034914343, 0.9246214815924768, 1.1274590822784436, -0.054862832358006285, -1.1115686499842772, -2.1810572779048116, -0.6303969622757892, -1.805785039501949, -0.7244043601054821, -1.0735129121877474, 1.1308346797517523, -0.46909703068663483, -1.2112551878570506, 0.712082837871189, -0.8569204918044192, -0.01849398969657977, -0.7537431286052918, 0.23052330629156206, 1.106907800473795, 0.5201106000323045, 0.9883999655545883, 1.8169499319902562, 0.8720060646770937, 0.15524937064089045, -1.3623990893383962, 1.0221213704141545, 0.45476036661258196, -0.9398110554502317, -0.5509476422934868, 0.15478870709990045, -1.7618483025106282, 0.6942889786702552, 0.5283082335725829, -1.5534195938951703, 0.9783396485141392, -0.7291058861888242, -0.7649422077157795, 0.8460909820593372, -2.0382131719821963, -0.3348840078515811, 0.3272919918215468, 0.5865591818077541, 1.5398463883664955, -0.49854702667623696, -0.4225083608524863, -0.10802948547715434, 2.2346822788271687, -2.1303528397758815, 0.2418013944113245, 0.879429222427897, 1.9008821707299182, -0.3449374812457629, -0.7705988326805959, 1.3882406106252168, -0.45742519952022254, -0.4041779181983526, -0.37788039061515666, -0.2727046005123951, 0.13466798604546537, -0.9848270237121459, -0.2783457860638169, 0.12937596854579084, 0.4675249496342816, -0.4581541999742207, 1.1556611938675025, -0.08898255602530283, 0.7639547917194405, 1.6322889236802958, -0.3517880833180977, -0.24303123108308203, 0.3818600133402033, -0.5074320431098871, -1.3213786580557674, -0.458695491424776], \"yaxis\": \"y14\"}, {\"line\": {\"color\": \"rgba(128, 128, 128, 1.0)\", \"dash\": \"solid\", \"shape\": \"linear\", \"width\": 1.3}, \"marker\": {\"size\": 2, \"symbol\": \"circle\"}, \"mode\": \"markers\", \"name\": \"D\", \"text\": \"\", \"type\": \"scatter\", \"x\": [-1.7394193082285367, 2.0199509590283324, -2.125045260659694, 0.9872091937611682, 1.2814726584521647, 1.9112407917021952, 0.8682065323813343, 0.9953456319658606, -0.47724553658137586, 0.2907453293892247, 0.2922072941281063, -1.0031202575300096, 0.6191438532439717, -0.20730239105666726, -0.3061246959355385, 1.6157414622829638, -1.0126178567292161, 0.9245663049594548, -1.4215312439541787, -0.7641846673842541, -0.24282777387711735, 0.1221896350021282, -0.45013297851147577, 0.12262189159104932, -0.22146285558706982, -0.42293498087215603, 0.42912714654322803, 0.1373949302686126, -0.07528551417909446, -0.8345047263438276, 0.242013070563943, 0.8841956172726568, 1.8015949174910602, 0.9276896530283995, 0.0445268358058785, -1.2167497680105366, -1.0609666266602078, -0.8229676300534009, -0.4659296912688198, -2.450017026055469, 2.007865763260578, -0.5714253071723848, 0.3104900370555491, -0.6265490779005343, 0.8292315795528291, -1.7856561980824746, 1.040462972074903, -0.6717794077056105, -3.016418333287492, -0.2982601216242055, 0.23682116985574989, 0.06774564588221275, 0.7317414515020575, 1.1708150818193395, 1.7179509061567175, -0.09531060061377467, -2.446695283742527, 1.2345616048347057, -0.42536208974328804, -0.8317642691126296, -1.395540850752444, -0.318993517146573, 0.5967297862283434, 0.872950971037923, 0.9078328797395858, -1.1179242321679763, -0.13551094533786015, 2.9940741991773367, 0.05979375987894932, -1.0441911901315293, 2.2382973166725435, 0.19095928512930777, 0.9635986997098613, -1.1089799201512651, -1.0611222801332265, -0.530030116387802, 0.8420748064206437, 1.451378193611522, 0.15630203815220325, 0.44432724012472413, 0.21319102371955295, -0.6808442207139247, 0.8499587129601391, -1.9262182617537706, -0.1405587991994687, -0.7748484503006927, 0.39678325647576956, -0.8813410163876415, 0.8820173866408353, -0.3491862544376239, -0.2410129619428547, -0.9057173317234595, -1.3875868082596643, -0.056640982831819314, -1.1773818281757318, -0.8829637711699871, -0.05024918980899207, 1.2910254435644628, 0.08975330868495415, 0.2019190020155585], \"xaxis\": \"x15\", \"y\": [-0.918021841382379, 0.3692701603907164, 1.188573271342609, 0.22978856469901443, 0.34401552918206985, 1.4434644093153666, -1.4144399047224352, -0.9262573803086471, -1.0096143309966708, -0.24797947664388517, 0.06193314664735327, -1.9847490598564868, 0.28930719147418593, 0.9729800141188311, -0.752826723320766, -0.1964051585219301, -0.9599060330733563, 0.23175729877103896, 0.6352713171037078, -1.4652585705909942, -0.5618443784834063, 1.3002625407503783, 0.2920556383677886, 0.6624188615292138, 0.6348322297238859, -1.4366734272605315, -0.9916924034914343, 0.9246214815924768, 1.1274590822784436, -0.054862832358006285, -1.1115686499842772, -2.1810572779048116, -0.6303969622757892, -1.805785039501949, -0.7244043601054821, -1.0735129121877474, 1.1308346797517523, -0.46909703068663483, -1.2112551878570506, 0.712082837871189, -0.8569204918044192, -0.01849398969657977, -0.7537431286052918, 0.23052330629156206, 1.106907800473795, 0.5201106000323045, 0.9883999655545883, 1.8169499319902562, 0.8720060646770937, 0.15524937064089045, -1.3623990893383962, 1.0221213704141545, 0.45476036661258196, -0.9398110554502317, -0.5509476422934868, 0.15478870709990045, -1.7618483025106282, 0.6942889786702552, 0.5283082335725829, -1.5534195938951703, 0.9783396485141392, -0.7291058861888242, -0.7649422077157795, 0.8460909820593372, -2.0382131719821963, -0.3348840078515811, 0.3272919918215468, 0.5865591818077541, 1.5398463883664955, -0.49854702667623696, -0.4225083608524863, -0.10802948547715434, 2.2346822788271687, -2.1303528397758815, 0.2418013944113245, 0.879429222427897, 1.9008821707299182, -0.3449374812457629, -0.7705988326805959, 1.3882406106252168, -0.45742519952022254, -0.4041779181983526, -0.37788039061515666, -0.2727046005123951, 0.13466798604546537, -0.9848270237121459, -0.2783457860638169, 0.12937596854579084, 0.4675249496342816, -0.4581541999742207, 1.1556611938675025, -0.08898255602530283, 0.7639547917194405, 1.6322889236802958, -0.3517880833180977, -0.24303123108308203, 0.3818600133402033, -0.5074320431098871, -1.3213786580557674, -0.458695491424776], \"yaxis\": \"y15\"}, {\"histfunc\": \"count\", \"histnorm\": \"\", \"marker\": {\"color\": \"rgba(128, 0, 128, 1.0)\", \"line\": {\"color\": \"#4D5663\", \"width\": 1.3}}, \"name\": \"D\", \"nbinsx\": 10, \"opacity\": 0.8, \"orientation\": \"v\", \"type\": \"histogram\", \"x\": [-0.918021841382379, 0.3692701603907164, 1.188573271342609, 0.22978856469901443, 0.34401552918206985, 1.4434644093153666, -1.4144399047224352, -0.9262573803086471, -1.0096143309966708, -0.24797947664388517, 0.06193314664735327, -1.9847490598564868, 0.28930719147418593, 0.9729800141188311, -0.752826723320766, -0.1964051585219301, -0.9599060330733563, 0.23175729877103896, 0.6352713171037078, -1.4652585705909942, -0.5618443784834063, 1.3002625407503783, 0.2920556383677886, 0.6624188615292138, 0.6348322297238859, -1.4366734272605315, -0.9916924034914343, 0.9246214815924768, 1.1274590822784436, -0.054862832358006285, -1.1115686499842772, -2.1810572779048116, -0.6303969622757892, -1.805785039501949, -0.7244043601054821, -1.0735129121877474, 1.1308346797517523, -0.46909703068663483, -1.2112551878570506, 0.712082837871189, -0.8569204918044192, -0.01849398969657977, -0.7537431286052918, 0.23052330629156206, 1.106907800473795, 0.5201106000323045, 0.9883999655545883, 1.8169499319902562, 0.8720060646770937, 0.15524937064089045, -1.3623990893383962, 1.0221213704141545, 0.45476036661258196, -0.9398110554502317, -0.5509476422934868, 0.15478870709990045, -1.7618483025106282, 0.6942889786702552, 0.5283082335725829, -1.5534195938951703, 0.9783396485141392, -0.7291058861888242, -0.7649422077157795, 0.8460909820593372, -2.0382131719821963, -0.3348840078515811, 0.3272919918215468, 0.5865591818077541, 1.5398463883664955, -0.49854702667623696, -0.4225083608524863, -0.10802948547715434, 2.2346822788271687, -2.1303528397758815, 0.2418013944113245, 0.879429222427897, 1.9008821707299182, -0.3449374812457629, -0.7705988326805959, 1.3882406106252168, -0.45742519952022254, -0.4041779181983526, -0.37788039061515666, -0.2727046005123951, 0.13466798604546537, -0.9848270237121459, -0.2783457860638169, 0.12937596854579084, 0.4675249496342816, -0.4581541999742207, 1.1556611938675025, -0.08898255602530283, 0.7639547917194405, 1.6322889236802958, -0.3517880833180977, -0.24303123108308203, 0.3818600133402033, -0.5074320431098871, -1.3213786580557674, -0.458695491424776], \"xaxis\": \"x16\", \"yaxis\": \"y16\"}],\n",
       "                        {\"bargap\": 0.02, \"legend\": {\"bgcolor\": \"#F5F6F9\", \"font\": {\"color\": \"#4D5663\"}}, \"paper_bgcolor\": \"#F5F6F9\", \"plot_bgcolor\": \"#F5F6F9\", \"showlegend\": false, \"template\": {\"data\": {\"bar\": [{\"error_x\": {\"color\": \"#2a3f5f\"}, \"error_y\": {\"color\": \"#2a3f5f\"}, \"marker\": {\"line\": {\"color\": \"#E5ECF6\", \"width\": 0.5}}, \"type\": \"bar\"}], \"barpolar\": [{\"marker\": {\"line\": {\"color\": \"#E5ECF6\", \"width\": 0.5}}, \"type\": \"barpolar\"}], \"carpet\": [{\"aaxis\": {\"endlinecolor\": \"#2a3f5f\", \"gridcolor\": \"white\", \"linecolor\": \"white\", \"minorgridcolor\": \"white\", \"startlinecolor\": \"#2a3f5f\"}, \"baxis\": {\"endlinecolor\": \"#2a3f5f\", \"gridcolor\": \"white\", \"linecolor\": \"white\", \"minorgridcolor\": \"white\", \"startlinecolor\": \"#2a3f5f\"}, \"type\": \"carpet\"}], \"choropleth\": [{\"colorbar\": {\"outlinewidth\": 0, \"ticks\": \"\"}, \"type\": \"choropleth\"}], \"contour\": [{\"colorbar\": {\"outlinewidth\": 0, \"ticks\": \"\"}, \"colorscale\": [[0.0, \"#0d0887\"], [0.1111111111111111, \"#46039f\"], [0.2222222222222222, \"#7201a8\"], [0.3333333333333333, \"#9c179e\"], [0.4444444444444444, \"#bd3786\"], [0.5555555555555556, \"#d8576b\"], [0.6666666666666666, \"#ed7953\"], [0.7777777777777778, \"#fb9f3a\"], [0.8888888888888888, \"#fdca26\"], [1.0, \"#f0f921\"]], \"type\": \"contour\"}], \"contourcarpet\": [{\"colorbar\": {\"outlinewidth\": 0, \"ticks\": \"\"}, \"type\": \"contourcarpet\"}], \"heatmap\": [{\"colorbar\": {\"outlinewidth\": 0, \"ticks\": \"\"}, \"colorscale\": [[0.0, \"#0d0887\"], [0.1111111111111111, \"#46039f\"], [0.2222222222222222, \"#7201a8\"], [0.3333333333333333, \"#9c179e\"], [0.4444444444444444, \"#bd3786\"], [0.5555555555555556, \"#d8576b\"], [0.6666666666666666, \"#ed7953\"], [0.7777777777777778, \"#fb9f3a\"], [0.8888888888888888, \"#fdca26\"], [1.0, \"#f0f921\"]], \"type\": \"heatmap\"}], \"heatmapgl\": [{\"colorbar\": {\"outlinewidth\": 0, \"ticks\": \"\"}, \"colorscale\": [[0.0, \"#0d0887\"], [0.1111111111111111, \"#46039f\"], [0.2222222222222222, \"#7201a8\"], [0.3333333333333333, \"#9c179e\"], [0.4444444444444444, \"#bd3786\"], [0.5555555555555556, \"#d8576b\"], [0.6666666666666666, \"#ed7953\"], [0.7777777777777778, \"#fb9f3a\"], [0.8888888888888888, \"#fdca26\"], [1.0, \"#f0f921\"]], \"type\": \"heatmapgl\"}], \"histogram\": [{\"marker\": {\"colorbar\": {\"outlinewidth\": 0, \"ticks\": \"\"}}, \"type\": \"histogram\"}], \"histogram2d\": [{\"colorbar\": {\"outlinewidth\": 0, \"ticks\": \"\"}, \"colorscale\": [[0.0, \"#0d0887\"], [0.1111111111111111, \"#46039f\"], [0.2222222222222222, \"#7201a8\"], [0.3333333333333333, \"#9c179e\"], [0.4444444444444444, \"#bd3786\"], [0.5555555555555556, \"#d8576b\"], [0.6666666666666666, \"#ed7953\"], [0.7777777777777778, \"#fb9f3a\"], [0.8888888888888888, \"#fdca26\"], [1.0, \"#f0f921\"]], \"type\": \"histogram2d\"}], \"histogram2dcontour\": [{\"colorbar\": {\"outlinewidth\": 0, \"ticks\": \"\"}, \"colorscale\": [[0.0, \"#0d0887\"], [0.1111111111111111, \"#46039f\"], [0.2222222222222222, \"#7201a8\"], [0.3333333333333333, \"#9c179e\"], [0.4444444444444444, \"#bd3786\"], [0.5555555555555556, \"#d8576b\"], [0.6666666666666666, \"#ed7953\"], [0.7777777777777778, \"#fb9f3a\"], [0.8888888888888888, \"#fdca26\"], [1.0, \"#f0f921\"]], \"type\": \"histogram2dcontour\"}], \"mesh3d\": [{\"colorbar\": {\"outlinewidth\": 0, \"ticks\": \"\"}, \"type\": \"mesh3d\"}], \"parcoords\": [{\"line\": {\"colorbar\": {\"outlinewidth\": 0, \"ticks\": \"\"}}, \"type\": \"parcoords\"}], \"pie\": [{\"automargin\": true, \"type\": \"pie\"}], \"scatter\": [{\"marker\": {\"colorbar\": {\"outlinewidth\": 0, \"ticks\": \"\"}}, \"type\": \"scatter\"}], \"scatter3d\": [{\"line\": {\"colorbar\": {\"outlinewidth\": 0, \"ticks\": \"\"}}, \"marker\": {\"colorbar\": {\"outlinewidth\": 0, \"ticks\": \"\"}}, \"type\": \"scatter3d\"}], \"scattercarpet\": [{\"marker\": {\"colorbar\": {\"outlinewidth\": 0, \"ticks\": \"\"}}, \"type\": \"scattercarpet\"}], \"scattergeo\": [{\"marker\": {\"colorbar\": {\"outlinewidth\": 0, \"ticks\": \"\"}}, \"type\": \"scattergeo\"}], \"scattergl\": [{\"marker\": {\"colorbar\": {\"outlinewidth\": 0, \"ticks\": \"\"}}, \"type\": \"scattergl\"}], \"scattermapbox\": [{\"marker\": {\"colorbar\": {\"outlinewidth\": 0, \"ticks\": \"\"}}, \"type\": \"scattermapbox\"}], \"scatterpolar\": [{\"marker\": {\"colorbar\": {\"outlinewidth\": 0, \"ticks\": \"\"}}, \"type\": \"scatterpolar\"}], \"scatterpolargl\": [{\"marker\": {\"colorbar\": {\"outlinewidth\": 0, \"ticks\": \"\"}}, \"type\": \"scatterpolargl\"}], \"scatterternary\": [{\"marker\": {\"colorbar\": {\"outlinewidth\": 0, \"ticks\": \"\"}}, \"type\": \"scatterternary\"}], \"surface\": [{\"colorbar\": {\"outlinewidth\": 0, \"ticks\": \"\"}, \"colorscale\": [[0.0, \"#0d0887\"], [0.1111111111111111, \"#46039f\"], [0.2222222222222222, \"#7201a8\"], [0.3333333333333333, \"#9c179e\"], [0.4444444444444444, \"#bd3786\"], [0.5555555555555556, \"#d8576b\"], [0.6666666666666666, \"#ed7953\"], [0.7777777777777778, \"#fb9f3a\"], [0.8888888888888888, \"#fdca26\"], [1.0, \"#f0f921\"]], \"type\": \"surface\"}], \"table\": [{\"cells\": {\"fill\": {\"color\": \"#EBF0F8\"}, \"line\": {\"color\": \"white\"}}, \"header\": {\"fill\": {\"color\": \"#C8D4E3\"}, \"line\": {\"color\": \"white\"}}, \"type\": \"table\"}]}, \"layout\": {\"annotationdefaults\": {\"arrowcolor\": \"#2a3f5f\", \"arrowhead\": 0, \"arrowwidth\": 1}, \"coloraxis\": {\"colorbar\": {\"outlinewidth\": 0, \"ticks\": \"\"}}, \"colorscale\": {\"diverging\": [[0, \"#8e0152\"], [0.1, \"#c51b7d\"], [0.2, \"#de77ae\"], [0.3, \"#f1b6da\"], [0.4, \"#fde0ef\"], [0.5, \"#f7f7f7\"], [0.6, \"#e6f5d0\"], [0.7, \"#b8e186\"], [0.8, \"#7fbc41\"], [0.9, \"#4d9221\"], [1, \"#276419\"]], \"sequential\": [[0.0, \"#0d0887\"], [0.1111111111111111, \"#46039f\"], [0.2222222222222222, \"#7201a8\"], [0.3333333333333333, \"#9c179e\"], [0.4444444444444444, \"#bd3786\"], [0.5555555555555556, \"#d8576b\"], [0.6666666666666666, \"#ed7953\"], [0.7777777777777778, \"#fb9f3a\"], [0.8888888888888888, \"#fdca26\"], [1.0, \"#f0f921\"]], \"sequentialminus\": [[0.0, \"#0d0887\"], [0.1111111111111111, \"#46039f\"], [0.2222222222222222, \"#7201a8\"], [0.3333333333333333, \"#9c179e\"], [0.4444444444444444, \"#bd3786\"], [0.5555555555555556, \"#d8576b\"], [0.6666666666666666, \"#ed7953\"], [0.7777777777777778, \"#fb9f3a\"], [0.8888888888888888, \"#fdca26\"], [1.0, \"#f0f921\"]]}, \"colorway\": [\"#636efa\", \"#EF553B\", \"#00cc96\", \"#ab63fa\", \"#FFA15A\", \"#19d3f3\", \"#FF6692\", \"#B6E880\", \"#FF97FF\", \"#FECB52\"], \"font\": {\"color\": \"#2a3f5f\"}, \"geo\": {\"bgcolor\": \"white\", \"lakecolor\": \"white\", \"landcolor\": \"#E5ECF6\", \"showlakes\": true, \"showland\": true, \"subunitcolor\": \"white\"}, \"hoverlabel\": {\"align\": \"left\"}, \"hovermode\": \"closest\", \"mapbox\": {\"style\": \"light\"}, \"paper_bgcolor\": \"white\", \"plot_bgcolor\": \"#E5ECF6\", \"polar\": {\"angularaxis\": {\"gridcolor\": \"white\", \"linecolor\": \"white\", \"ticks\": \"\"}, \"bgcolor\": \"#E5ECF6\", \"radialaxis\": {\"gridcolor\": \"white\", \"linecolor\": \"white\", \"ticks\": \"\"}}, \"scene\": {\"xaxis\": {\"backgroundcolor\": \"#E5ECF6\", \"gridcolor\": \"white\", \"gridwidth\": 2, \"linecolor\": \"white\", \"showbackground\": true, \"ticks\": \"\", \"zerolinecolor\": \"white\"}, \"yaxis\": {\"backgroundcolor\": \"#E5ECF6\", \"gridcolor\": \"white\", \"gridwidth\": 2, \"linecolor\": \"white\", \"showbackground\": true, \"ticks\": \"\", \"zerolinecolor\": \"white\"}, \"zaxis\": {\"backgroundcolor\": \"#E5ECF6\", \"gridcolor\": \"white\", \"gridwidth\": 2, \"linecolor\": \"white\", \"showbackground\": true, \"ticks\": \"\", \"zerolinecolor\": \"white\"}}, \"shapedefaults\": {\"line\": {\"color\": \"#2a3f5f\"}}, \"ternary\": {\"aaxis\": {\"gridcolor\": \"white\", \"linecolor\": \"white\", \"ticks\": \"\"}, \"baxis\": {\"gridcolor\": \"white\", \"linecolor\": \"white\", \"ticks\": \"\"}, \"bgcolor\": \"#E5ECF6\", \"caxis\": {\"gridcolor\": \"white\", \"linecolor\": \"white\", \"ticks\": \"\"}}, \"title\": {\"x\": 0.05}, \"xaxis\": {\"automargin\": true, \"gridcolor\": \"white\", \"linecolor\": \"white\", \"ticks\": \"\", \"title\": {\"standoff\": 15}, \"zerolinecolor\": \"white\", \"zerolinewidth\": 2}, \"yaxis\": {\"automargin\": true, \"gridcolor\": \"white\", \"linecolor\": \"white\", \"ticks\": \"\", \"title\": {\"standoff\": 15}, \"zerolinecolor\": \"white\", \"zerolinewidth\": 2}}}, \"title\": {\"font\": {\"color\": \"#4D5663\"}}, \"xaxis\": {\"anchor\": \"y\", \"domain\": [0.0, 0.2125], \"gridcolor\": \"#E1E5ED\", \"showgrid\": false, \"tickfont\": {\"color\": \"#4D5663\"}, \"title\": {\"font\": {\"color\": \"#4D5663\"}, \"text\": \"\"}, \"zerolinecolor\": \"#E1E5ED\"}, \"xaxis10\": {\"anchor\": \"y10\", \"domain\": [0.2625, 0.475], \"gridcolor\": \"#E1E5ED\", \"showgrid\": false, \"tickfont\": {\"color\": \"#4D5663\"}, \"title\": {\"font\": {\"color\": \"#4D5663\"}, \"text\": \"\"}, \"zerolinecolor\": \"#E1E5ED\"}, \"xaxis11\": {\"anchor\": \"y11\", \"domain\": [0.525, 0.7375], \"gridcolor\": \"#E1E5ED\", \"showgrid\": false, \"tickfont\": {\"color\": \"#4D5663\"}, \"title\": {\"font\": {\"color\": \"#4D5663\"}, \"text\": \"\"}, \"zerolinecolor\": \"#E1E5ED\"}, \"xaxis12\": {\"anchor\": \"y12\", \"domain\": [0.7875, 1.0], \"gridcolor\": \"#E1E5ED\", \"showgrid\": false, \"tickfont\": {\"color\": \"#4D5663\"}, \"title\": {\"font\": {\"color\": \"#4D5663\"}, \"text\": \"\"}, \"zerolinecolor\": \"#E1E5ED\"}, \"xaxis13\": {\"anchor\": \"y13\", \"domain\": [0.0, 0.2125], \"gridcolor\": \"#E1E5ED\", \"showgrid\": false, \"tickfont\": {\"color\": \"#4D5663\"}, \"title\": {\"font\": {\"color\": \"#4D5663\"}, \"text\": \"\"}, \"zerolinecolor\": \"#E1E5ED\"}, \"xaxis14\": {\"anchor\": \"y14\", \"domain\": [0.2625, 0.475], \"gridcolor\": \"#E1E5ED\", \"showgrid\": false, \"tickfont\": {\"color\": \"#4D5663\"}, \"title\": {\"font\": {\"color\": \"#4D5663\"}, \"text\": \"\"}, \"zerolinecolor\": \"#E1E5ED\"}, \"xaxis15\": {\"anchor\": \"y15\", \"domain\": [0.525, 0.7375], \"gridcolor\": \"#E1E5ED\", \"showgrid\": false, \"tickfont\": {\"color\": \"#4D5663\"}, \"title\": {\"font\": {\"color\": \"#4D5663\"}, \"text\": \"\"}, \"zerolinecolor\": \"#E1E5ED\"}, \"xaxis16\": {\"anchor\": \"y16\", \"domain\": [0.7875, 1.0], \"gridcolor\": \"#E1E5ED\", \"showgrid\": false, \"tickfont\": {\"color\": \"#4D5663\"}, \"title\": {\"font\": {\"color\": \"#4D5663\"}, \"text\": \"\"}, \"zerolinecolor\": \"#E1E5ED\"}, \"xaxis2\": {\"anchor\": \"y2\", \"domain\": [0.2625, 0.475], \"gridcolor\": \"#E1E5ED\", \"showgrid\": false, \"tickfont\": {\"color\": \"#4D5663\"}, \"title\": {\"font\": {\"color\": \"#4D5663\"}, \"text\": \"\"}, \"zerolinecolor\": \"#E1E5ED\"}, \"xaxis3\": {\"anchor\": \"y3\", \"domain\": [0.525, 0.7375], \"gridcolor\": \"#E1E5ED\", \"showgrid\": false, \"tickfont\": {\"color\": \"#4D5663\"}, \"title\": {\"font\": {\"color\": \"#4D5663\"}, \"text\": \"\"}, \"zerolinecolor\": \"#E1E5ED\"}, \"xaxis4\": {\"anchor\": \"y4\", \"domain\": [0.7875, 1.0], \"gridcolor\": \"#E1E5ED\", \"showgrid\": false, \"tickfont\": {\"color\": \"#4D5663\"}, \"title\": {\"font\": {\"color\": \"#4D5663\"}, \"text\": \"\"}, \"zerolinecolor\": \"#E1E5ED\"}, \"xaxis5\": {\"anchor\": \"y5\", \"domain\": [0.0, 0.2125], \"gridcolor\": \"#E1E5ED\", \"showgrid\": false, \"tickfont\": {\"color\": \"#4D5663\"}, \"title\": {\"font\": {\"color\": \"#4D5663\"}, \"text\": \"\"}, \"zerolinecolor\": \"#E1E5ED\"}, \"xaxis6\": {\"anchor\": \"y6\", \"domain\": [0.2625, 0.475], \"gridcolor\": \"#E1E5ED\", \"showgrid\": false, \"tickfont\": {\"color\": \"#4D5663\"}, \"title\": {\"font\": {\"color\": \"#4D5663\"}, \"text\": \"\"}, \"zerolinecolor\": \"#E1E5ED\"}, \"xaxis7\": {\"anchor\": \"y7\", \"domain\": [0.525, 0.7375], \"gridcolor\": \"#E1E5ED\", \"showgrid\": false, \"tickfont\": {\"color\": \"#4D5663\"}, \"title\": {\"font\": {\"color\": \"#4D5663\"}, \"text\": \"\"}, \"zerolinecolor\": \"#E1E5ED\"}, \"xaxis8\": {\"anchor\": \"y8\", \"domain\": [0.7875, 1.0], \"gridcolor\": \"#E1E5ED\", \"showgrid\": false, \"tickfont\": {\"color\": \"#4D5663\"}, \"title\": {\"font\": {\"color\": \"#4D5663\"}, \"text\": \"\"}, \"zerolinecolor\": \"#E1E5ED\"}, \"xaxis9\": {\"anchor\": \"y9\", \"domain\": [0.0, 0.2125], \"gridcolor\": \"#E1E5ED\", \"showgrid\": false, \"tickfont\": {\"color\": \"#4D5663\"}, \"title\": {\"font\": {\"color\": \"#4D5663\"}, \"text\": \"\"}, \"zerolinecolor\": \"#E1E5ED\"}, \"yaxis\": {\"anchor\": \"x\", \"domain\": [0.8025, 1.0], \"gridcolor\": \"#E1E5ED\", \"showgrid\": false, \"tickfont\": {\"color\": \"#4D5663\"}, \"title\": {\"font\": {\"color\": \"#4D5663\"}, \"text\": \"\"}, \"zerolinecolor\": \"#E1E5ED\"}, \"yaxis10\": {\"anchor\": \"x10\", \"domain\": [0.2675, 0.465], \"gridcolor\": \"#E1E5ED\", \"showgrid\": false, \"tickfont\": {\"color\": \"#4D5663\"}, \"title\": {\"font\": {\"color\": \"#4D5663\"}, \"text\": \"\"}, \"zerolinecolor\": \"#E1E5ED\"}, \"yaxis11\": {\"anchor\": \"x11\", \"domain\": [0.2675, 0.465], \"gridcolor\": \"#E1E5ED\", \"showgrid\": false, \"tickfont\": {\"color\": \"#4D5663\"}, \"title\": {\"font\": {\"color\": \"#4D5663\"}, \"text\": \"\"}, \"zerolinecolor\": \"#E1E5ED\"}, \"yaxis12\": {\"anchor\": \"x12\", \"domain\": [0.2675, 0.465], \"gridcolor\": \"#E1E5ED\", \"showgrid\": false, \"tickfont\": {\"color\": \"#4D5663\"}, \"title\": {\"font\": {\"color\": \"#4D5663\"}, \"text\": \"\"}, \"zerolinecolor\": \"#E1E5ED\"}, \"yaxis13\": {\"anchor\": \"x13\", \"domain\": [0.0, 0.1975], \"gridcolor\": \"#E1E5ED\", \"showgrid\": false, \"tickfont\": {\"color\": \"#4D5663\"}, \"title\": {\"font\": {\"color\": \"#4D5663\"}, \"text\": \"\"}, \"zerolinecolor\": \"#E1E5ED\"}, \"yaxis14\": {\"anchor\": \"x14\", \"domain\": [0.0, 0.1975], \"gridcolor\": \"#E1E5ED\", \"showgrid\": false, \"tickfont\": {\"color\": \"#4D5663\"}, \"title\": {\"font\": {\"color\": \"#4D5663\"}, \"text\": \"\"}, \"zerolinecolor\": \"#E1E5ED\"}, \"yaxis15\": {\"anchor\": \"x15\", \"domain\": [0.0, 0.1975], \"gridcolor\": \"#E1E5ED\", \"showgrid\": false, \"tickfont\": {\"color\": \"#4D5663\"}, \"title\": {\"font\": {\"color\": \"#4D5663\"}, \"text\": \"\"}, \"zerolinecolor\": \"#E1E5ED\"}, \"yaxis16\": {\"anchor\": \"x16\", \"domain\": [0.0, 0.1975], \"gridcolor\": \"#E1E5ED\", \"showgrid\": false, \"tickfont\": {\"color\": \"#4D5663\"}, \"title\": {\"font\": {\"color\": \"#4D5663\"}, \"text\": \"\"}, \"zerolinecolor\": \"#E1E5ED\"}, \"yaxis2\": {\"anchor\": \"x2\", \"domain\": [0.8025, 1.0], \"gridcolor\": \"#E1E5ED\", \"showgrid\": false, \"tickfont\": {\"color\": \"#4D5663\"}, \"title\": {\"font\": {\"color\": \"#4D5663\"}, \"text\": \"\"}, \"zerolinecolor\": \"#E1E5ED\"}, \"yaxis3\": {\"anchor\": \"x3\", \"domain\": [0.8025, 1.0], \"gridcolor\": \"#E1E5ED\", \"showgrid\": false, \"tickfont\": {\"color\": \"#4D5663\"}, \"title\": {\"font\": {\"color\": \"#4D5663\"}, \"text\": \"\"}, \"zerolinecolor\": \"#E1E5ED\"}, \"yaxis4\": {\"anchor\": \"x4\", \"domain\": [0.8025, 1.0], \"gridcolor\": \"#E1E5ED\", \"showgrid\": false, \"tickfont\": {\"color\": \"#4D5663\"}, \"title\": {\"font\": {\"color\": \"#4D5663\"}, \"text\": \"\"}, \"zerolinecolor\": \"#E1E5ED\"}, \"yaxis5\": {\"anchor\": \"x5\", \"domain\": [0.535, 0.7325], \"gridcolor\": \"#E1E5ED\", \"showgrid\": false, \"tickfont\": {\"color\": \"#4D5663\"}, \"title\": {\"font\": {\"color\": \"#4D5663\"}, \"text\": \"\"}, \"zerolinecolor\": \"#E1E5ED\"}, \"yaxis6\": {\"anchor\": \"x6\", \"domain\": [0.535, 0.7325], \"gridcolor\": \"#E1E5ED\", \"showgrid\": false, \"tickfont\": {\"color\": \"#4D5663\"}, \"title\": {\"font\": {\"color\": \"#4D5663\"}, \"text\": \"\"}, \"zerolinecolor\": \"#E1E5ED\"}, \"yaxis7\": {\"anchor\": \"x7\", \"domain\": [0.535, 0.7325], \"gridcolor\": \"#E1E5ED\", \"showgrid\": false, \"tickfont\": {\"color\": \"#4D5663\"}, \"title\": {\"font\": {\"color\": \"#4D5663\"}, \"text\": \"\"}, \"zerolinecolor\": \"#E1E5ED\"}, \"yaxis8\": {\"anchor\": \"x8\", \"domain\": [0.535, 0.7325], \"gridcolor\": \"#E1E5ED\", \"showgrid\": false, \"tickfont\": {\"color\": \"#4D5663\"}, \"title\": {\"font\": {\"color\": \"#4D5663\"}, \"text\": \"\"}, \"zerolinecolor\": \"#E1E5ED\"}, \"yaxis9\": {\"anchor\": \"x9\", \"domain\": [0.2675, 0.465], \"gridcolor\": \"#E1E5ED\", \"showgrid\": false, \"tickfont\": {\"color\": \"#4D5663\"}, \"title\": {\"font\": {\"color\": \"#4D5663\"}, \"text\": \"\"}, \"zerolinecolor\": \"#E1E5ED\"}},\n",
       "                        {\"showLink\": true, \"linkText\": \"Export to plot.ly\", \"plotlyServerURL\": \"https://plot.ly\", \"responsive\": true}\n",
       "                    ).then(function(){\n",
       "                            \n",
       "var gd = document.getElementById('16f8c9c2-add0-42c3-8ae7-5e44285cc519');\n",
       "var x = new MutationObserver(function (mutations, observer) {{\n",
       "        var display = window.getComputedStyle(gd).display;\n",
       "        if (!display || display === 'none') {{\n",
       "            console.log([gd, 'removed!']);\n",
       "            Plotly.purge(gd);\n",
       "            observer.disconnect();\n",
       "        }}\n",
       "}});\n",
       "\n",
       "// Listen for the removal of the full notebook cells\n",
       "var notebookContainer = gd.closest('#notebook-container');\n",
       "if (notebookContainer) {{\n",
       "    x.observe(notebookContainer, {childList: true});\n",
       "}}\n",
       "\n",
       "// Listen for the clearing of the current output cell\n",
       "var outputEl = gd.closest('.output');\n",
       "if (outputEl) {{\n",
       "    x.observe(outputEl, {childList: true});\n",
       "}}\n",
       "\n",
       "                        })\n",
       "                };\n",
       "                });\n",
       "            </script>\n",
       "        </div>"
      ]
     },
     "metadata": {},
     "output_type": "display_data"
    }
   ],
   "source": [
    "df.scatter_matrix()"
   ]
  },
  {
   "cell_type": "code",
   "execution_count": null,
   "metadata": {},
   "outputs": [],
   "source": []
  }
 ],
 "metadata": {
  "kernelspec": {
   "display_name": "Python 3",
   "language": "python",
   "name": "python3"
  },
  "language_info": {
   "codemirror_mode": {
    "name": "ipython",
    "version": 3
   },
   "file_extension": ".py",
   "mimetype": "text/x-python",
   "name": "python",
   "nbconvert_exporter": "python",
   "pygments_lexer": "ipython3",
   "version": "3.7.6"
  }
 },
 "nbformat": 4,
 "nbformat_minor": 1
}
